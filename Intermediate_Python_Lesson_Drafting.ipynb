{
 "cells": [
  {
   "attachments": {
    "libraries_short_color.png": {
     "image/png": "[encoded data removed]"
    }
   },
   "cell_type": "markdown",
   "metadata": {
    "id": "4BZ2I-hfyZgx"
   },
   "source": [
    "<div>\n",
    "<img src=\"attachment:libraries_short_color.png\" width=\"350\" align=\"right\"/>\n",
    "</div>\n",
    "\n",
    "# Intermediate Python\n",
    "\n",
    "**Rijul Nandy and Nicholas Wolf, NYU Data Services**\n",
    "\n",
    "Rijuls's ORCID: 0000-0000-0000-0000 | Nick's ORCID: 0000-0001-5512-6151\n",
    "\n",
    "This work is licensed under a Creative Commons Attribution-NonCommercial 4.0 International License.\n",
    "\n",
    "## Overview\n",
    "\n",
    "This session is designed to be a followup to the Data Services [Intro to Python](https://guides.nyu.edu/ds_class_descriptions/Introduction-to-Python). It picks up where that lesson leaves off by again focusing on practical research applications for Python, but introducing more advanced versions of previous concepts such as functions and basic objects such as lists and dictionaries. It also introduces new concepts such as Python custom classes.\n",
    "\n",
    "Goals of this class include:\n",
    "\n",
    " - \n",
    "\n",
    "\n",
    "## Class Materials\n",
    "\n",
    "**Lesson Plan**\n",
    "\n",
    "This notebook is available at [hosted notebook URL](). You can download the file by cloning the notebook as follows:\n",
    "\n",
    "<code>git clone https://github.com/NYU-DataServices/DataHarvesting-Python.git</code>\n",
    "\n",
    "**Class JupyterHub**\n",
    "\n",
    "You can access this lesson plan to run the code live at [https://tutorials-1.rcnyu.org](https://tutorials-1.rcnyu.org).\n"
   ]
  },
  {
   "cell_type": "markdown",
   "metadata": {},
   "source": [
    "# 1. More on Functions\n",
    "\n",
    "### Fine-tuning input parameters\n",
    "\n",
    "An initial introduction to user-written functions talked about their use for re-usable short code blocks that perform certain tasks, and that a function may have one or more input parameters: "
   ]
  },
  {
   "cell_type": "code",
   "execution_count": 3,
   "metadata": {},
   "outputs": [
    {
     "data": {
      "text/plain": [
       "6"
      ]
     },
     "execution_count": 3,
     "metadata": {},
     "output_type": "execute_result"
    }
   ],
   "source": [
    "def testFunc1(input_param):\n",
    "    return input_param + 1\n",
    "\n",
    "testFunc1(5)"
   ]
  },
  {
   "cell_type": "markdown",
   "metadata": {},
   "source": [
    "Such functions don't consider any identity to those input parameters, the function rlies on the order they are passedL"
   ]
  },
  {
   "cell_type": "code",
   "execution_count": 4,
   "metadata": {},
   "outputs": [
    {
     "name": "stdout",
     "output_type": "stream",
     "text": [
      "Fire is  red\n",
      "Water is  blue\n"
     ]
    }
   ],
   "source": [
    "def stateColor(red_input, blue_input):\n",
    "    print(\"Fire is \", red_input)\n",
    "    print(\"Water is \", blue_input)\n",
    "    \n",
    "stateColor(\"red\", \"blue\")   # desired result"
   ]
  },
  {
   "cell_type": "code",
   "execution_count": 5,
   "metadata": {},
   "outputs": [
    {
     "name": "stdout",
     "output_type": "stream",
     "text": [
      "Fire is  blue\n",
      "Water is  red\n"
     ]
    }
   ],
   "source": [
    "stateColor(\"blue\", \"red\") # the function can't identify inputs and sort them into the right order"
   ]
  },
  {
   "cell_type": "code",
   "execution_count": 6,
   "metadata": {},
   "outputs": [
    {
     "ename": "TypeError",
     "evalue": "stateColor() missing 1 required positional argument: 'blue_input'",
     "output_type": "error",
     "traceback": [
      "\u001b[0;31m---------------------------------------------------------------------------\u001b[0m",
      "\u001b[0;31mTypeError\u001b[0m                                 Traceback (most recent call last)",
      "\u001b[0;32m<ipython-input-6-0664aa4d8f95>\u001b[0m in \u001b[0;36m<module>\u001b[0;34m\u001b[0m\n\u001b[0;32m----> 1\u001b[0;31m \u001b[0mstateColor\u001b[0m\u001b[0;34m(\u001b[0m\u001b[0;34m\"red\"\u001b[0m\u001b[0;34m)\u001b[0m  \u001b[0;31m# furthermore, you have to have both input paramters\u001b[0m\u001b[0;34m\u001b[0m\u001b[0;34m\u001b[0m\u001b[0m\n\u001b[0m",
      "\u001b[0;31mTypeError\u001b[0m: stateColor() missing 1 required positional argument: 'blue_input'"
     ]
    }
   ],
   "source": [
    "stateColor(\"red\")  # furthermore, you have to have both input paramters every time"
   ]
  },
  {
   "cell_type": "markdown",
   "metadata": {},
   "source": [
    "In other words, functions by default rely on <em>position</em> of input parameters to assign the variables used in the function's code block. But what if you want to define input parameters explicitly? Or what if there are times when an input parameter is desired to be omitted? For this, we can use keyword arguments, which require you to use an \"=\" to explain the type of input you are using. We also set defaults in case no inputs are given:"
   ]
  },
  {
   "cell_type": "code",
   "execution_count": 12,
   "metadata": {},
   "outputs": [],
   "source": [
    "def testFunc1(key1 = 2, key2 = 3):\n",
    "    return key1 + key2\n"
   ]
  },
  {
   "cell_type": "code",
   "execution_count": 13,
   "metadata": {},
   "outputs": [
    {
     "data": {
      "text/plain": [
       "5"
      ]
     },
     "execution_count": 13,
     "metadata": {},
     "output_type": "execute_result"
    }
   ],
   "source": [
    "testFunc1(key1 = 1, key2 = 4)  # explicitly define the two parameters"
   ]
  },
  {
   "cell_type": "code",
   "execution_count": 14,
   "metadata": {},
   "outputs": [
    {
     "data": {
      "text/plain": [
       "5"
      ]
     },
     "execution_count": 14,
     "metadata": {},
     "output_type": "execute_result"
    }
   ],
   "source": [
    "testFunc1()  # the pre-defined defaults are used"
   ]
  },
  {
   "cell_type": "code",
   "execution_count": 15,
   "metadata": {},
   "outputs": [
    {
     "data": {
      "text/plain": [
       "13"
      ]
     },
     "execution_count": 15,
     "metadata": {},
     "output_type": "execute_result"
    }
   ],
   "source": [
    "testFunc1(key1 = 10)  # the first parameter is defined, the second one is omitted and default will be used"
   ]
  },
  {
   "cell_type": "markdown",
   "metadata": {
    "id": "wa46H42-CkFH"
   },
   "source": [
    "You can also mix and match:"
   ]
  },
  {
   "cell_type": "code",
   "execution_count": 16,
   "metadata": {
    "id": "s3cqkY1zIPK6"
   },
   "outputs": [],
   "source": [
    "def testFunc2(key1, key2, key3 = 2):\n",
    "    return key1 + key2 + key3"
   ]
  },
  {
   "cell_type": "code",
   "execution_count": 18,
   "metadata": {
    "colab": {
     "base_uri": "https://localhost:8080/"
    },
    "id": "JVCeP_pfRTyk",
    "outputId": "68189e0e-2cda-4406-8d0b-3fe3b23cbe98"
   },
   "outputs": [
    {
     "name": "stdout",
     "output_type": "stream",
     "text": [
      "4\n",
      "4\n",
      "3\n",
      "11\n"
     ]
    }
   ],
   "source": [
    "print(testFunc2(1, 1)) #Purely Positional\n",
    "\n",
    "print(testFunc2(key1 = 1, key2 = 1)) #Purely Keyword\n",
    "\n",
    "print(testFunc2(1, 1, 1)) #Purely Positional \n",
    "\n",
    "print(testFunc2(1, key2 = 8)) #Positional and Keyword "
   ]
  },
  {
   "cell_type": "markdown",
   "metadata": {
    "id": "aNGUFAPniM0p"
   },
   "source": [
    "### Lambda functions\n",
    "\n",
    "Python lambdas are anonymous functions typically defined only for the purpose of an immediate use, and designed to do a single short calculation or work step. They are particularly convenient when used in conjunction with other built-in Python functions that are designed to take a second function as an input parameter and apply it to an array of elements passed as a second parameter.\n",
    "\n",
    "First, we can look at how to define a lambda function:"
   ]
  },
  {
   "cell_type": "code",
   "execution_count": 64,
   "metadata": {
    "colab": {
     "base_uri": "https://localhost:8080/"
    },
    "id": "zWvs4mv8iOoA",
    "outputId": "8a49da8e-404d-473d-f339-3e08d70ed37b"
   },
   "outputs": [
    {
     "data": {
      "text/plain": [
       "3"
      ]
     },
     "execution_count": 64,
     "metadata": {},
     "output_type": "execute_result"
    }
   ],
   "source": [
    "small_function = lambda x: x+1\n",
    "\n",
    "small_function(2)"
   ]
  },
  {
   "cell_type": "markdown",
   "metadata": {},
   "source": [
    "One way to think about the syntax of a lambda function statement <code>lambda x: x+1</code> is \"I am defining here a function called lambda involving a single input parameter x such that for every input x, the return will be x + 1.\"\n",
    "\n",
    "Note that we can have multiple parameters as an input, but you can only have one expression (i.e. action to perform on the parameters) following the colon. Unlike a regular defined function, think of a lambda as a single-liner function defined exclusively locally."
   ]
  },
  {
   "cell_type": "code",
   "execution_count": 65,
   "metadata": {
    "colab": {
     "base_uri": "https://localhost:8080/"
    },
    "id": "WzwdBn7oiOqO",
    "outputId": "261a3cad-c753-496d-979d-9e384f073837"
   },
   "outputs": [
    {
     "data": {
      "text/plain": [
       "'Hello world!'"
      ]
     },
     "execution_count": 65,
     "metadata": {},
     "output_type": "execute_result"
    }
   ],
   "source": [
    "small_function2 = lambda x, y: x + y\n",
    "\n",
    "small_function2(\"Hello \", \"world!\")"
   ]
  },
  {
   "cell_type": "markdown",
   "metadata": {},
   "source": [
    "So far, this won't seem terribly useful. After all, we can easily do a similar process using a non-lambda function:"
   ]
  },
  {
   "cell_type": "code",
   "execution_count": 66,
   "metadata": {
    "colab": {
     "base_uri": "https://localhost:8080/",
     "height": 36
    },
    "id": "8pTEDYGtiOr_",
    "outputId": "8225dd94-9810-4c63-a7b8-29fa545bea5e"
   },
   "outputs": [
    {
     "data": {
      "text/plain": [
       "'Hello world!'"
      ]
     },
     "execution_count": 66,
     "metadata": {},
     "output_type": "execute_result"
    }
   ],
   "source": [
    "def small_function3(x, y):\n",
    "    return x + y\n",
    "\n",
    "small_function3(\"Hello \", \"world!\")"
   ]
  },
  {
   "cell_type": "markdown",
   "metadata": {},
   "source": [
    "But a big payoff happens for writing shorter code when lambda is used in conjunction with Python functions like <code>map()</code>. The function <code>map()</code> takes as its first parameter a function, and the second parameter an array of elements, and it applies the input function in turn to each element of the second parameter, constructing a map object of return values that can then be cast into a list.\n",
    "\n",
    "If we use lambda here instead of defining a full function, we can quickly use that lambda function for the purposes of that single line:"
   ]
  },
  {
   "cell_type": "code",
   "execution_count": 70,
   "metadata": {},
   "outputs": [
    {
     "data": {
      "text/plain": [
       "[1, 2, 4, 8]"
      ]
     },
     "execution_count": 70,
     "metadata": {},
     "output_type": "execute_result"
    }
   ],
   "source": [
    "map_lambda = map(lambda x: 2**x, [0, 1, 2, 3])  # lambda function that raises 2 to the input as exponent\n",
    "\n",
    "list(map_lambda)"
   ]
  },
  {
   "cell_type": "markdown",
   "metadata": {},
   "source": [
    "Or, more concise:"
   ]
  },
  {
   "cell_type": "code",
   "execution_count": 71,
   "metadata": {},
   "outputs": [
    {
     "data": {
      "text/plain": [
       "[1, 2, 4, 8]"
      ]
     },
     "execution_count": 71,
     "metadata": {},
     "output_type": "execute_result"
    }
   ],
   "source": [
    "list(map(lambda x: 2**x, [0, 1, 2, 3]))"
   ]
  },
  {
   "cell_type": "markdown",
   "metadata": {},
   "source": [
    "As opposed to:"
   ]
  },
  {
   "cell_type": "code",
   "execution_count": 75,
   "metadata": {},
   "outputs": [
    {
     "name": "stdout",
     "output_type": "stream",
     "text": [
      "[1, 2, 4, 8]\n"
     ]
    },
    {
     "data": {
      "text/plain": [
       "[1, 2, 4, 8]"
      ]
     },
     "execution_count": 75,
     "metadata": {},
     "output_type": "execute_result"
    }
   ],
   "source": [
    "def exp_2(x):\n",
    "    return 2**x\n",
    "\n",
    "print(list(map(exp_2, [0, 1, 2, 3])))\n",
    "\n",
    "# Or, even less concise:\n",
    "input_list = [0, 1, 2, 3]\n",
    "output_list = []\n",
    "\n",
    "for i in input_list:\n",
    "    output_list.append(2**i)\n",
    "    \n",
    "output_list\n"
   ]
  },
  {
   "cell_type": "markdown",
   "metadata": {
    "id": "cf5g8cXbjlGG"
   },
   "source": [
    "# 2. Lists vs Sets vs Tuples"
   ]
  },
  {
   "cell_type": "markdown",
   "metadata": {
    "id": "iEtRC2yqBfc4"
   },
   "source": [
    "Python offers multiple data structures to store data. Lists, sets and tuples are among the most frequently used ones. \n",
    "\n",
    "Lists, sets, and tuples follow these principles:"
   ]
  },
  {
   "cell_type": "markdown",
   "metadata": {
    "id": "GBvD6jK1kXsG"
   },
   "source": [
    "![image.png](data:image/png;base64,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)"
   ]
  },
  {
   "cell_type": "markdown",
   "metadata": {
    "id": "yfYywx-vklbu"
   },
   "source": [
    "Let's look at each of these features.\n",
    "\n",
    "### Mutability"
   ]
  },
  {
   "cell_type": "markdown",
   "metadata": {
    "id": "rTn-xzzdCZWC"
   },
   "source": [
    "Lists and sets are mutable in nature, meaning that the elements contained within them can be changed after creating and defining that list or set. "
   ]
  },
  {
   "cell_type": "code",
   "execution_count": 34,
   "metadata": {
    "colab": {
     "base_uri": "https://localhost:8080/"
    },
    "id": "BM1NhFYFkbjO",
    "outputId": "46949538-7058-4f07-e049-78ea7df021a4"
   },
   "outputs": [
    {
     "name": "stdout",
     "output_type": "stream",
     "text": [
      "[1, 2, 3, 4, 5, 'a']\n",
      "[6, 2, 3, 4, 5, 'a']\n",
      "[6, 2, 3, 4, 5, 'a', 6]\n"
     ]
    }
   ],
   "source": [
    "list1 = [1,2,3,4,5,'a']\n",
    "\n",
    "print(list1)\n",
    "\n",
    "list1[0] = 6   # setting a new value for the first element of the list\n",
    "\n",
    "print(list1)\n",
    "\n",
    "list1.append(6)  # adding a new element to the end of a list\n",
    "\n",
    "print(list1)"
   ]
  },
  {
   "cell_type": "markdown",
   "metadata": {
    "id": "SvCn94jCCisy"
   },
   "source": [
    "Sets are mutable as well. You can update the data after defining it:"
   ]
  },
  {
   "cell_type": "code",
   "execution_count": 36,
   "metadata": {
    "colab": {
     "base_uri": "https://localhost:8080/"
    },
    "id": "_slvS4Fw8-Zm",
    "outputId": "434a8b04-ed65-4e2c-a2b2-19e2757055e2"
   },
   "outputs": [
    {
     "name": "stdout",
     "output_type": "stream",
     "text": [
      "{1, 2, 3, 4, 5}\n",
      "{1, 2, 3, 4, 5, 6, 7}\n",
      "{1, 2, 3, 4, 5, 6, 7, 8}\n",
      "{1, 2, 3, 4, 5, 7, 8}\n"
     ]
    }
   ],
   "source": [
    "set1 = {1,2,3,4,5}\n",
    "\n",
    "print(set1)\n",
    "\n",
    "set2 = {6,7}\n",
    "\n",
    "set1.update(set2)  # using .update() to concatenate a first set with a second\n",
    "\n",
    "print(set1)\n",
    "\n",
    "set1.add(8)   # using .add() to append a value to the end of a set\n",
    "\n",
    "print(set1)\n",
    "\n",
    "set1.remove(6)  # you can also remove by specifying an element by naming it (works because sets have unique elements)\n",
    "\n",
    "print(set1)"
   ]
  },
  {
   "cell_type": "markdown",
   "metadata": {
    "id": "scExchWeCnfk"
   },
   "source": [
    "A tuple is not mutable. This adds a level of security to it and it can be used to store values that you don't want to change over the course of your code: "
   ]
  },
  {
   "cell_type": "code",
   "execution_count": 38,
   "metadata": {
    "colab": {
     "base_uri": "https://localhost:8080/",
     "height": 200
    },
    "id": "7gTL2-g28-cT",
    "outputId": "5ca0daaa-41d2-4e7b-d529-337c2ec4d343"
   },
   "outputs": [
    {
     "ename": "AttributeError",
     "evalue": "'tuple' object has no attribute 'update'",
     "output_type": "error",
     "traceback": [
      "\u001b[0;31m---------------------------------------------------------------------------\u001b[0m",
      "\u001b[0;31mAttributeError\u001b[0m                            Traceback (most recent call last)",
      "\u001b[0;32m<ipython-input-38-bcf575ddc8f7>\u001b[0m in \u001b[0;36m<module>\u001b[0;34m\u001b[0m\n\u001b[1;32m      1\u001b[0m \u001b[0mtuple1\u001b[0m \u001b[0;34m=\u001b[0m \u001b[0;34m(\u001b[0m\u001b[0;36m1\u001b[0m\u001b[0;34m,\u001b[0m \u001b[0;36m2\u001b[0m\u001b[0;34m,\u001b[0m \u001b[0;36m3\u001b[0m\u001b[0;34m,\u001b[0m \u001b[0;36m4\u001b[0m\u001b[0;34m,\u001b[0m \u001b[0;36m5\u001b[0m\u001b[0;34m,\u001b[0m\u001b[0;34m'a'\u001b[0m\u001b[0;34m)\u001b[0m\u001b[0;34m\u001b[0m\u001b[0;34m\u001b[0m\u001b[0m\n\u001b[1;32m      2\u001b[0m \u001b[0;34m\u001b[0m\u001b[0m\n\u001b[0;32m----> 3\u001b[0;31m \u001b[0mtuple1\u001b[0m\u001b[0;34m.\u001b[0m\u001b[0mupdate\u001b[0m\u001b[0;34m(\u001b[0m\u001b[0;36m1\u001b[0m\u001b[0;34m,\u001b[0m\u001b[0;36m2\u001b[0m\u001b[0;34m,\u001b[0m\u001b[0;36m3\u001b[0m\u001b[0;34m)\u001b[0m\u001b[0;34m\u001b[0m\u001b[0;34m\u001b[0m\u001b[0m\n\u001b[0m",
      "\u001b[0;31mAttributeError\u001b[0m: 'tuple' object has no attribute 'update'"
     ]
    }
   ],
   "source": [
    "tuple1 = (1, 2, 3, 4, 5,'a')\n",
    "\n",
    "tuple1.update(1,2,3)  # error, you can't update a tuple"
   ]
  },
  {
   "cell_type": "code",
   "execution_count": 40,
   "metadata": {},
   "outputs": [
    {
     "ename": "TypeError",
     "evalue": "'tuple' object does not support item assignment",
     "output_type": "error",
     "traceback": [
      "\u001b[0;31m---------------------------------------------------------------------------\u001b[0m",
      "\u001b[0;31mTypeError\u001b[0m                                 Traceback (most recent call last)",
      "\u001b[0;32m<ipython-input-40-43819f814ff4>\u001b[0m in \u001b[0;36m<module>\u001b[0;34m\u001b[0m\n\u001b[0;32m----> 1\u001b[0;31m \u001b[0mtuple1\u001b[0m\u001b[0;34m[\u001b[0m\u001b[0;36m0\u001b[0m\u001b[0;34m]\u001b[0m \u001b[0;34m=\u001b[0m \u001b[0;36m7\u001b[0m  \u001b[0;31m# same, you can't update the tuple by this method either\u001b[0m\u001b[0;34m\u001b[0m\u001b[0;34m\u001b[0m\u001b[0m\n\u001b[0m",
      "\u001b[0;31mTypeError\u001b[0m: 'tuple' object does not support item assignment"
     ]
    }
   ],
   "source": [
    "tuple1[0] = 7  # same, you can't update the tuple by this method either"
   ]
  },
  {
   "cell_type": "code",
   "execution_count": 41,
   "metadata": {
    "colab": {
     "base_uri": "https://localhost:8080/",
     "height": 182
    },
    "id": "-d6vw-oS9vJo",
    "outputId": "6ee80c16-de15-44cd-b725-1e7b1a3bb657"
   },
   "outputs": [
    {
     "ename": "AttributeError",
     "evalue": "'tuple' object has no attribute 'append'",
     "output_type": "error",
     "traceback": [
      "\u001b[0;31m---------------------------------------------------------------------------\u001b[0m",
      "\u001b[0;31mAttributeError\u001b[0m                            Traceback (most recent call last)",
      "\u001b[0;32m<ipython-input-41-01112b829755>\u001b[0m in \u001b[0;36m<module>\u001b[0;34m\u001b[0m\n\u001b[1;32m      1\u001b[0m \u001b[0mtuple1\u001b[0m \u001b[0;34m=\u001b[0m \u001b[0;34m(\u001b[0m\u001b[0;36m1\u001b[0m\u001b[0;34m,\u001b[0m\u001b[0;36m2\u001b[0m\u001b[0;34m,\u001b[0m\u001b[0;36m3\u001b[0m\u001b[0;34m,\u001b[0m\u001b[0;36m4\u001b[0m\u001b[0;34m)\u001b[0m\u001b[0;34m\u001b[0m\u001b[0;34m\u001b[0m\u001b[0m\n\u001b[1;32m      2\u001b[0m \u001b[0;34m\u001b[0m\u001b[0m\n\u001b[0;32m----> 3\u001b[0;31m \u001b[0mtuple1\u001b[0m\u001b[0;34m.\u001b[0m\u001b[0mappend\u001b[0m\u001b[0;34m(\u001b[0m\u001b[0;36m5\u001b[0m\u001b[0;34m)\u001b[0m\u001b[0;34m\u001b[0m\u001b[0;34m\u001b[0m\u001b[0m\n\u001b[0m",
      "\u001b[0;31mAttributeError\u001b[0m: 'tuple' object has no attribute 'append'"
     ]
    }
   ],
   "source": [
    "tuple1 = (1,2,3,4)\n",
    "\n",
    "tuple1.append(5)"
   ]
  },
  {
   "cell_type": "markdown",
   "metadata": {
    "id": "HNh0m3y6n0yA"
   },
   "source": [
    "Similarly, this will return an error as well. However a mutable object within an unmutable structure can be updated as follows:"
   ]
  },
  {
   "cell_type": "code",
   "execution_count": 43,
   "metadata": {
    "colab": {
     "base_uri": "https://localhost:8080/"
    },
    "id": "IXpq0GLB9Jvc",
    "outputId": "55ff6bef-70b2-4067-81b8-8705c22a8e4e"
   },
   "outputs": [
    {
     "name": "stdout",
     "output_type": "stream",
     "text": [
      "([1, 3], 'a', 'b', 8)\n",
      "([99, 3], 'a', 'b', 8)\n"
     ]
    }
   ],
   "source": [
    "#mutable items within a tuple\n",
    "\n",
    "tuple2 = ([1,3], 'a', 'b', 8)\n",
    "\n",
    "print(tuple2)\n",
    "\n",
    "tuple2[0][0] = 99\n",
    "\n",
    "print(tuple2)"
   ]
  },
  {
   "cell_type": "markdown",
   "metadata": {
    "id": "ho_Zy1ksknr2"
   },
   "source": [
    "### Ordering, Indexing and Slicing"
   ]
  },
  {
   "cell_type": "markdown",
   "metadata": {
    "id": "HVzUg0BID_KY"
   },
   "source": [
    "A list has an order in which the elements are stored. Hence the elements can then be called using the index. We can also slice the indexes to generate multiple elements from the list. This is review from introductory Python:"
   ]
  },
  {
   "cell_type": "code",
   "execution_count": 44,
   "metadata": {
    "colab": {
     "base_uri": "https://localhost:8080/"
    },
    "id": "1yd3SrmIkptG",
    "outputId": "b6b29684-6feb-4ede-fecc-015f67e805d4"
   },
   "outputs": [
    {
     "name": "stdout",
     "output_type": "stream",
     "text": [
      "H\n",
      "['H', 'e']\n"
     ]
    }
   ],
   "source": [
    "text = \"Hello World!\"\n",
    "\n",
    "list2 = list(text)\n",
    "\n",
    "print(list2[0])  # accessing element by index location\n",
    "\n",
    "print(list2[:2]) # slicing using index location spans"
   ]
  },
  {
   "cell_type": "markdown",
   "metadata": {
    "id": "7pw0yeTeEQ9J"
   },
   "source": [
    "A set has no order and thus cannot be indexed or sliced. "
   ]
  },
  {
   "cell_type": "code",
   "execution_count": 45,
   "metadata": {
    "colab": {
     "base_uri": "https://localhost:8080/"
    },
    "id": "vVgnMcp69deh",
    "outputId": "74fb8b2a-2c62-464d-e5e3-226a86d69368"
   },
   "outputs": [
    {
     "name": "stdout",
     "output_type": "stream",
     "text": [
      "{' ', 'd', 'l', 'r', 'H', 'W', 'e', '!', 'o'}\n"
     ]
    }
   ],
   "source": [
    "set2 = set(text)\n",
    "print(set2)"
   ]
  },
  {
   "cell_type": "code",
   "execution_count": 46,
   "metadata": {
    "colab": {
     "base_uri": "https://localhost:8080/",
     "height": 165
    },
    "id": "tVB-6yzZ-fos",
    "outputId": "8101fa4e-9eeb-44fb-dab1-318b9e3e9a32"
   },
   "outputs": [
    {
     "ename": "TypeError",
     "evalue": "'set' object is not subscriptable",
     "output_type": "error",
     "traceback": [
      "\u001b[0;31m---------------------------------------------------------------------------\u001b[0m",
      "\u001b[0;31mTypeError\u001b[0m                                 Traceback (most recent call last)",
      "\u001b[0;32m<ipython-input-46-3ee181091606>\u001b[0m in \u001b[0;36m<module>\u001b[0;34m\u001b[0m\n\u001b[0;32m----> 1\u001b[0;31m \u001b[0mprint\u001b[0m\u001b[0;34m(\u001b[0m\u001b[0mset2\u001b[0m\u001b[0;34m[\u001b[0m\u001b[0;34m:\u001b[0m\u001b[0;36m2\u001b[0m\u001b[0;34m]\u001b[0m\u001b[0;34m)\u001b[0m\u001b[0;34m\u001b[0m\u001b[0;34m\u001b[0m\u001b[0m\n\u001b[0m",
      "\u001b[0;31mTypeError\u001b[0m: 'set' object is not subscriptable"
     ]
    }
   ],
   "source": [
    "print(set2[:2])"
   ]
  },
  {
   "cell_type": "code",
   "execution_count": null,
   "metadata": {
    "colab": {
     "base_uri": "https://localhost:8080/",
     "height": 165
    },
    "id": "fzHslWI9THwW",
    "outputId": "35dc41a9-da27-4801-9d09-129dd884416a"
   },
   "outputs": [
    {
     "ename": "TypeError",
     "evalue": "ignored",
     "output_type": "error",
     "traceback": [
      "\u001b[0;31m---------------------------------------------------------------------------\u001b[0m",
      "\u001b[0;31mTypeError\u001b[0m                                 Traceback (most recent call last)",
      "\u001b[0;32m<ipython-input-13-2f68925511e3>\u001b[0m in \u001b[0;36m<cell line: 1>\u001b[0;34m()\u001b[0m\n\u001b[0;32m----> 1\u001b[0;31m \u001b[0mprint\u001b[0m\u001b[0;34m(\u001b[0m\u001b[0mset2\u001b[0m\u001b[0;34m[\u001b[0m\u001b[0;36m0\u001b[0m\u001b[0;34m]\u001b[0m\u001b[0;34m)\u001b[0m\u001b[0;34m\u001b[0m\u001b[0;34m\u001b[0m\u001b[0m\n\u001b[0m",
      "\u001b[0;31mTypeError\u001b[0m: 'set' object is not subscriptable"
     ]
    }
   ],
   "source": [
    "print(set2[0])"
   ]
  },
  {
   "cell_type": "markdown",
   "metadata": {
    "id": "fQU0e7lxEZx7"
   },
   "source": [
    "A tuple, however, follows the same rules as the list and has an ordered indexing system in-built, such that the elements can be called using the indexes. "
   ]
  },
  {
   "cell_type": "code",
   "execution_count": 50,
   "metadata": {
    "colab": {
     "base_uri": "https://localhost:8080/"
    },
    "id": "PkZ6yl8US8j5",
    "outputId": "f027c427-94ea-483d-a5ad-0ce4cf63b041"
   },
   "outputs": [
    {
     "name": "stdout",
     "output_type": "stream",
     "text": [
      "o\n",
      "('H', 'e')\n"
     ]
    }
   ],
   "source": [
    "tuple3 = tuple(text)\n",
    "print(tuple3[4])\n",
    "print(tuple3[:2])"
   ]
  },
  {
   "cell_type": "markdown",
   "metadata": {
    "id": "8iec8Z3Dkp6z"
   },
   "source": [
    "### Duplicate Elements\n",
    "\n",
    "Only sets do not permit duplicate elements."
   ]
  },
  {
   "cell_type": "code",
   "execution_count": 76,
   "metadata": {
    "colab": {
     "base_uri": "https://localhost:8080/"
    },
    "id": "PW40uyRXkwLc",
    "outputId": "02d802bc-65de-407d-aca7-3848677df8b3"
   },
   "outputs": [
    {
     "name": "stdout",
     "output_type": "stream",
     "text": [
      "['N', 'Y', 'U', ' ', 'U', 'n', 'i', 'v', 'e', 'r', 's', 'i', 't', 'y']\n",
      "('N', 'Y', 'U', ' ', 'U', 'n', 'i', 'v', 'e', 'r', 's', 'i', 't', 'y')\n",
      "{' ', 'U', 'r', 's', 'y', 'Y', 'e', 't', 'N', 'v', 'n', 'i'}\n"
     ]
    }
   ],
   "source": [
    "text = \"NYU University\"\n",
    "\n",
    "print(list(text))\n",
    "\n",
    "print(tuple(text))\n",
    "\n",
    "print(set(text))  # Note in the output that there is only one \"i\" and one \"U\""
   ]
  },
  {
   "cell_type": "markdown",
   "metadata": {
    "id": "Nd7GrEObCiMc"
   },
   "source": [
    "# 3. Try/Except Error Handling"
   ]
  },
  {
   "cell_type": "markdown",
   "metadata": {
    "id": "vqkuGatj2945"
   },
   "source": [
    "Sometimes there are situations where you expect there will be cases where a line of code might fail and you need to account for that failure without causing the entire code to fail. In other cases, you want to debug a line of code and need it to run without failing in order to identify the error.\n",
    "\n",
    "The following code shows us the syntax for the 'try'-'except' functionalities which python uses for error handling."
   ]
  },
  {
   "cell_type": "code",
   "execution_count": 25,
   "metadata": {
    "id": "01_OGjeBRT2R"
   },
   "outputs": [],
   "source": [
    "def testFunc3():\n",
    "    try:\n",
    "        print(var1)\n",
    "\n",
    "    except:\n",
    "        print(\"There was an error!\")\n",
    "        return None\n",
    "\n",
    "    print(\"Out of the block\")"
   ]
  },
  {
   "cell_type": "code",
   "execution_count": 26,
   "metadata": {
    "colab": {
     "base_uri": "https://localhost:8080/"
    },
    "id": "ZlX4mpzpUFd5",
    "outputId": "7b6ca3b4-c661-4a91-ab54-227d611eb10f"
   },
   "outputs": [
    {
     "name": "stdout",
     "output_type": "stream",
     "text": [
      "There was an error!\n"
     ]
    }
   ],
   "source": [
    "testFunc3()"
   ]
  },
  {
   "cell_type": "markdown",
   "metadata": {
    "id": "ULj6S5Pt_4GN"
   },
   "source": [
    "A line-by-line explanation:\n",
    "\n",
    "<b>try:</b> Python will attempt to run this code block. An error may or may not occur.\n",
    "\n",
    "<b>except:</b> If an error does occur, then this block will run instead. Error handling can happen in this block.\n",
    "\n",
    "Note that the final line of the function, a <code>print(\"Out of the block\")</code>, is not executed because the except block contained a return statement and once the return happens, the function's work is done. But you may also want a portion of your code to run regardless of how the try/except portion plays out. For this, you can use <b>finally</b>:\n"
   ]
  },
  {
   "cell_type": "code",
   "execution_count": 29,
   "metadata": {
    "id": "WLqTn9fUUOZz"
   },
   "outputs": [],
   "source": [
    "def testFunc4():\n",
    "    try:\n",
    "        print(var1)\n",
    "\n",
    "    except:\n",
    "        print(\"There was an error!\")\n",
    "        return None\n",
    "\n",
    "    finally:\n",
    "        print(\"Out of the block\")"
   ]
  },
  {
   "cell_type": "code",
   "execution_count": 30,
   "metadata": {
    "colab": {
     "base_uri": "https://localhost:8080/"
    },
    "id": "Ugyc5GM3UOiO",
    "outputId": "8161daf8-44ae-4e2c-ed6b-d3a45190fc1e"
   },
   "outputs": [
    {
     "name": "stdout",
     "output_type": "stream",
     "text": [
      "There was an error!\n",
      "Out of the block\n"
     ]
    }
   ],
   "source": [
    "testFunc4()"
   ]
  },
  {
   "cell_type": "markdown",
   "metadata": {
    "id": "RA4mWwIvVfq-"
   },
   "source": [
    "# 4. Comprehensions\n",
    "\n",
    "Comprehensions can be a compact way to instantiate an object such as a list while simultaneously controlling its membership. It can also replace a multi-line \"for loop\" with a single-line means of performing an operation on each element in an array object (list, dictionary). Let's start with lists:\n",
    "\n",
    "## List Comprehension"
   ]
  },
  {
   "cell_type": "markdown",
   "metadata": {
    "id": "upzB7xZzARGK"
   },
   "source": [
    "As learned previously, we can iterate through a structure such as a list to access every element stored in the structure:"
   ]
  },
  {
   "cell_type": "code",
   "execution_count": 53,
   "metadata": {
    "colab": {
     "base_uri": "https://localhost:8080/"
    },
    "id": "eEIWmmxbVe9G",
    "outputId": "33c2339e-7d74-4173-8a3c-624ae912518d"
   },
   "outputs": [
    {
     "name": "stdout",
     "output_type": "stream",
     "text": [
      "['bronx', 'brooklyn']\n"
     ]
    }
   ],
   "source": [
    "boroughs = [\"bronx\", \"brooklyn\", \"statenisland\", \"manhattan\", \"queens\"]\n",
    "newlist = [] # container for a filtered list\n",
    "\n",
    "for borough in boroughs:\n",
    "    if \"o\" in borough:\n",
    "        newlist.append(borough)\n",
    "\n",
    "print(newlist) #prints every borough that has an \"o\" in it"
   ]
  },
  {
   "cell_type": "markdown",
   "metadata": {
    "id": "_NSl8kHmE_oK"
   },
   "source": [
    "But we can do this more compactly using an inline list comprehension:"
   ]
  },
  {
   "cell_type": "code",
   "execution_count": null,
   "metadata": {
    "colab": {
     "base_uri": "https://localhost:8080/"
    },
    "id": "MOZS4yGfVe_o",
    "outputId": "90285e9c-24d8-429b-98e3-4e6c39fb969e"
   },
   "outputs": [
    {
     "name": "stdout",
     "output_type": "stream",
     "text": [
      "['bronx', 'brooklyn']\n"
     ]
    }
   ],
   "source": [
    "boroughs = [\"bronx\", \"brooklyn\", \"statenisland\", \"manhattan\", \"queens\"]\n",
    "\n",
    "newlist = [b for b in boroughs if \"o\" in b]\n",
    "\n",
    "print(newlist)"
   ]
  },
  {
   "cell_type": "markdown",
   "metadata": {
    "id": "sP6qcvTOWc_x"
   },
   "source": [
    "#### Additional examples for list comprehension"
   ]
  },
  {
   "cell_type": "code",
   "execution_count": null,
   "metadata": {
    "colab": {
     "base_uri": "https://localhost:8080/"
    },
    "id": "-GrmO5NPVfCG",
    "outputId": "122c616e-d203-4021-b5b4-1f20497eb705"
   },
   "outputs": [
    {
     "name": "stdout",
     "output_type": "stream",
     "text": [
      "['brooklyn', 'statenisland', 'queens']\n"
     ]
    }
   ],
   "source": [
    "newlist = [b for b in boroughs if b not in [\"manhattan\",\"bronx\"]]\n",
    "\n",
    "print(newlist)"
   ]
  },
  {
   "cell_type": "code",
   "execution_count": null,
   "metadata": {
    "colab": {
     "base_uri": "https://localhost:8080/"
    },
    "id": "QllMu8-kbPZu",
    "outputId": "20396056-c5c6-4467-bc17-dad5053f562b"
   },
   "outputs": [
    {
     "name": "stdout",
     "output_type": "stream",
     "text": [
      "[0, 1, 2, 3, 4]\n"
     ]
    }
   ],
   "source": [
    "newlist = [num for num in range(10) if num < 5]\n",
    "\n",
    "print(newlist)"
   ]
  },
  {
   "cell_type": "code",
   "execution_count": 55,
   "metadata": {},
   "outputs": [
    {
     "name": "stdout",
     "output_type": "stream",
     "text": [
      "[105]\n"
     ]
    }
   ],
   "source": [
    "newlist = [num + 100 for num in range(10) if num == 5]  # modifying the resulting elment\n",
    "\n",
    "print(newlist)"
   ]
  },
  {
   "cell_type": "markdown",
   "metadata": {
    "id": "Fr1k1Z4-wNAK"
   },
   "source": [
    "## Challenge 1: Given a list of numbers, remove all odd numbers from the list:"
   ]
  },
  {
   "cell_type": "code",
   "execution_count": null,
   "metadata": {
    "id": "M50fLZgNwP9o"
   },
   "outputs": [],
   "source": [
    "numbers = [3,5,45,97,32,22,10,19,39,43]"
   ]
  },
  {
   "cell_type": "code",
   "execution_count": 145,
   "metadata": {
    "id": "pzaBDXiZwSuO"
   },
   "outputs": [],
   "source": [
    "#Fill in your answer here:"
   ]
  },
  {
   "cell_type": "markdown",
   "metadata": {
    "id": "ZjhbFWnxbVXV"
   },
   "source": [
    "## Dictionary Comprehension"
   ]
  },
  {
   "cell_type": "markdown",
   "metadata": {
    "id": "bHkmaG1ytTYQ"
   },
   "source": [
    "![image.png](data:image/png;base64,iVBORw0KGgoAAAANSUhEUgAAAnIAAAGCCAIAAADrNrlGAAAgAElEQVR4nOydZWAU19rHnzO2u8nG3d2NEEhwirtTgQotLb11u/X21t8aLTWq9xZKWyhQKAWKuzYhIUSIbzzZuG+yO3reD7sJErzJJoT5fYDM2dk5z+7Mzn/OOY8g3N4OMjIyMjIyMj0B0dcGyMjIyMjIDBxkWZWRkZGRuRnBfW3ApZFlVUZGRkbmZgT1tQGXRpZVGRkZGRmZHkOWVRkZGRkZmR5DllUZmZuZfrq6JCNz6yLLqtmR74MyPUg/XV2Skbl1kWXV7Mj3QRkZGZmBiyyrMjIyMjIyPYYsqzIyMjIyMj2GLKsyMjIyMjI9hiyr10B/czLqb/bIyNxk3IQ/oZvQ5FsWqq8NuBnob05G/c0emVsYURTPpKefTEysqq6uqa2tqa2Njoz814MP+vr49LVpV6DbTwj3+59VPzdP5jyQXMFGRkbmeimvqNiybduBw4ePHDvW0tp60atqtXrDzz9PnzKlT2yTkelb5NGqjIzMtVJRWblpy5bft2z5OykJ48vOS+p0un0HD8qyKnNrIstqL9L/J5ZkZK6F2rq6TVu2rN+06fjJk1dQ0y5UKtU9d91lBsNkZPohsqz2IrKmytzsVGq1r7zxxrqNG0VRvJb9baytF86b98wTT0SGh/e2bTIy/RNZVmVkZC5Bc0vL5ytXLv/8846OjqvubG9nN3nixDvmz58+ZYpCoTCDeTIy/RZZVmV6j34+C97PzeszSsvKPlu58sc1a3Q63ZX3jAwPnz9nzrTJk4fGxZEkaR7zrgwrNlboDtTok+v0qa1skUFswiDSyMqa8XGxSPC1numhHocuH1go6MWSYy1FBxorT7da2DNxD7kHTrY3p/0yAwDZE1hGRsaEKIqfrVz5n3feMRgMV9jN389vyd1337lwYUhQkNlsuxba+cothWPbhaor7OOkGjzG/StH1aDuL5WdbE5cWdFWyZ7fOOe/YY7BFj1sqMyARh6tDhjksZfMP6K5pWXa3LmJp05dbgeSJO9auHDZAw+MGTUKof54sWU2rLyypgJAnT51c+HIiZ4/Bdje3tUostKJFWUFuxsusX9OuyyrMtfFAJBVWU6MyF+CzD9i8f33X05TaZq+b/HiV194wd/Pz8xWXRcI6Es1XiJD0f6K+0UkBNssAgAs4q3/ymkqvvQA3cL+EseUkbkC8iSwjIwM7Dt4cPKsWZd8KSoiYsMvv4SFhJjZpBtAL9T9kuuPQbqWnUlCsSDghC0dtu3R3PrcS98GfUbZTnjXHxHyM2svUlFZmXz6tIWFxegRIywsBsLEwAAYrcpcB/LQXuaSbNy8+ZLtDy9d+sXy5Uql0sz23BgqyinAZqGmZeO17CxK7P6y+6Oy/+quqYiAwMkO4fOc7QNVsqb2Kpv//PO+ZcuM3uaDBw06vn+/SqXqa6P+KfJoVab/IYu/2RkxfvzfSUkXNYaHhp5NSemfy6iXo8GQsVkzAl9bZnrU4Eq/+7vEX7Czna/ytjf87QNu+pu7OTnx999r1q4tLStzcXZe9d13FHVNA7bWtjb3gID28zTo688+e+zhh3vNTDMhj1Zl+h830218gGBjbd29MSgw8ObSVABwUEbHOD6TVv/ZteyMDt1+kaY6h1tOXRFMq+TSXtfB+8uXv/72213pt4KDgl5/6aVzL1/+Kfng4cPtF47rTp8501tWmhFZVmVkZCAuNnb3vn0XNZ5MTOQ4jmGYPjHphhns/JK2ZhfR2K7k1QyvQBLSK9t1quYmmzqMzhPRFgfiyILz36iwIse95U9LBpxdgVp1GEuIYcDGCjs5IJtLPHbIAMB/3nnnvY8+Or+lra3tgj0u/2CWlpFxUcuVI7tuFv7xJLA8Xycjc/NToNGEDR7cPUPhYw8/vHLFiptmzMrxuKIK7zmMauu7v8jSHSdit5e65PKMAADE8dnEb893vYoAj7iLDq4/BMcv5Q4dFkgsXQTB/qCUc0ido7umhgQFJR45Ymtjcy1vn79o0ZZt285v2blly7TJk3vSxL5AXluVkbkeBu5z5POvvPLpl192b581ffqa//7XztbW/CZdHxVV+NfNwHJX2geDdPrM9n8drvVpJL77CJ0dbmwmQZim2OCEqq/SBULow1dRTDjcLM8ZvUl3TbWztU08fDj4mpOE+IWHl5SWdm0OjYs7dfRoT5rYR8iyKiMjAwCg0+m8goObW1q6v+Tr47Pt99+jIiLMb9U1Iq3bggpLQLqKpxKub4L8Qoxwo3trSvm91Zy/GrXFUIl+ZB4JwjX1hBCKCkP/9yLcbHPjPcsb77777ocfnt+iVCr3bd8+asSIazyCprAwKDr6/JZNa9cumDu3x0zsO2RZvYkZuAMnmT6guaUlODq6rv4S06cA4OriknTkiLeXl5mtujocj9dsxNqaq/4WcHMr5BTANRS2uzreHsQnb4CNVQ8c6ibkt40bFz/wwPktBEFsXrdu7mVCny/Jl9988/QLL3RtBvj756enE8RAcBYbCJ/hluVW19SeuD3KdPHo009fTlMBoLqm5vOvv+6hrnruzIki3rgNumsqQUCQH5o0Fi2YgWZMxByP8wohO79nNBUAyiqll96DAeFfc73kFRQse+KJixpXrlhxXZoKALv27j1/c9kDDwwMTQXZE1jmJuZWf6y4US41y7H6l1/W//77ld935NixHrKgx84cPvI3FJZe0KS2hOFxaGQ8qM6lsECNTTglvac6NVFcjt/7Ar330tX3HEDwPL/4/vsviop55fnnH1227LqO06bTHb7wcrpj/vwesM/MXGbCUJZVmetBnnceAHQ7g5lZWY8988xV3xcYENAr9twouFwLx5MvaPL1QnfPB+vuc7O9ctXi5HR08ASMH9kbB++fvPPBB6lpaee3zJ4x4//eeut6j7Ntx47zY2mGDB7s5+vbA/aZmctcVrKsylwPsqYORA4fPXot8YI+/WphFWPYe+SCSd1gf/TAXdA1kchy0NgM7e04R4O//qmXrJC+WkWMSYBrSyp0s1NYVLT888/PbwkMCPh11aobiL+6aGrkjgULLrfnzcgtcTXIyMhcgdaL4vcvw/pNmxbOmxc/ZEhv23Mt4OwCqDivBpyVGt3fqakYw5G/pf98bA47OvR46x60YIY5+joPSZJOJibW1tVNmjDBSq02T6cvvv46y15QjHbFhx/eQO/NLS17Dxw4v2XBnDn/1Lj+xABZIpaRkblhLpm5sDvlFRWjJk784JNPeJ7vbZOuTup5CXpIEj2zDEgCAECS8AvvmklTAQAA/7geDOzV9+s5eJ4fP3366EmTFixePHriRGOe+t6mrLz8z+3bz2+5c+HCWdOn38Ch/ti6lePOhRfHxcb284KD14ssqzIytzqxMTHXuCfP86+++WbEkCEpqam9atJVkDCUnxuqohFDQG1p/Bu//xVOMq9tooiraszZ4SdffNHlPpaemZlx9uz1vf+GvKF/Xb9eki6ouPfSc8/dyIEA1m3YcP7mwnnzbuw4/RZZVmVk+ob+Ex80ZPDg6yqnWqDRzL3zzvY+DHk/nQ5dI2aVEqZNMP6J9xzGew71gT37espH+pr4+vvvz98MCw29vvffkIdEY2PjRS06ne4GjlNdU3ORD/AAmwEGWVZlZPqK/uP+pVAodvzxx72LFnWtkzEMkzB0qLOT0+XeUqnVfvLFF+Yy8GKk3MJzG+6upulfALz2D/Mbw2OpdfeBqyZ46ik0hYWVWm3Xpoe7+zXO4f9Dun+8afPmXTUoqzsrv/vu/NTTvj4+QYGB/8y0fofssiQjIwN+vr4//+9/kiRlZmWdSU+fMnGim6srz/NrN2z4v48/1hQWdn/Lrr1733z1VfObCgCo+VyGRTRyqOmv9GwoLjOnGRLgBp5vEjgwdKgbG0lHBzN0WlZRcf6m2TJKdn8KbG9vX3T//T+vWzdj6lQnR0cnJydHBwcnR0cHe3uMcYde397e3tDYWKnVaquqtFVVpWVl2bm5F5X1LSkt3bZjx+wZ5vb56lVkWZWRkTFBEERMVFRMVJRxk6bp+++5595Fiz5bufLF117DF6YoUiqVlzqGWTjfRYgkjf9Lv24ypwkYoIo1tEumgZfQ0GQeWb1o6nXQhWl1e49Bl1mA37V370X5kq6Xx555ZvzYsWpz+TObAXkSWEZG5kqQJPn800+PHD78onYvD48+sQcAgD+XFh+v+wMnpuIffoUks1bAbhOFLk0FAKHNTCvNF83Mz5k50zz9zpw2zbN3znilVvvTr7/2xpH7in4jq/3Hf8PM3LIfXObm4a9du46fPHlR4/QpU/rEGACA8+vCshx+7UP8y6Yey/d7bbQIF0YZ8VcsSNdzDIuP/+yjj6IjI0ODg5989NFh8fHm6dfWxmbL+vVOjo69cfCV333XG4ftK+QKNjIyMldCW1UVk5BQ39BwfqO7m1tJTg5N031iEn7ns/NFFCemwoWxH2ZAY2iXzrPB491XrMZePKAfeFTX1Dz38ssbNm2SevQL93B3rygo6MED9i39ZrQqIyPT/2hpbZ1zxx0XaSoAvP/2232lqQDd/GcIc3tVYwDpwsExIm+Je6mri8u61atzUlOffvxxR4ceW0seYKGr8mhVRkbm0rS2tU2eNSspOfmi9jsXLly/Zk2fmGREeu8LdN48ME7NNHOeIxHjQsMFd06v5W9ZJgw2pw09zXWX0eB5/uiJE0nJyfgapt91Ot0Pq1Y1NjV1f8nO1jYzOdnD3f26eu/PyJ7AMjIyl6C5pWXa3LndNXV4QsKqb7/tE5O6QCRxwfKqpcrMsip0ExJCwZjTgF7gukf8NE1PuO22Cbfddo37p6Sm7j90LlkHQsjL03PI4MGvvfjiQNJUGKCyKlcvM9GglxxUt8TclEzPUlNbO2X27PTMzIvaI8LCdvzxh4WFRZ9YdQ6aBu48jyErK2hoNmf/HL54ZZG0tTGnAX3IDd9eCy6Mfn7/7bdf/ve/e8Sk/saAlNW+11Se5zv0eoPBwHFcm05naWGBL0VxaWlIUBDTBU0zDEMQPSOEaTVCboO0IISmyb7/QmRuIurq68dOnpzXzYXEx9t77/btdra2fWLVBSgYaD+XXx452OKScnP2z3aXVbtbRVZv7G7Csmz5hYksxo0Z0yP29EMGpKyaiQKNpqCwsKi4uKy8vFKrraqurquvb2xqam5pYVnWQqVSKpVGmSQIAnWDQEipVDa3tHAcx/M8x3Ecz3McRxBEbExMgUajUCgsLS0xxgRBKBUKmqYpijL9S1HGv2maVigUFiqVpaUlo7RoFpXh7lYWKpUeqXJbFRODrZdnKEb727jaWzEW1u5Odn3pZiJzM9Cm002bO7e7pro4O+/bvt3dza1PrLoYBztoPG94StNAEOZ0BjacPwUNQDs5kpeond67YIwrtVpHB4e+zMtxzZSUlZ3vPKxSqeJiY/vQnl5FltXrICsnJyk5Ofn06dS0tIyzZ91cXYMDAwP8/X28vQfFxLi5uhoTd9na2KhUqisfihVwuwD2ynNPftU67KpGACAIQnNLC0mSHMdtSiyeHu1SXlHh4ODA87wgCKZ/BaG5g99fpB/nxkuS1KHXt+naT5W2KrGhqqqqsa0jt1pnQ+h/L/TKzTi9SexobWurbWhub2u2sbZ2cnJydnJydXFxc3V1d/fw8fTw9fHx9/NzcXbu4HErC0YzZG5BJEmad+edp89cnFfBwd5+/44d/Sh3a4APFBSf20QICATmUlUJg166QFatJ46B6y/lfcNgjD/+7LMPli9vaW319PDYtHZtwtChV39bn1JSWnr+prOTEzVwa78P2A/WU+Tk5R08fPjwsWPHTpywsrIaNnRo/JAh9y5aFBMVZWlp2dzSUlxSYhytHknNPVta60m3VtQ16zvaBVYv8izLcQAgiqIkSe2cyCBJkiQ/X9/cwhKaoiwUFEVRFEmSFNVG2jHY4KymaZqmKYrjOJFStfOwzQIwxrr2dpJRIiwhwABgMBiqWzmW4w/QgsFgEEWxTc9xgkhjnhcEB1fvqjINAGAAAiHjHxhjkiD1er22qqquri6/oICkKE4iFATmeU7X3k4gpHbycvAKnjQqflxC7JCYKA+XXgn9lum3rPjqqwOHD1/USJLk5nXrIsPD+8SkS4Kiw/G+Y+e8lhAyp6q1iPxFDkvWE0abrXcAePzZZ7/973+Nf1dUVt770EP56enmNOAG0FZVnb9pazOQ58xlWb00h48d275z587duzv0+onjxs2dNWvFhx/a2dqmZWRknD27dsOGf//nrezcPMx1+Pv5eXt52Ti6FwoO0ZGRUd72OTorV3srV1vLkb4WPMep1WqCINac5YMdmNt8GYIg9mY3UhZWYzyRYEQUv0vWNZbnPTExyDge5QVhz9HEcnVUvDsV4UQhhPKKy8qRh68tXaEDD0O+4BKV2UBOCVJFuyrbdLqkVofMOngozjLYSXG0HNM05WpFp1XzC8IYFYWStEJlmxTtTO7W8PODSVua/ytX58IY0sqaVWKrK9FSW1dXXVPz16mC8uL8mpzEL0789Z1CIfCCpaVFUEDA0Li46VOnOoePzm2hl0Qr+vrMyPQWHR0dH336aff2N155Zexos8rG1VEpwdEeaupMmxibM8VSq3hxFXfaw3xz44ePHevSVCMFGk1RcXE/rwR+ft1yABhIGYC7I8vqBSSfPr1+06ZNW7Y4OTrOnjFj7erVkiQlnjq1d//+9z/+uKikZFB0dHRkpJNPWHz4tBVjIoaHeABAM4u/SGbjlej+aGZjNjdeRRAI5gafW8VcncHpVeLt8SqKgNRqoZCwemOoqiuE/YcznJWn+NnicysNrAiJ9DBnEh4crLBmkIShyY0LU6LyNmmhM0kRo9Zk8vcPpkd6UQCwJZ/Pr+OfG68MsieStYIBSWGO1N4ifmGY0pJB2fVSfiMe4UnvLRbmhio9bYijZaSVDdOBkLOv+92RpqiAz5IMI4ZKLw9XHSsXgu2JtJzCylJNmyYxMTl5y/bt369ahSXJ3t7hp4jwKZMmPbhkib29460R/n4LsWX79u5pHyZPmPD6Sy/1iT1XIcDnnKyKIohmmgLWSyJ74SKueuRQwtJ8rtGHjhzp3ngqJaW/yeqVHYYvUtkBRq/K6k0T6MLz/I9r1qxZu7ahsXHR7be///bbpWVlx06cWP755/6+voGRQ6ePGfXcU08ZK3uUtogfnjRM9aeGhygAAGO8PpvnRXx3pGJfsWCrQK0G6Y6wc0Fsm/P41GrhjZEqigBNk7Q+h49zIbs09Y88PqtOfGfMBaPAVemsQZQeGay0ZhAA7C7klRQqaRGHutNuavTWUf1EP5Om7i3iDhQLjw5mguyJgkYxo1a8zZfeVcjPDKQdVaisRTxYIozzpY6WCZP8KG8bIkUrVOkkBYVUJHRp6pY8vrBJen6YIr9RtGaglcV27n5LxgYDTAeAL1PY+nZxinXxrm2bDhw+/MEnn7zyxhtqa9vBsXH3L1nywJ0LzHCCZMzAzt27uzd++emnPeWafkNc9h6CRgzFSakgSoAxzi8y22i1mjNcYAZJur9u1iiRqurqi1pomh4zapQ5bbgWrnzrz8nLkySpTy+tXqRXP9VNoKnaqqpX33zTxdd3+86dQ+PiYqKiPv/6m3c//aKhsfGRhx4qycn5YcvJO5//7N577jNqakMH/iyJHevNzAkxCeF2jVDWLC6JVqTViCKGSp00OYC2YEyf/UAxv1PDPzlE4WSJatqlb1PZMHviznCTnh0tF/7S8I8PYWyU507E7zlcXoP4RJzSGHJ6uFRoYaGmXUrwoKOdya9S2EEu1LwQBgCOlQlb8/gl0YoIJ6quA+8tFkZ50cfL+HE+lI8N0WTAe4rFkd70mWox3oMKtidzGsTMOtFGiQwimuJvGkzvL+YPlPCPDWE4CUqaRVsFqmyTpgeYnrd+TGMrWsUnhqpGxka89+abR/cfXH24dPnO4rn3PtbcWLfs4aVKB4epc+eeSU8HgIzac3VFLo1cV6Af0937187WNiQoqE+M6eTy9xBLFQT5AwAu10Jzq3msaRV4/kL9pl2dCIur+Cf2LAxzcd6Jl557rr94aF8zOp0uLSPDfP2Z984zMB8WrgVtVdVzL7/sGRR09MQJXx+fxFOnauob7aMnv/ZL0oEDxz/94IM5M2f+XmzxVwE3M5BiSAQAbRx8nGiIdqXuijBpUpJWTK4SZgfTOhZX6SQ9L03wo93Vpm81pUr85Sz3r8FMsD2p5/HXp1l/G+KBGJMe5zZIP6WzD8YwwfZkl1UHS7jdRcLjQxQulgQAnNIKmiaxjcMjPKlIJ/KLUwYLCi2LZQAgtVpcm83fHsEMdSMFCfYWcWO8qMw6McyRDHckBQnvKeKjHAlNgxBiT0Q5keWt0oFiwVVNtrL49hCTaiZViVvyuHsjGU9r8lCp6GlNZNeL0wMZikAAsDGHS6sVn41XOlsgAOBF2K4RGvXYx9l2zUevvbTq6Bs7ap5/+Z2y8vLBI0b4RESt+HFto+GK1+9N8KB169I9ToPj+WvJS9dnjBiCUzOhourqe/YEIsY1/IW5nAjk9cF/zOktBQBd1XCNWFpavvL88+Y04Mbo/jRw+OhR83Vv3jvPrSirkiS99X//5x0SsmXbNhsbm6iIiI/ee6+2vCLqoa/th94+O8bNw4oAgJ8yOE0zfmG40oJGAKDn8adJBk9rtDTadH3k1It/abjBzqSLJUquEgmAQHsqwtGkkQWN0jen9fdEMvFuFAB8mcKqGfT4EJOmVuuklcmGWUHMSM9z8/CZteKqdG7ZICbIjgSArDoxqVLQCzDam4pwJH89y1bq8EsjlAAor0H87gw3J4i+zZsGgD1FvJc1WdEmOahQvDsFAHuKBHc1UavHrmpyqDvVaMC7CgU/O7K+Q5wRSBuXRXPqpZ8z2HnBdIIHdbBEcLeEnHppeiBjzQAA7Czk9hXxz8Yr3NQEAPAi3q7h9TymCJgWyOwoYAsbhWn+1HsvPJ59+nRiSq7K2f+X95+IHRS+Zft2c5zFS9OPNaDfM6xbkEZ7e/vJxMQ+MeZaQF7uaNwI8/QlYVzG6i+6vNRxg2hfL/MY0MXwhITzN+NiY/s+6dU1MHjQoItaBvBv9ZaT1VVr1jh5e3/y+ecjhg374O23myorv/3ii0njx/+ayTYZ8MxAKtSJAoCN2VxqtfDiMIVxdVPE8GUKa0HDk0NMT/RVOunXs5y7mhjtTe0tFmyVYK2AER4mTa3WSZ+fMswKVkz0owHgm9NcB49fHGZ6bwuLv0w2xLpR80LOuTVV6aSvUw2LIxXDPCgAKGmWtmt4VoRJfnSYA7G3SDhSJjwdzyAAbZv09Wluki8xLYACgBMVgoQxIBAlPM6HAoBj5QJgbBCwioTRXqRBwLs0vIslqtJJMwIZSxoBQHmr9FWKYZIfPdGfSdKK7Rwub8PTA2gXSwQAx8vFjdn8E0OU/rYkAIgS/KURMMZNBmmqP51UKWTUSmO86aHulNHyJJ3Tox9vPJVbGxYSPP+uu4aMGtXeNyUc5OHwjfPw0qXd17qWPvpoH53KawItnge9n4xXAqjiWf7CzEqktZXrS0/2dtfdCQ8NPT86JToy0vw23AAxUVF3LDjnh2Fna7v4jjv60J5e5RaS1fLKyuj4+IeffHJoXNyx/fuP7t171+23G1/anMulVkuPDVGO9KIB4K8C/kCJ8GyCytnS9P18k8KyAn5mqGms2cHh9VksTcDCUOZAieCgQoIEU/xNP+9GPf40iY33oOYF0wDwy1m2qFl4Y7RpAYYT4ftUzk6Flsacux00GfCKJHaUJz09gAaA2g68IYfDGGYFM6EOREaNsCmXe2Sw0kNNtnHweTIb50reHqYAgOx6sbBJtKAJbZs0NYABgLQasbJVUtEEK+BJ/jQA7CoUVDRUtEkzAih7FQKAmnZpRZJhhCc5N5guaRaTtUI7j2/zof1sCQDIrBX/m8Y+GKOIcSEBQMKwXcMzBDTo8dQApqgFJ2mFwW7UWG/KaPmuQp4gULw7Geeh2r1164oNx3XIwtbN7T/vvFPXgb9MNmsOdJkbJjgo6O4777yoMb+gYP6iRTqdrk9MujrOjujJpb3agwS4mjO0ixf7DTgvu5dy7oPAboIg/v30012bfVlM/jpZ88MPi++4w8ba2sfb+88NG9xcXfvaot7iVpHVJ557zi80FCF0NiVl99atsTExXS/9lM4eKOYfG8IE2BIAcLBE2JTLPzlU4WdjGvr8mM5V6qRnElRMZ3LdPzVCE4vuiVKcqRYAQU07nuRHUQQAQDsPnycbfG1gSRQDAFvz+ZMVwssjLbry8q7OYFtY6aFB5xIstXF4ZYrBywbdE8kAQDuPN2SxegHPD2FC7ImyFun7M9ycICbOleRF/Mnfel8bYkk0AwBanXSgRPCzJfMbhRGeFEWApklMrhIcLYkGA54VzADAvmKeF6FKh2cE0Mbp3BYWf5HMhjmQ90QqDALeX8wjhAa7UuGOBACUtYhfn2bvCKNGe5tmp3cUcBYUbuFwvDvZykqHSvgAG2JaAA0AHRzeVchzEoQ6kMM9KADYXyIg59Dlq3Y8/8wzH376afyoEeN95SCum4bPly/v7vyy98CBsVOm5PfXKtNowiiI6a1UFQLGFaxB101TbaeOt5kztZc6vSqvvfjim6++6ubq+sXy5dMmT+4rM64XpVK5dvXq5qqqkpycfui63IMMfFnVVlWFxcb++NNPH773XnpSUmhw8PmvJlbyJ7XioihFiD0JANvz+f+ls4/FKSKdTNO567O5jFrx2XiFdefY8mAJn1cvzAmiG/VSXYfUxuIp/rSTBQEAggQrU/SWNPwrVgkAh0uEP/O5Z+NVjp2+IJtyuYJGadkgxq5TVQ0CXpXOAsDSGNNOv2Vx1e14UbgixIGoaZe+TeXiXMkZQRQArDjFqhXosTgFAHRweG8RH+5IZtaK80MYb6xWk0sAACAASURBVGuipl3aUyR4WRHaNtE4UD5ZKdZ24BYOT/ClfG0JAGAF/FUy62SBHh6sAICDJUILh6KciCFuJAA0s/B5MjvWm5oRaPq0OzW8ikF6EfnYEAyJdml4Rws0M4gCABHD7mKhnQM3S2KiLwUASZXCmSrR05qaGUh/8M476w7m6DvaE8Jdf163rufPq0wvYG9nt+Hnn7v7LqWmpUUnJLz21lvdozv6HoIg/u9lZNfDBQAwgE4SSgzthgvzFAKA0t/H5cUnera7S1twGRBCb732mraw8KnHHut1M2Sun76NSOt1Nv7xh39EBEKoqrj4+aefBoCkynMPnnmN0g+p3F1hzGhPCgAya4WtBdyMQDre3aSpf2n4I2XCv+NNfrkAkFotHCkTx3pT1grIrBURImKcyUA706vfn2E7ePRYnJIiUVqNsC6L+1esMtje9OrBEj5VK94byfjamo4vSHh9Dqdtw/dHK9Q0AMC6LC6/QbovWhHiQLRy+OdM3laJF0cyAPBVMqsX8AudC7R7igUnCzKnXpwRSLlYEh0c3lMk+NigslZpbghDEZBWI+TVi6yA492IUAdTj+8c1xMEPB6nAIDUKuFgmRDhSIzxpgCgncefJupDHchFESZN3VcsEAgDBhUJbmrijzxeQaEFoYwlQwDA7kK+icVqBoxLvNn10v4SwdECzQykEIIz1UID2L+5LnnmzDn3P/zwvQ8+aBCwQRjAbgoDhFEjRqxdtap7vlaWZd9fvtwrOHjmggV/bt8uCFcLpjInNIV++QKsLHvqeDpR0Oh1WtbQPccEZWvj/c3HyAz5bGU/gcvS328jfSKrxi+l16+a199+++4HHpg5dWp2aqpxkf/lQx1aHW7nAQBqOqQvk/Wzg2njLGVxk7gyhZsfori7U1SOlfO7NcLjcQpvG9O3pGmS/sjlQhyIKGdyb7FgSSNnCzC67QDATxlcSYv0+BDGikFFLfiHM9y8EHpYpxNTklY8VCZMCaKNC5ZGthcKJc34nkjGy5oAgK15fLJWWDpIEWJP8CLemM3Vd0j3RSmVFFqdwVa0Sa8MN2nq4VJBlLBWJ03yp31sSADYUyxYK1BRE54dRFszSNMkJVYIABDpRMa4mCz8NtWAEHogWsGQSNsmbczlBzmTUwNoAOAl+DKZtVESD8ea1o8PlQqsINmpyFYORzmTG3I4wNIdYYyjCgHAgRKhpl2SJDwtgGZIVN4qrc9i1TQsCGOUFCprEQ+XCawEk/3pDav/t/r77zdu3hweP/xYQWPvnGqZnmT+nDm7t261t7Pr/pIoijt27553110+oaH/Xb1aFC8eyfUZNE18/T7c6Ji1VRQqOH2JoaPY0KExtGu5SweKMW4u/uu++yeBqv1dEG4O+vsTR5/Iqjm+lEeffnr555//++mnN61bBwAdPH79iN7TmpgXQlvSUKXD7x/TJ7hRc0MYAGgy4M+T2fF+1PRAkwJl1Igbsvk7w+mu2eB6Pf4lg3W2JGcHUvuKBQKBgMHo6AsAm3K5FC3/ZBzjbEGUt0pfJetHe1HTAk2vptUIu4u4Qc7kWK9zD7k7NFx+nTDBl4pyJgFgbzG/t5h7KFYZ6kAAwA4NX94q3RfFuKnRplw+tVp6aYRCQSEASKsRS1vEDgHHu5Mh9qZYIEHCNe3S7CDaVU1U6aRdGo6hUaA9Ed+p+j9nspom/Gy80k2NeBH+l845WaCFoSYLv0tlWRE/EWd6pDheLjQbsK8tmdcgDveg/sjlEMCCUNMTxokKobRFbOPwNH/aVomaWbw2i2cotCiCsWagg8f7inmaQKO9KONy9ZK7735/3Ynqau2iyYP6c8CGTBcTbrst6ciRsJCQy+2grap6+IknJsyYYU6rroKLE7HiDfDxvK43cVgqNnRUc4YOUeSwxGNJukyorvVtI/1+/YZQ/6MxcX8XBJmeYGCurT7573+v+vnn/3vzzQ/feQcAGg34o78NTir0RJwSAHQc/j6V9bWj7otWAEArhz88aYh2Ie/szDhY3Cz+kMZOCTjntqPn8bosDhAsjmSOlosEAppE431N++8tFo6WiU/Fq7xtyJp26YczhmA76vyp1O0FvLslOTPwXDjN5jwuq06KcKJGe5mCZDbl8EtilBGOBADsLxGyG6SJfnSEE7mnSNhVyD0bz9grCQAobZFOVwmAULADGeNMAkBipUgSuIPHo71oX1uihcW7CnmaJCwoNLpTxTfnckmV4vMJCgcVAoBfznJ6Hi+NUSgpBACrM9jSFumJONNmslaoaJOincmjZcJt3uT+Yr5DQJP96DBHEgBSq8XcBgkDTAtgPK0JEcNvWVyLQVoSxRgdp/cWC3oBhTuSg11Nve8q4isZ30NHTzs6Oo6cMKG3l1rlAcHluK5vJjAgIPHIkTsXLrzCPjm5uf/QpB7G3ZVY8SYaN/IadxcwLmf1fLea5BdBWlq4Pf+Y+zsvIblc8a3Kdf12BqCsfvLFFz/8+ONbr776/DPPAIC2TVqZwlrRsGyQydPnm9MGJQlPDFEAQH07/vwU66FGD8acl6ghhUtwp2YFnguA2ZTHZ9SKD0QzeQ1iYbNYr8dT/Ch3NQDA3xXCXwXcfVF0sD3RzOI1mZwFje7rTBlR2Sb9XclzIpobQhvHmgBwpEyo00nuVsQEPwoADpUKP6Zx90Qy8W4kAJysFM9Ui5FO5Ggv6u9K4Y9crit+tJXDe4sFQMjXhhjmTgHA2Toxq15AABGOZLgjIWLYkstjjD2t0F2dKRJ3F/J7ioRnEhijJ/DOQj5ZKzwxRGF0m1qfzZ2tlZ6IYxwtCABIrxFyGqThHtTeYn5aAJVSLdV24GEe5GBXU4aK09UCiWCwC2lcM96QzZe24AcHKYzz2EfLhNIWyd0KdTkAn6oUDhTziyIUCYFOZ06ejIiKffr559/76KPeOv3ygODyXO83Y21ltX7NmkO7d48fOxZdKpfQvNmze8SwnkRtiV5+HL3xLLhfLX7Dw80wLJb08rjCLoiirG4b4fPDCpvZfeb3K9MfuK7fzkALfjiYlPrCq68+umzZKy+8AABlLdLPZzkSwX0xSgsG6QW8OoNrMcBzwxiaAF6Eb1MNIqDHOpMftbD4+zTO1xbdG3VOU3dohOw64dmhijYOCpqwmibi3UmjipytFX/L4eaFMEPcqA4eb8jiDDxeFquwpAEAmlm8OY+nEHF3DO1kYTovf1cKBY2SgNFEX0pFIU2TtDaLHetNGf2GzlQLiRWCoxIm+lL5DeL/0ti7I5jYzuXY/cWCKEnetqQxZrS0RTpSJtgpkac1McSdAoDdGo6TsJ3SlCkCANbncAeK+UcHq4LsCABIqxY253BPxquMmaT2FXEpVeIDMSYvqrxG6VSVON2fPlgmjPKkchqk0laTwANAUbN0uEywViBfGyLWlQKAnUV8Wo1wf7TC6LSVVScmVwm2SjS1M+Fwdr24MZef6EcPdaMAILeFefHbnR8/Puub/63q6Oh4/+23e+1CuHXp8QIXt40efdvo0ZrCwh/XrNm+c2dxaam1lVVkePhdt99+3+LFPdpVj4FGDkUjhsC2fXjnAVxZBfyFDlYMgyaPRY8vsSYIK16oevOj1pOnQDpvQIIQZWujCg9xeXoZ5epsZuNvWm6a2iq9DcL9OIXKDWDv4xfgH5h8aB8AFDeL67N5VoT7o2hfW9Ig4N+yuMJmaWmMwt+WwABfJRtq2+H54UpbBQAAL+KvUli9AM/GK4wJCwHgZIWwvYCbF8K4WKAdhYK1AvnbkcZsSkXN0ookwyQ/ak4wI0p4c56QWSPcHcUY3W4FCX7P4SrapIl+dJcunq4SztaJBgFu86FCHMgqHX7vRMd4X2ZBCA0AeY3SjgKWl+DeSAVDoXeP60d7UQtDTQJ/qJRPrxH97Mg5QTQANOjxplzekgYnC1Pe/CNlfHa9pGbQghDaaH96nfhlkmFOMDM7mAaAOj1+44h+VpAp6cQprbA5j58bzAz3IAGgtEXcViAsCKGTtKKbmujgpYxayceWMMbqVOmkLfm8nRLZK03dJVYKv+dwiyKYIW6mXEurMzjAcH80425FAEBJs/jVaW6oG2kcN2uapEOlQog9mVVas/zRyQjg8Ycffu6pp8xyXcjcwnA8nEzByWm4pg4oCkWFoXlT4UK3I316Vv1P64X6RsreVhUZajN5HH2da7QyMl0MKFm987779h040FhZCQDFzeLmXEHC0swgJtyR5ET8Z76gaRSnBZpE7udMLq1GfC5e4Wltmglflc7mNUrPJyi7RpaZdeLas9wEX2qIG/V7Dm+tABsFMmZC0LZJH/2tH+ZBG9dQdxfyyVXCZD8qwcM0UNtewOU34qFu5JjOBdrMWjG1WiAIItQeDXWn2jh466g+1pU0ZoEob5XWZbGWNDnelwyxJ988pvexRstiTa6/6bXiLg3va0cuDKEpAlgBb8rlJQA1jYwZEE9XCScqBQVJLAyljQuoJS3iByfZ2UHnglBfO6wPsiPuj1EAQEat+FsWO9qbMRarqWnHW/L5yX60plEgCNSsxxU6wUlFLgillRRqZmFLLmupICgE80NoAMhvlL5OYWcE0pP9KQAwCPjnTLaZhVlBdJgDCQC1HfiLZIOXFfmvwQwCqGnHv+dwgfZkbbs0J5jOPP33tLlzKYr6fe3aiePG9e5lISMjI2NGBs7aqqaw8Pc//vj8448BoLRF/DOfpwg8yY8OdyRZEbYV8BVt4igvyqipm3O5rDrxX4PPaepPGWxGnfRoLNOlqYXN0poMLs6VGudD7ynibRQAAJP9KABo1OMVp9hIZ5OmHi4V0mrFYe7nNPVgiVDQKIU6EF2amtcgJmpFtYJwV6Oh7pRBwB+e0Ic4EkZNre+QdhcJdhaEvQrCHckVSQYbxTlNLWsR/8jjrBVoRoApl9PuIkGQMAIwampeg3i4TDDweGYgZdTURgP+/BQ73vecpq44xdoowKip+Y3S+mwuypkyamorh3cXcqM9yep2qUMAZwtU3ioSgKYF0EoKsQLeXcipGcLAS1P9jRosfZWiH+VNGTUVAPYWCy0sGutt0lQdh1elG6xpdE8UgwA6eLy7kPO0Imp04qwg2kaBIgYPH7bg8Yjw8GdeeKGXrgcZGRmZPmHgyOpdS5ZERUTcd/fdlW3S1gKBIWG4Jx3rSgkS/iWTq9FJwXYmkdtbzKfVSneE0SGdiRqOlAnpNeJ4b8rXjqqoqnrgkUeU9vbfp7J01enbw+g9RTwC3MLCFH+aJFAHj1eeNnhaw7JBDAAkVgrJVUKgHTGpc0ExqVJIrxXd1IRRgwGguFncVyJ4qBGBYIIvJUjw8d8GZzV62OhFxeM9RQJNgJcaLY5g/pvGNrNSV9qHdh7WZ/MMAbeHMVYMAoCDpUKDXmJFmBtCA0Blm7Q5jxclmB+qMK6YChJenshGOZ/zbf71LFfYJDwTrwSAshbxp3TW04owRtewIt5dyIc7kjn1UnGTGGpP/J7DSRjmhzLGBMJ7igUCQYMBTwtgLGjUweMvk9loZ/r2zuCco+VCboMY40wkuJtyCP96lms1wP0xjDHHxe4igaFQk0GaFcTYKVEHh3/JZOPvfLGqts7FxeWdDz7o3StD5grIbtMyMj3NAJHVv5OS0jIyfvz223o9/kvDUwjFuNAJ7qSEYbtGIAmwVxHGFcHDpUJiOT/Jl4pzM2leVr24JY+fH8oE4aIde/cuvPvupJQUR5+w/K0fY82BB55/64t3/735l+/c2jLtlAgDfHvaQCF4NFYJAGk14skK0YZBXXn2s+rEExUCQ+Ap/jRNIgCobJN2aPhQe6K+Q5rkS2EMn51iGRI9PfRcviQJsJKEyX707znc2Trx1ZHnFn5+y+Lq9dJ9UQrjMPqUVtA0iu08zAlm1DRq5WBrHkcTMD2Q7kr29MHfLEXgLt/mvcXCiXLh1REWDIlq26W1WYKVglgUwRhTHO8vFlgB7FREowEHORA7CnkbBRrjTXkafZqKeYOAW1gY60UaDfgy2WCrRMZHCgDIrBVPlAneVsTkzqeKjVmG4mbpwVhTaqp9xXyzAXdweFYQY69CIoa12ZxWhwe7Uv958QWOZT/89NPGpqZeujBkroLsYiIj09MMkLXV+DFjOvT6pJPJm3LYNh6inEy+sn/m83oe63hYGErbKdHxcuFYGR/tSs0IMGlAeav0ysY0NuWXkwf+4jhOEASCIGxtbUmSbG9vr6mpIQjCysqKIKnJ48etXbXq+1RDWav00ggLawZyG8RdhYIo4bsiGM9OJ52NeQKWpLvCGB9bEgDqOqQteXyYE5VezS8MVbiq0coUtk4vvTxcqaIQAOwt4uv1uJXFd4QxaTXir1nsayNVxiwKALAtnztQwj85VGWUzOx68WCJQCA82Z8JtCMkDBuyufI2abwPNaTzKeHTUywn4FdGmDQ7s0788Qy7OEoR70bqePgpg63VSQ8NYrxtSAA4WMKzIsS6kJty+cn+9MlyvtGAb/OhjCGnJyvFshaJFaSh7rQxEf+3qWx1m/Sf0UpjnfPyVml1OmetgKWDlMacyXuKhMNl/OIIJsrJGFMrJFcJSgrNCWaMtdDXnuUy6sSJvnRNuzgnmBkSHxsSFDQ0Lu4/L79slitFZoAjSRLLsizHsSzLsqzBYDD+zXGcKIocz4uiaEwOJUmSsUg7SZLGf0mSpCkTSqVSoVAoFQqGYRQKhYJhlEqlcU8ZmSszEAJscvPz09LTN/766w4NV2+AOBeTpm4r4DGGBj2eE0zbKVFKlbCzSPC1JqZ1jqtaOXjp/z7+43/Ll9x3X2hoaH19/UsvvbR48eIff/xRrVZnZWWFhYVpNJrExMRjx46t//33rMLSUc9veGOCgzUDpS3iDg2vINFkP9qoqXUdeJtGoAFPDjRpanmrdKCYj3ahMmqEKf60qxqtzuTKWqWXR5g09XiF0NCBdTxM9qcrWqVfMtlHBiu6NDWxkt9fIjwYozRq6imteKKct2RQvLtpYLqrkCttkUZ6ndPUH9K4Jr303ljTYLeoWfo+lZvgS8W7kSKGP/O4+nZxUaTCqKlJWrHJgCf7M5ty2Al+9Nk6sZnFQ9xNmnqmWihukmgShTmSRk39LZsraBDfuc3CuL7bxuFNeQIALAg1VT5P0opHyrg5QSZNzaoTj5YJKgbNDqKNmvpnHpdeK84PpZMqhXnBjIKEuXc9kHP6+Kqff5ZlVeaGEUWxQ6+vq6urratrbGqSpKukd+j+9q5/9ZffDSFkbWXl5OTk6uJiaWFBy6khZC7DQBitLn3kkc1bt/58pCyjVhzrQ43xogBgez5HIFTbIQ3zpMMciOx6cUcBZ8kQt4czTirTzNfMJY/yrdX+/v6//fbbu+++++STVypKfOjQoWXLlmm12h+/+Wb8jIVb83lAEOlIjvCkAKBeL+3U8M0sJLhTxiVGPY+35HG2FmSzXgpzJGNdyA053LEy/uXhKqOf1JlqIadBQghC7QkXS+K9E4YZQcyMznhTox/vwlB6kh8NAE0GvCmXb+iQRnlTozwpADhaJpwo54e4UV1rumuzuNNV4jujFWoFAQBVOmllisHLingkTgkA2zV8WrU4LcCkwZl1Ylq1OC+E3lnI+9sSDXqc0yAF26HpgQwA5DcaI2LBQYXG+dAAsLuQ/yOX+88olVdnhuR1WXxRszg/hA53JAEgo1ZYn82P8qKM0TtlLeKqDNaSJu6JNKWh2Fss7ivi7o5kztaJ0c5ktDO5rYCnuZY5IwNjY2Lefv31qZMm9eBVIXPTcn3hjw2NjYmnTuHLZBzsJRBCYSEh/n5+5uxU5mZhIKyt/rFt27AJs49X8JP8aaOm7ijgFBToeBzlTIY5EMXN4l8FgiDB7CC6S1PvfOSpxsqC2tpavV5fUFBwZU0FgHHjxmk0milTpix99NF/f7BSQYKXFTJqKgAcLRMLm6RwB5PbjijhnUWCvz0liOBtQ8S6kDs0fGKF9PRQk6bmN0op1ZKSAldLFOFEfZnCJbiTXZqqF/BXyew4H8qoqaIEewp5AnC0M2nU1C253NEyPszpnKZuLeCPlwvPJyiNmtrCwm/ZnIJCd4QrAOBImZBRI3paIaOmapqkkxXCtAD6SJngYkmwImTXSR5qNC2AAYCKVmlPEe+oQkoSjJqaVCn8epZ9dIiyS1P3FfPFzeJEP5Omapqk37KFCEfCqKlNBrwuWyAQsTjCpKknKvg9ReyCULpKJ3lZo2hn8mAJzxAwLcJx1vTpfj4+W//6q0cuBpmbn+tb7z2blWVmTQUAjHFhcbGZO5XpSXrzkrnpZfXIsWN6A2sRf+8doYph7iQA7CzkFRTBieCmJoa4UTXteGuBQBF4TgjTFU7z+qdfnz39t4eHx7PPPvvTTz85OTldY3dbtmzx8fHZtuqj3OSDXW5Ke4r4Kh0e7EZ1Zd7fWSg4qkDHSgoSj/KkDpfxh0qF+6LoIHsCACpapd2FvLuaQAiN86E/TdK7WqIl0YquXj5JZP3siHPZB4t4nYCtFGhqAAUA+Y3SmVrRwYKY2VkY4FCp8Gce+9QQhbsVAgBehK35XBsrLY5Q2KtQslY4Vi4MciYeiFEAQJVO2l3IT/OnsupFAGyrRImVgrUSpgUyCEGTAe8p4r2sECfhaYGmNA7/TWOXxii7klokVfKntOIQN9L4hWvbpFXpBi9rdHsYAwCChL9NZds48YFoxuiZnFYj/pHLzQhkSASsCGO96WSt0GgAY/Gc4RNmNjQ17T1w4EZOv8wtz6gRI+JiY22src3Wo4WFRURY2JiR15p5WKY/0pvOejf92uqH3/8ClPLlBcOGupMAsEPD13VgL2ugCDTGm2rjYFchRyIY7mUaVwHA2gOnP3jr5dDQ0Keeemr06NHX2+Prr7/+ySefHv3tM+LBaQBwvEIoaMR2SjylU1P3FPFKEhQU0aCX5oXQp6uEnRphdhAV60oCmHQrxIGoahPvCGO+S+VYAV4ZcU5Tv0nlEAJjVQAAOFImaHUShWBaAEMg0LZJazJYF0t0X5TCuMaZUi3+nMn+K1YZ1vkBdxbxWp041Z8OtCNyGqRdhbyvHTk1kAGAFhZ2ariJfkxth1TTLg1yobbm84DxjABGTQMn4j1FvL2KaDRIC8MUJIImA/4qhZ3qT3fl+M1tEPcWC362pNGzupnFP2dyahotCje5Fv+WzTfq8V1hpmp3+Y3SmgxuvC/jZ4MOlwpzQ5icBvFsnXh7uGlkLPhPOH7yKWdHh7yCgpCgoOs9HTK3OCRJurm6urm6GgyGDr2+vb29ta1Np9Pp2tv1+isslV4rCoXC0sJCrVZbW1mp1WoLlUqlUl0yQ7KMjJGbW1b3FPGnThwaMWpMggclSLBdw9sqUIgDUa2T5oXQgoR3avhGPY5yJhM6K5OnatnHl8wbNmzYiRMnbqzTe+6555lnniFJsrCoqNXC+3SVyBB4aoCp/MuhUkEQsac1cbZOnBtCn60V12dzY32oMd40APAi7CniPa3IyjZxqj+9o5BPrxE+nnAunGZFsqGiBX8wzqSpp6uE7DqRl/DtYYwVA60c/JLJWlDE4kjGmHY4r0H89jS7OJwZ5mE6lfuK+eImcZAzleBBV7SKv51l7ZVobjBDIuBFvKuQj3WlJIwza8UIZ2pbAYcxnh+qcDUufxbxFAEVreLCMMaaAV7EnyYZopyIhZ3xr1U6aV0WZ6eAOcEMAHAiXneWa2GlJ4YojYn7txfwqdXio4OZYHsSAMpaxJUp7AhPapwvvSaDnR5A6Ti8v1i4PZRW06hRj1dnsIEudnGxgwiCOH3mjCyrMjeMUqlUKpXnl4kVRbG9o6Otra29vV1vMHBGl2CeFwQBYyxJkiiKCCFjzXaapmmKUigUDMMolUqjlKotLXvMNUnOmHvLcHPLaoxlY0t99TNL7+7g8Y5CwdUSqRnIqReNaWx3aXgdh72siUmd48i6djx7zjQFTd2wphpZsGDBwYMHf/1zl/WoZbwkzQtmjLmNTlQIzQYc6UQdLuPnhTAVrdK6LC7IgZwZ2DVdzKkZKGuTbvOmcxqk3YX8qyOVxiQPAHCgVMiqER+NUylIBAD5jdLfWhEwTA9k3NSEKMHaLLaJxY/H0cZa4tXt0lcp7IxAumuF9Xi5kNckuVgSE/3oFhZvyOERQneEK4yeuruKBA8rwlGFthXw0wOYgyV8fQdeFMEY/YoPlwodPGpmpamBtHFB9LNk1laBHhpkGkm383hjNgcY7ghXWDEAAJvy+Mo2aekgpXGy91iFuK+YXxarNBa3qWmXVp7mBrmQd4Uzv2VxIzwpOxX5ew471Z9yVRMGAf+cyUkYTfKlz44a9fepU2ezsv7JSZGRuQiSJK2trKytrPraEACQNfUW4uZeW01NS5MwHjpi7J/5vJcVcrIgUqvEaQG0ikYHS4XKNowRTAkwSZqI4b53/9tcnvPtt9/8w35nzJjR0dFhaeeIQZoVaIoBTdYK5a1SjAuxp4if6k/rWGl1BudnSzzUmZbheIXAS9CkxwnupF6EdVncw7GKADvTMDqzVvw9m31okGKIGwEA2jZpRwFHAoz0ooyy91MmW9YiPTRIaZxcbTLgTxLZeHfKmKQXAFKrhMx6EUt4oh9NINicy7Wy0j2RCvfOxA5KEsIdyd3F4tQAJrVGaOXxrCDaWLQ1pUrU6iRewgkeVJAdCQDfn2F1HH42Xtn1qbfmCy0cXhRpWjHdVchl1Qm3hzHG2jhn68TfzrILQxVRTkafKfx1MutlhZbGKPYU8a5qFOVE7inkhriSQfYkAKw7y1W2iUtjGEcLNDwhoampSVNU9A/Pi4yMjEyfc3PL6tYdO1xdXfdXMCH2hKslcaCEnx5I2ynRKa1Q2iwJGKb40dadFd4+OKlP2vCpjdpy/vz5/7DfsWPH1tbWivqWsV6UcUUzvUbMaRCHedC7C4WpATRNolUZnIslcXekgkAAAClVyMJ8OgAAIABJREFUQmWrJGIIcqCcLdG3pw3zQ+iEzpnb8lbp+1TDtEBmuGdnkt4i3oKGSGfS6Ci0u5DPbxCHu5sktoPHn50y+NkS93UWsMupF09ViaIEUwMYJwu0o4CraMNzQxRGJ6lj5UJpi5TgQe3QcAluhKZRLGuVIh3JkZ6U8b3pNTyJkJ8tYVTZDdl8bj1+LkFJdl4g+4qFwkZhqr8p6++JCvFkhTAjUDHIhQQArQ5/fZqdFsiM8SYBgBXwt6mcWokeGaxI1godAozxpvcU8W5Wpopym3L4vCa8LNb0iGDlO6iotKy8ouIfnhcZGRmZPufmltXT6ZkKG5cYF8rdivirkJ8eQLmpidwGMa1GFCQ8zofy6nT9/SLZUJJ+Us3AnXfe+c/7tbGxUavVDbVaYwbEnAYxuVoc5UVvzGHHelMOKrQmw0AR6J7OFdCcejGzViQJ5KgiIp3Iz5LYYZ7UjMDOqekO/G0qO8iVMlZ8wwC7C3lBAh8bU6HTU1r+QAk/L8RU302Q4M1jBjWDHo8zjYPLWqQDJTxNQIIbGWRHHCsXz9SI43xMdQUya8XSFumeSOZgCe+gQq0c5NQLfjakMd1gRZu0t5i3Zgh7JRjjhfYWCQdL+afjGVuFad4qsVJM1ArDPal4d1OmiD1F/EhPylggr4PHK5L0Iz3pWZ2eyd+d4VgBPx6nKGvDZ+vE27yp4+UCADaGP+0v5pOr+EXhlHGuuKRZyuqwp0iyUqv956dG5iZETkwsM6C4iWW1olUqLteOSEjwsib+0vATfWk/W7KmXdpXLJAIop3JCCfT/OpPGVxJszTJpZUXhFHX7/p7yV+9Wq026PUAUNwsJVaI432oE+X8ZD/az5b4LZtr49CSSFPp8vJWaX8Jb61AFhQe4019lcy6qdGSSNMoU8fhVemsjQLd29myu5Bv1mN7FTLGn+Q1Shuy+Ql+55ySvj3DWlBoaYxp/7oOvLOIt1USPjbEUHfqTLVwoJiNc6OMklzcLJ6oFKcG0MfKBDWN3K2IU1rBVkVM8acAoJnFewt5NzVBU8i4QJtSJWzLZx+OVfp2hqhm1Yl7i7kgO2QMH8ptEDfnCmGOxNTO2fWPEw3+duQ9kaanhP+dYbVt0lNDFbwEuzT8OB+qqEmsbpemdh5/X7EwO0QxyIUyGv9bNttskCLDQpvkzMC3KPKqo8yAov/L6mWfZNNrRLa9JWFQxF8aPt6NCnUgeBHvKxYsaORrS3TNr24r4JO0wksjVNZWlq2treHh4ddtwqV+9SRJ6vX6ap20s5Af7UWmVIkhDmSMC7k5l6/VSXdH0sb8hc0s7C7i3a1IhND0QOb7MwaDID3WOcoUMazP4hr00pIoRkEhADhWLpyuFhgSOjMziN+cNgxxo6Z2lmD7KZM9Wys+NVThqDJmTIRdGs5eiVQUmuhHa5qk1Rm8v71pKFzXgXcVClP9yPwGsV0APztyb7FAIDQzkDHWOU/WChYKxItgLCKraZbWZHCzQxRxrqYLo6xF2pjDOagIo+tveav0cybnaYXmB5tE9NNEg5JCjw02faJ1WezZevG5BIWdEv1VwI/xpjgJpdWIU/1pkkDZ9dLGHG6MF/X/7J1neBvnma7fbyoIsADsvYGdoiSqy7ZcZMmiirtcE8ct1Wmbss7uyZ7dk7O5zm422U3W9iaOHfcm23JTIyVLtmzZ6hJFUewA2MFOdGBmvnZ+DEjnbMmeOIltKrh/8ALRZjCDC898b3neSwtEAIgR/lYfJgzdWqfWVFfHNO33PjUJEiRI8Bnjsy+r/+WV7NZKWYtFg/a62gxhSY4IAAcHSNDg2VZ0dWn8R//oCHm92/j6MjXXhsrLyjRNy83N/aPsFqU0OSWl2Y2vKpEuTLO8ZLQqX9rdY/T72XVV8QQkprzZZaQqSMN8c7n0cqfRM8O+tdJi9ncCwO4+PBzi9yy2mP0trePkwhTNSEKrCyWbDH6dP9pq1GaI5lRXAHijl5zxkh9eajELjxmHw4PGVJSFDb6hTJqI8GfO606HsKVcAoAY4c1u4/JiKaDzfj9bmiM8264xCjdUSuYyusWNJyMsqPHNTlkVYSRIHzkZu6RQmp9n59P4S52GJKJbapUkCU1H2bPtRqqKbl8Uvwh4vFWf1flfrY2XNe3qI+8P0e+usuTYhL0uXJwqZCahFjducsppKhrw0yfb9MYcaWtl/Oy0uMlMlG12ShUOwVleTinFGP9Rzs7vQyICmSBBgj8mn31Z/V1QShtrylfmSwBwZox0TbN0C9o8N52mfZLu7MJ3LZIXZYsAYPZEDg8P/1E2HQgELBbLkhxpwM9SFFhXJB0awOem6Poy2bSqB4AWD0ECChpwVbF0dIS8N0S+uVLNmHNPPDSAO6bIxjLJNLLv87EjIwRTvrFMqc0QCYPHW40U+aNg76EBengAf225pXguYdzsxoqIZFG4plyWETx/wZBF9LlFSqZVAIAWN6lKFy0SOuFllxVJ+904WREX54plDhEAPhgmk1EwKDSVS+lJaCbGHm01qjPkeQnHlL/aqccwv7NeybaiKOYvdhpRzO5aFM+5vtyhd0zTH8xp6jsDxt4+/Rsr1OI04cMRwjlfmiO2ePA15VJBijARYb9uNSoc6La6+Nl5u594AnRZrmj6KRYXFiKEPnkXukQEMkGChcdn+2J4Actqe0eHIAhbF+cAwEiQ7XGTJBm2VCim91DHFH2xw7ikSLy6LK4Tx71UtSQ9//zzf/imJyYmYrHYlVdeORtjCMHVpfKxUXp0mK4tkC8rjCd03xnAAZ1PRdgWpzSt8Tf78F2LZKc9/uixUXJmnC7OEi8rkgDAG2L7+gxFRJfNtdM8cU7za+wry1VzaXtmHO/u02+r+8gr6p1BginMxtiGMqkwRdjRZUxG6L2LFbOl9e1+nKxAaZrQ4sZNTunkGA1juKI4PhHv3ATpnqUaYWsLpeI0MWKwp9oMq4zubvio8313H5mI8BuqZXOizs4uYzLC71kcn5Te4jYODpC/WKWmKggATo/RHZ3kniXqoiyxc5oO+NkVpUqLBy/OFmsyxDCGJ84ZjiT0hQZVQAgAjo6SC1O0NE2Mmx5zsKbnc84Tg7cSJEjw3/PZvhhewLJ6/sIFVVEAgHJ4pcsQELqpOt5O0zFFX+02yu3C9pq4praO0319RlGp84UXXvjDN/3QQw+lpqZmZOVECGx2yq3j5IDHyLKhjXPh05NeMhhkEQybnTKh/PFWfWOZtLYwLlptk/T9YZKqCmaVUNCAFg+2yqg2QzRXuq924Y5p+o0Vqrku7Jllz7fjjWXyvLP/cS/1a5xwqM8S6zLFN3qMnhl631xL67FRGjb4mgK52Y2vLpMvTJLhAFuaEx+t4/KxY6MEOKzME2syRMb5ix14OsruX6JYlY9W0l0z5KoyxSws2tWHXX5+S61itpweGyGv95AHVlhK00QA6J6iv27VbqlV1hZI42H27iC5qkT6YAhnW4UVeRLl8HSbESNw3+J4Qve1buPkKLXKsCE+SIDvd+OA6EAIJWQ1QYIEC50FLKvdPT0pKSkAsLPLGA6yexrkHJsAAO2TdK/LSFHQvOVe5zTd1WdUpYt33LBNEsVnn332D9x0IBDw+XySo2ibU+6ZobtcpDBFuG/O9qFjirZNUErh0kIxVUWPn8ONeeJ1lfGd6fOxQ/2EM359pWSREGW82WUgJOTakDkm9vFzxruD+JsrLabV0WCAPnZWX5kvzjfktE1S1ywREU+3wKp86cgwOTZKbq9TqtPjH9/to5vK5Wa30ZAtTkXZqTHmdAhXl0oAMBFhLW6sCKg2UzJbSF/rJm4//2KjxTx6AHBilBwbpctyJXPl/d4QOeslm52S2dJ6bNR4ok2/rV42u3dGQ+yRs8aWCmVjmaQTvsdNri6V3H5GKL+yRAKAFy7o/X765cZ4aNrtZ4NBHtTZFqecpgAA/OspYyTI6h2ffFb1ouGzHRFLkODPjAUsq+9/8AFj7OgIeWeQPrAivlBrHacfDBNZFG6sVkyXWref7ezGDgu6oVq+49ZbJ6emf/jDH0aj0T9k0y+++GJdXV11ZpI3zF7sMJIVdHONoogA8RZSIghocY5YnCY8dlZLT4K7G+KKOxJku3uxJMB1VfGJaS0eEsWgitzsVzk9RlrH8K21iml1NB5mv241KtKFO+vj79A7S096icMiiAitL5X3uvGbPXpTuWxqZL+fme007w6SHJsgIjgxSpyOeL45gnmLGyfJUJwqXFpoFnkZ5ybxbbXxyDOY7TQeXJommP0wp7zknQFyWbG0tkACgKEAfekCXVuoXF0SX2f//IS2Jl803SJ3u8jiLCGG+UiQmd1Bb/Xh85PsK8tU8+xMRPi+PiwAv6kmbsT/zHl9KsruXaKmJidzzgkhf8h5+XPlsx0RS5Dgz4wFLKuFhYWpdsdTbfptdbLpn3fcS7tmqFVFVxSL5XYBAEZD7OUOA4Bvr1GSFTRrLV9/493WlLSbb745GAx+vO0++uij2dnZGzdeEzP4jk4DAbq9VrZbEADMarzZg20yVDqEpTniM20GpnDvEtPiF3wab/aQZJkvzxPNFOlT5/WpKNcp31QuyyK4/Oyp8/p11Yq5zgvo8NR5I1VGX5hT5eEgbXbhwmQhjHmTUxoOste6jPoscX3pfDsNbioTO6YoABSkCPv7qSqiLc645Le4MWaQmRQPPp/w0iNDbFOZ0jhXYzXgZzu7DHuScH2VjBDs7sO7XLghWzSjteNh9vBpozFPuH+JDAAG5T89HqtwiJ9vUADgYD+2W1B6knB6nJk+U+8NkSND+K4GxbR9iGDe4jZEAVYVyIuyRABo9uBjo/TbK1VZhGAoJIpi4OOelAQJEiT4jLCAZTWiGQEdrSuR15dIAHBoAHtDLE1FhcmCmaGciZmTVuHWWjU/RWibIG4fuff7/5Ccmh4IBFatWrV///7fd6MzMzN/93d/F4tp2zZt3tmNowQ+N+eRqxPe7MICQEEKurxY2tGFR8PsvqWquWjWCDcLdwtSBNMy8MwYYQwMDk3lckYS8obYQyf1K4tlc5moE/7CBT2M+b1LVdOqaSbGWzy0KkOYiLLNTiVG4NGz+poC6b4lFgCYjrHXe4zLi6VeH5uIsGW54s4uTCm7oUpOT0IAsN+DZzSWrCBz0njbBN3nwkuzhcuL45o6FeU7ugwkwPYaOUVB/X52wkvSLeiGKgkAZmP80Va9MFW4e84u8V9O6nYVfXW5CgCnvCRo8FwbtHhwU7nksKC2CbK7D19boZqhYwBocRONQLldML2Zzo7TVzrxV5fHh+cEgkFJksLh8Mf+PiRIkCDBZ4EFLKvhmCGJ4hcWKTqFt/owYVCciiYi3EwiRjHf5zIwoVcUSzUZgsvHTnhpigI2Cfa/+oIgyqmZeQ888MAdd9zxe02z+cpXvnLZZevyc3NmMldMhOn1lZJpugsALf1kOsYzbUKTU9ndZ7hm6J31SsmcV1GLhwCAiLi5UuyeoWcnKABakyeW2gWfxh85YyzOFm+Zywe/0m14w/zexWqODc1/nIJkGAjwzU45VYHHWvUUBc0ndN8fIlUOQUAw5Kcr8qTdvZgDv6lWLU4TAGBHp+7xcwmhJqcsi9DnY2/0GMWp6Lqq+OaimL/erRMKd9QpecnCRIQ/fd5It6D7l6qSgMIGf6JNkwR07xLFLOV9+JSGCf/eagsAuHysY5quzpdOe+nSHLEoVXD52LPtxroi8YqSuKbu9+BZjTmS0IYyCQDGwvyxVv22WmnpnOgGAgFZkqJ/jAGZCRIkSPApsoBldXZiRMDh8TDf0aFnJSGnQ2ydoGaZEuPQ7CEhjOoypdUFkjfM9rmM3BRhNoaanHJGRsa6v37dllWakpzscDi++MUvLl269Lrrrtu7d+/v3uJXv/pVTKjH1bfhtgd6ZvmG8nihLAAc7McjAeqwCOuLxXcH8bkJeo1TWTynGW/3Y4PymRjbWCYrIhoJsgMerIioJlNcnC1qhP/qjJ5u4fMtqntcxlCA31z9Ucqz2Y3Tk0S3n29xSjk24enzeCrCH1hhMbuJDvaTVAU5HeK7g2RbpdI6jn0631Aq1WYIAHB2nMxEIWrQzU7ZrqLhIHvhgpGswM01yryT/l4XntFga6VcmS6GDP5Cu4YQ/9wiJVVBBuXPXzCmo3DfYsVsp3myTR8N879ca66S+V6Xsb5EPjpC6rLEywql0RD75Wl9SY50/ZxmfzBMhoIMIdhYJksC0gn/xcnYpUXyvP1h2wT9wDUry7KWMFpKkCDBAmcBy2paWlpWuv3VbmNlvlSTKX4wTObn1TS7jdkYy7aijeWyX+P73KQ0TQjE2G21MnD46XE9Kwm9+8K/ff/b337tzd0Vi1Z87evf3rBpy0MPPXTttdd+6Utfmpyc/HfbcrlcmzZvHfROZaalFlYtkeu3rS0U1xbEVfOEl56fJHaLcHON1DnDjns/KqMFgA9HqF/jUYNvLJNzbMivQ0s/ybQK2VZk1g093qoblH91eZI56+bwEGkdp+uKpPmU5z4XHg2x0TDbVC6XpIl7+vAJL/7O6vgU1eOjNIR5Y67U7MFNTrl9ivbN8tX5kumS0TlNPxgmmMMNNWpesjAT4zu7DQT8tjrVzAcDwH4PdvnZuiKpMUekjL/caUxrcHeDYtYGv9KFR0L8/qXxAXOvdhnnJuiDay0WCREGe3qNDaVyxzTNtKJV+VK/n/3qrFaeLtw1Fys+N0EvTLGIwa8plc14+C9O6bnJ4l1zHsIuH9vRqc/4ApTSc+fP//G/KAkSJPh4JGrMPxYLWFYNwxAE4bY6pSZDPODBjbmiGfB8d5BMRDhC6JpySaewz42zrGgyClsrFauCfnI8FtTYd1dbAKD+yu0/ffVUnbP0B3/91zte2tF09dWNS5f6I7iwqOjKK6968oknJicnT59r//q3v1tZWZlfWK4wfWgqsPyLv6jPljbM+SNemKKHBkiqKl5bpfTO0CPDpCAZbZqbK946QQf9RBCgJlOqyRAJ4y1uI1kGEYH5nGfb9YEA/9pyNVkGADjhpUeHSWOuOJ/yPDxIwpinKOiSArEqXTjhpa/14q8tV03NuzBFe2fJFcVisxuvLZCmo+y9QdKQLZpFT/1+eqCf5NqEDaWS0y5MR9lbvYaG+S21yvxsnw9GyNlx0pgdn5bzZi8ZCLDPL1LK7CIA7O4z3H56U7Vslh01u/GBfvyd1ZZ0S7wDtSZTmtE4ZfyqElknfGe3QRm6b3G8AdblYydGCeP8mnLFPDtPnNPCBv/Wynjs2htiT5zTi+1SaVI0NTXVdMJKkODT5GLSkj/wsyRqzD8WC1tWRUHItqIDHpyXHB8UetxLBoMsRuCaUjFVQXtdhlWCoQDb7JTSLWhXHx4O8W+stABA7yw7M8E2OG1Lbv7ee6f6Hvzm1/pcrudeeXPnjmczM7MHB/q///3v5+bmrl25fOcbbzWuWPP6y89UN6xY+60nHUlo65w/4ofD+NVOI0XhN9fII0F6aIAoAmyrjDs99c7S02M0aHCrhNYUiADQ7MIAKIyhyakICHb14bPj9Osr4hp5fpK+028UpqLNc9HRE6NkNEQ1AktzpUVZ4mCAP35Ou6teXpwlAsBggL0/RJrK5cODxOkQJAEd7CdVGfHpNONhttdNLAKUpAlm5e37w6R9kq4vU+atmlrHyfuD2OmQzH6YQwPk3CS5oSru5fS2B7dPsSuLpWW5IgB8OEpf6jS+udJSliYAwMF+nG5BigjeEDPDuU+3Gz6Nf2+1ato+jIdZi9tAgJbniqZB41u9RusE/c4qi1kaHdDhmXYjVYE76+RD774TjMT80UT3aoJPm4tJSy6mz7JwkD7tHfj4UEpjsRgAbCyTzRxh+yTtmqIA6PIiqThNbHHjgA46hS0VckGKcMJLdnYZD65Rc21oJEib3Xh7jXJ6nAgIluSIS669NqWhKfU6clMlT9NG/X5/5wybMKzBgC+LT9fkJjesvOzJDsEqwT0NqkUCAJiJ8YMDBAO6o171aXyPyxARur5KMVdyoyHW4ib1meJEFMwuz3cGcISg6Si7vkpOU+H9Ybqnz/jGCovZC+Ty0T19xKYI11bGrfjbJ2n7FJUFqMsUGnPEsAH/dDy2sUw222lmYrzZjZuc8rkJmqKggmT05HnDrsL1VaokgF/n+9xYEaAqXTSH+TS78UCAbamQTa8lAOibZftcJMMqmEYTJ0bJ4UG8sVw2TXrfGyLnJuiSLOGKYhkA2ifJY2f1Ly5WTEU/OYoDOizKFj8YwttrFUmAlztw1zT93mqLafsQxtDiwUkyKk2LTxM67iVv9eLvr7GYlcmEwUsX9IDOvrnCkqailMyClPQZgSf6VhMkSLCwWcCyahgGpRQATE11+9mHI8RuEQpSUEO2+N4QCWNAwAtTRKddGA6x35wz7l6sLMqWfBpv6aebnYrbx0QEt9cpANA2SVs85LpKaVWRDFDZO8siCNsF2LJGMquKHmvVMeWfW6qmqQAABuXPtOucw7dXqDrhu3sNmyxcUiCW2QWIt6jipTni+Ul6W52iSHDSS7qmmUVC60vlolTh3ATd3Wt8rl41y5rGwnxnl8EBbqyKu1i4fOz9YaJKUJ0pmlnSfz4Rq88UbqtVAEAnvMWNLymUxsIsRuHyIunJcwZwuKVWSVPjrT6UQVGqYEaD3xsi3TOszB734AUAb4i91KHLIrqxWrbJcGGK7nLh1XmSOWn82Cg54yWFqcImpwwAQ0H2yBn91lrl8pL4CNgLU+yyYrnFjbfXyGkq2u/GR0eNr8+ZcgBAixtzDpnWuLvTgJ8+3qp/ftFHC+XXevBwiN23xFKQIrh8rGtwLCPVBiwhqwkSJFjYLOAgcFlpqTE3R2wiwlvcOMeGbDJfVyQd95KxMMOUN2SJ2yqkGOYPndLXl0pXl8qYQosbr8gVIwbzhuPRS7efPd2mryuU1hXJADARYW/26IzD2kLJlL2d3Xg8wu5erJrWSADwm3N4Isy/3Kgi4HtcOEUVFmWJZpERpny/B9dliC4f3eSUs6yoc5p1TtM0C2rIFuoyha4Z9uIF/dJi6Yq47QPf3WfIIrq+SilOEwHAG2K7+zACWJQprcmXAOBvDsdkAT2wPD4upqWflDlEl48NBtjGUunNXhzG7M65Dtp9HhLGPMMaN1c66SVnx2hGEmyey/gGdP5qlwEIbqtTcmyC289e6DCq04XrqmQAODNGTnqpVUGbK2RJQAGN/fyEdkVxfIbrWJjtdxtrCqX3hvDmCjk/RTjhxfvc5PMNalV6XDKb3ThkcEVE5oy5COYPn9avKVfWzyWkD/TjC1Pk5hq5Kl3whthzF4yobyIt2fZpDIZLkOBT42JK4yaYZwHLanZWlmnKE8bQ7DJK0oSQARvL5LZJ2jdDgUNxmrg8TwKAfz2tF6YId9QpANDswUVpQrKCTo+zTeWyiGAyyn55RmvMEU1RiWH+Zh/hAOuKRDNf2+wyOqfp7XXKfLvLjk7D5aP3LFGtCtrTh1MVlJEUd/QFgBY3LkgRxiOsPlOsdAgDfnp4CCsiKkxBq/Ill489c16vzxJvqIwPb2nxkBjmawokMwPq1/mbfUQAtCxXMjOyT7XphMMDy+cnxGGLCFlJaFbjawukN3qxx8euq4ybGbW4cd8stclx24cLU/TDYSIIsKVCMWPXhMFbvTiM+U3VSrldGA+zJ9uMgmR0a60CAO2T9OgIMSjfViHbVcQ5/PS4Xpspme6JUcwPeMhVpVLbBF2RJ1U6BJePvXABb6uQV+bFP/6RYeINUoPyTU45SUIA8POTepldvK02rqnHR+mHw2RjqbwsVwrofEenzjiP+SfsqckJWU3wZ0Ui9XlR8qeV1T/ptViSxRIOhzlAixvnpYhuH72mTBoIsJNekiShzLn2lSfa9Ajm31iuAsDBfqyKUJUu7vfgTWWiw4JimP/yjF5qF7+wOF6b+nI3ngixa+Ys/U57yfvD9PoqZXH2R+0u7w6Qb65QCpLRrl5sT0KYgVklBADvDBBZRJSBTUarC6SpKG/2kHQLsqvoyhJ5KMCePKcVpghm5BkAWlzGTIRVpoum9ZJO4Y0eHNLZmgLB1NQ3e41TY/QvVqp2iwAAJ73Er0FDltjsNjaVicNB5vHRDWVSY64IAO8O4qEgzbCgzU7ZIiG3n+33EMrh+ko5c27Oa4vbGA2xDWXKoiwxaPBn2g2bBJ9bpFok1DND3xuiCKFrK5XCVAEAfnJMS09CX26M7+1+D6nOFPr9vChNbMwRvSH20CntsiJ549zHbx0n3TMsQtGmMsnc4q/O6JTxb6yIH97zk2Sf22jMky4vliiDN3pwyIDt5dTQdavVmpDVBH9uJBasFx9/Wln9k16LOcvLszIzXzg6lJEEm8qljWWyRvihARLDkCTFh47tdZOzY/Sby1VRgOOjNGTAFcXSfg++olgyw62PtuqKiL6yNP6j/8IFvX2S1GeJpkr1+djLXcalRdJ8mc+RIfJqN35gpSXbJu7uw9lWNBrim8oli4QA4MQo8Wk8NxlNRPjGMjlq8H0uw6EiSYDNTnk0xJ65YCSrwh31iiohAHhvCA8EeboVbZorLX61yxgKsKtLJbPM570h/N4QfWC5Yjr87XEZXdPskiK52Y03OZXJCP9gGDdkS+ZC+cMR0jtDDYq2VsgOCxoLs129WBagySmX2uMn+t1BfH6Sri6QVueLhPEXO4yAxu9ZrDgsaDDAPhzGqshX54s1GQIAPHxaMyg3m5EA4NAASVYgYnBF4JcVigEd/vW03pAl3jq3DO2bZcdGKaZ8Q6lcahcBYGeX0eOj31kVfwe3n73aRUrThOsqZADY5zJGQmxbhZyCp/Jyc2VJwgmr/QR/ZiQWrBcfCzgInJubGwgG1+aSq0pkAHBY0F43yUlGRanC5koFAFrHyb4+/UuNSrZNaJ+ifbOkySm1eEiFQzS5mOpXAAAgAElEQVTDrY+c1iYi7OvLVdOJ/sNRemqM3lqj3FwTd5b/9Vm9IVvc9tFENvLYOe3+JUpFGuzqNYpShbEwu6ZMMttjOqZo9wxdlCUeG6UbyyUBwctdhk6RTvlmpzwZ5Ts6MePwuTo5IwkBwNlx0jHFEfBrymSz9PflTqN9kt5QHa/FPTdB3+oj11fKi7IkABgMsAE/X5ojvj+IG3NFzvn+fpxpE5rKJQA46SXtk1SnaFuFlJss+HW+z4VVCVbNxZbN5xwdIYuyRNNF+ZVOo9/H7luq5qcIExG+14UFUahIF8wKqafbjZEQ/5vLkszXnvISn8ZSVeTXeJNTIYz/6oxuk+GLjfErkrEwa/FgSYAVefF2mveGcLPb+MZyNVWN99s8d16zW/j2WkVA8O4gOT9FLyuUludJY+Pjebm5siwnVqsJEiRY6CxgWS0rKWGMTU1PA8BsjO91k2yrwBhsq5AFgAE/fbETb66Ql+ZIbj/7cJhsrlCOjZAkCUx3pFe7jI4p+p1VljQVAUD7JH3uvHZ9pWwuEzXC//G4VpiC7qyPxz89Pvpvp/U76tTGHGG3i5TbhZkYr8sUqzPiLaSHh8ilxdL7w3hjmZxuQc1uQxGBcX55iRzB8Fq3QRnfXi2X2EUA6JulHwwTzHiTUzEbTl7tMg4MkHuWxL3pO6fZq13G2rx4Ke9khO1z4y0V8lCA5qcIKSra2W0Ag+srZYuEzoyRcxOUcnRNuVRqFw3Km12YcqhyiGvm1tkdU3S/GxemilsrFADY5ybtU+yuBqXCIQQNvs9lpKkoQwXzGuW1buO0lzy41mIaP/XM0PYpWpIqdE9Ts+7pN+eMCObfXRU3agoavNmNLRJUpgur8iUA6Jlhz5437l2qVjhEAAga8FKnQQHurLekKujEKD42ipdkS+anO/TuuwCQkNUECRJcBCxgWa2qrMQYT01Phw2+x2WkSIAZ31YhyyJMRflj54zqdGFbhTIR4c0uvLlcettjzMS46W10wEPe7iffWx33YRgKsH87rW+rUK6aK1V9+ryRqqDb6iySgABgOsr+9ZS2oUy5okTe1UfK0oQI5jYZTA2ejvIWD9nslA8P0MYcscIhvD9MJiMwE4OtFbJNgl19mHJ+RYlcnxWforrfg2UBXV4UH2D3SpdxaID81VqL6eLr8rFXOvWiVOHGGhUAIhha3HhdkTQQYLKIFmUJzS5CKNxcq+TYhNYJenaccoDLCoWaDBEA9rlJhECWTTB97QFg0E9f6TJSLeiGKlkU4NgofX8I31gtL8oSMeXNLpwkIwGBaQpxcIDsc5HvrLJkWOKrzAP9pD5TOjVGN1fIVgXt6DS6Ztg3VijJCgIAxqHFjTmDfBsyVdmv81+e1bZWKpcVygBAGH+tR/dr8IUGS14y6piihwZofrJgbm4yyjpCthXLlrk8nmMnTnyC36AECf7cuFgyuZ/tz7GAZTXd4bDb7X/793+/100kAXTKt1XKVhlFDf7cBcMmozvrlZDBm93G+lI5jEEncGmhDADHRsnOHuMry9SKdAkA/Dr/+SntilJxW2VcU1/vMTqm6Vcb1bxkAIDhEPvZCW1xjtTklN7sMZwOQRZgOgbXlMsAoBHe4jHWFogeHyu1CyvypDNjpHuGRjDfUiGrEuxyEQS8NjOeoI1hfqCfJMmoJjPekPNyl354ED+41mJOjR0KsMfOxhQJba9RJAE4QLMb12SKYcx9MXZ1qbTfgylnWyrk6gyxdZy0jhFJRMtyxCU5EgAc8ODZGFMFaJrT1Oko29GFRQFuq1PTVHR+krzZg68ukcxl5T4PQQjFCDeHpJ700ifbtK8tU50OAQCiBt/vwctyxbMTZLNTyrYKb/eTD0fIt1bGr0gAoNltBHWeYolniAnj/3hUq80UbqqOH8+9LuyeZTdUSZUOYcDPXu/FSTK6vkqRBAgavMVNrNr4jJTjyCtbs2rVJ/Pl+VT4bP8UJPhz4GLJ5H62P8cCllUAuOryy6eCsYJktKVC2VYZn6/yeq8xG6OfX6RYJLSzy6jPFBURjgyTLZVKfgrqnKZPtOl31MnLc0UAiBj8x0e0+gzxjrp4jvDDEfzuIPnasrizvE/jj57R05OEm6qVN7uNmgwh0yqcHqfXzNW+tnhIuV2MYR4y+IZSqXuGHR2lBoUrS+QUBb3VS5JlSE8SNpTGn39ggFDO0y3CVSUSALzQYRwZoj9YazWXreNhtrPbSLeKa/KlTCsCgH0uIzMJaQR6Z1hTudzixpNRtihLWpUvtY6T9immyqjSEU+IHhkmw0GmU2hyykkyAoDZGHvughHD/HOL1FwbcvnYc+3Girz4JPMDHowpn4zQq0tkhwX1+dhjrdr9S9QVc6Hj/QOk1CH1ztB1RVKZXTwzRnb16XctUp1zNVDvD5GRIJMQbCqXzZX9w6d1u4q+2hgvU3pnALdPsmvK5cZcaTLCXu3GAHx7jeywIIPyFjeuzRAGR7wlBXkOlYui+Kf+znyKfLZ/ChIkSPDHYWHL6tamptmJkcuKJLuKzAxliwcPBvj1lUpJmtDsxuUOMT9FaHbjLU4p24pGguxnx7XrKhQzVkk5PHLWsKpovu5mIEBfuIBvnDPF9Wn812e1ZAVur1Ve7zaW5EpldvGAB19TJtlVBAAHB7BVAkeS0D1DN5VLx0fwW70GZfyKIslhgbd6cY4NGZTPLxwPD5LZKOccNpZJMcKfbNNPjNIfrLGUpCEAcPvYrj6MBNhULq8vlcznA0BJGjo/SVbmiSfH6FCQ5dmEjWXy6TFyYYpZJMizocuK4nPRu2eoRnlTuZRljf+GH+gnAYPfXKM47cJYmD3WqldnxKe6vj9MAjpEDL6+VC5OE6Yj/OHT+pYK+eq5SPihAWyTYCbK6rKkRVmix8+faTe2OJVVc6J7dpxemKYGQ01O2UxRP91ujIU/ctI/4SXHRuiyXOHyIilq8F19hDJ+c3Xc6H+/h+QmCxTQxLj3miXFlNKLW1YTJEjw58DCltV7Pv/5WCx28N13zX/fHyadk7QxR1yZL+11YQCzv5NsKpeL00Sfxv/puLa+TDZtHwDgqTY9oLEfrIlrQEDnD5/W1xVJphmQT+NPt2kRDJsrlL1uvLZQbsgS3+7Hawoks3vkhJcGdV6fJR7sx5vK5RiB414W0Pj6UtluQW/04EoHGg6y+YVj6zhx+WkE841lclDnT7YZbj/71kq1KE0AAL/GjwzhqQhdnis15ogAcNJLpmN8RZ7U4iFbK2SXj52fJKosXFMun/DS3hmaZkFpKjL3tnOanRmjAHB5kWwOnwGAZhfunaWby+SGbDGg89+c0/OShc8vUgDglJeMhRgA1GaKdZkiYfyfT2rLcsSbquMlWqe8xKcBB0hT0ep8sWuGPnwqtqZA3DzXC9QzQ48MEQ3zrRWy2f+zqw+fHCXfW20xrfYvTNG3+0lJWjyH2uzBPo1dWSrFffz7sSpClhUdHSbhmbGC/PyErP5OEiHkBAkWBgvYE9jEnpb2Nz/6kSzLPim7I5hkVYSrSvJPeYlP49dVyW/1GCvzpKp0QSP8X07q5Xbh83OVvW91Gz2z9IFlqk2OL+x+ecYoSRHuqFcAYFbjOzp0vw7rS5X3B/GWCqXCIbS4cY5NWJojAkDHFO2ZJk0Vyu5efVO5kqaip9qNkMHuWKTYZPRmL76kQDozTpuccrZVAIABPz3mpaoAlxdLfo2/3U8o53fMOTcFdL6rDzOEGnNl05X3whTtnqZbKpR9bmNdkTSrcW+IGRRuKpPaJulEmGdYBUzj0+UG/OzdQWxToDpdbJibnf7+EDk9QdYVSasLJML4U20G43DPYsUioQtTtHOaplmEFAXMDOtPjul5yeiexXNDUifZ+UlSnCrFKGwql0IGf/GCkWETTK8lABgNsd0urAhoU7lihq8/HCHNbvz1ZWqODQGAx89e78F2BV1XJQsIvXDBmIjyxlxxzVywOophZZ74zHlDEGBiPCGr/y2JEHKCBAuDBS+rpSUldbW1X/vug9OBoBYJ11RVfvfEUeeiFbHZsf+Z7MjMyCjPz6yurByHTGLJuGpVzrnzDntaWnvQembasr06aX5h93irFiPw/dUqAMzE+Bvdeljni7JFl4/cVK0UpgonvDRGoMkpAcCgnx4eIrfUKu8N4iU5UlW68GSbMRpin6tXRAHtc+GtTvmEl6zKF80cpF/nbw9Qm4RK7cJ0lI2FWKqKlmTH22fDGHb3GRICVUTmws7jZ0eGyc3V8vvDpDpDYhzaxqkooKZyqWeGRghk22A2BjdUmQ7GfJ8Hp6mQYxPWFsRP6Okx8t4wWZojmuHuh8/oQwH24FqLw4LcfvbBMClKRYSBGe/915MaAHxrZTwbOh7mx4YNu0WYitLttQrj8Hirporw/TlXh4AO+1xYFdGafLE+UwCAvln2Qodxa628KFsEgIkIe7nTQAC31CmpKvpghExEWJldMIfUnvKS0RDbUqHs6NBlCa22+61WqyBbKGOisLDDJwkSJPj/g1/EV4oLW1Yfe/JJl8fz19///qqtdw/NhNN4eH1D0QxLtiCjxyeKTCtTgzMzM7uOdWJtMF3sfronEo3FJvwRry8qc2M36Jqm6YYRjOoRzVAA/wxjjDEhRJRkASFVVURR/B+SBIJEQUixyH8pS0gQo1RMS5J/wQVJknLt1qkIDhhCQap0QhHGoignWXrGAFWWMm2iIAiiKHomw4o1RZZEQEKSLFAQkhTpVIr4UCxmS04ZDCJZEjEXa7OVdkU8cvxUcsXquizlr15Dsijak6ShMNICU7XVVb0g2+329VdvHArQG6sUhCCo82a3kW5Bqojmp9N0TtPnO4wVueI2pwIAO7uMIT/75kpLXrLgDbF9LqM6XZyK8u01EgA81WaMR/k/XBm3fYhg3uI2yh3iUJBtr1EUET11Hk9E4C/XqHOWwrzZjTUKS7Ljo3XGw/zh0/r6EsmU8JDBX+/GDNDt9XJeMjo3QU+MkgyL0FQe9yjumKa31CrNbiNkwKWFojA9LdvsHj9LrFYvTi7m388EH5uL+TuxsGX17s99bucbb/zdj39c4XRGIhHdMF7DOBgM+kPhYDC4avmy9gsXHA6HbLFl2lOmJEmSJFmWVUVOc6SXO+QkVZFlOYClbh9qzFczrQLmotvPtEgoSUb5Vuaw2y90dJRW1vXMkAo7simIUtY7S4nfa8/KjRqsOAU6+sfyizNXpgDn3OV2L3OWToSpTWV5NmCcc845Y9FohItKhoxEYKEIixpMJ2FstYYj0QCRVZGLwBHQk/0cU+YaHCkIBD2UxTQ9I1nxawwAdC367utTJZX1K1auLV22/oYqWRaBUN7swVYZaYRfN9cd1O+jOzpxpUNsKlMQgoP9+MNR+qVGtdwu+DS+143rMiWXj22vkVUJvdZtnJ0gP7o8af6Q7veQbJvYO0tvqJIdFvRmDz43Qb67SjGnqJpPmIzwqnTh8mIJAIIGPHxaW5SNttcoAEAZ3+vCAZ1vKZcrHUKfjx7wYFGArZVykoxcPnZkmNxSq3w4TIaCbHG2uCpP/OnxSIYjrTZTTMjqxcnC+f1sbe86fPT4d75y76e9IwkWNgtbVsfGxw/s3v1fPWoYRigc9vv9fW63zWollJorUYzxWBA7FIoJwRi/44ndWMeyLJQQMhTki+xcgJx0CwBwznlySkpRTrpio1lWxBjjnOeLdAYHqepoLBBlEeXm5HBAphuR3++3ZZemJfP6bElAgBACAIRQIMm3pNjuSBLNfxFCU9PTOdnZCKGhIC+1i2jufoTQcIhLgjAeYcVyIDPd4Q2xkSBRZvtOnTlVWlp2+Rd+aLbnAkCzhwgIpiJ8e038nokIf74T2yR0W62caUWnx8heN761Rq3LFGOY73PhCofYNUO3OqWMJHRogOxz4f9xaVJ63CsJDvZjUYDxCN1YJhelCu8Pk/eG8Jcb1ZK0uNodHsQfDONVBbIZrKYMHj2rpVnQ/Uvi8eH9HjIcYJcUSY254niYvdGNGefbq9UsKxoNsf0efG2l3DdL26eoOfx1rwtbIZptTwYAjLE5QDdBgk+eQx8c+8eHHgWAfYcOA8ADd99549ZNn/ZOJViQLGxZLS0p+R2PKoqSkZ6ekZ7uLC//HU/7GJemJ7ykNE2Y90P4d/g1brf8oZfoPo075t5kKsq/fO/tDrtd909cVxVvzz04QDTKZ6K8ySln2wQACBl8R4euE3ZPoyXTKpgtqpsrlLWFIgA0e0hBmjjkp1cUSSVp4ukx+mSb9herkpxz0+6Oe4lf55TDkmyxJkPonGZv9hjXV0r1c4PHT4+R02NkUaZ4VUn8nifOaX6dP7jGYnoaHx4kHTO0Pku8vEgKY77HhQUETU6l3C7MxniLG28olYM6PzJM0lXUVCa9N0QAwGnTkm028w0tFssfeNwSJPh4mJo6zy+fefGXz7z4tbvvvCkhrn98LvLEQKJC5OOwOl/6rzQVAP5wTQUAx2+9SZYVLWtszM/Li0QiySIBgKOjdFbjOoFLiySzEJcw/lo3ntX4FxosRamCObJtbaFsGvHvc2GHBfmirDpDrM8S+/3s1+f0uxvUlXlxgeycpj3TVADIswnL86QBP33snHZZoXRlabw2uNlNDvaTJAltrVLsqgAAO7uNjmn2QKNqtvCe9JI9fUZxSrydpsVNQjo358BHcdyqSRX57l7MOVxbJXfO0IkI2+yUI5GIJlinojwUCp1ta/vDD12CBL8v4Wj0P73/V8+8uOn2e3XD+IT3B+Di7qi6mDUVErK6UCgqLLSo6tT0dK/LdXAAd88QgXOnQ2yYm06zu48M+tmN1UpVuuDX4ZEz+qJs6fY60+MXc+CE8WQFVueLfo09dFrfUCya5osAMBJihwZIqoIsMrq8WJqMsF+1Gg2Z4k01cU0dDrLTYzhC+E01iimi7w7SD4fJV5ep5ljWjil6eIhUOMTLiiUBQYsbjwRZXVZ8iOx+Dy6xC0Wp4pt9BAlwc60yq/H2SdpULgsIeifCWExKlkFV1TUrV37yxzZBgm//8H/P367+6XdE60dRE8bYts9/qa9/8JPep4tcei5mErK6MOh1uYaGh9PS0h5/6Y0BP0+ShDSLYI7iAYBDA7h9kl7jlJbmiJjCr85oGUno/sUKABwfJUN+lp4khDGYpcI/O6HXZgq3zXWgBg3Y78aFKQIB1FQuRTF//JyeY0V3z811n43xnd0YIXTvYjUvWQCA85N0j8u4uUapzRQBoN9Pd/ViyuC6KrkgWfhghHZPk8JUZPbU7vfgFFVYliPudRmU803lsoL4oX7S5JRTVTQUYO+e7kiX9KkoJ4SQxLzVBJ8GQ6Nj5g37JUvkjLTaR/6q+p+/i36r3euBH/zt7gOHPqW9S7DASMjqwmD1ihWpqam1i5aOkpQcG7KIsHHOEPG4l34wRC4tEs2m1V+36hrhX11mEQVom6QuH1uSK7pmmWmg+E/HNbuKvjw3tp1zaHEbdgvya6ypXBIQeqrd0Ajcu0SVBAAAnfA3eo0o5jdVx20fXD72zHnj8iLRdEyciLA3erAows01cn6K0DpOTnpxikVocsb9EXUKG0qlZg+ZjbGVeVJJKtrfT5uccl6y4Nf5/n6ysiIvN69gtwuHddrd2/spHNwEf9789sVc7vYN5g3ZkVr/m79Nv3LF/EMP/ebZ853dn/TOJViAJGR1YcAYy87JP3KqdVF1hU/jm+aM/tsmaLPLaMgWTWOH59q1gQD95kqLTYbeWXbSSxuypZNeahooPnpWDxv8+2s+CnDt92AEaCzMNjvlFAW92GG4ZtlXGtX5zO4eF56IwKZyyZxMfm6C/PqstihLvL5KAYCpKLzRjRHAhhKpKl10+dihQUIYbK1QkmU4PUa8IXZtpfx2Pxn006oMcU2+1OIhK/PECofAAfa78fJcATjuD4nXlMlJEixvbPykj2yCP3tGxsbnb0v2lN9+yLZ9w8mNq+f//d7/+odAKPzJ7dlFxMWcKf4PLLBKYJ/fHwwGw5GIpmnRWCwUCsViMd0wKKWcMUmWTfsFURAkSWJzcM7nb83fOer15ufliWLcsUFA6KPbgnCmtXXNqlXm7aHhYWdZmdn9cv7ChWVLl8qyLMuyoiiqoqiqarFYkiyWpKQks6PmdxMMhUa93lGv1zs2Zv5tbWtLdzg0TdN0fWh4ODsrK9lmK8jPL8jP/8vvfCcjPR0AEBJ27T/grG7Ialjf5Iy30/TN0td6cLk9LnK7+sjREfrXl1gyk9BwkO334CtLpA9HiOm8/1KH0TvLfnyFOr8nZt1T2IAmp5KbLDS78Zkx8tVlFjNdCgAH+3H3LLu8SFqRF5+gt7sXWyR0Z308KfvekBGjfHm+tCxPGg+zN3oMBLClXM61oY5pen6C3lavHh0hndMkL0VoKpf3uHFJWtz9scVt5NiE/GTxwphWmalWpguYEE3T/sjfmAQJ/jv+q7xpIKo9dfgkpNlOrl+56p1T5p3b7//626888wnu3YIEYzw2Pj49MzM1PT09MzM1NaWqalZmZm5OzqoVKxRF+bR38E/LZ1dWu3t7Ozo7j586db69fWBoaGp6OhQKcc5FUQTOGWOUMWEehAChJIslHIkwxiilCCFTX0VRlCRJURRFUWRZVhVFUVVVUSilDrtdlmVJkiRJEkVRFEVTcSmlU9PTp86coZQyxgLBoM1qNb0dpqan01JTMcYYY90wDMPQNE3TtJimEUJsVmtSUpLFYrGoqqIokiQJgsA5p5RqmhaNRmd9vqysLFmWiwoKCvLz8/PyKp1OVVGuWLfOfJU/EFjS0BAIBrt7ev7hZz/754ceeuBLXxJF8dGnni4oqbjrfz1zTbmcbUUAMBpiz7Qb2TZhe40sCvD+ENnvNr6+Iqk4TZiK8n1usr5Uah2nlxaKZXaxxY0PD+L/uc5qnTNAbp+kvTMUAazOFyscwkkvOTSAb69XqtPjmnpslB4bJavzpXVFEgBgyp87r2MGf7HKokrxYUHeEKvOMNtpYI8LiwJaXyItyhb7ffTwILmlVumdISe9JEkWmsqVdwdxkghmEdPRUYoZWpYp7OrDBVYiSMkvdRgIoflOmwQJPjHGJib/0/t3nojXpQfTU3qXVFa19Zn/Pvi/f/JPf/uDT2jnFhonT59+4plnXnntNX8g8J8+IS019fpt2771wAMXcWjqsyWrB995Z8fOnUdPnPD09yMAypgiy/n5+eWlpZs2bKirqSksKMjJzs7OyspIT09OTv6v3seggBiOaVo0Go1Go4FgMBwOB4JBfyAQCAQCweDETECPBmd9Pr/fPzk1FQgGA4FAMBTCGCfbbMnJyTarVdO0pKQkVVEy0tNNSRZFsSA/n3NuSmk0FotGo5FIJCLLABAKhymlgiAoimK1Wq1Wq8ViCRE5LUmyKgJlTNc0f1jTYpFwKNDW3n7k6FFRFK1JSVar9c09e2RJMj2GDIwjkUgoFNJ0PSsz8+nnn4/GYhX1y7/90xcuKYy30/g0/twFwyKiO+qUZAW1T9MdncYd9fKiLCGModmNLy0U+2ZZuV1oyBJPjZHnO4zvr7YUpsQ1dTBAjwwTwqAhW1ySI3bN0Fc6jQ3lysq8+Pfh/CQ90G/UZ0nz1cIvd+GJKP/iEiUjCQHAkWHaO81yU+KWhC1uHND52gJpaY44EeH7+8kWp+TX+C6XYZWEbU6pa5qEDLixOu5f6PHR9SXS7j58aaF0huFuv1gW5YwxIeEJ/EfmIm8Q/Dj8h0Ny543XPr/zLc55+Q+/+Nv3Y/KROclQZVFJ75Aa0wGg9UInIVSS/uSOYAvr5B06fPhH/+f/HPnww9/9tEAw+OyLLz730kt33nrrT37844L8/E9m9z5JPhOy+vf/+I8733ijs7ubUpqdlbV08eL77rrrkjVr6uvq0lJTASCK+fwy67/l/WES0tjWSkWW5dSUFAAIGzxZib/c5WPNbqPEgpblybUZAgDManzeZigSiYQjkXPDoYIkPRaLmRFmXddNeyZCCONcFARvTMpNS8pPt5miGGBWr265bpFDVeMhVoOCIsIJLx0N0Q1lSqoCABDU+ctd+KpSqcIuAEAgGIxEItFo9PxYtKUncl+DwBibibI9XYHbG2yKLCclJVmt1miqs3eWUgZlDmFxtggAGuE7Oo2wzr/cGHcv+rdT+lanvK5IJozvc+HaDGE8wn0xdkOV6vKxX7ca9y5RzdArAPg0vt9DU1Qhz4auKpGGg+w3rcbyvHiHq3mIXus2SlKF6yvi9+xz484pcuci1ZyI1zpOz4zhZAWanIqAoNltDAXYkhzpkkIpZPD9HmNdkSSL6PVuw64IlemCT+N9PnZztQwAQwH23hDZVC7v9+DV+ZLTLnRPxJJypJuq5B0J88I/PgvoZ/mT4j8cEkmSDrz89HfC/f/u/sbSgmN9H8WHj2y9dMPOd8zbf//zf/vRX37rT7mXAJ/Oyfs4Uh6NRv/iwQcff+qp32MznL/w8svNBw68+PTTmzZs+H23+Bnn05TVp59//hePPNLe0WGz2S5ZvfqHDz54w7XX/ruw+0yMv9ShJ8moIUs0R5gN+KmAoDjto9/fY6O0Kl0wV1Ftk3Q0yJqccs8sm49n7nMTpx0tz5NGgqzZjZMVocwhmpqKKW9xY0mAxdlSTYYAinUmljQmp11SoaQoH3299vQZm8tki4QAoGeG9vcYs6pw53IVAN7swV6NNTllVY1vLqDzZjcutwvd0/SWWmWvG5enoeV50sEBsjRbcM3QkSC7slhKS01NS02djbJDrti16+Q1VQoAPHFOr14JhRVyZbpgbqt1mGTZBM7hkrnpNK/1YG+Ifb5BLU4T/Dr8ywnt0kLp2ioZAJpdODdZIByCOrt3iToTZY+c0TeXy1eXxF9LKG9xY1WCVBU2lEkzMfZkm15uF+6YS5eOh9mz7ZrDImyvU2UxfniPjpBrq1Rz3i1DW7wAACAASURBVE7vLHtnEFMGW5xKqoKevYAnQrQ6U9pQKlEOBzykOl3MSxFe68Y2WViaJ3COPhgh22sUq4x8Gt/fTy4rlo+OkMZcqSFbfLPXmBz3LncoxWlCYrWa4FNEBET/38Ka1ZUlvy2rABBJsdpCUQA4eurMJ7pznxzmj97vIa5T09Obrruu9WMZucz6fNfdcstbr7zStHHjx3j5Z5ZP4Vds1uf7mx/9yJ6ff+9XvpKWlnZwz57g+HjLW2/devPNSJR92v/zzT7Yj60yKkoRTE19pQs/fMYg/KNT7vazC1Nkdy9umyADfnZshFxVKh3w4JDOzCe83Y9jhE9G+UyMN3tImgoFyeiSuY7P/R7MOEQMnpuMAODFDuPZdt0si53fxKEBLAnI1NSRIHuzjzAOt9TIAPDBCD00gNfNxWYBwKD85U7jlJeeHKNNTuXIMMmwwPI86fAgscmAGegUriz+6GrmF6e0xhzp2ioFAJrdeEaD1fmiqamjIdbiwbnJAmH8+rnR63tduGeG3lQt12QIOuG/OKGV28W7GhTzWKmSYFeR28e2OBXG4RcnNYcCN9fI85vb78EaBUWAzeWSTvhTbUZxqnD3EtX8tCEDnr9giIJwZ318hd02Sfe69LX5otkjOxpib/QagNAN1Up+inBugo6FaK4NbXHKAHDAg9OTUEO2uLfPQMCd6agsTTw7ThZnCVlWRBnf78H1mejCBK7PFJbmiB+O0PYJVldesLquHAASsprgT4phGKFwxBcI+IOhSDTGGPvtRxsk6398ybKywt/+99imNfO3e93/fnV7EfH/q6kjo6PrNmz4eJpqYhjGXfffPz0z87Hf4TPIJ7paHZ+Y+JeHHvqXhx+WJOn6bdt+/pOf5OflzT+KKbzVS7pm6LYKqTFXAoCDAySEIUVBV5fJANDiwae8+L7F6ryGhTG8M0AkxJ3pYlGq+Go33lQuHRshBSmCWbx60ksG/Uyj/LJCZa/LsMlCkoTm84XvD5HxCKNcuLFasatoV5/RNc2+sUKdNyb8YJgcG6UVDsFMCvp1eKnLiBr8/iVKjk3om6XPtWu31yrzk8MBYEcX7p2ljiTU5JQ9fhojsKlK/mCEjIVZfZbYNkFvqf1I5B46rVtl4YtLVQA4O05Oj9HV+XFnIr/Omz240iFORdkttfEV/JFhenwUNzkV8/g8csZQJXhghWruahj/X/a+Oz6qMuv/PM8tM+m99woBQknoRRALBJAiouza1oq9re67xd19t1uxoIvYsCIqIiAldJAiJSEkIT0z6b3MpEy592m/P+4kQXTfVRdU9uf3kz8mz23PzNw75znnfM/3wKgwvLeWXDNcNcvw9DHN34QemzLUnebzBtrcxzFGOcNUVUJvFurtTnHDKNVXAQDgAtaXat1ucedY1fgEqm384zJ9WIg8P001prStmpglNCNWSg/G1Ta+tUoPMqOFw0wyhs/rKeNwaYL8STnhAgWaYXKM/Em5PivBoyq800pDvXF9L08NwtlRclkX32XVx0bIfaHeLrcbAAj7yaz+hPOMz3bu/XTH7obmln+1gyRJGWkp999+09SYsNPUcc7WGcOTT9U0nj0iMEJcAMBTL7/6+sp/XIg5Xyzo6++fs3BhRVXVVzdJknTTz38+c8aM7HHjIiMifLy9e/v6Xlu7dvVrrzW3nPtddHZ1/e2pp5578snvZdbfB74ns+pyuf7+9NNPPPtsSHDwrEsuefIvf8keN66ondo62MgwCQAIE59V07peNjPBY1MLWmlVN8MILk9UJARfNNK9NfTaDHVk2JAN223VAUS4jzQ1Rv6oTJ8Ujcu7uL8JG0oFVTZ+ooVRBvPS1FOtVMGIcmEo1hrnL+lgGodrhsnh3uh4E91XS28drQ7a7BPN9FgTjfLBOSkyGG5oidaviRszTfEBuE+HVXnuK5PVSxOHzOQn5XppB4vywbMTZY2Iqm62bLja1McLWumYSOVQA12W4YkkA8AHJaShlz9xqRcANPbyT8r1YSEeQUHKIddCon1wTQ9flqEaeeX8Fna4gUyLlQ27+3qh1uVij0/1QgD5LbSxl0+LlbZUk6tS5RAv9GqBu1cTZ3d8K2ilZ9oZ4WhZmhJoQpsq9NIOetd4c6Sv5/1+UkFq7fzGTFNiIAaA5n7+drEW5oWMnCjlIreaEAbjIqSsKLnNwT8s0TGCpcPVABPKb6HN/Xz5CHVbte6iQDm/PMm8vVofFSYZNvVwI9WZcDGI98eTYuQ2B3+n2J3gLy1IlU97ebndbgcBu4vV9sJ/LTvwJ3yPOF1S9tifnvgmezLGzpRXrnj0cQBQgvySH79DCfIf3IoQRAX5t9h6B0cak2PiqhsBoK6x+ezzXHHtzQBgNps+e+fV8/IWfvxY/dprpeVfo48xZdKkNatWZY4cefagl5fX4//zP4/cf/+f//GPZ1988Rw9tffXr3/6b3+T5R8F1+c/x/fhHLzy+uuJGRkff/ppVGTk8089tWfr1uxx48q7+KcV9HAjdRBBudhaTVv6xfAQfEmcDAANvfxAPdUoXJ6khHjhonb2STlZkKYYfbMNHGlkzX3cT0VzkpVcK4n1xzY3cAGXJcoA0O4Umyt1xsTlSXJVF+MC7JrISVW8ZAQA1Ta+v565qFiYpsb64/oe9k6xPi9VHR0xILPQzj6vp94qnp/mMYSfVJBmB1yboaYGYQB4+gtnZrhsmBwD26rJ8SYa548nRMshXmh/PTXU+3ZbyZQYubKTzUlWwge6lu6tpXtr9fuyVAkB5bC2UAvxwssGNHhzLbqvihr6RE6Kp5ympJN9WqmnBHnUiz4qJ8Xt7JGJXt4qKu3kRe1sRryyp5bOTlTiA6SPSvXSTvarKV54IJZjsfMjDZQwmJ+qRPvhI430SBO7IVNNDRycDyloJUuHe2hcdg3WlegSguUjPUZ9RzXpckNiILokXnYQsaFcpyCuG2mK9MVlnex0G1uQpuyrpb2asLn4nGT1cL0e5euJGRS1szo7pwLCvNHUWJlx+KBU91akZRmqIiGz2dzd59papStYpAb/lzxXP+GHwoatO6649uZvaFPPAbH1VfxyZendf6P9Q8r7100Ze/Y+9WlxXz2QDjQ0dLu1/3+aGx754ouvDmaNHbtn69ZzbOogvL29n/jLX95/881zxjs6O/NOnTr/U/yBcGF/xY6dOPGbP/yho7OTELJg7twn/vIXYz1itfMPSrRAM1ybYTLLaEsl6XbxUC+Uk6ICgJOI3TVERjAtVkoJxFXd/PkTroVppplnpSQruvhOqx7pI81JVo41MyGEjHGHk189TAEAjYpt1bqMYUqM3Obg/QS63GJeshzqhQCg3Sk2VeoAsCBVTQ7Evbp4MU+fGidfOSAHWNbJdlkpF2JRmmzoDW23kNIOtmSYx1d+9rjbR8V3jB2SVjhQT/fX0YwwKdILj46QPi7T5yYrET74syqSFiJb7Cw7UkodaMFW0sk+LNVuH2tKCJQA4M1Czc3RPaNNXgoCgAN1lHHoJ2JKjGS4zjV2tq5ETwyQrk5XAGBXDd1jJf8zxRTqjWrs7EA9XZwmH24kmeFSRgjeW0t2Wclvp3v5DXC/OpxiazUBIS5NVFKD8JkOtqmS5CQrYwfWECeb6d5alpOiZkV6/PKN5Xq/zm/INBvR4H21pMrG/U3Y+IK2VOqdTrF0uJoSiBt6+e4aem2GUtzOO5ycMJidpFR0Mxkjo895XQ8/0kiDTCjYy7Nm+rhMa+kTd2d5anUcwvS5tfVyFUUF+9fW1f2rB/L/J1xchRU/FrS0td90/2NfHUcITcweN/vSGVMmjfca6DzIV1/TbHMdbJMPtUuWvi/xz7lGyh94Sg0LSn/iAUAIAPzMpj63Zmx1+QxFgFwu9zFZ36J9KS9YWlGVOWL4+X1rP04oinLOCMb4jdWrvb2/Jkt9Nq5dujR39+6177579qClpmbyxInneYo/EC6gWf3DX/7y4j//mTF8uMlk2rh+/awZM4zxpj7+bpFmluHnI01BZrSlijgJB4C5KYrhXe2qoS4CI8OkrCi5sY+/XaRNj1MXn+UXdrnE5irdW0FjI6WGXl5np2lBUrWNDnZc2WahvW4xLlJmAnU6uUbFzDjZKA5xEbG5UmccclKU4SEYAF7K0+L98fUjPcfW2PmWSl3GaMlwU4wfBoCjjfRII1uQqmZFSgCwtkjvcsHfZw1JAB5vZpsr9TFhkllGVyTJn1YSw4geaaQYQa/GI7zRuEjPo9vaz1ef0uanqJNjZADYVq2faWePTjYbNuZkM+1wCUVCg+U0bQ7xVpEeYkbLR6iyBJ9WkO1WsmKsmhIktfbzbdV0Qapc0MoifPD4KPl0G3u/RL8r2zwYytao2GnREcDEGHV0uFRrZ28WalNi5NmJnq++tJN9UkGmxXpkHwBgWzVp7heL0k2GL3u8iZR0skAzWjxMNbrTVNnE3GRlVJjU7RY7a+i8VKWlX9TYqCLj9FCpT4MeTVw9TAUAm1vkWomvgoK90OwEGQAONdCCdn79KNUINbf086OtUrDinp+q3NPYOHrUqP/7piosLi4pK6utq2vv6Ojt7dV6KoXeZQqdbAiAqKjfNyg+LDQ0MSFhxPDhsRF+oRFJ3+6u/VHgJ5v6rfH4E88dP3X6nMGH7l+Rc8Xsr03Y46v+GL3hVz9L0n+WBACgc3j4pFf1WfZV77Cdue1Pw555RAn2Xz5t3Gt7j331JL/qrpIDzq2er7DW/n9iVi+ZNu2TTZvOHpk+derY0aO/ybE/v+66c8xqXX39eZjTj2NFekHMakFh4X2PPIIx9vHxmTF16lN/+9vgpk6neP+MxgBuGGWK8MHbqohGRZcLlg5XAkyGzgCts/P4QDw7UelyiffP6EFeyGhwNoidVgJC5CQrgWa03UJGh0slnWzJcNWI1u6pISXtdGS4HGBCJR1MwmA0GTWO3WahHQ5xZbJiGK01BZpGxf8MyOQ29/EtlbpJRrMTFcO5LGpnW6rI7ATZoMJuqtTzWsj/zhhasZ7pZO+V6BMjZTeDRcnK3joa4YOyIuX8FtruFEEm6NUhJ8Ez/z4dXs7XRodJi4YpAFDYzrdXkVvGecUHYAAo62JnOlioNzZJYHCVe3V4t1hDANePMvmpYO3h2y1kdoI0Plq2a2K7hVyWpNT2cITRzHi5sZf9M999bYZpYtTQr0OulXa5YVQYnhwjdbrEa6f1YSF4kANV38PXFuljwqSr0jwz3F1DyjrZJfHKuAgJAEo7+bFmRhksHaYEm+FIIz3eQmfGKZNiZDcVuywkOwLrDApaSbivpGDwlqGonRncYyNDLCEINoORM67o5psr9Hmpng+/RxOr8jRvVxvrbQQAh8Ph8y9Uljo6O194+eWPNm7UdT173LiI8HBN02ydTc11lc02paX9Az9fXx9vswRuhrzcbr3f4aCEIIxURR6WPnze3LlzLrtsxrRp3/JG/gkXB5aveLDLZh/8F2P81N/+MCbz/wp78A1fkklSMbw8yQUAaypNG+uHfm0qHl0ZdtXMiCWXyhjTLzOHAUB8XbzX4XR9h7dwMeLn1133mz/+0XlWq9rLZs36hsd+VU/tq77vd8GgTf1B7ev5z62++uabWVOnmr39yqz1a1atOtum9hNYX6I5CNyUaYrzx7kWQkH06WJOimL4haWd7EQL81XFFUmKk4iPS3UHgV+MNp2tBbG7hjb28skxSnyAtNNKMkLlonY2L9XTB/RYMy1oYyPC5VFh+GQL9ZIh3AdPGqj43FdLSzvZzAR5fJQEABsrSGkHe2SSWcIAAN1ukWslEsaTYz2/+9U2/t4ZfXyUR2zocAPZVk3vzTKHDaRIrTb6z5PuiZFSry7mJMklHYxymJWgtDvF0SYWZEaNfWLOQGyZCXi9wO2loF+MVo3LvZLvnpemjo/EANDQy/fW0HBfRDgMEpfWl2g2t/jFaDXCB9nc4oUT7isT5Z+NNOlMbCzTx0XI/RrvcPK5yXKfLp4/qc+MVwdVHQBgfx212GhKIL4sUXER8eZpt58J3TjKE7vucolXC9zh3nj5gKd+tJHmtbKxkbIRra3r4dstOhNoYboa7YcL29guKx0TJs1KkAFgTw2N8cf+ZnywnsQFYCcRKUHSsSaak+JJYO+yErsOId7YIBJ3OMUr+e6sSGl2oocD9XK+FuaNr581MigoCAAcTqfP14WPDh89mj1tms1uf2nlyvvuuqu7u/v1t96qq7OOjLb95t6rD+876OzstDVY6vb9qvbEB/U77+xsaHB3d3cUvZf75oP33zRLMPffn3pq4bJlgdHRdz3wwIFDh77zvf0TfmwQQlxx7c1n29RlS67aueXDc20q1cWOJ/nzOYN//0r7fUW6tvPyfj9laGvHZwdrn33nxkuyv7oz+jqKTVR46Hd7L98KnPPDR49u3Ly5r/8Hk/4PDQnZuXlzXKynBklRlBuWL/+Gx1ZbreeMnGfh0h/UZz3P3upDv/rVvgMHLpk+XTWZnnzvwIIpUQVtzPB7GIePy7ROt7huhCk1CO+pIUyARmF0uGToNrQ6xKYKHRCam6H6KrCuhJR3019O8jKiowbymmleC80Mw9Pi5A1lekIALm6ni9KUCB8EAKWdbH8tC/PGo8PwdgtJCJAwgtkDSgh5LXR/LZmd5GHSHm6kn1Xqv5lqNrxkBxG51cRFxMgwPDlaAoDWfvHKKW1EKL5muAIA5V18XQm9MVMdMeD4tjnEcyfJlDhFCDErXrZroq6HL8tQGIfdVpIehC02tjBNNQ1Sf8/oTf3isclmVUIA8Owx98QYeX6qAgPB0tQg3O7k1wyEuz+pIA29RrxU0hg8c8w9KgwvG2FUuNL0EEmVoLCNXTPCJASsPO5KCsTXjxpa8eW30LxWFueLDfLzuyXEpsEjEz1rFBcRbxRqPiq+O9vTA+5YI/28nsX5IUOPsNMltlbpJgzT4+W0YGyx84/L9dQgvGiYCgAH6ilGIilA+rSSjAqVqu3skjh5e7W+ZNiguiGt6uZRfviqVAUAmIBXC7TEQGnQhD9+0OWj4Huy1K3Nqq7rjDFCiJfXUBhgEL9YseIff/5zeUXF4uuuu27p0j/+7nezZsxgNc+D1iCl/glkXwDgTW9j3zThqEChcwFA9Bb6o7pZWaGzJi/8+6/DHN4zN2/d+vY7b6x9990Nn34aGhJy74oVd95666Aq1k+4SDH/hjvO/nfj+rV+Z2uaUp1/+DB0nPsL/m+xYaZjR5PyfJnn9ugvseK1WyAp6pzdzu52PoikhK/hNJ1fEEKuuOqqg4cOAcCYzMyj+/b923TmBcL0qVNrSkvzTp3SNC0mOjo56ZvmXPbu33/OSEBAwPme3Q+G8+atapq2+LrryisrOedTJ016ZvW6+MjQ/XW0spsZCg+fVuh1PXxRmjIiFH9eTx0E2p0i3NtDFtWo2FalSxgtGabG+OEdFnq8md6TbY7zH5qh1c7fKSFh3mhOsrLTonsrqK6Hz0mWjQhqQy//pJyoMsxOlA82sMRA5CIiZ6BEtaKLbSgn2dHypQkKAFTb+Bun9VvGmNJDJAAw5IF6dZEYiI0denWxpsAd549uzjQZJ385T7s8SbpkIAHZo4lnjrmzIiVfFaWHyN4yHG1ic5JlVUK7akigCdX1iVkJSpi3x6bmWmlxB7t9rGqsAJ4/4Q4wwS2jVQAgDHItJNYXWex8TrLirSIAyLXoJe10cboyIlQCgOeOu4O98B1jzQCwp5Z4yRDnjw7U05xUxVeBVXluRUL3Zg8ZicputtNKfBWYl6rKGDaU6RVdbMVYdXA+bxVrPW5+xziTUbRa2c321OoI+FXpKkbgomJHtY4QjI2Ux0VIbQ7xyil3mBdalqEigLwW1u7gE6Ll7VY6MVqutPGMEOlQI5uTrBjfV2EbO9pIg7zQghTZsNlvntbdVNwyRsUIAcAbhRoCuHWsapKRqqq9Tm3loW6Tl/e2av2c++qBRx9NSkj44vjxwuLi1pqatWvWzJoxg7d+gpwWHHuHYVNF5y7AJuFuA5/hyH8MaM28bSNwggPGYN+RQLr9fH2vnz8id/VV1QUHH7hjeVd395MrV4YnJv7pr//b09sLP+HixIIb7ySEGK8VRdm99eMhm0p1/tIi/tKi72BTDeTEkPdnDJWx9uaXZTa0AYBvz9AgGpAF7j6YNziYlpT43a74zfHMCy8cHAi6FBYXF505c6Gv+H9AkqRJEyZcMn16SnLyNz9q38GD54yMzMg4r/P6Ljhf3evOj1lt7+i4bP58VVVPFRTcc+ed//jzn602VtnFdSauy1CDzGinlRR3sJxkZVykfKyJtjl4oBmFe6NZA67kLivpcouZCXJGCP68nu6w6LeMVtODh3KEdg0+KtEivOGSBOVEC3dQZHPxKbGysY9dg3VndMrF1cPk40003Bt3OFBOqmLI77X08zUFekYIXpyuAEC/Ll7Kc89PkS8ZoBbvtOit/SzUG81LVcFwrU5pMkK3jzVJGNqd4uU8bUyEZNBwAEBn8Mwxd3IgjvNDPjKkBeGdNXROkhTqjY83UQcRPZqYGIVTBnhDx5vooQayZJg6PEQCgHVn9JZ+8chkj2e2w0oCzFDfJ+amKAbz9kgjPdJIr0hWsqNkAFid73ZS8dAEEwAca2Z9GmRFyTss1Nj/7WK9pV88NH7Iprb289dP6wihq4ep/ia0v45+0UxvHa0apC0AWFeiV3SJu7PMBjW6oZdtKCMAcP0ok+G751poP4HkQGlGnOwg8P4Z3VtGc1JUHwVVdvPDDWRmgrKtioyPxJVdbFwkLu9i2ZHSsBAJAGrsbFOV7qOiq9I8S4QtVbSwjdydZfJXEQB8WKoXtbNHJ5tjfDEAOLjcaHcr3G328pmfem7HKFmWL7v00n+++up7b75pKDyLrgOi6yCKXo58hwMAtx0RWjtCEqihOPgSoH2s6V0AwMHTkVeisB1GYTnCflJ0H5Iil8VFRz1+U1Tb8ad/e+fMAF/T2++9FZua+o9nnvlPbv6f8IPgHy+s1jQPO1eW8PZP1w1uEkff5i8tAnruEu3bItQk1l8yZEQjjpcgLuIrPcwaJA39eDa/vdV44eX1Nf7recfLa9ac/W/G8IuMIVVtsdQ3NJw9oqrqiB/BuzhfkePzYFZbWltzFi9OTU7elpv74jPP3HPnna39YksVzQjFRuHmkUZ6uIFenqRMipELWqnFxmP8UJtjSJnhcCMt6eTjwqXJ0XJFF1tfSi6JkwbLPwxsLNfcHC0faSppZxYb05nICJUywyQAoFy8Vai5ubgh01Tczr1lqOthc5KlQE90F9YU6EkB6MZMj+F5+pg7I0S6ZoC2s7+O1PUKHxXNS/GkcN88rXW5+N3ZJh8F9WjijdPuUG90w1nx1aeOuYO8cHaU1KOJWQlyroVMjZWTAqVqGz/TQYFDXAAenP+ZDratmkyIkifHSACwr5YeqKf3jvfEhvfVUSSEzQWTo2XDDBe0sVwrmRqrGNTc98/o1Tbx6GSzhKGonVZ10QnR0o5qMi1WTgnEWyr14830kUlm7wG1RScRG8p1HwWmxsoRPqi4nX1WpS1KU4ZIW9XkWBO9b7zJ6Kva5eKbK6kiwTUZnk6ru6yk1cHDvJHxBX1Yorc7+a2j1eEhuKVf5FrIwnRlXw3JDJca+0RKsNTcJzJCZSPUX21j60qIgmDZcNWoTTrZQndU6SuyzNF+GAC2WcjeWvLwRHOIFwYAu1sUdEicEH/kCPb/muRKYVFRfUPDhOxsj03tK+atHwi/TBQ0DQBEX5HoLQJgIPvj0CsBgDV/AHo7Dr8K+Y3gHVtx+HzRXy76CnH0z0AJ5e2fCSUYmPOuu+6v3fOre1bcKwR7d926tNGj13300Xe5+y9eXMx9pW32nn1Hhqi525ZHDL7mb94sTqw/XxcKUsWbU86i5GzcH13nEQnySvbkFKv/d8jIvfr0X8/Xpc/G2d9VtcXS1DykRBETHW30I7mI8Nn27eeMjMzIOD+UpR8H/lOzarPbFy5blj1u3IZNm9557bXly5a1O8U/T2mTYzzMlIJWuq3aU79R1sVPtbK0EKmii+ekKBICACjt5AfqaHIQviJZaezjr5zSLkuUr8n4UtIr10oa+8WiNFlG0NLPHUTE++NBaYiN5aRX5yNCpfoezgV0ucUVSXKcv8eKvJLvMklwxziTUb3zYp5mktGKLM/5jzXRsi6OEcxL8egerC/VznSw+8ebg72QRsX7JXq/DjeNNg2qI6087sZI5KTIpR1sboqaa6WJgdLocKnbLXZZSYBJ8jGhwWKVGjv/qJzE+WODalveyd4qct82Ro33N2pXqM0lOEKJgXhMhAQAFd18Q7meESrlpCgAsMNCPm+gD080+avIYudfNPGcFPVALQ33QZnh0pFGurWa3pdlNgLLBjZXEptLLB2uzoyXrXb+7hl9ZoJ6Sbznlj3SSHMt5NYxHlELJxHbqkiPJmbFy0a50ZFGWmXn3jIYJaqfVpAqG7t5tCkhUOrTRa5Fn50gFbTxxEDcpwsFg0PnPjJMi/W01vmwlHQ4xQ2jTMaUmvrYq6f0JcMVQ9/xUAP9sES7L9ucGOC5+tZqwrCCBcHM/bV8pc6urp9de21VdTUAgKuW1z6Lg2bJ8XcAALcd421bwRQOphgUOgcAWNN70FeEY25EAeN522fIL4u7GsFdg6KXgxLM2z8TXEOc4LDLoWs/Cst55Kbs6gNPT5syxeVy/fGvf73m6il1Reu+Oof/TvwI6hC+M5bf9dDg6+2X9UNbFd/xhGg6w19aDL1f3zz1OyPGh9+a+jWOb+IjNwJA05ub3PUeQ2symSLDw87v1Q2c/V3VN35JTPGiq/MWQqx5441zBmcOlF/+d+A/NavLrr9+fFbWttzcNatWLV28uLVfvFus291i+UgTAFTZ+AelJCtSmpui1NrZ3hp9bIR0oonOS1UNsYLmPv5hDXlSlQAAIABJREFUiRagQk6KanOL1wq0jFDpbGl4ADjezE400Uti5YRAKddKfBRIDcKDdmtPDanoZlcmq3H+2OYWGhVjwiUj1goArxVoDX383vFmwyiuKyH1PeyRiR6bWtjO8lqYziAnWQn1Nlpz08/r2YMTTYZrtaGCNPeJW8aYwgdSkqvzNbtbXD9C3VND56aqJ5qJgsW0WEkIsctKgr2Aw5AX3uYQ60o1MxZXD1clBN0u8dIp/ZoMs8FMLu1k5V3MrIB5oLl3fQ9be9odbEaLUhUA+KKJflxO7s4yxfqjNofYYSE5yXJ+K430RXOSlfJO9laRfv1IZUTY0Je4y6pXdfM5KcqoMKndKV45pWWEoEUDxTO51dq6M9rS4UNCEDssxKaJqbGSsUY53UYLWillMDdF9VHgYD070UyvGZBeyrWQUWGStUeEeyOzBK0O4asgJ4UrBhLYH5XpDioWpilGtptyeOGkNivBw6MubKOvntJWZHmNjvDEGLZWky6nwLZaIXi7vV8xf41Z1TQtPCyMcV5fU0ir/wKB01H0zwAA9HbevVewXmwKx6GXA4Bo3wK2QzjuduQ3VnTsADmAu+sR6USR1yHJl3ftE65aBAJFLuXdR1DAJCCd4KqLyLjhtZdffvm555jW09zcNGbOI++tXw8AwMm3exJ+wveFLTv3DKrk35GmGatzqDgoPn4MqHYhrnhdom76asdCwUvvfcJ2eKhYdvNbqy/E1c9B/5epv9+wTvTHg70HDnxVRvjn1177g0zmAuE/Mqs33X67CIzPLyh49MEHr7/uujaH2FJFMBIrslQfBZr7+Op8d5Qvvma42u4UuVY6JVY52cJyUj3EXScRH5frAGLpcNVPhTdPa14K3Db2S35qWRfbUa1nhMrTYqVcC1ElFOqNr0jy/I5/0cSONNIpMbKfApVdDIOI8sXZA724PyrTz3Tyx6d7G81YdlrIwTry8AQvw8RWdvMDdYwD5AyQnr5opJsq9NvHmpIDJQDYXk0sNr4kXR5UR3qrSKux8/vGm3bX0jnJcmMP63CKuckqAOyppYSDQ4e5KZ5obD+BTyt0IdB1I00hXkijYuUJ15hwvDDNsKB8fx2N8JHcRBih8i6XeLtID/XGd4wz+6iooou9flq/cZQyNkLq02GHRZ+dINf3cY3B5UlKu4O/lK/NS1VnJgwtQY430SNN9JJ4eWK07ND5q6fcUb5Doe/mPr7FwrKi1FkDh2yv1pv7RWqQNEDjYjuqqZuKBWlKhA8qaGO5Fv3KZNn4PHMtJMQLdbmEtwzRfjivlUf74sY+njNQz7OlmpZ2sJ+PUAeFJp75wh3tK10/SgUAi429lKf/fJRq+LUAsM1CG3rZiDCcnpbGBXTanar5a4LAmq739fVFhod2Ff4DmaOkuNsBQFAHa1yLmC6FL0RBMwBAdO1nbZtxzC+Q/1hh+0KQboRlLCiKvBZhlfecAttRAIEilkJfISAzqEHCfgxHLEJYBYCFk5W818elDJuYEJ/wp7/97ZFf/5q3bRRd+77lA/ETvg+semNIRuCahAu++tEdpMtifzPhSz4iIFR6zz+4yz04sO29176fbsHhYV9yiBctWPA9XPQ84pzEMACkpqRMyP6a+qWLF9/drD65cmVzS0uUF5s4fvzD99/f5eKfVRM/FTJCpJGhUq8OL5/SUoPlByeYnLrYadHHR0klHdTICBpn2FRBOl3i+kxztB9+o1Drcon7xntJZ8U7mvv4+8VaqDe6Kk3OtRAHRf4qmpfqsQpF7WyXlYwOl9OC8IF6qkrIJMMgC2ljBdldQx6aoBqsnII29kkluWOcKcbfIOnwTRWagsWMWA/RpqyTrS3Wrh3hkVLaV0dPt7EZcfKQkS7VT7WwX001H6hn4yIkIaCog81NURCCvBZa3yNsLjE3RTFMOBewo5r0amJesuf9ri7Q/EySoXdYYxe5VpIWjNsczHBtnUS8e0ZngG7MVP1V6HSKl/K0+anypQkKF5BrpSNDJY2Khh6ek6w4dfH8SW1cpLQkfSj9XNbFt1bRMeGywQJbW0wIR7eNNcsYAUCPJp474Z4ULd82xvPpHagjFrsIH0igtjrE1irio4pJMYohGLm+RJ8Q7bG4RxqpzgEAMQFjI+WdFpIaCFXdLCdVMYqFDtWTI/VkWYY6aiCD+/ppzUn5gxNNANDSz184qc9JUXMG/PhcKynrZGPClcQAbOnSEZJCZEdksN9XbzM/P7/+bisincI7RUrzJK54y0dAbMh/NAqaCgCiJ583vSVFX4eCpghHuejNF7KPID0o+gYAAGcNb90AQHHkdUC6RX8F+GXy1k04fBEowQAg7CdZ3StBox599+0NN19/fVd3Z96xXYtW/NNh+i+RUvtvwpadewZff3QZA3QBVc05E51Vtt7mfsEFMDHKPGREQXwpNb1x7epzGkVfOEyeOPG5J58cPWrU8PT0++++++IS/CurqPhqYnXFbbf9IJO5cPiON+Xho0f//tRTM2fMsFqrX1q50knE9moS5Ys1CjPiJC7EqpOuEDNaMVbBCHbW0LQQua6HDwuRB3uo7a+lZV10SbqaHow/rSAFrfShSWbfs6K/DgLrS3UJo2UZ6vFm1tDHvSU+L8WT4ay28U/K9LgAND1W2llDY/yQxmFOsufOPtnCNlfo1w43JQVKANDYy9ec0hanK4YKRKeT76yh/ibsq4DRLafNIV7Kd89LUYwi16NNLL+FjgyXLh0gKm+rJnvq6MOTzCebabg3ivLFuVYyJ1nxV5HVLo43MY2JK5NlQ9QCAD4sIw29bEK0nBXloR019fE7xqgAoFFxtJEkBEiVXXxuiuqjIAD4oFRv6eO3jlYifLCbimePu8dFYoN4vMOih3lBgBnntbK5KYoiwao8d7AXum3MkFuf18zeKnQnBuIlw1QAWFeiW7rZXVmenqmUiedPuBMC8M2Zns/neBMp6hA+ChgZ7j4ddlTrqozGRykz4uTmPv5qgTstxDOBonZWa+d+KurRxZXJyk4LSQ+RznTynBTFIIWd6WCbqsjcVHVwCbKlkhS2sQcmmBGAg8ALJ7Vwb7hmuGfr/jp6soWNj5SzoqTdNRQDM6tyGO4LCgz86p1msVjG+W229/PAtNuNEda6AfWfweELceRSAABHJat8HCIWoZArhbtJtG1GpnDEXJ6t1Mab3wVBcPTNSPYWnTtQ4HTozMURV4FXPAAIp4XVPovjbkFB0wHg4TsWrX18TFF5vQ4Bs+fNO5sb8t+Di5ms9PLa940XsiwHPbwRP7gN0IXyEbut9rP//U1Ex1f3mTAmc/dHb/v5fK9low/dd1/h8eNlBQUvXmwk9sf/9KdzWhFERkTcc8cd/2L3i/VO/Y5m9dHf/vY3jz321yeffGnlSgDItZIwb1RnZ5cmSj4qfu6kjgE9ONEsYbS3liAQdhcPMuNJ0Z4HoKCN7qkllyUoWZHSwTryWZX+2GSvwfylgY0VWo8mbhhlaurju6y6SULzUlVDjL6ln68t0oK90ZI0ZU8tDfVGdpdYOkw1SiQtdr4m331DpnpFsgwANrd4MU+bGqcYrbaduthVQ3XG04PxTaNNxsizx1yTopXF6SoA5LfQY400xAtdMRDMPFBHPi7T7x9vburjlIvsKDnXSuamqDF+2O4Wu2sIRmJClDR8oBzoYD1t7uXJQR6rvLeWfdFM784yB3shANhhpaFeqK6HDwbDN5STim5221hTfIAEAM+d1MJ98a1jzMapAFBasLTDouckK0Fm9MoprZ/A/WeVqPbqYmeNbpLx8pEqAthhIceb6b3jzVEDHd9W5euKBPdme6j/xe3sWDOnjM1LUfxNiAvYYdE1BmlBeGqs3KOJN4r0SF+PGFONnR9tpOHe0OEUC1LknRYSaAaLjeWkqEb6ucbOXj+tT4+VL433vP3jTXRDhb4iSw31xjoTfz3iivRBj0/3VBN90cQO1OlTouXLk+RdVuKjIjPmoT5yZ1dXcFDQObdZZ2P+/Kmhkt+wTrvLqDTndS9D9yEUucTjp/aXsYrf4JjrpYirgfXzts1gihRMwxFLAUkAgjW+K4hdirsdvJN4Ry4ETBF9p1BANvIdCQBAe5nlCRyeg8MXAoDQO3jNk1fNX3hw9/66+vrAwMC5ixbV1lq+yxPyY8ZFS1bSdH0wq/rrX95vvECL/nQhrqX3/5v6nD/+8v7dH7399989eiGu/l+JfQcPbty8+ZzB3zz66L/WsrhY79TvYlafffHFyIiIk/n5//u732WNHbu/jpowdLrEjDg5IUB65ZTW4+aPTTFLCPJaqM0Nwd6YchhMudXY2YelZGyENCtRKepgbxXpK7LMCQFfmskuK6mxg8Ge3V1LQ7ykSTGKUbDRq8M7xbpZRj8boR5ppKoELf3CUEUAgB43X3VSm5OiGPnXfl2sPqVF+aKbRikAIITYWUNtbkgK8BCVAeDZ41p8gHRTpgoAJZ3sYD3lQsxPVQxicF4Le7NQX5Fl4pzX9/Irk5RcKxlUhtpVQzjnw0PlCdGycQ+cbKYFbTTUBxn9cIra2dYq7caRiqF9v6eWqlh0ucWkGMkIDu+pISea6fUj1PRgQ/ffrVMwilDzWmibg0+OkXdYaU6KGuuPPyrTy7v5QxNNg8pNAPBeseaicF+26qPAiRa2w0JuHKUO5oNfL9Q7nfzhCWaEAACqbXxPLWVCLEw3GZ1Wd1hIt1tE+OIrkhTKxdvFGmVw6xizSYIOJ8+1knh/1OaE+anyF01M56LbBVNiPPnmDqd4OV8fF+nxkgGgroevKdB+kWkaFSYLAavydH8VHpzosegFreyzSm1itHJ5krynhvRpQsWQHYEkSWprbw8PDz/7HhBOS3vh06eqXOXueQbdUXQfErYjOHye4VkC7ed1q1BYDo6+AQB46ybAEgiBI5cCVgGAN68DZ7UUewvyGSa69oLki/RWMEWhwMkAAIKyqj8hv5E4+mYAAOYU1qeQVyKOv2dMZuaebdu6u7sjQ8xXLclpbPpyXu0n/EDYdeDw4OsZ9esAAAQXmx6/ENfqa3N+dXBV7FAL7umTxl+I6/63wul0rrj//nMG09PS7rr99h9kPhcU39qs2nt6/vrEE9OmTKmrr//No4+e6WCt/bzdBUmBUma49M4ZrdrGfz3FJGOo7OaFbUwjvLmPDybVbG7xxmk9IQBdPUyt72GvF+hLhymDXqyBL5rYiRY2LRbH+uGPSjWd8muGK6PCMABQJt4r1no1ftNIpbyL9xFod4qcARUFAHj2uD4ybEhK/pXTeo9bDHZw211DG3pZtB8anM/K4y5ZEveNNwFArZ3nWggGWDxMNU5Y3sVX57tvHGWK9MFfNLE5ycq+OhrqBYYy1J4a0u4QMf5DseLSTna0iVIOc5JkbwVZ7PztYu3SRHlSjAIAx5ponyaoQAkB0phwCQBONNGdNXRxujwmQgaA90r0uh7+6GQTQlDayYrb2eWJyi6rnh2B04Px3lqyt5Y+mG0yKj4NfFiqW2zijrGmcB9cbePvndGuSlPHD5G2yJl2+uhks+HlN/fxLRW6jOHygUYC60v1+l7uI8PcJBkAPigltXZ+5zg1yIzcVOy00hhf3OoQC9KUqm7e3M8Zh/QQyRBMdlHxUr47IcAjRAVGvPeEe06SYiyh1hRoNje/f4JHfLK0k60r0SbGKPNTlVOttLKbA0JzU5T8/JNt7e0tra1RkZFDN4G7iVufJkqc6hWy5s03g4ODhaOcN72Boq41amkAgFn+iryTsUFiatssaDdCMo66BiRvAOCdO4XtCIq+Efwyhe0Q7ytFWBECcOgVnsOr/4ZkPynRU6rBa54WkhdOeNj4NzYmZvu7f+nt6QwPj7r6Zz/v7ev7pk/IT7hgWPXGO8YLhAA6LPz5HP7C/At0LcG/JgIZLA013z56Mv8CXfpihxCip7e3pbW1tq6up7dXCOFwOO564IFqy7mBn1XPPvu95aS/T3xrs/rsCy8sX7bs7ffe+9Pjj3e5xC6LrkoQ7Yumxcoby8mxRvboZLO3gtscYqdFTwnCGoMZ8aohSMK4eKtI81LQz0eaJAyr8vS0YLwg/Usf65kOtrtGTwuWpsTIn1QQBrB8hDl+wJddX0Za+vkNo0zdblFrZxqDGXHyYBO0p79w+Zlg0Ih+XE4a7OzBiSZfFQHA4UZa2skifPD8FI/Vef201uWExyabAaDNwXdYqVlGlyR4XDGrjT1zzLUwXRkXJeVaydxkuayLUy4MFk9+Cy3uYEFmNChtX9/Dd1gpAFqYpkb64jaHeO20NjVGWZimGu+rspuZZTBJnirP0k72UZl+WYI8NVYBgDWn3Ifr6UMTzD4KMnjCOSnK4UYa6y+Ni5RPt7GPysitY8xJQUNf2d5acryZ3TZWTQjAbQ6+6qQ2NUa+YkDZf6eF7KrRH5xgNrx8m1tstxCzgiZEy4ZdzGuhXS4hOOSkql4K+qyanG6ld2eZjQxxrpWaJGju5/NTVZuLn25jEkIhXmhwDbQ6TzNhdNc4jycqAJ495koNlq4bqQLA+2e0ym52X7ZHHLHGzl49rU2IVhanK7V2tq+WOomYkyQFmdGYzMzEhISGxsaQ8OjBtyZYP3inKPG3Ms6TEhImjhvJa59HwZfgiMXGDqz6b4BknPQoAIiuPcJZhZAJRSwFyRcAuD0fWjbgyGtw4ATQmoXtCHglCtKJIhZ6Dq99DrFenOpxdFjNs4L0Ssn/A9iz3hLOylBUuOX9VT3dTV4qXHv9f1UBwEUKMUAUuj31ghTSfBMMhone+2TLDzWHHxtqamv/8cwzs3Ny4tLTQ+PilICAwKio6JSUpBEjAqOisK+vb3j4ux98cM5R1yxZcuVll/0gEz5P+Jep329nVh0Ox4v//Gd4aGhqSsr8uXP31tJwXxkBzElW1pXp++rIgxPMkT7IScROKxkZppR08nmpasyATud7Z/SWfnHbGFOACT31hTvKF90//kvlNLV2/km5HmzCV6XIn1bSTie/epiaFuyZ5NYqUtnFlqQrJhmdbOUIo+EheJB6+mqB1qejxwZavB1sYF800LuyTdG+GAAKWtnxJhpggnmpqkFe/biMnGlnv5rqJWPUTyDXQjDwUWGS0cq7RxMv5enT4uS5yUquRZ8eJ9s1aOhhhgy91c731FIZiVnxsnG2LpfYYSVeMpoWK6cH4z5dvFWsBaowN1kCgBobO9RAI30lJwGjnKbOzl47rU+MVgwi7tFGcqyZ35hpivHHxqnmpiglndwkwYw4uamPv3JKW5gmT4oe+r6K29hn1WTpMGVEqOQg8FK+NjwELx/hWaMca6LrSvV7s0xJgRgANCo2lRPGIT3E00igrIsdbaQag/lpSqgXOtxAD9SSGzNNxqe9t5Y4NN7Sz+enKgqGXTXMLEEfEYOR89dP610a3D/BpAwEGv6Zr2EMK8aZAGBzpZ7fyu/JNhtx5tZ+/sIJd3aEdG2G0qfDNgsFhOalKkYu2el0guJVVVNfSSNPNHu8AeQzDMff4+Pt09fX19LSEqkUg1cKjrnV2MobVoPeIqX/FQCE7RjvPsSJHUddg5RAABCuOl7/IoRdiUJmA9d4+zbwGYbc9Th8IUISAPDGt6CvFKf+AZAMAKx+DTircerjIA1U+LgbReunyH98GORv/vDd7u4OW0fTbXff/a0elvOHi5W4ceEwPfxrOrJ9BzCdd1bZOqts3/yQYWaPRW9pPc+6ExcjHA7Hnffdlz5mzG//+Mf9n3/e2NTU1d3Nvq5f3ldxpqTk93/+8/GTJy/0JC8Y/mXq99uZ1dfWrr1q3rx3PvjgVw8/vK+WOAjXGM9JVQ430IJm9vNR6rAQDAA7a2i4N67spnNTlEhfz7W3V9P8NnZXtjnSF71aoPcT8cikL+lndjj5G4U6ACzNUA7UkZPNdEGqMmg1t1SRA/VkToqaECjttBKzJGJ80eTooWhnaSd/bMoAK6eDfVahLR6mZIR4pItyrUSWYEGayZCh2GUlu6zkgUnmABMwLnZYCBUQ7YtnxssA4CLimWPuYWH4ltGmXCtNDpK9ZHSimc5NURQJ2TWxqYJQLq5KU2P8sbH/DgvBAMND8PgoiQv4qIzYXOKmTJOPijucIreGpgbilj5POU2Hk68+pWeE4mtHeKSXXi/Qb85UpsVKxqmmxMgdDt6j8TnJil0Tz5/QpsVKZ+vl1vfwVwv1SxPkaXEyAKw+5faW0R1jPTtUdLE1p/VfZJoMnjMAbLdQXYgoP+nyRMU4PLeaYIznJMkJAbikk31aQeanKmMjJAA40Uxr7cKuw/w0NdoP76ohfipgDDcPyDeuynMXt9OHJ5r8BhQT15WQmh5+b7ZZwrCvjh5pZDdnevK7PRo8d0IbGa4YFbR7aohD5zPjJKOFAAA0dNg7qFdXZ8fkkUkTo4dKhpDsExIc3NnVBf2nI0O8peTHjHHe+jHvOoSHPQUAor+Ut21Eko+c/ldQQgAAaC+3PomCpuLIZQDA27eB4i/cLThiMcgBAMDbNvPOXCntN55/mz8A+1Ep7Q9IGSBMkW7etgn8s7j9CIq4OkrK3/jPO9t76NFjx/7+9NPf+Fk5j7hYiRvnF+KsmpYQ07mtT78b7A2eRgtM/6Z2Os3koTL1O78m+fp9QgjR2NTkdrv//a4XBk3NzdMuu+y1tWsppf9+76+gvLLyr08+OXnWrPHTp2/67LPzPr0fEN/OrK59992wsLCxo0d7JY6vtAmNoTlJyuk2ttNK5iRLU2NkANhXRyUh2p1setxQieqxJrrNot2SqSYHoFUn3Wc62O+mfsmmuqjYWEHNspiZoNT1iMNN7LoRQwUbx5tIQSudnSBPipZ2WYmXDMFmNOg57bKSXVbtgQke5Sarnb9dpE+J9SjpN/Tyj0p1IeDqdE8/mRPN7O0i/e7xpuQAj3iQQxdeMjLEgLiA5064g81oxVjT/jpqkiAlEOVaSU6KhzO1rYpolC9KH1Ku32ElGhNhPtioz/msmtTa6Y2ZarQfdhK+w6KnB0uVNj43RfFRwKmLV05p4T7o1tEmAOhw8JdOaQvTPSoNO6wkJQgjgCobn5usMA6rTmrxZwkaA4BdEy+d0rIjpUVpKgC8flrvdop7x5tlCQFAm4O/mOdemCpfOsAR22kltb0MAxjSDd0ukWslJgVNiMQjw6S6Hv5agTY1VjY+z7IufrKZuam4LFFJCcQ7LbrOBGFiXooiYQQAu2tIYRtbPkIJHWjYt7uGHGkk92WpQWZ0rJnttpKr0mRDi5EwWHncFR/gMfkH62l5F5sQrQwKT/Zo4khlO+ciMSXtbJtqwNfXN9DPdLLQEj7yLmNEdH/Om96R0/6IJG9wN/CGV5HkhZN/NXgIs/wDmROkuBUAIGyfI+4Q7g4ccimYYwBA2A6L5velpF+CORkAePs20bYRJf8G1IGeX9zN2zaBOV70FuDIq7n9hOg5lZZ98yfr1jW1tDzz/PNbtm37Bg/KTzj/aG4b8g6V71TB8FWvPzgpAAAAgaR+0yqdRPU/VfD/zyGEeHLlyqDo6Lj09LTRo38Qh6+nt3fuokWFxcX/+anyCwqWLF8+/+qrW1pb//Oz/RjwLW7Pzw8fFkLs3b9/0fUrCtpYkEmMC8eNfXxfLRkXIV2epALA1mrS4eRuDsNDpEFH02JjbxXpV6er4yLlg3X6qTb+izHq2VxWANhaRbpdPCdFDfdGG8u1mfHKlBjP4cUdbIeVZYRK81LVnVbdSYWXguemeDyz/Bb6cRm5bYxqSCMZGc30ILR0uAoA3S7xSYWOQVw7QjVUgqu6+ZoC921jTVkREgDsr6MdLq4xuDJJMaa06qTGAT0w0ZzXQjudfEa8kmshsxM8Lc9215C6Xj4rcUj3YJeV2DWkYDDalR+sJ4UtZG6KOjJUAoCdVhbliy02NifZw6t6vVATAu4YZ5IxuKlYedydHSkvHqYAwDvFup+KInzwkUY6N1n2VtDqU24AcXfWkE3lAp495g40gdEL/ZMKcrqNPjDBZJSo6kw8e0KbHK0OUnM/b6C1PcJPxVelK4oEGhU7LDoXYniINClG7nDyvx/VMkOxIRjZ2Mv31VKdwYx4eXgIPtrEmvqFg0BOqmLkp/Na2Qel+l1ZpimxnjVNQSvZWk1vyjQlBkqnWul7Rdq0OGlGnGfr08dd/ioyanuK29nBejIiFA8yvNxUbK3SO9paglQ6PvNr2kKJzt2xoVJ7rykiKg4AwFHJ61+REh8En2GC2FjDGgESTvnt0IdjfQoADCsr+ktEX6ngFAdmI98MAID+Ulb7HIq9FQVMAADefZg3vIaSfol9h1pn8LbNSPYDZyWOWCycFtG+CSU/Bkrw2Mjaj1fd0e9w3HrXXRfpw3+xh5L7Hf+pd/hVrx9hFJoWFJp6bmXX/wF/fH7iz/8J7n344V///vdGT8PGpqYbfwgy7bU33HCmtPRrN/n4+AxPT09JTkboWwRatu/cOWr8+A83bDhPE/wh8S3M6iebN4/OzPT29fVJmx7vj1UJC4QONZIYX2lBmifj2NIvNAqRPnjQ87C5xao8bXaifFmSUtrJ1hbpt49VDZM2iFwLsdr5tFg51Au9VqBlRylzBnhAhuxDjC9anK4cbWLHmjgSkJOiGCWqtXb+6mlt2Qh1SqwKAA4Cbxe6A0zo+kwzALip2Fyl9+mweJgnINnp5C+edM9P9VBVjzWzuh7mJOjKJMnQBH79tNbmYA9PNFd386J2NjdFzbWQ4SF4RCgGgLwWeqyJjo+UBk3+kUba2CdchM9NUb0UlNdCD9XTcVGeTum7a6iXAh1OMTHaQ4N6q0hv7Bd3Z5uN8OlzJ7UIX8nounqkkQWY0ehwaYeF5KQoYd74+ZPumh5+/wSPUpKBNQUaRuiuLBMAHKijOyzkgfGeFCYAPHHEneCPb8z0WLW8FlrWyZ2E5yTLkT4YAHZYaZ8OJhnPTpCdRLxyShsWjG6Yc8VyAAAgAElEQVTMNANAnw7bLDrlYka8NDpcKulgBa3MQWBeihzujQHAamev5Lt/ljHENK7sZu+eIVcmyZOipeJ2tqVSnxInLxgIVq884RaAfjnZDACF7Wx9GYnywYOhbCHEdgtt7hPc3mSi/WMyM8+530R/KWt4PTp+WGtHd0x0NLB+VvcShF6OQi4H5uINrwLtk1J/B9iz5mANrwtXrZT6e0AItBbevhUkL2SOQoFTAEBorcz6JIq4BofNBQCwH+F1L+D4u7FRbAMAALz9MxA6d9WjsAWC9PD61+Skh7BvhujJF676y7P9Xn/ufxnnt99zzzd5Xn5suNhDyd/n/Injx6sIfeDQodWvvXb2SFV1tbWm5vucQ35Bwa69e88ZRAhds2TJwZ077c3NZQUF1cXFb7366rcSdOy22ZbffPPym28e1D2+SNeC38Ksbtm2rbm5ecUtt1w9TLk8SfFVUX4LNWG8IE1RJWTXxJ4a6i2LCB80qCDIBTx/XMsIxddmqF0u8c98bckwk2FyBvF5Ay1sY5lhODNcWn3KPSJMum6Exyo09vJ3inU/E1o2wlRl43nNJMQLclI9AoHtTvF8nnZpgnLlAPd1XYne5YabM1UfBQBgezVp6OXzUzw90SiHZ05oWVGetqnFHayskzIuZsTLhhjT+lL9TKd4eJK5x81zrfqcZOVoIwnyQkZ5TLWNb6kiSYH4ygFl+dNtrLSDaVTMTVHCvVFZF9tVQ6N8sEFrOtpIHUToDOIDsJGz3Fihn2yh92ebjFj0y/kaYfDgBBMAFLTSuh42PVbeWk1mJsgJATjXQso7+c9GqIaSkYH1ZXplN39ooinYjIvb+foS7dYxanqI50tcecKtykPNzEs62YlmSriYn6oa5N7dNaSljwV5oZtGqQDwRqEuBLpjnEmVAQByLXq/DhOipPFRckMvz7VSyvmcZDkhQAKAXl28eFK7MkkeENYXDb381VP62AhpfqpS2M43VpBIP/nqdM+H88opzeYSRqifcthj1d1ELMvwSHYY3051N82OkrqarY1NTdnjxp19Vwjaw2tfwBHz/YMSMMYB/v68ZiVSw6XYWwGAN78LfUU46TGkBHvutLZN0L1fSvktSN7Add6+DakRgM0odC4AAOtn1X+GwMmSR6a/hdWtwRFLcNicoSt27QV3C+idUvg8JJlF7UocexMETgO9XbR/CqwXh1910y0PPfbQQ4e/+OKt9977t8/LTzi/CAoM+N6u5ej+lwlLGzs3VfE9Y/9XGoADwIm8vK8OXjjs3LPnnBGTyfTp+vUfv/feJdOny7IMAL/+/e9/ceed59CXMP73FufDDRumzp5dV18PF+1a8Jua1fyCAozx6aKiW268UUJwopnW9jAFwYI0T++XPTVElZCvydNj1cALJ93eKqwYZ3YS8ewxV1aktChd+dJpW+gXjSQxEF+Zor5ySgvzxrcOaPJ1ufgHJTpG8LMRqkPnW6sI4bAgTTXEg1r6YdVJ9/BgNMh93VhBauzs1jGeHfbVkuIOfnmSR+MXAJ486oryRreMNgFAte3/sXfdcVIV2fpU3dDd05NzZHJiyBkExUAWBEQMa05rRkVdd31ueu6uvmdCjJgwoCgioMAMSZAMk2CGyd09OfWknp7pcG/dqnp/3J4ZVATe7rLhPb4ffzDd1bfrdtftc8+p830fO9xERYyyw0XdtHWbleyr11ZMkChHO2xkTopU62AKBX27tMvD151SQo14SaZvejXd9FiLhhBMjRdSg3Gjk31dSTCgRZmyJKASO611MMK4osH0eBEAvqvTdtdpD4836MXkdafUOgdbOdmIENR0s8I2NitZ3F2njY4URoQLhW10S416zzjDYF4IALtsZHetumKCHGJErf30zULvgnRJ388GgLeLlQYHe3pgx7rWQb+r0wTk60wGgKMttLKTmkQ0P1UWMKwtUet76X3jfW1HO23E0k0nxIjT4kWnwnMtRMIwI0HMHvAC+u/D3pwIYfnwwW8H1pao8YF4ebah1kG31KhGgS/LlHSC7NoS1epgvxmYzMZKtUeBRycZgo1D27FlnWx0lDgtmtY3NJwsLZ004Yfk+r4TyJyKY29FCIWHhbHGNVzp0PkwvG0jdxbjtN8ho8/wkvccok3vo6THwRgPepsSQsAUFHE1AABn1PIcMiYKw+4HAGAqrflPFDIdx940+G7cvo31l3Paj8JmgSGWWv+CwmfjyGsAgLVv4ZzjyKv1SvJvnnxyysSJK5544jzbHS/i74WIsNDB/3su8GeveX+2B6dW/Ykt6D82pfrpHoQkSZdOn/6PnENdff2PHlEUpcZq1S+Kk6Wlt9599wsvv8z5jz+aI3v30r6+fru9rLDwzVdfXbZkyRl5q6VlZRNnzDh05OhPn/q3wPmG1b3790eEh99y000AUNymFbVrCNDUeB9n9Ls60uHiRpHPTxkKAx+VqD0e/uhEAwC8XqiEmoZCpo7yTlbVTQMNaEG6/E6RV9XgvnEGXWrfTfiGCuIm/OaRcrARbashooBmJftEDDQGn5xSCIO7Byiq+xu1olayNFPSdfOPNWv76smMBGHaQLX2tQKFA9Llflr7WZ6VBBl4lB+aFi8CwP4G8m01eWC8MTlY2FevhpqwV4MGJ9M5qYzDlxUqYeiG4ZKeB7f0sVwrMQgoK1wcEyV2e/mWaiJhuDZLivDTjVG1SDMWELouWwKAojb6VaV6S46cFe7zxjnQpD06yaj7/ORa1bmp4pFmGuuPJ8SIDb3s/RPKNeny+NNK5cVt2roy9d4xxqRgwU34q8eVqfHiwnTfivy8TK3qon+8zBfG2l1su1XzE1FOpKC7i5d20CNNhAOany4HyLC5Wi1sJQ+P9xneHWuhR1u0CbGi3gi9s5a4NT4uxsc1AoC/HPYGm9AgIdij8XWnFJXyG3OkLg/7opxggBtyZP0G66tKUtiqPTWgQXGoiR5u1m4e4bufAIADjbSoTcsOwyYJFRQVpaWkjB879kdWzCjkMp2T2ut0hgUKvGsPzvg9APDu71nHdhx3GzJn+Ia6qlndKmHYQzhoPADwngNcbQO1C0UuRKIZAKjteUCCkPorfTitfhaMSXjYvYPvxftKWH8JkF4cfhXyz6SW58CcgePvAF1Tou8UjlyEAscMjt/42WeMsbv+PUvBfxX+5Upx3coFVdg/W5txtdd3FQQPrth/bEr10zj0q8cfj42JOePgC4Sw0NCfPvjkb34jBgb6hYePmTLlpyxVALj1ppsmTZiAMTabzcOzsu6/554Nn35aV1HxzFNPBQb82Gajo7Pz6mv/XZuYznd1Hjx8uKm5+ably6u6WEEbMwloZATSdfNP2mlxOzXLaEGaJA0Y0GyzqEdbyIMTDAYRvXtCdXrhwfE/pqhuqlIanXxJhry5Sq118EcmGXS9QM5hc7Vqd7MlWXJaMN5RqzlVfkm8T8QAAD4oURxe+vQ036ZjUZu2y0YuT/Lt+ZV10C3VZHyMNNgqvLZEbehlT04xAIBD4dstarQ/lrCv9fekXfu8XP3FCGlUJN5VSyL8hJwInN9K56X67Fk2VZMGJ799lKxvYfYqkGslISYh2h9NjxcUCrkWonE+M1FMD8XtLp5nJcmBuM3li8q1DvpOsXdRujQ1XgSAIy3axir1/vGGuACkH2pOqlzZyYwCzEgQerz89UJlahweNG0FgKY+/naRekOOrO9Yv3zcGxuAbx3Qzd9eQ75v0B6bZAw0YABwqny7hfiJKCEQ6YmyzcHzLERj6JoMMdIP7avXdtdq940zJAb7VCm2WsiIcEGXe9xlI9830KwwPH2gVv92keKlfOVpbKivq4jdxW8bZRAw2lytCRiWZkp6rXhbDdlpI49O8hW6m/rYx6eUxRly1kCl+niLdqiJJAeLOZGipYtu3XfY32y+cubMn1ucHfbGUJMTJT2BpDDeX84a38VR16DBDVGtl9b+F0Qu1Mu5zP4t783nmhtFLULGWACgdauR0i6k+mQfmPXPgCUhdahzmLutrH0z5whHLkABo6jtv5BgFJJXAgB3V/PWL1Hk1Sh4sm9wfzkA+Pv7//6ZZ9atX//Tm/H/o/iXK8V90/iTlPHvh25b71metaq+6y4xPvYswy4cftSFYDabf/3EP1qX+LqlS3+uHcnj8Zzx8QVz5655/fWfPh4THf3c735XUVy8eOHCHz3l6O19+tln/8ap/lNwvmF1/6FDAQEBsZnjd9aqRpEnBQv6jmOjk22pVgUE89OkQRZjYZu2oZLcN9YYZcZfVSqldu3hiQY9d9HR7uIbq1VBQNdmyQVt7GCj9ugEOWSgQrjdSmw9fHayNCpS2FuvVXfSMVHClAFxny8r1MoOet9Yo77pWNXNvq4kORHSlUkiANQ56MelalbEULV5YxUpaNN+NdVgEBGhkGclwUbsUtmcVBl0Ddsi9eo0eUaCdKxZ61chJxznWbU5yaI+n0NN2vFmsjzLlyhTBrlW1SiCSfS1/n56SnEokBMuTooVXQTyrGp6KLb1snmpkp+Eur18Vb5yeaJP9qGqi75XpNwy0jA6QtAYz7OqY6OFDjdzaXx2iqRS/lahEhuA9R4iHf0qe/W497Jhgr5l+0ahwhmsmOgbcLCRfFFB7h8vDwvU83i+3UIEjIKNvpuGdhffVKUixBemS4lBQomdfVWpXj9czokQAaDJyT4sUSKMsDRLBoDjLVphO70qWRxstF5frlZ30adOi6l5VlLTTZdmSpFmvK1GJZRdNkzUSajf15PtNvLgBENqiAAAlMPrBcql8eJg6+/JdvpdnRZhQnNTxAMNJD0Uf7NzX1tH15yrrjrzsiNdzY21IeHJOHgiqF2sbjWEzkSRPqUk4IRa/pObRwhxtwAAV9qgv4Kr/ULoJcicBb4t2BM4/XcgmACA1q0GtR2nDl2oXGmlresBCTjsShQ4lta/gZR2lPwrAADqZtYXUcilg2KH3G3lnTu4txEAVq5YERkRccOtt/7c9XIRFwKS5FtImy9YWD1/AusDd958geZwdkydPPn0P8ePHfvzUvUXCuPGjNm6caO/v/+5hwIAwNXz5m1av95gMPzcgNiYmE3r17+1atWPNl/37t//N030n4TzCqu22lpCyKLFy7ZbtRCjEGHyySa4Cd9QoTAG12XLgyzGVhdbU6TcNFweHSVsqCDf1dOHJhh1qxYdfSp8W6MyBvOSpXYX21CuPDTBEB/ki5rf1Wkldjo8Ak2JE4vbtO/q1NgAfNWAb/muOi2/RbtrrEGXM2xyso9L1NgAvCRDAIBOD//gpBIfgG7I9o3fXUu216grJhgj/Hx9sAYRt7n4nBTJX4J2F3v5mHdGgrggTaropBWd9JJ4IddKrkyW9ONXdbEtVeSqZHnswAbtdouqMSAM5qZKCKFdtURjEOEHumRgnpVE+qGabjYvRQw3Ia/GXz7qzYkQ9A3gbg9/o1BdkC7PHCYCQK6FxPhjANTkZPNTJAB4/6SqUH7vmB8UeZ47rESb4aYRBgBYV6bWOujKKYNeNNp7J8jdY+XRkb6fm09PaSpFGIGeKLsIbK1RAfiVSVJWGG50sneKvXNTpBkJov5FrDmhJAaJ94836Ce7w0Zi/PH8gd3xHTayt548OtlkHrhh2t+o5bdolydKwyOEbTVqP4HRUaKeQxe10U012g05htEDRYXX8r1hJqTbmANAqZ1utxKThJZkycdatFATKm5yVRbsA05nXHLJGReeu2ZVc4c7Y+QVAEDrXgK/ZN3GXAetfBqJZjH5UQAARrh9GwgmHDpZz2V5+7e8fStOeVo3VWUt67izGKf9FgkD1zbtY61fIk5x2JU4eCJt+Qyc+Tj1N0j0BwBm/Qsyp+H423yDSRezfwthV/Ku73j3fgB48tFHN2/desZpX8QFwl+eefJ/+xLi0c6io0RV+qNne+qdZzlarTp0baYMS/jfTubvguFZWcFBQ91bo0aM+KdMY/6cOXu2bYuLPXfKPm/27K/WrZOkc98J3Xf33Z+vXXv6yJ/Lff/FcV5htbSsjFIaOGq+vwRmGQbrkxsqiN0Nt44yDPqMaoyvOq5OTxBnp0in7NqhJqI7qg4eSmOw3aL2qXBJgiQK6MOTyh2jjYMc0CPN2rEWMjICL8002BxsS7WWHCxcm+mLGfkt2p5abWmmjxLa4+XrylWTBMuzJYOIPISvLVGMIrp9tFEv3ha00s/L1fvGG3VBvt21RKOsw0XnpEjR/rhX4S8f8w6PEG7MkVv62K5abVaK+H0jHREhZIdh0Cmwxd6RkXhQZfe7OuJUweFlc1MkfwmONtOCVooAZqfIAJBnJUYBtbn45YmiXl9dla+EGH1bkg4ve/GYZ3QUXpopAcB3dZokoHA/dLJdm5cqSQJ8UaZWdbEHxhv9TkvrV+V7A0R4YooJAHKt5ECDtmKCr1Te2EffKFSXDffFSP0EEWIejc1L9bUO5VqJQ4Wp8dLYaLHLw1897p0aJ+psKAB4p8jrJ6K7RkuSgNr62boyxV9GizNkXY/wSLO2vly9b5xxWOBAEaJV29+gjYwULh0mbrdqvQofFoD0TPRUB/38lDI7SZwR7/sqPy9TWvrYEwNpbkMvzaslbsKvzZLa+nlrH+tVwFO+Iz0tbdmSJWdcdazpvYPHy6KjomJjYqjtv0HtFE6TfWANb3Gm4mTfI6xjG7A+ZIjWhfh5z0HW8hFOXYnM6QDAO7Zx+1Yx7Vc+JSYAAMbbNgLpxmFXoOAprHMHdGzHKU+BIRoAWP3rnHmGVCa4xtq/xYFjobcQCUYUeikAPPrQQ5Io/scfLogr2UWcESOzMgf//1X9eUm093f42K6UnGHH1NHwA5WlwcE/h/9ojTqfN72gwBivXLFi8M/5c+acZfAFxaQJE0rz81947rmc7DOQzgEgPCzsL3/845YvvzxLnvojLL/22q/WrRvcP54wbtzfZ67/WJxXs/iO3buNJnNSWjYCPpjKbLeqh5rI45NNg0r3APDKMSXCjG4ZabA52Psn1csSpcGYpCPXora62IgIIcworMp3XZMhz0z0/RCfaKd767SEQGFemtzj5evKVLMMS7NkP9nnlb2pmkxPEPUdSkL5hgq1X+V3jTKE+2EA+OSU2uXhj08y6lpLNd30rULvDTmGiTECAOxroLU91N+AJ8YIaSFYpfzNQiXSD907RnYR2GEjs1PEk3YWYUK6AJBK4fnD7mGBwo05vi947UkFI+SlMDdVjvbHpXatuJ2ZZZQTjoMNcLBJ8zJQCBsZ6ZPle7PA6yH8P6b74spbxQrlWPceP9as9Xj5uGi83aoty5KDDOi7eu1gs7Zi4g/S+o9L1OY+/qfLjABwvIV+WqY+MdmQMEB3eeWYctkw4eqBW5wjzbTRydwaLEyTwky+mFrnoGEmPC1OcBO2Kt+bGoJvHsgd3ylSehT29FQ/kwgeja8vUxCCG3MMQQYAAEs3e/eEeutIw9iBtqmKTpprI7H+woJ0eVsN6fEwWUDz0mQAqOxin51Sx8VK89N8k9nfoO2q1X53qZ++/9Lj5ZtrCGVwy0iDv4y2VKt+EkoPwV/v2exwOK6/9tqfLjmu2rnas9+aLMtl6SE2cHUJI98ZfJa1bWA9h4XM53UVX9ZzgLutSAjwtf72l9PaV4Rh96LASQDAHEdY8+dC0sPgN/SjzFo3cVcNDp+FQqbz3iLW/AlOuBuZhwMAb9/IHMeF7JeHJmPfiuQQ7rYgYwLvrwCXFZlTAWD+nDlrP/nkud/97qfzP3/wf8Gty39VYIyCAvx7+/oB4AOLvCzx3IJHgTH+PXW9CCPhTMpMIcnB3TYHwkiQBUaZ13E2BX+FD31R//HoP7Nh7ZmnntI0bc0HHzy9cuW82bP/iTMJCQ5+6rHHnnrssaqamtq6uuaWFkppgL9/eHh4eFjYiOHDzydJ/REWLViw/qOP1nzwgcFgOON27L8+ziusHj56dMrE8XNTZQGDLkVU0Ea3WcgvxxkHW1EA4MMS1eFl/znTr93F3ylWciKFJT+k0+yuJbVOnhgkTI8Xf7vfkxCIFw5kTlXdbJuVhBphcaaMANaXq17C7xpl0DdQLQ72eZmSFSpcPfDD/Y2FtvSz5VlyUjAGgLcK1cou9uRUX6dMl4evLlDmpfqCenGb1tLHQv1wlL+gl3PfLlZVCismGhFCO2wkJ0KwuzhnXFcQBICPSxWThJdkGfSuqLIOyjgoDKbECWkhuNZBv2+gEkYzhwmjIsXiNq2xl5klFOOP9bapT0sVq4P+8TKzTtN8q1DxavDny4wAcKqDVnbRyxKlbRYyP1WMMqNTHXRzlXrjcEPaae402yzkaIv22xlGSUA2B1tzQrlztGFslB7y+X8f8WaG4RtzfPeAJ9q1sg5KGb8iSdbL1/sbtVMdNDsMX50uA8CbhapZwroOPgCsL1Mqu+hvZ5j0W5ANFardi+4aLUebEQB0etiqAu+CtKE90YZetqFC9ZPxNRnS3jrS7WEM4LpMScRgdbBPTymJwXj5QOG9zkE/LVPvGG1IDETgq08QhaA5yWJGKP66iogY4gNQIu7Ylpc3cfz4H1NrAACAd+7AYVfs/P6xlpaWCTEVQuaawcoK697L7d8KSSuRrkfYX8679iPBjKIWgmBi3hZuewHFLPP5x7ktvOEtIXY5Cp52+sG5Mx+FXYlCZ3J3Ha17BUUtwaEzAYD3HGbt24SkFUgO971d114gvcBVFDCSu20oeDKSApl9K468euWKFVu2bSs6cWLcmDHw1+JiTP1f4Q9PPfros88BAOVg96JI4zm6xgQJh6f/rIgSFtDgs2fvVAKA352Wql42bfJZRl5oIIR+/8wzv3/mmX/iHH6EzPT0zPT0v9fRlixatGTRonOP+1fF+e6tzr3qqjAT0oNcg5OuKfIuSpfHRw8xQHbUkmPN2opJxn7CPziphBnh5pwfVGkON2nlXSzEALOTxBeOKCmhwq+nmfSnGnrphnJFAFiaJQfI8HWlWt/L7hhtiA3QN1Dpy8e8UX5DLqq7akmZXZ2TIuutyDtsalmndv1wKT4AA4Cb8BePecdECcuyZQCo7mYFbTRARmYJTY8XAODDEqWpjz080eAnod11WqAMAkKt/WzugADQNzXaSTt7YLwhKQgBQG0P/b5BEwUYGYFHRwodbp5noyYJjYgURkWKlh5W0Eb9ZSQJoOtgbLVoh5vZE1P9dDbO5+VqTQ97fJJRwFDroAcatUsSxL115PJEMTlYaHCyNcXKlUnStPihD/NIs7a5Sr1vnBxtxk6Vv5bvnZ0sXTkQ5F467g02ol8OOLLVdLOjLRQAJsZKevm6qI0catQSArGeTa4pUjo97P5xRl3Ud5tF3VNPH53kM4zLtagVneym4ZIu4KxS/vJRZVyUcO2A/GG3l2+sVBFGyzLFUx3U7mJOlc9JloKNqNFJPynxBslw/XC97g7VXeyFI8rkWGGwNJ1rUdv6+eR4YWy0cKhJq+piUWY8K1l6b+3aqMjIe++884xLDkmhTX1RFZUVl40NDRrxDMi+XzTeX86bPsaxN6OgMQDAlTbe/hUChiLnIUMM11zc+icInirE3AgA3NukVT8LoVcOdTnp9eGOXTj0Uhw+i6t2anseh14qRF8LALyvhLasQ5GLUNB432BnMfSXAnNBwCjQnCAGooARrH0TMsQCwOSJEw2y/P5HH535srmIC4CczKHf7lsOms8y8n+FLovj7AMYh0biu3GcPO6vv4u6iP8POHdYbWhsdLvdV8+bp/+paPy148rMROl02YfSDu3LCnLvOEOYCa87pToVftsog/E01d/iNq2gVcPA56XJbxUpJgnuH+v71a7sYl9WEEDo+uFylBnvbyDHW+mNOT65wS4P/7SMxJjR7FRZ3y881qLtriVT432iwcdb6OYqcudog85AZRxeOa5E+yGdI9vopHlWEheAFcrnpEoA8NkptaSdPjJeDjWi4y1ar5fFBeCT7dq8NB856FiLtsOq/HKsQQ/SdjfLtWlBBhRjxtPiRTfhuVbVT9QtZoXWfpZrUaPNWGWgW6MfaNA2VCgPjJdjzHolVt1bSx6daAgyILub51q1q5LEghY6KlIYHi70ePnbRcqoSHy6SsbxFu2jUuWmHMOoSBEAfrfPkxMhDuaCqwsUQpHOBgaA5j6WayUShuxwQRe+qOpmuVYaakQL02UBwRcVakUXXznZGGgAADjUpK0vVx8aLycGYQAobKXfNdDFmUNOQS8e9Ub44zsGGMaKxr+pIgqDJRlSqwta+pjG4fIkaVgQ7nDzLys0hNANOb6igofwr6uUCDPcNfDyvfWkpodlheNLE8Sabrq/QQs1wRXDBM75q6+/LgjCrTcNaTKcDhSxYONXH0SHCsuXzMfBk/QHubuO2V7E4Vei8NkAAFzjHds4FyB8NjJnAgCz/hGZEoVh9wEAJ12s7kUcNEEYbDsC4M5i2rIBBU9CEfOBuljtS8iUjBPuAQDurmHNa4WA4Th68cDb1XL7Vs5UCJyAsMy9zThsFm/fBP45KGgcAIC7dvrErK25uT9z6VzEBcErfxzK0t6p/juYYHfW9JyTK3V7Y/zg/597+rG//U0v4v8wzh1W9+zbBwgNdnw9s8+TEIBvOi0TtfTQNUXK4jRpXJTwVZXa4GR3jTHosvI6qrvZvgZNZbAwXdpYSXoV/vgk389unwr7G0i7iy/JkJKD8f56sqWazE+V9G5St8rXlxOXym8Z4SM+nuqgeRZ1XJSokyxruum7xd6lWUNSSqvzFQ7w8EQj+KxaaEYo7nCxOSkS0r1Wmsk944zxgUJVFyvroDkRwu5aMi9NCpQRANT30g9L1MWZ0ogIX+KbZyFBBjDLSBft22HTgINJQnNTpT4V8qwkKUTo9jDdHOaUXXvvhPeesb4mrOMtdFMluX+8aVgQdhGeZ1UvGyaWd7H4IDw+RiSUv3dCCZLhttPcadpd/NNT6vR4n3KfE9gAACAASURBVP/Mi0e9MYFDjm9rS9QmJ1052Zd3OhS+3Ur8ZZQUhHVJyCYn+/yUKgtoaZZsliDXSr6r1R6ZKOmN0BUd9L0Tyt2jDaOjRACwOti6cvXyRGnygIDz64UKZeixiUPzybVpdi+/bJioaLyolWAE2WFCTrjQT2BztUoovy57SOfhiwq128MfnuBLo/NbtKJWmhwsXJUs9nj5xkrCOSzNlAKN+L9eecVoND7z1FAL0o/AvU3vf/h+e7dyx4OrfI+odlr3CgoajWJ9xAZu38Y9LThkEg6eDADU8ieuDfQZUTerew2EYJz48NAxXdWs8T0UNArHLAcAWvsaAiwkPQIA4G3kTR9ybEIxN/hGaz2sbT0HwCGXIUMM69yFIuazjm/AGIdDLgEArrTTxnevv/aa1ra2f1PS+r8pRmRlmIy+NfZ1g0z/BvIw5/x8zFbf7gylAxur99925hvBi7iIQZw7rObt2iVLkt7Kteq4EmzCK05jMVLGPysjGWHCwgxpp42Ud7DrBiieOhqdbEu1ggDmp0qHm7SqTm3lFKOeGBIK31QrvQq/LlvKiRDaXfzrapIZJsxM9OWdm6pJl5vemOOzYKt10A0VargZL8yQAEBXTpiTKs8aoN98cFJp7aePTTJiBB7Ct1vVYYHI6mBzUqQAGR1voVuqya0jDMPDcFs/22FTJ8WJ+xu0eWk+vcN+Aq8XqpcmiLOSfWEs16phDLEBgh41d9pIH+EqR7oTQJ6NhJpQk9NHUa3p5m8WqcuyDXqp2eag7xV7rxsuj43GAJBn0zJDheY+1u3hutLCx6Vql4ffM9Y4qKHRq8BrBd6cCHzzCAMAvFes9Hj545N8n/ZXlaSwTXtiilGvLSsa324hGEG0GV2Z5PtAvihXAMENw6UIP3S0mW6qIr8cZ9AVj5v72Ooi5ZoM+bJECQA63fytInVMJJ6f6oupn5wi9b1s5ZShmLq7TrN003GRQoCMSu00PkgI80OT40TK+HaL6vTyy5Mk3YQAAHbYiKWH3TbaoIfwyi62r0GTBTQzUTQI6Jsa1aPB9TlyhB+2d3T8/rnnwsPC7r799jMuOU66ju15s7Gtb8V9d+ktD1zrZ/VvIikIx9/jG9NzkDmLUUA2CpsFAKzqaVDtYvaLvmXZ8DbSnELSw4AHlP17C2nda8icKcTfAQC88R2kNOKUx0EwgdrB2jZwZBBif+FrFeaMtnwOWh+OmIcCRvCObULk1bxnHzAFhV4BAKD1s/rVIBhmXDpPFMWjx4+f9Rq6iL8ztnz09uD/5+85X/bkj+DtVc5Z+wWAUo/xgMtXbcYYL13wT+u8vYh/bQzd3507rB46ciQiIgIAPi5Vm/vYY5N+4JP6wUmVMXhgvPFIM91XT8ZE4UHFOwDo8vBtFs0g4hkJUnEb3d9IV0wyDmrHb7OSul6WFYYnxYqE8reLvRmh4r0DbTXbLaSul81NlfTGWrubfVZGZAzXZcl+EiKUv3jMOzJCXJY1JPtQ3EZXTjHpUSfPpkWacV0v1+k0VV3041JlUYY0OU50E77DRi5NlE600clx4uBNwOp8b7w/GkzEc63Eo4FHgzFRgkFEh5tpaz/r9bC5KWKQAa0tUSUETX18XooYacaKxtec8Mb5I70Jq8vDV+UrVyVLesjPtZIQAygUvBR0v5otNeqpTnbfWDl0gO+rUv5OkTdIRnoFdWMVKe1kT0416T1TO23aDpu6YqIvaAFArk1zEwg2IL347Fb5p6dUp4ZuHC4lBOLKTvrBSeWG4ZKex7e7+Kv56pRYcXGGBACE8tcLvMEGuHUgUf6mmhxpIo8PCF0BwNFmrbiNpoYKicH4cBP1NyCHl+ku6HlW0trPR0UJkwc0Og430/xW7aokSec+nbDTLTWEcViUIYYY0Q6bauvhizN8/rsrf/1rSZZfev75n1tyvHP32+v2ubzaI488rT/Cmj4A0ikMux8EPwBgzhOsYzvIkThyIeicVNWO057Vgyhr+pD3V6DEFUN0Gs3BWtcjORQn3AOAaesXzHEMJT8BUgTQfta+iTOEQmcg/+G+t2v7HFw1OGopCprAO7Yj/2yuNAOIeCBRpg1vAfMIiQ+lpGYjhP5NSev/vkAIPXzXX6/FwTnvsvT028/tNNdKxOftEYN/7lj/4V/9phfxfx1Dm57nCKt19fWKqkZFRnZ6eJ/KH55oMJ/W25tnI8Xt9P7xhlI7/a6WjImRBm0+AcBN+HYLIZSPjRI8GjvcpM1NkfQtPQDIs5IGJxsdKejCtu+eUDAMVTv31GnfN2jT4gVdasCt8g3lhDC4aYQcacYA8PIxJdSI7h4Yv6tO22FVH5no6wTOsxKTCHYXnxKL00Jwk5OuLlBmDhNnJ0sAsKNWywoXa3tYcjAe1C5YU6x4CX9wwpDIcIeLd3novBQpxIhOtmtVnVRjcGWyFB+ADzZpARI4vGxmoqhn0s8fUZKC8DPTTfqJv3LcmxMuLB8u64eiDAINqNXF9NTwSJP2fb12x8ghI3QAWFuiOhR+z1iDiNF39VqelTw0Xg42AAAcbaZfVSq/HGtIC/GN31Wr2fuZSYT5aZJOYvmmRu3x8iXpUmaY0O5iqwuUeWk++cZuL3+r0JsQgAb1Dt89qQLAysm+kz3QQLbUqA9NMMQMGMyd6qB7G7RwPzQiHOda1LQQ7CZ8aYYMAPvqic3B4wLQrGRJvz07aacHGkhKsK/M4FD44SatX2HzU6XEIOFkO91fT7PC8dhoEQA+Wrdue17eXbfdNuuKK8645Fj7N1xzfJFX/sA990aEhwMAa/6Uu6tx4sNgiAEAUFp4+0ZgKo5ZBtjAO3J5+2ac/JTeu8vsW6A3X0h6BPklDRxRpXWrAYlC8koQTKxrD+/ciZMeQX4pwDXWtgkAkCkWh/nmw+zf8u4DOPYXKGgC7/4eADjCXLHjKB+/ljauAU8NTnpMD9vpqan5hYVnPJeLuHBYNOfKCaNHAsDcy6ae/6soYV3Wni6L43x0J0s9xidahrR2V//5b2JSXcT/H5yDYJNfWJiRlmY2m3fZyIwEcXAXDQAqOuk2C7lzlNyrsDwrCTbCgtQf0GlyrVqvwrPCcbAB3juhXZctzxzoZd1Xr1kdLMKEdGWJDZVqTTf73aWmASECerxFm5koXj5Ad9lSQ7q8bFmWrNcz3y5W3Br/w0AjcX6rtqFcuWu0IT1UAID9jRqhXAOUGiKMjhK6POy1AmVctK8xeE8dMYvgVFiADNMGZG83V5HSDvrcTD+dD1PURi3dVGNoXqoUH4itDna0hZoEGB4hDA8XSuy0roeKAs6JwHpy9vIxr+E0R7Y3C9UgA9LT7n31tM3FcsKEwjbt2myDiKGyi26oJPPTDKNOU9LfUEEqu9mK8XKIEZ200y/L1cHTKeukH5Z4b8gZcrM52KgVtmrhfmh+mmQSff4zld08NQSNiRL6Cbx8zDsxxsdu6lX4+ycUUUB3jB7UI1Qs3ew30wz6a0s72Eel6u2jDHpVAADqHHRTFTHLaGqcuLuOjI0WSzvoskwpwIAKW7XSDuYng96whgAsPWyXjWAEemGcMsizEMrQvFR5ZKTQ6GTrytRxUVjXmTpeUHDnffdlZ2W98sILZ1xvrHMXMM/KP32NsPDyCy8AAO/YwXsLhdhb9KYk0Ppp82ecqWLCfSBHckc+a3wbJz+F/LMAgHcf5J27UOxNKGBIN5XWvwlqB059BsQg7jzJW9cLMdejgDEAwNo3IwDOFBzp68jj3Qd421c44R4UNIH3l7H+ChwwAlxVKPoGQBgAeNuX3HFMSH160D9nzKhRebt2nfF0LuKC4i/P+LRwuW0U3/3S2QcTL+1tPJuC0o/wRmfoYddQp/Hz//FUVlrKXzHJi/h/iHNkqydKSuJjYwMCAmMD0KDSPQC0u9iaE8qlwyTAaGMlYZwvypBOT2S3W0hLP0sMRMkhwvsnyRVJwmBMPdqsVXQxEcPcVEnEaH8j3V6jPjTB101a3KbtqyMJAWhQyynPSmwOOjvZ1636eblS3UmfnuqLqbYe9l6xuixTnhwnAkBBi9bazyQRBUgwNU5wqez1AiUuwGeeU9Cq9XjBLCMXgUFBxMPN2qZq9cHxhiAZAKCyixa0ahxgYgzOCBXa+lmuRQ2UUWwAnhwr1jnY4WYqCjjG3ycc8f4JpcvDnxzYkvzzIU+PwvQQW93NKju1YUHCwWZtXpoUIENzH3unSJ0QLVyVNPRh7qklBa3aHSPlxGChoZe9U6QsTJOmxAkAUNimvZGvzE+Rrhj49IrbtH31xCTBgjRJZ8gcbaH7G+gVieItIwyUw58PecJMwu2jDQDgVvnnZWqPh90+UtYVm3fXkn319OGJPg2NJid9vcC7OGNIqqnTwzdUEACYkyweaSKjo4TyTjo3RY4045oedqCRqhTmJPv0n9v62dZqVRbg6jQpzKRvIZMuL08LQdPiBacKH5aosYH42iwZAJpbWhZff72fn99X69adcbHx7oOgtCA5fM2G4ysefEgQBN59kHXtQpFzh8Tu7ZtBbReil4M5DTy1rO4lFH8X0nuInMWs7QsUdhUOGTLJYk0f8v4SIeVJZIjiLgutX43CLtcbiZl9G3DGtR4UPg+EQADgzlJW/zqKuQGFTAeljXdsw+Z03leCo5boZjiscyft2CEMewj5pYPSyjUXa3hn8sSJ3d3dZ72MLuICgnN++6ub5uz21/+9VG5gP8lEmcbOP6ZSDnc3xp0eUx+/767xo3L+XhO+iP/zOEe2eqq8PCE+3uPxXDZsKGYqGv+oRE0IEK5KEjeUE5XypZlyQuBQnNhXr1V30/hAYUQEWl3gGR8tXZPhS5WK27TidqpQWJohhhhRTTf98KRy9xijLs5e1c2212ohRrQo08eDPNCoFbZpk2PFKXG+LqG9ddozl/iZJAAAu4u9mu+9MkWcnSoBQHknLe2gCYFCP+GLMyQO8E6xKmK4b6wBAGp62Ml2mhmO63vZsizffGy97L0Tyh2jDFlhAgA0OtmuWi1ARumheGy0qAswRZixhOGqZKnLw/NsJMSI/GWufyBfVZISO/39pSZ9tl9WqG39/NkZJj8JtfazPKs6PUE43EQWpktRZtyr8HeLldRQ4cacH9Bp9tRrV6dLIyOFdhdble+dliAsSJcAoNvDPysjaaH4moHSelU3+76B+snCuGhBL9iW2OmmSuWKZFmnzK7O9/hL6IkpBgBQKd9YTewu9ouRhvhADAAn2umXFepdY4zJQboVD3/lmHJpgnj1gMGcV+Obq4lC+aIMqcROcyIFSzebEiumBKN2F9tWQzDms5Nk/Wj9BL61aJKIzRLP1qX2G7T6XhZmQnou+3ahh1B0S44sCcjZ1zd74UJ7R0fu5s1ZGRlwJrC+k0Lig0uumRgQEPSXP/yBd+7k9q0oaBIO9zWJMPs23l+JI+ejoPFM6+PWv6CIuVjnpLpraOP7OHAsjlo8dMD2r1n390LqM2BMAKWV1b2Cg8bhmJsAgHd9h5iHc4qCJiJzGgBAfzmr/S8cswxFzAOusY7tyC+bO4tRzI26qjDvLeQt63HsL1DQWKBuZv+Wk14cMmVkjsA473E4QoKDz341XcSFwOzrf9D4trNF2tkiLU0gv8wckkxytvSfz6E4wK9bogf5qTrWrnohLib67zLVi/h/gnNkq1XV1UGBgT9yKthURTo9fHm2mGslhLHLE6WRpyWyx1ro9w00zIQmxOAPSkhysHjTQBSp6KRHmzXgfFaSOCxIcBH+ZqG6MEO6JEEEgEYn+6pCxQyWZProLsVt9PsGMjxc0jPL4y10fZl6/zhDYhACgH4Cr+Z7R0cJy7N8XjR767WkYMHuZrrZy7tF3k43f3CCySCidhffYSUZYbiik89LlWQBAMCr8dfzvXNTJD2T7vbwPJsWZIA4f6TzVfJsxCQhL+FzUyRC+Q4bCTQgjGB+mgwAO20kz0oemejTVdhtI3vrtUcmGSL8UD+BPCuZHCsWt7GrkuXEIIFx+LiUIIBbR0qDnkqnOui3NWRiNJ6RIDpVeKtYTQkRb84xAICb8FfzldRg/PhA33Wjk31TrQLwuSnCjAQBAKwOtrZEmRQj6F46H5xU2vphxSQDRsA4bLVobS42K8XXRtTq4m8XKddkSHqfkZfwl45508OEQSl8ANhuJe39dF6qZO1hicFCWz8fFohHRwkqhZ02IgswIWao9TfPSmTMYwPQ7aMMAFDYSkvtVC9CYASbqkinF81JEcJMqNfpnDlnjq2ubt0HH/zclioACIkP7t2/f+u+6j///vfcbWFdu8AYg2Ou059lPQd5z2EcNBGFXg4AYPkjmLNx3O0AwL3NWt3ryJSE424ZPBrv3MPbtwiJDyFzOtA+rfY1MMTg+LsBgDuOcG8TiP4g+qPgqQAAmpPWrQJTIoq+DvREFvtxdyWKXKJrOYHLwhpex5HzcfiVAMA7tgLtw/7ZKGRGWmoqAHR2dp7tQrqIC4boqIifPvh1ozRnt/8fThoVCgDAf5rA/hB1qvRES8zN9Qmnx1SM8dZP3r0YU//J+Dd0XzxHtmqx2Uwm0+lc6QONWnmndmOOXNjO3ATigwQ9T9JR3E73N5CYAHRpovT5KcVPQreNMggYAKDOwfbUaX4yGh4m5EQIAPDiUW9mmLA0QwKATg//skIVMbo2S9LzsOpu9o1Vi/fHV6eJAGDpoe8Ue28ZadA7XyiHVfmeCD9B75u1u/l2Kxkeji09bGmmZBTh83L1VBf79VRjsAE8hOsKhUVt2rWZQw50Lx71poUIy7NlAFA0nmtVDQIKMmKdoppnJZRBez+7Llv2k9DWGsI4UMavyTAggII2tqGK3DdOTg3RhY3o19Xq7aN8XUV5VjUjFFt76LhoQWfcfl6m1PbQlVOMgQNuMJYetrZEyQoTr8mUVMrfK1YkxO8cJQEA57C6QAmQ4YGB/douD/+2hsgCujTBpznc1s/eKPCOjRKvzZYBYGOVWtxGfzvDZJYQAHxbQ5r76chwYWqcCABeDV497p0WLy4YUJL60xGvSYT7xg3RafbUkfIOdlmiZHfzIAOq6iQxAcL0BJ1ZpPYTSArCg7bweVaiMtAYzEoSAaCqm+2s0wwCXJMhBRvQkWaa36rdkC2PixaampvnLFpUW1f3zurV1y9bdpbF5nK5brnrrsSEhDtvmM3qX0fIgOPvAmwAAN5Xyu1bsV8ailwIANTynyCYheTHAAA0B6t7BYlmnHDHIJ2GOU+wlo9w7C0oaAIAo/VvI1Bx4hOAZd53kjtPIv8c7rbguFsBAKibVv8W/LOFpEcBgPccBLUDuBeFz9e1f7m3hda+gIKno+hlAMA787i3EcnRKPJqAIiOimKMtdvt6WlpZ7+aLuJC4JPVL7701nuyLGenp73/2Zed3UM81MMd4qK9/gCAkXlxoHO6v9uEuIA4ByAc9VKc6ww46DqzVNOsy6Y/9eA9/6BzuIiz4N9Q3vNsYbWhsTEmOlpVVZPJt5F5qoPuq1cnxIhdHuh2MxHBrKShm7vyTppnUc0ynpcifWMhvQp/ZKIxUAYAaOvn26yEUJ7g7yvnvlHgxRjdN04GABfhm6tUxmBuio/u0tzHPj2lBMqwNNMoCdDhZqsLlHkpPlNVAHiz0MsYemi8AQBcBHIt6vBwXGJn16RLYSa0zaIeaqSPTzbqEXpHrRbtjyw9TG9B8h2hSOUwFLdybRoFJGGYlyIBwMEm6lB4P+Fz0+Rof7y/Qevychfh12ZKZglsPfTdIu/yLF8bUX0vff+EcnWaT1dhh5WEGJHdA0khoi5BvKtWO9FO7xk3ZPXT3Mc+LVWi/PHsFAkj9Emp0u6ClVOMupLUG4VeN+FPT/XlqR7Cc62EUDYpzmdR51T46gIlPQTfMlIGgN11JM9Knppi0huht1lUuwsiTXjOwP70r/e6k4KFwU7gNwq8AkIrJw3F1OMt2qFGOiVOoAwY4yFm3OURZidJAHC4SavvZSEmPKirdbBJ6/HyXoUvSBX9ZdTcx3JrSKAMCYE4IRCX2LWNleSKJHFctHC8oGDx9dd3dnWtXbPmpuXLz74W73noIUEQrrp8Om9ZB0BR/J0gRwIA99Sz5o9BCkYxywBhWvca0rpx1isAAIzQpo+AKihyCRqk03gaeO2LKPIa3SqVNn7I3TVi6jMghXF3DevcI4TOZN17cNytgARgCrU8B3K4L6b2V3JHPmAJBU9FATkAAJqT1f43NmfjhLtAz3T7SgH7oagh12WDwdDQ2Hj2s7uIC4eV9/vsAq+6dFq1re7Bp3/csss4+ro36OveoJ+89AxIT05a9adnJfG89NIv4iJ+irMVgVtaW+NiYxVF0bUgery8vJP6y0KgATf1sX4Cs1OkQZqjzcE2VhEsoKWZ0nar2trH7hxtjPFHAODw8m0WNdyMkoKFWSkiAHxZoVp6mK7mwzhst5BeL78kQRwdJQCAQ4H15QQAbswxhBhRn8pfPe4dEeFr5QWAtSVqo5M/MtEoCfrL1YQgbOlms5KlYUH4YCPJs2l3j5F0a5299ZqIeKebT4wRMkIHvNDLVUsXfXKgvrq7lvQqXKUwL02SBShu0xp6KecwNlJID8En2ml1N+tT+LwUMcqM211sVb5yRbKkn0uHm7+Wr0xNEPXK8OEmzUOBUAiQQM/tTrTTXTZ1SaaUHeZ7924P/6qSYIyuz5KHBaK1JWplF7t3nBzphwDg41JS18sem2wcNH7Ps2ldXj4yUtT1GimHZ/d7w/zw/eONAFDUxr4sJ3ePNuj+dzttpNPDAcGcVN/r3ypUjBJaMaCdtLaE1PXyRycZDAPqkhVddJuVZIYJgUbU6WEZ4WJhG5udImIMVV30eDPROMxOkfSqw4l22uCgADAlThwWJDQ6Ic9K/A0wKlJYlC5ZHWxjpZYdjuenSuu++GLq5Zf39PRs/uKLc8bU/3z++fKKivCwsDd/PZVrvThmOfJLAwDQHKzlUwDAsbeAGMxaPoW+kzj1t/qraOsX4K7Dw+7FoT7HVq52UtufUdhMIeY6AGDtm8BZKCQ+AqZE8Dbztk1C+FzWewxFLAA5CrjGal9EiAupvwIAUDuY/VuOMAoY45MF5pTWvgRiINbFmFwVrGsv19w4cpHe5QTAAMBgMLTb7Wc/wYv4xyAjJWnXlx9tW/de8rD4c48+DRjj+VfO3PXlR2++8IeLMfUi/hacbfXYOzoiIyJUQmRJAoAQI1qeLZfYaVEb5RyuSBRjT8u9PjulcM5vGmk83qK19fNL4gX9V95D+DYLCfHD/QpfmCkCwPcN5Ls67VdTjf6yLvVOmvvZ6Chx2oDj29eVap/Cbh4hxwVgjcGbRd4gA9ZdSwFgc5Wa36I9O8OkW5h9VKIkBgv2fjY2SsgKw2Wd9IsKsjRDHhMlAsDBJq3DzUQEScHCmAFCy85akmsjz84wGSUEvmyMugi6NksKNiBdOp8xnhiMx8eIlh52qIkyzmYkiMnBgkPhq/KVEZHi9dkyALgJf7NQSQ4WdF+BUju19tAYf+zV+NxUGXSBwFPqJfHitHhfqtftZRvKFYWixRnSsCC8p5ZUd9OpcT6phE1V5GgLefaSIdGMPCup62WZofiKgcLA6nwl0oQeGCcBQK2DrjruvTbb1wi9u1ar6qb+Ep6TLOpH+LJCre6mf5rpqzdsqFQL27TfTBs6fpOTfXxSSQwW0kJxeQedkSBss5JF6VKwAXV7+XarxgEtSvPZ1Ft6WFGb5tL48DBhbJTAAY40k1YXHx2BZySIrf1sfZliFNGSDPmJX//6g48/TkpM3PjZZ2NGjTr7Kvz4s88+/OQTo9H43ANXclctDrsCBepRjdGWL0Hrw3G3IdMwbs/l7VuEjD+BFAIArH0L9JXgmGVDdBrqYbbnwS/dt4fafYB37sZxt6CAEZx08/ZNKHIB7y+DgBHIfzgAp/VvcKVNTP89IAk4Y/ZtCAD8c1Cor5eY1q0C2iek/wGQCEozbdmABAlFXwumBO5pBOrivcdw1GKDLPc4zq3XcxH/MMiStObFPwFAR1f3V1vzvt624+dG+hmNTzxw96Sxo87fE/QiLuLsOFtY7e7pCQsN1TRNHLh3s/SwI81akAzxQWLOgDh7l4d/Vq5Sjm4daajopGVdbFaKrCdqHGC7lQTIqLGPXZsp+cmoqovmWskvRsjJwRgAvqvXjrVq46LFqwZsWb+pIU19/JoMSc8s3z+hOL3w9DRfWrmvnuTZ6COTDLqF2f5GLdKM+1UeF4jHxYgNvezNAu+sZEkX1LX0sNJ2LciIQ/3Q4KZgZRdbd4r8cqwhJQgDwMl2WtbBNMDz0sS4AKxL5ycECRjB3BTJ7mZ5NiJhGBsljokSFcrfKlRCjejuAQ7ommJFRKCrWNQ56IFGTRZRjwK6coLdzd8tVjLDhcUDrbyM8+/qNC9FU+PEUZHC0Wbt+wY6O0WcOUwCgD11Wp5NfWySaVCWYX+jVtahpYSIg1ama4q9HW7+7HSjUUSdbrbquLogXV6ULumDuzw8yIDHRwu6PdzeerrDRn4zzWeNvt1K9tXTxyYZB4/vVOHjUjXYiCfHSfkt2sI0cU+9dtkwH0F5dy1BnF+S4KvMt7vYDhtJDcZ9Kter8XlW1UNhWCCanSI5FP5luco5JDiOXnbpkx2dnVdefvnad94xm89hM5K7c+cvH374hmXLlL76xdMM4D8SDSgzcPu34KnDkQtRwAjuOEab1ggpT4I5A/QdUMchFHa5zq7RQat/C6KfkPw4AHDnCda6HkXMQcFTgXp5+2YImgRKKyAZh8wAAN70PvSXCylP66oOzL4NvE0oaCwKv8r3ZTV9yBxHpZzVIAQA7Wdt34BgRCGXoIARQPtZ6zogXcKwh0AMEkWxr6/v7Kd5Ef8URISF3n/bTReFfP8KXHQC/qtxtiKw0+kMDAyklAqCr0cmz6pGmfGgwxoA9BNYd0pxevkvRki1Dranr3YoTwAAIABJREFUjkyNEwdj2PYa1SiidjebkypF++NGJ3urUBkfLeosySPNWomdZIZiXXEXALZUqYVt9MokUe9L+qJcrehiD4w36LagJXa2vly9daQ0PMxXXG12MkkAgwAzEsQuD19dqEyOE/UYZnfzPBuJ8hfMEhqkqDoU/kahd2mmrGfGFgc71Eg4sKmxQnoI1qXzE4OxS+VzkkWvxndYNQlBRijWxZ7eKlI8Gv/lOIPeyfvhSaWln983XjaIqMvDdtRqSSGCAcPMYaKAwaPxtSWKvwSLM4buXXKtWruLpYbgGQlicZu2w6aNicJ6TM1vpV9UqHeOMgxa2K4vV/fVkWh/Yd6AbO+6MrWyiz09zWQUkU/LKcJndHq4SbO7GEIsMxTpdzyldvbBSe+9Yww6een7BpJnI/eMGVJs5hw+LfW6CJ+bJh1oUOelink2LTkY6/zg7xu0pj46PMIndOUikGcl6aFCYx+flSIDwKEmze6GXg+bkyJxgO0W4u7tKP7o6YfuvrGiquqpxx7b8Omn54yp3x84sPTGG3/z5JPbcr/9r4dHgXEYjvKZuPHuvaz3OA6dgUIuAY+V1r2C4+7QbVO58wRr38L9R+KIeYOHonWvARAh5SkAxN0W2rAGBU3Q6TfMvgWZUxESuacRIuYDAGtdz52lOPFB5JcMALznEHceR/5ZKGKBfjStcS3v3CllvqB70rH2b4G6UMAIPYqztq+B9OLYm8GUCAAYY7fHc/YzvYiL+JfAeTfWXoypfzXOFlbdHo+fycQ5Rwj1qZBrJUnB2Knw2am+3ItQ/lmZYnfDLSMNLX08v1WbniBdNdBVtLuWIIT6VD4hRkwLxt0e/v5JNT1M0G1TT7Rrx5qpAeN5qbK+yXeshZ7sYFckijq5ZadNK2jRfjlO1tt8Gp3sjQLvwgxfRLQ62PEWGm7GLhXmpEgeja8u8CYGCrrIrVfjeVY1xoxUygel5DXGXzrmHRWOr8kQAaC1n+VZiCyiEZHSmCiBcZ5rVSP8UHMfn5MqGUS0o1ZzaRAfgHSxp09OqTXd7P5xBl0JYWOFWtxOHxpvCDNhQmGHTYs245Y+tiBN0vuG1p1Su738nrHGcJPvQ95dpzU7WZABzUmRKzrptzUkIRDpjN7qbu3dIu/yLF8tFwCqu5m1m5okNH2YqFvsbakihxrJysmmABk4wKp8JdQk3DPWAADHW7RGJ5MFFOEnTI6TAMDu5m8VeW7I8R2wqE3bVEmuy/LVxnWsL1etDr48W8pvpXNSpFoHizL7mEWVXexIsxbtJwxWEfKsJMYfWXro7GQh2ACldlrVxTTKZ6fIEX7o69LeT958/rfXjSo4sGPcmDH5Bw48/sgj51x8+w4cuHrZspeff37Ne++89czl0ZHhKGoRIAF0kmjbBuw/HEXM45qDWp7HEfP0iMvdFtr8CTLFCdHXDR6KNb/P+04Iqb8BwZ97W1j9auSXgmNvAQDW/i0SA8CQyLv34sgFCEvMvhWcJ1DMdShgFABwVxVr/xqZEtGAPCHvPY66clH0YvBLhoFEFkwJWA/JHbm8vwpHzkUBowcn4LkYVi/i3wIXo+WFx9nCqqqqsiwjhCjjuVYSG4CtPWx2smgYIKl+VkZsPezmEVKHmxe00oRAPJhXHWzU+glwgNgAPDZK8Gr801MKcK6zJKu72Z46qjJ+dbqka82X2mmuTc0OxQMUVe27+v9h773j46rOreFn71OmaTSj3rtkS+4Nd2wwBhfA2Ng02/QaQrkQEkhuSG4ISWgJgRBC76YZ27gXcAdXucuWZfU20ow0XVNO2fv5/jgjmXu/UN7vvfl+N7la/83o6MzZe8o6T1tLu7pSNtp8/HH821FlZpFo6CN6Inxrk1aUTNx9fG6pCADP7o8TSPQVA8DWZl2mJKjgvHJ5wB/mpWrFJsKd48wAEFJhc4Nmk8jA0MiWRt0iko4wzimV0i1kR4vWEeKpZjCcwDfUq8e6z6dP97TpX7Rot42WjFzrliZVFqE9xC4vE43lrD2nnfPyO0absmyJV/+qQ28NMg1hTqncEWaf1Wk2mSwaKgsU3BH+4iF1brk8wGFdfXxFTVwS4OZRclEyBYDtLfrnDdr9F5jz7AQAXq6OqzrcN14GgP0d2jkfTzFTgcDFCfMffP5gbGKOYGxXrZe9V6NdVnZeSgkAtjZph1zsllHymV4+PluI6eDq40bncEDB1WcVQJhTJlFCjIOtErijMKNALHIIrUG2t12XBBieKSar7mUP/+b2y4Yc+XJlijPll48+umPz5rGjz/PNt2HD5s1zFix49S9/WfHhu/csHrpoVpmQey0xhBciDbzrE7BWkPR5wFWs/y0kVdG8mwEAlS7W8SZQC81ZBkKiNIA9m7j3a5p/F8iZwMK8/TUQkoTCO4CK6NsBqEDKNOzdQDKvADmT92zBwEFIuZAYYkxqD297FaRMkn19gtFjLbz5eZq7nGZfBwDc9xX21YDkMGT9MXAAfXuI4wKSMnNgLYgYV5T/usJBDOKfDP+EI6L/I/FdtMo5p5RSSms8WooZuvv4ZaVydn9Z7uPTak2vfvNIOajAIZeWbIIrKiTDbqXapdf16j0RBIAZBSIArD6neyL8plEmp4m0h/jndQoluKBCMmp4jQG+8qyab6dG/vakR197TpueL05JNDHBC4fi+faEt0xcx61NWrGDtIZwXplkkcgbx5SYDneMkQ1F352tWjiOvTE+r0xy9EsdvHdK6erjD1xgBgCd4+ZGlRBItSbyw3vbdZ1DWMUpeWKpk1a79JMebpNgXplECXzdwfa06zeOTDir1/Swz+vU64eZxmRJALCrVQ8r4O7DK8oTE7cHXPrXHdqAEzsAVHfpDT6uczKnVNI5fnpWowSWDJVSzCSk4h8PKRfkClcPTWSq+1T86LQCQJYOlzOtRolUff+Ucu/YxE3G+zVacwgfmGgyieSUh53swVQz8cf5gNzjr/fGMq3kltFmAGjw89eOKVPzhPnfUGyu7tI3NmhLR8hNAV7oEBwmctClzylN3IFsadR0hMWVUpqFAMD+TtYZ5jEdKlKEERmCP45bm1iahbSf2P3yr+4urKzcvfkzUTTduOzGrsb6O2+99bs/cBipR8X9xjvv3HDLLas/+uj9D96ZMFR+9M7pJHsJsRQDAKoe3v0RoRLNXQpyKmt6CiW7US4F1sc73ydcF/JvBTkhAoCBg6zjfaHwDpoyGZBjx9ugemjBPSA6MXAAY+008yr0bCD28cQ2FH07IHSY2EfQzMsBAJCxjteBSkLhHURMAgDgcd74FEm/1BiQxXAN+ncBMpq5AAQrRM/x7tVgKaBZVwIyAAAWMb4p8Xj8uxc+iEH8j8dgJPvfg+9qWSKEIKI7RlM5i+tYkSpU9Zf9VtVph1z6neNMfQoedukmCpeUyIbQweleXtPDRmSJjX5ukNbbJ5T2EC4cKpc6aW+Ub2rQzRKdlicYeoHuCH/vhOIwk2sqTZIA9T7+6Rl1SKpwRUV/42u1YpbIveMTocnWZt1poo1+flWFmGYhn9Wpxz3sl9PMBt8f7WZNAVQZDrioAsDmRu3rDvbr6YnOnc/OqjENzCIxarpHu/XOMLeIpCCZjs4SDNN1SmFemWyXyXE3W1+vXlYqj81KCBu9dVKdXigawkxHuvSmgK4jnV0iFTspANR6+cdntHmliQFTY0NO93CBwIRsmmomn57VBMDLK+Qip6AxfP6gUmgnN48634X4Sa3micHdY+T8ZAEATnr4J6f1a4fJhgTx+nr1SJf28ERLipnUevkBFxuVSc/2ssVVCbnH144qUY3+doYZANpD/OUj8dGZCckLA81B9uYJdcEQMRDnFgEq0+jKWnVuaUJh+JBLr+1l88olQ+i/tpfV+1iqmSabYHKeoHP428ZD1bs27Nm00kR0Vce8kqELrrl1wuW33jzGDN/X5oDRZtb+1uPvRddu2bth1aonfv/ksAL448/m0pQpRj4WuIJdH4EWIoV3g5zFWl9E1ScM/QMAACLv+hRUH81dZqg0AABGm3jL8zR3qVFz5V0fQrSBFt1PLAXYV4OhozR3Ge/dBmIKSZmC/r3cd4DIGUbcCQCs4y0Sa6VlvxqwkGP1TxBrGc2/DQAw1s67PwUi0tzrwJSNipt1vE0Ei5BzHRCB92wiogNjLcQ+mjGmqup3fJUGMYhB/O/Bd9GqyWQKBoPFKXIEdYGQAb+X9ee0XS3ajyeYYxo/1KVrHBYOkUocBADq/Wxvmz4tX9jdxq4dJpsE2N+pd/XxKfnihBwxquKmRs0Xw4l5wvgcEQDCKn54WgFKlo0wOUzQHuLv1SjpVnpNPw28cUL1xvi/T0tw6o4WnXHsjeGlJWKhQ9jerG1v0h+eZMlOSox/HHAxgeCFBYl5FQA46uafn9PuHmsyxoF2tuqBOIgCmVsmyQI55+NHu1lusgAcLywQu/v46jqNALl6iJRlo3U+/kmtNj5bMArGXX381aPKiDR69dBEKvtgpy6KZHKuMDTVUK7nbx5XRqfTOf1NWA1+vrdNS7dAioVWpQurzqoah6kFCduAF6pVk4j3TbAM7PlntWpdr377mIT3eK2Xv3Y8fuUQyYg1v+7QtzTqd48zFTpog5/vatUm5gj7O9mSysQ9zWdn1TNe/sSFJgDo7uMvH42Xp4g3jjgfpwYUfPGQOrNAdJpoVx9fUCG/f0qZkica9wSuMF9dp12QI07OFQHAHcEvmvWcJMLi4XD9vh+/sP3jNesURaFUMEv04ssXFU2+atHs6Q1+ZhjUwHdzaqzddfLVe57YLFjy3nv99bsfeGDOlLwnfzyR2KpIyoXGMdy9BuNdNOd6Yi3nrg/Qv08c9hcQLADAPWuxr5FmXU6SxyTOqHlZw+9Jxlyj5sp7NmOgmuQuI0lVEG3Gns0kZymGa0AP0dwbMHCA+/cTSknWwoRpq3sN+L8iZY+DIU8IwJueAQBa+lMAQD3Eu1cDNZH0OcRaAXof63iDcJ0W3gFSGoZPguJGFgM5k9hH6LquDNLqIAYxCAD4blq1Wiyuri5FSPKF4pcOtK40aRsbtB9PMKkMD3XqAqFzSkVjWqYjzDc36PPKxP2dbHaJlGklNT1sV6te6BBmF0sIsKlJCys4Lke4pFgCAI7wSa3WG4Xbx8jZNtIbw4/PaAKQ64bJRli5qk475dF/faHFeHjYpXsiHAHGZYuVacLRbraqTrtltKkilQCAJ4qbGzWZ4tgscUT/8E9HmL9+NL5oSMLN+2Cn3hjgKoMrK8QUM+kM882NalWa6IvzayqlqIbrGzRKYH6ZWOqkrQH2zkm1xEENGYqAgm8cV7OT6PKRMgB09fFNDapZgDEZ1PD2CSr41kkl306W94sZdYT4pgat2EF0hJmF4uo6LaJBhZNOzRMB4G9HYmEFfjH1vC38l836vg79tjGmoWkCANT0sHdOqrMKpcvLJQCo8/FPatXFldKoTLElwDc3qBcVifs62dwyybir2N6sb27UfzHNlGymvji+dlxJNdNbRkoCTZAdR/jTgXhlGhmWQU+42ZJKeVuTZtjnGQd8fEZLs4AxrnPi9NlXNlefqd5Tf2K/p7M12W4PBIMllaNGTJ17ycWzHlg0HQC6InjKo88o+K5PkQFUulav+O39T667c/lVk2csvnzx4kfvnvvg9UPAnEMyE8232LsNwydoxhziGM88m9C9URzyGyPZi94vIXSEpE4dIGBgcdb4e2IfLhiywP592LuNZl1BnJNQcaPnc5K5EPQghk7Q/BsxdIz7vyLAafYSMGUDAA/ux66VtOShhM4+AO94E6PNwrAXExfjWQ88QlOmEscEAEDvFqIFac71xFoGmg97twEgSOmGkJOmaYPR6iAGMQgD3/WD6HA4AoHA0CGZlmDEKLttb9Y/rVXvH28WKHzdrkkiHZlBDe313hhuatDnlUl1Xr08VahMoy0Btv6cJgkwv0wiBDY2aO4I5iULAxp4a+rU1gBbOlwuddKIBmvqNFXnNwxPJG+3t2ibGrTHpphTzQQA6nz8VA+zyTQ/iYzNFlr87I3j8SvL5YRwvI5bGlVZgMo00RgIAQB/HF88pEzJF42iY00PO+bhHHFemZRnp0EFtjRqw9KFliC/pkoSKNlyTg3EcGaROCJDcEf4uzVqqoXeMNxEAFSG751UGcItI2VZIH0abmnUZIEMzxQm5okAgAAf1Kg6h5tGmoy96o3ipkatKk3oCLNrh5k2NWphFdKsCQnAD2rUpgA+fqHV1P8OHOli6+rVG4bJw9JIJBI53N63uiZUYucjBFpbx10h9u4pZVy2lK+Zvj5Ft7firDLrvkZxXJ61zCkDwNFutrJWuWuMqcwphFV887gCQG4fbbLK5wPI5w8pdplcWipva9KWVMrH3ExHmFEoenp6WtvaVu6r33HwuD1w5uXG+g6XSxAlxrhsMo0ZMfyem5dNvuACW8kEH7Nk2+gF/TucYyM5JedD4W+DGul6+KGbtuype+PZB060yjfefvsbz9x75WQzUPNAPhYDB9C7gzinkNSLMXQEulYIxfeCbSgAcP9+8O6GpCraT8AAwFqeHZAFxvBJ3r2SOieRtNnAIuheS1IvAsGKrvdJzjKItfOeL0AwkdSLwVBuijaxpj8LeTcRxwXG2bh7HfduFyufAioBAPdswGgLtY80ZP25bxf6qw2+BwDeuw2phZqyBvQLy8vKBjuBBzGIQRj4LlpNS031+nxJNltPby8A7GrV3z2l3HeB2SqT3a26TaIFyYlf2D4NNjVoU/KEnihHhKl5gjeGa89phOLCoaZUC9nZqjcHWLqFDlid72jRj3brC4fIwzMEhrCpUQsoeFmpZARqx7r190+p945PCPK5wnxro5ZlI6lmmF4g9kTxhWp1eqE0r18kYWuz3qeREgeZ2a/7r3N45aiSayeGEG5TgH/RrFlFOjVPqEilcZ1vbtSLnEKdl11ZLjlN5Itmrd7PL8gRJuWKIRU+Oq1qDO4YLRkjsx+d0TvC/L7xJqPRd0uj1qdhqU3Nirt37e3u7u7edtp9tqO30tr3kxXhcF9fuC/a5ouAFvP5g8kW4fecheKMc7RK8FNARcdgX9RhM61AzjlnjMUVVdE54fo7sqRqmq4zky1ZV2KSQH5FCALROBKANRQeBwAAhvg7hogcOdN1XZIkKlskga4xSbIsx7mAoinNKn4mUkIpJYRS6o2DykmuDVboel9M+W0sHo5GuRKNxmKSJFFCVU01W6z5uTmjRo6849Zbs8tGYUbVrdOLhO9xOfr7wNAxIDKxD1/52YqfP/7z2VOrVr78wC9f2oeIhzb+pdjehDxGc64FIQkAsK+Wd68Ca7mQtQBjbdj8R5p9jRGYYrgGezcSOZVmXTVwctb6F1B8wtDfAQBEm1j7GzRpCMm5DgC4ey2xDyO2Ct75Psm4ArjCPBtBchLUE3qEPM6anhYy5g2QNAYO8I63hbKfg6kQANC/l4eOU2sJMeZ5wifRs4EkTyBplwAA9+/F4FFiH0kSDnSoKGrNmTPf5nY3iEEM4n8bvotWMzMy3B6P3W4PhUJ72/XXj8fvm2BOtZBtTVqGhdhlYnjX6Bw2NqhVaVQSoN7Hrhsmqwy2NGoIZHaxWJ5CD7jY/g4t107nV8iSAABwqFPb0couK0u04WxuUDtDfGymYDxsC/G/HdNuGGEy4k5vjG9t0jJtYBLJpSVSVMO/VMeHptGl/fW8na1aa4DlJ9N532h2ffOEEtPQaP11R3Bzo5YkE5HwMVkyAGxs0AGgM8QuLhILHfRgp17dxUZm0FnFkspwVa0WVPDGkYly7Pp67ZxXX1YF7WcOrj1+fOO+E+fq6gLu1mg4UJCfn5GeHgdTQIE0E6vR432RSCgU8gaCqhK32pItZpPVmZ6UlFRsS5LM1jS71Wyx1PkFsa9z3LAKQRQFSlVODjf2jCrPL06zSpLUy6xtYdpSe+SWyy9MMgkqClubOSHk0kLmTLIqiqIoyrHOmKopJTZNUdXqU2dbWKqTxousalxRYrHYGVco3ULMAiIiR0TOPVFuSs/I5x5JFGRJyhJNPm4bVZhanJtZVFiYl5ubk53dwrPmD0v5b/lU8e6VEO+s65v46z/cUFdb/efHl9acbR6/4D+efvLJR+64DHs2IiDNvjrhuRbv5J1vEtFJc68HzY9Nf8DUi6kxQhprYa4VlMo0ZykICWUJ5voAQseFoU+BYEXFzdpeIXIGzbsZgKB7HZFTScp03vURSRoJooN3fUTkLCKlkH6VCVb/H2CtoPkJk06MNPGW52nBHcQ5EQyhid4vqJyeUKWId/COt8BcQLMXAQD49mLvBrAW0IxLgYjANd71iS/icCQnD9ZWBzGIQRj4LlrNzcnpdLkcyckef/Cdk+q94yw5NrK+Qcu2kpCCA11FGxu13CRa5KBr6/XpBaJZJOvqNX+cD08XJuSIx7r1Q516kkzmlUmGm82ZXvb5OTY5X5hZYMjYak1BXuQQjLbhiMr/fFiZVZjwEAWA9fWazgGRGG07fz2i2iRy19hE6+zRbna0m2XZ6LzS85z62Vm1xqP/YprFJhlCFqqJQolTMCT3drVqFolQBsUOOixdqPWybY1aUQo1csUbGnVXH7uyQh6SSnu93lfX7lm/4+u+psO/P1F9wfjx48eOTcvMnT9yktp2pLGpqebMGb/fP3TIkOHDyspLiosKCwvy80VHdkTO0OTkTCud0i849W1gHFaeVZelUkNYCgB2tGgTc0WEG+39+dsyl17soFm282HjDd84Q62Xf9ms3TveJHxLv9AJNzvhYdO+0cbFEOp9rDLtP13bsO++0B8M7NnSe3bFMxsy/vr2E7/68bxrZl/9789+Wj50zOkjR4ZmetGzDqiFOicTWyUAIOvjne8DZ7TwZqBmfu5XaCkRCu4EAFR7eNcKQijNu9EoiAIA9mxGzwbBqLmyCG9/m6BO828Dwc6924GrNGsB92wkogOShmDXx2DOB+QDnMqbniYg0NJHEteqB3jz05CeiFwx2sC7VyMAzVoMgh1YhHW8i1QW85YDNYEeZL1bUYsLxdcbFV/uWQtc8XUediYnDdZW/88xqI43iH9NfBet5ufleX2+5OTkaCjws8kmiwhr67VSBwmqMOB9vbVJs4owJU/4tFabkidUpQk7WrSOIMu00UtLpTO9bHebrnO4pkoyWKElwN45pY1Ip0ZfzNcdep2fO2Q6QKLP7FeGpgjXD0+cf1uTRghQAnPLJFmA144pQYU/NsVsdOE0+PnWJi1JJpeXSwN+L7ta9T1t+n0TLDlJlCFsbtR0Djl2anBqdZfuiWKKiUgSTM4TDZOADKuwcKgsUrK1Savz6nb3oVVf7PzRzp1nzp4dNm5axfCxYyYsCs2bffjIkU9XrXI6nRkZmbNmXLhk0aJRI0ZkZ2X93d1jCN/Gc9+EQKEi5TynAsCs4v9arZyU+11vU1UazU36Vk4908sOd+tXD5VTzeePEAj8F07970Jn3bqXnv/Vnz9tvfPWW1/57bK3Vx1Ys+3Ib3756MLFd4Pm5a6tyOI0eTxxTjKOx65PiNpD8m8GSwFvegqpkHBRZTHsXgW6SrOuThREATB4iHe+KxTfT6xDAYB3rSB6Ly26B8x5GDgI8Q6asxT9XwELk8zLeeeHaMolqofmLjf+nbW/DrFWofJPiWvlKmv8A7H1R65KF3OtAAAxf7nRG8xcn4LWKxT+yNAvZB3vgB4USn9GDE7t2YRqL+GxoDgxJXVXp8v1j9jPf2kMcuog/jXxPT2cJcXF0WjU6/PZZfJ5vTY0nbYH+OIqk1kEANjdpneG8bbR8pZGLd9OR2QIh116nY+LArmsVG4K4JYmjQBcUSEVOQQAOOvlH5xSC+z0hmESABzrZifdTGU4Z4hkdNb88UDcJpO7+8WS9nfqHWGMqLi4Uk4xk1eOKrU97N8vtBjWN+4I/7RW5Ryv/oYz+RkvX1OnLqmUh6ZRANjSqAVjPMWayA/X9rJTHlbiFLwxvrhSDqvw8RlVFOi1VVKyTJ56d/2a9RvOHdpWXpR/8YwZC6+4Ysa0aXv37fv0jT92Tp48dfLkH99993tvvJGRnv5DdvaHcKoBY9bo/waOb/feGJYupFnoNzn1H4S9X3/99lsvvr9y4703zfvN4zevWfX2/n3kgRunL196M3FOBB5n3Z8TIhP7SJJ+qfEv3L0e+87SnGuIfQxrfxVjbcKQJ4EYTUPrUOuh6RcnCqIAPNLEW14WcpYS5zQA4F2f8XCtkLscrEOw7wwGD5PcZRipxfBpknsd715DTFkQOUtyloOYDADYvQa9O8XKpwe0mVjzs4RQmhCaCPPuVQQozbocrEMAAF0fQegIzbuR2IYAAHetwL7TYunPwFIAAOjfA5EGwuM053p/zb4Up7O1re0fvcODGMQg/inwPT/o5aWlgWDQ3dO7oUGvShNO9+hLKmWnCQDgoEvvieIto+RDLj3GYG6ZeNbLD7t0DeGqCimi8rV1qkRheoFoBEZRFdeeUznCzSNlSSC1XrbfpQHA/LKEctPrxxW/gk/OTAxxnu7lx9yMc5xXLufa6bZG7bib/WSyyTAljeu46qymM1g64rw3eHuIv3lCmZovGkXfna16e5hbJZhfJlIC7SH+ZYueaiYtQbakUgaAz84qgThMNTU88+QHKz7+uKB0aM6QsRfeuPTYsWPPvfDCrJkzL5ox47nf/3761Kn/mM3//wkDAor/CNTW1a1eu/bTVauQKbPHkntvnL1y89ExQ9sevXfJglkjiWQ3apbcs44AB2o6r6Tv/wp9u0nmXOKczLpXoW+vOOT3IKUCAPdsgOg5ah9DUi9KvIzux6Y/kLSZRjqXe3dAcL+QvYg4xmOsDT3raO5y1ALYu43mLuO9X6DohHgbybqKWPIBAH1fse6VQsnDYC4wzscansR4Byn9KQAF5Ny9FvUgTb0wMU4TOsJ6/rctAAAgAElEQVSDh2nmPCOqRt927N0ulDxkxM0YrOaBQ4QpNPd6ZOHehlVpTpuu6/+4TR7EIAbxT4Tv6fIcUlHR1OHu6empSqdnetnl5ZJBgSfc7JyXzS8VmwL8lIddWiJ1hPjWRlUUyIwC0W6imxr1OIdx2eJAevOdU2pQhX+bZE42kdYg396imymdkCMaYeVnZ9UaD3+k31e8Lci/aNYQYWahVJ5CD7n0VXXqbWPkipRE6nJtvdYTw6srz/ux+OL48hGlKlW4bpgMAAc79dpeTgEuL5etEgkosLVZH5ct+OI4NltIksm6eu2rA9WHX77zluuvIAALlixze/1nvtqoqepPHnxQ8fu/3Ljxl48++t/AqSwGyn/KEGIsEdlg+OTfleHk3u3fc07k/7dX9XfBf5ACH+rhnTu3/OLXvx4zefKcBQvO1ddPnzjKJvo/29ljThmx9d2fbnjzJ1fNmUYASdpsAOCejagGkUVp1gIjGMXwSez+jDon0rTZ6NsNnrVC0UNgKQQA9O2C8AmwlJL+2RvgKmt4EmxVQv6tAICBQ9izAVJnkpQZqPmwZx3JvAoEC/asI5kLeKAaqIXoAeKYQGxVYCjpd75Fc5calAkA6F6F0Xqx7DFqLQPDtzXWSu2jDRbHaBNr/Su1DzfcbDBcwzveJrlLDVdXjJzlPVuQx0nOYkTGOz/86kh7XI0P0uogBjEIA98TrVYNHXrw8GG7w3msyTN7eJYh/VPnZYe72NWVssLhi2bt8jKJcdzSrNtNpNRJK1KF1XWaznFSjjCtXyjgw9Nqg589NNGcaSXuCN/UqDlNkJ2UMFzb0apvblB/Ps3qNBMA8Mdxc5MmUzI+m47MFJqD7K0T6uJK08T+ZOmXLdppj35lhTwg+6AweO2okmYht4ySAaCmhx1wMY3j9cPkNAvRGG5u0IakkjO9fG6pVJFK3zvY9aenf9NxdNsDd90xrDj3hZdfnjj3huef/eOSyy78f2/CDweyGHetoI5xJHnc+Sd7NqKcQU25iYfRBuzZTPJuQhbjnk1USgMWIaZsI1cJABg6DrEW5CqhMgAAjwORDBV4A9yzkfAYSA6SdikA8J6tNGMOAGC8E8InyTe80v5PwT0biLX8vIzRwPO+PR5t6JFjxw5VV+8/eHDv13vHjqgoHzpm1IgRp2trv9j+5RXTUh//8eXzb3wZfTtR6SHWEuw7TXKWAQD6dqPSSViIZC1OaATGWlnbaySpiuZci321rP1NIW8ZcY4HIxD0f0VEB8lccP7Vm58mQhItfRgAMFLLXSuIYxzNXACooXsdSZ5IrGXc9QFxToN4G3AFqAimbOKcDAAQb2dNzwopF5LMKwbWgu5NQvH9YCkGAN67DSK1YC1LHKAHeMfrxFqW6HKKN/Hm50j6FdQwYY23c9cKAJOQtQCIzDreBELyyqZlU8cXO/f9f972QQxiEP9K+B5aHV5V9cY77+RmZ2djz7D0XABoC/JtzZrRAvP2CXVynpCfTFeeVU0C2GU6vUDa2qTGNF7kEAZabzY0aNVd7J5xpoJkGlZhc4OWZqEiBUMR8JibrTit3j3OYsSdjMPWJk3nMDydTsoTvTF84VD8okLpsn45wCNd+s4W/bIS6YJvNPK8fULt0/CRyRaRQlOAb23SKYGrKqR8u+Ewo+faqSvMJ2TTilT61Ksrnvj1Y3OvXn7dj3/026ef/tGdd7aePZuXm/uDNoyrQOVv+yN61vf0JXf7iLvnS6/PFwwGfZ1HQiF/HDLU4BNgG05AE5WG443KrItDNq02Kb3MkbrJEj14ujvj4ksW2O12G3UneV5yDLnd3P8qvGslRuuFiicSL+H9Ev37IHUqTbsUANC3C7tXQvJoFGzoWYfETHu3kfTLzl9S4OBAf9Dfv2b/1wkP0d4vUAkQc7zX6+3o7Gxta2tuaalvbDx75tCZumaGUllpaWZGhk3qGz+yrPpkPYj2Sy666M6brpmSuYuIFqH0UfTvx1gbcUxA73aauxyohMFq7DsDyEnapQln07gLO14npiwh/2aMdbCmp4WMuSR9DiTUBw8RQJJ1NRHtieW3/gUVb0IWON7OWv5KbWU05wYA4N1riaWQOCfyrpXEWgpcwXgXMeWgHqTplwEAqr285UViG0LyEwYA2FfDXR/QnMUkeQIAoH8fDxympgzaz+K8423QY0LRgyBlAABrfolYK2ju9QCAmpe7PgEi04y5RErhne8QaqZZV/kj75cUpSIOun8MYhCDAPheWh01cuSJU6dmzZyZrHkAwB3hGxu1+eVynp3uadPz7GRslrixQVUZIMJlJeLGRs3dBxm2834pX7frXzTrt46Uh6QKjMOmRtVuJqE4v3aYCQBaA+yVI8qSodLE3EQ0tqVR7Y1iqZNcVCTGdPzzoXhlmjjQGNzg55+e1abkijOLzrfLfnJarfXqP5tsdprAHcG1dYpAyayihFj8jhZNohBWeK6djs0Wb3vwkfVf7r7poSfrdn50oDf58N69w6uq/vOi/1PfP6o92L2GFt4FABg4xLtX0uxrjHrhuTNf1x1+vz5QUX285lx9fUd7sy8QJoSIogBAGWOaplFKJEkWBRBEidI6QBWRciRHj59kDHUOuq6LgkAF4fd/fp0QQKZyJDrbnpqSEleUJDO126jDmZGSfiLV6Uyzs1Sp/ZxLnH5xAcAroLjAt5M4JtAD6zF4eO/hc9PHFfHkCxAb4r4aRA2pCbUwJO2tPno0MyMjNSUl7q9RNIhDpqIorW1tNlntC/W096gmWYz0BfsiajiqWsxmm81mtVpNskx4NB4LxhQKoGqaZpdjI4YVjh0/44ISX8qQW4lg5c3Po86E4vuxrxbDJ0jqLOxZS7OvASkVI3UY2AeCldiGkuTRAABc5a4PUI+IpfcB6qzpaeqYQHKXAgAonTxwkLAIKbiD9Iv0ss4VEDomVD4DggV0P2t9lUgpNO8WoDLv3QpUImmzsGczCGYQnRg4SGyVGGuiecsBAFiUtb9GAIxxHQCAaBNreVFImUYy5oOhzeTdTqk8oBLMXB9CpI6WPJIQOGx4AkQHLf93AAAWx+5VwKI0fTYx5/Guj5DING0GsY86cfLkoMTSIP63Y3Ba6hv4Hlq1JyVVlJVZrdb2jo6QipsbtRkFYpmTNvh5k58tHSHvadd9MfTH8doq0+423RPhNinhDAMAp3vZJ7XaoqHSmGwBADY1qiYB2oJ8SaVsk8ATxReq1ZlFwoCMw552vd7HChzC/HIZAP5ardpN5J5xiT5Xd4S/dlypTKMLh57n1G1N2r5O/ccTzHl2GlZhY4NKKZmcKxo6vYdcui+O6RYa1XByFp+3+JqOuHnu0vvffeahp3/72wfuvffvLfobnw6lG7tXEedkZH1ED5/5+sXDzbajLZ9+feDhM7W1AmGCIERiWorTWVKQfun0yhHDKkty7HlVV2VlZqZYYsnRjVLBzdy7g1gKScp07N0CyEjG5bz5OVDctPJZdK9BMTlumRIKh4OhkPf4b3zRZK84rae3t9Pl6u080eNu9UfNwQh2uk9Ho31KPKrqyDmu2lItUEoIo0QAehaQASIQ/HJ/g8+/mnMuCFQQBIGCIMiUbmWM2ZOSkCuigKIoinKyKEpKPOK0MYtJTLaZC7NEm9WRnFLizCi1WCxWq9WelOQ0h1PjG3OGP5ZfdVV6WhqGT3H/18Q5Bb1fCIZrW8tLoHTSsl+g4kHfLpp1FevZStPngKUY4x3o/hxMWUTOGBDyxc73MNYqFD8EUhprepLI6bToPgAAFmbdawiRSfZ8YhtqHMy7P8WeTULFr0BKB9R4+1vAQrT0ZyCloH8fKD0kdxn6v0I9QBwT0LOBOCfzwCEhb3mil7jzA6J206J/AynFeCtZ6wskqZIYvq2RRtb9GQWg2ctBzgQA7t0Jvj208C5iLQcA3vpX1HxC1Z8TF+NZi3EXTbuIJA3hro8RCXVMIM4pAJCcnDx/zpwPP/30e79sgxjEvywGOfUb+P7RjnFjxoTC4Za29k312sgMYXiGENVwV5s+u0g83cubA1xnMKdMPt2rd4aREDK/f4S0LchfPhy/rEw2vLW/bNERSTDOLy2Vc+00qOBLh2NlTmHp8ARrGsIRmdYEy752NB5Q4BdTE3+Navi3I1qamdw4/HwO9rBL29SoLR0uDUlNjKj2qTgmS5yUJwLA6V5W28vKUoSuCC4ohbkLF7KMqrz8nJ3v/m7r2rUzpk//npUrXdy9iqReuHrNys27TmzbfSQaU5IcGX5/IDk5edHsyqkjHBPm/MfokSPNrAm9u0nyGOw7Q/JuJNSEeh+63ifZV3L/fpDTSMp0DFaj4qF5y1nrXyHaQIf8Dn27kDOadokVwGq1ZoRfqxhbQct/bbw4eneiRyWZPzU081Bx86ZniKWAFt3POMT7OuNn/kOzDIec5cy/D+NdhMcV8/Ck9LFOS1TwfEzTLkL/PpqX4AwAQO92HjxMpDSScy0RHaC6WcsLgEizF6N3BxBKUqYn6pHG8XEXr3uUZN5Lc64BAIi1Yc9mknox9G4VspeAKY91vIWROqH43wAZ714t5C7lgX3UPoLYR4EeQPfnYM4FIhmNPwDA3KsgfFIovIvYylnT86iFxCH9mW33OtDCJGUSdU5MPBM6yrtXCQV3GSzLXR9ArIUW3UfM+Riu4aHjQv6NGD6BfWcg9WLevYamXsR9u2n2EpDSEAC6V2O0jubdQqylAAAszNpeAZok5N8BAKC6efcnFESSvQiM1HSkDrs+JFmLjKI4dn+KgUO06o/GxXDPRvDtolkLwVLKuj4DQGorN94XAB4IBu12u+H3PohBDGIQ30+rF4wfv3rdun2nW+fdRo0Jy11t+vB0QUeo7tItIq3KpO4Ib/bzOIOrhyZsO70x/mJ1fHKBdNUQCQD2dbKwgkCgMl2sSqNxHd84pphFevuYBEc2BrihL3jFEMkqkY9r1TNe/stpCe8aAHjrhArAfzTeLPUPhDb4+fun9fll0qQ8CQC2NGpdYTY0TTBkgduCfGeLPiZbqPeyJVWma5dfK2ZXqWJKx4FVe7dtLSku/u5Vo9J9fPdLb63v+OCzJ/KzUxGwqye8YN6suXMXzr744iLbaXR/LpQ9DpZCiHcy9zqSPhu9O2jeTUBNAIA9m4h9JMbagBCaPgcDX2PgIMm5ATvfg0idUPIwxjsw0kAGlApaXwLdSysTsREGDnD3apoxL/HbzRXW8iKRHLTgbiCCAFFz90vm7Cqh5CcYOo5qL3Gkg5xO0mYhU9C1lqRMxcB+mrngPKf6v+L+fcSUQXKuIaIDuMY6PgCu0LzbMHgQgRPHxG9yKiDnTX8gqdMNTkU9wD3rSOp0CO4nWVeCtZR3r4LQCSH/dkMgkGZfzcOnQHSQlOnANe5eC2IKsAjNvdo4H/ftAe9umn0tsY/mne9B30lxyJMg2AEA3etQaSf2KpogKsB4B2/5o5BzfeKWwrMOg8dp3i3ENhRjrbxno5C3HONu9O0gmVdgzzaSehGGjtGMOYnybe82CB4mGfMTjWPIeMfboPXQksdATAa9j3etBkSSfmmiuVdxY/MfwTGFGslh707WtVos/3eQ040rR/9XJH0eSZvNXStA6aJJwwa6lLlnU8jfRTEqCP8QeY1BDGIQ/3T4flpNSkpypKQ2dbROLxAB4Fi3HtNgfDZZWaumWmimFTiQBh9TOcwrlwwR3biOLx5WSp3CjSNk419a/CzNQgghk3IFRHy/RvVE8SeTzWbRcD5na89pjBOjE2pbk7azRX9ssindmmDQD2rUliD/2RRzcr+eX3cff6k6PjVPnFsqAcDOVr3ez4ucgiFA6I3h5iZtbI5wtIstqZSe+I9feFWJWvO8Bz7ZsWFtTnb2dy/50IHtzz7zy93VbWUFTs55SUnJtVP1a256zZQ5EwDQtwc9e2juDWApBL2PudfRtEt5sJpmXgGmHDBczKgJgIPmp7k3gB7A4FGSNAy9OyDaTLKvBRC5dy/NupIIZgDgXZ9AqFqofM54dQwdZ+3vChmzScZ8o2DBWv9CUBVKHjWcR1nLnwiRadGDGGnk3u3EWoGo0LRZYNC5pQgj9SR1JtgGxImqec82IqfRnOtAdAIA7/qQxFtI4T3QVweKiyZPOD8hCgAArP5XxJxLC+42ToDu9TSpCkOnSMqFxFaFvV+Afx/NuYbYyrnrQ5p6ESrdwKI051owxO6phHEXyV1mCPli6Ch0f0bTZ5PU6bxnI/p20bLHDCUj9O3k3u3EOWGgaQj0IG/8HaTMJFmLAAB9X/He7TR7MXGMR82HnnU08yoAgXvW0owr0L8fksdDtJHYhxtG6Oj7Cvx7iGN8fzQJvOtjHmkSCu8lhpKDZx3qfuKcRFKmAABwDVv+jJZSoeA2MHqaOt4WCm4Hg3FDx9GzjiSPoVkL0L0G9TCxFJF+0X/e+Q4QKdinp5ET4iCrDmIQgwCA751bBYBbb7xx27atXlcLALgj/KsONilP2NKoZdioWSQOEzndozOGMwvPS87+pVq1SuRH400AUOfjR7pZrp0GVbisVAKAlbVqk5/fOTYh7KAx3NumeSJ4wwg5P5kecumr69S7xppK+kdUN9Tr+zr0BybImf0sG1bhpWqlKl28vn9E9Vg3y7KS+aUiACg6bmnUhmcIZ3rY3FLp8O7NH65ea66cfXbjX9d/8uF3c6o/ELj3wR/PW3x9q1tVVe2iyVXHvtq25rclN1y3NMGpgYPctwesZSR1FgDwno00eSTEW0jSMJI0HAAwdBRj7ShnYqSBZi0EAO5eD0mjUPGA6iaO8cRWzt2f08y5xFIEANj7JXevEUp+ClI6AGCkjrW+TFKnk+zFAEAAePsbEG2gpT8DIRkAWOuLoHho6U8x1sw9a4h9JMQ7aPo8AMDAVwA66iFiKzs/4dNXw92riOygectBTAEA9GxA3z6SfzuobgwdJ0kjScbcb24Ca34OuEZLf2485O71IKdgvIMkjyLJY9G/l/dsIemXEsdE3r2GJI8G5BCpNyzesHcL8jiqPSTrKmLcZETOseY/QfJYkrkAg4ewazXNv9VI7WKwmvv3EWspSZkJhAKA0ccEliKh4C4AwNAJ3vUJpM0gqTMAdXSvI45JxJLP3Wtp+mwMnwJzPmi9hEdIynQAwNAx7t0GptyBaBJ7NmPohJBzjfHucPdajLdQ+4jEwAwAa/sroiYU3w8AGG1mTc8Sx3hDBwqjjazjbWIpoTnX894veKyDEKRZC4GaAQCjLaj6qHNyMOiVrHmyyfq9X6VB/BNjsNF7ED8YP8j0a8rEiT29vZqmSQK5uEg85GJWicY0zLZBTQ+LaVCVIQzvHyF95Wg8pLAHLzARgPYQ39akDksX6v3c8Bn9olk77cUl35Bx2NCgd0XwttFSeQpt9LM3T6hLquTx2Ymz7e9kGxqUe8aZCh2JZzjCy0fiDjO5Y0xiRHV3O7OKOK9cNokEADY36YXJtCPEJ2QLFan0oZ//snTOPfvefPTjd94qLyv7jmV+vHJl5ZjR+7/erjO4as5011e/+cMz7xYJX4IpXSi4BQAgUsv9ewnhNHMeAPCerSBYARUgIk2dAQAQa+XeHcRaCsEjJGshCBb0bAAxGeItgDoITpI6Az1rSfolRl8Mhk+wjndowV1gUHKslTc9Q52ThLxlicV2vsd7Nwtl/27o0GLnexg6TksfQ2pF/z5iLcPwSZJ5OYhJEDmLwZNAZELlgdATI/Ws4x0Q7CT3JmNmFAMHWfdKmr8ckHHPVrANJd8wXAMA3vYqhk8IFb9JnMG3G1ABPUIsRcQ5BYOHefc64riAZMzl7s/BUgByBvp3k6wFIFi46xNQugiqxDmNWCsAAOKdvPUlkjyO5t4A0Qbe9irNvDzh+BY5xzybgMVJ1tXEUph49ZbnCepC8cMAhuPbq5A8WshaDADcvY5YCohzInevI/bhoPYAlYAIwGPEqJhGzzH350goyVqcSMX793DfbpJ2UWKCyPslhGvAUjIwFMtdH0PohFDyCAg2VLp48zPUMZkWPwgAqHp429+oKYvm38wDh7HvNOERknGVoQOFeoR3fSRkXs4j54LhqClzhix/69jVIP4VMFg6H8QPxg+j1UmTnA7HuYaGVDNxhbnOsauPFyQL53xcEsi4HGH6gOxDjVbvx0cmW8wi6Y3hpkZtUq50zM3mlkoOE9ndph1y6TMLxQEV3K87WHWXPr9UGpUpuiP8z4eUS4rF2f0Dr2e97K0TyvXDZKOt18Crx5SIhoZhS2OAb23UEWFhpcmQVPyyRbeKEOwfp/nVU8+JuSMCJzb+7lePz5o58zvWeN/DDz/82GNKPHLRtHEt1Wt/cdeF1qLreM8m7KsVCu8DIKC4uHsdEawk7VIwF2CwGtRuYsri4TNg5Bv1IO/ZSJJGYbCaZi8iUir6v0LNB7ofBRtoPpIxj3s2kKQRxD4aADDazJv+SLMWGPlbUN286WlIHksLbjcuiXt3cvdqofxxQ3KPuT9nPVuFkp8Tcy56NhBLPmhBmnoxsRSh6uGeDWDKAaWTpPfbiMbaeNvfUEiiBbcbrAzRJt7yvJC1GORc3vUBsRSQ7CXf3ATu3sB9O8WK30IiO/0pRuoREcRkknoRhk8x1yeQVE5zr+WtL4Ngo0nD0L2WZCwgciaGjqEeRERiLUlIAOpB1vYKSA6h4HbQfLzpOeKcRLKvBmN6tftjQkDIW2rkZgEAO9+CaAMp+RlQGfrOsNaXiKWY5t0EALz3CwBC0i4xrN8QARU3MedBtIlkXAkAGGtnHSsAiZCzlJiyAIAHDjPPZpo03KiYcv9+9O8HUwbN7E/h+nZxz1pS8hMwZUPcxZqeA0sxLfoRGLIeba8CCLTwLoy1on8P4QrJWnT+Uns205RpqHrCgW6b1aaqqtn07brMgxjEIP434QfR6uSJEwkh5+rr93fqvjj2qViWSluDzCySfDudmpfgyHXntJ1t6sMTZYeJRFXc1KBekCPU+9iMAqEgmR5wsUMuXpkmzipKHH/Wy9eeUy8qFCfliWEVXzikjM4Uru33m/NE+UvVyvwy6aJvjKiuqFHqffqDF5htEnFHcGWtqnB+TZWUbSMAcKBTDysoC4QSmFEghiOx5/785/ystPJs50P33/9tq2tsapp2ySXbvvwyL9O2/q3H/vSH3zm0r4hzCkbbsHudUHw/yJnAoty9HuRMkLOJcwpGm9C/lyYNweAhIXeZoV3APevBlA/h4zRrETHnYbgGg0eQx4gpD+LdJPMKDOwnpiwjckKlmzc/C87JRj0SWIg1Pg2WYsEYOAHA8AlseZEWPkDsYwCAud7jrk9owW0kqQJ9Owlw1GPAY8QxHpBjzyawFKLSTfNuBCqA0Tnc/goRLGLh3UTOAgDQ+1jjUyR9LkmdxjteRSmN5t1EhPNkgMFqdL1Lix805Icw0gBKByGMUJlmzMNoA2t+jpgyaM5S3vslMWXTtIuYey1Jn01sZRit575dVHYQKZ2kXgxgNAq9BVqAFtyDQFjLC2gpokZql/Wh+3MEkabPAVtiaJi713LPZlLyGJHTgUVZ90rgEVpwJ6EyBg6C0kWzFqB3B3IVTLnYV0OShmFgH8lcQAQzaF70rAHRKmTOM5Txse8MetYQOSPB4n010LsViUyyFhkjqhA6hq1/EwpuofYRgBrreJNQ08Dm8463QOmixfejHsHu1QCUpF16fvLHtwcAQEzCvrMh03SHwxGLxSwWyw/5Kg1iEIP4l8cPjVYDwWBtXR0FYBztMunqw2QZUs3kon6O3NnK1pxTH5pkzrMLiLC5WR+aJrjCvMhJR2aKR7vZ/g7NYYK5ZYnj3RF89ZgyJlO4tFTSOfxyVyzdRu/od1FVGf7pQHxCtrjoGyOqGxq0ve3soYmWNAsJq7C6TkXEq4bIpU4KADU97JyPZdiIJ8rnlcsAsPTXrxYPu2Dv2nf+9NRT37a0fQcOTJ89u7Oz85KplQdX/eLCS5aj53OatQipiTX9jmTOMYqUvGcDiDbgCs2YCyyEvZtI8ljm3T2QFeTudUBljLeQzCvAWsqDh9GzBhFp0nDUeoljLMRajV9nAEA9xFteBHOeUHg3AABqrP4JEJITnmgAoHTypudI3jKaPgsAMHIWPFtp1hU07RIMHcNoE0gpwOO08EcAwHs2AlCItQnZCxO9tayPt/8NmUoK7zW6qACAnf0psVfRvBtZ22vAuVhw14BcIgBArJ01/YnkLKfOKWA0x/asAzkLBSfNWgjxTt7xBrUU0ox5GD5OtF6SvYh71lH7cGIfjfFOdH9OzYXA9fMtsp3vQ7RRKLmfyJnY/EdALhT33zG414Eeos6J5+3hAvvRvVooecRo5WXtb4LipqWPEykF+2p58DDNWoChIxhro8mjeO824pyE3i9IxgIipwOPcffnyBlNHps4YawVOz9ApDTnehBsGDnLfV8hqkLu9Ylcuh7WW/9CUiaRtDkAgG2voOqmJf9mNFjxzhUYOk5LHiZcQc/nIFpJyhTiSNSqMXIWwjXEWo7+vTR7YTjKku32aDRqtQ7WVgcxiEEA/EBaTUtNzUhP/3r/fn8cdSQBBdKtxCySy/qdw6td7O2T8XvGmoalCQCwuVFLNYOiAyVker5Y08P2dTCdw+Xlkk0y2pTg1WNKmZMuHSEDwKvH4ikWctuo8wz67EEl1y7cMvp8vWpPm7bmrPrj8aaCZMoQ1p9TQnG8rEQani4AQLOf7W3XK1LFei+bVyYTgFePKYe3fJghRn7/m9982zjN7r17L73ySsbYj25Z+NdfzCZpF7Hu1SR1FlgreOtfaPI4w6oTe7cSroLSRTPmg2Dl7o1GUVPozwpy3y5gQVD91DmdJA0D1of+faj3UecE0MMgJAMgjzbS7IUAAKjztlcAVKHoXkPplzX/CYAKZT9NyNDrYdbwO5I6g2YvAQBUXKzxKcicL+Qug2gzencQa3b0i3wAACAASURBVDlG6mnmFQCA/q9BcYHmJVkLBxgU2l9HpVcofmBArog3/QHkdFr8EO94E2IttPiBgdkbAAA9yJv+QDMuptlXAQCwKHrWoZQOXKNZC0Hzso53ADnJvQWYgn11JHMhd28gopOkTEc9iO61xFrBFTdkXgmEAAD3rMfgEZp3K1iH8I53UHHR4n8zKJ+710O8lSQNNVT4AQAjDbz9VZK9GJyTAIC7PoLIaVr8ILHkQ7yTu9fSzAWgdPHAIZo6lfdsJGmXQGA/SZ9PrMUAgO61qEeJJT8h2aj1MteHCCCkzSTmXFDdrPszonTR3BuNHjEAwMbfkaRhtPhhAGCd77HQcaH4ESJngtFy5dspFN9PzIXctwfD50DOpSn9I86aF3s2keTx3LuVZF4FUsa5+vrk5ORINGr7B9PqYMfMIP5HYvCD+Xfwg2gVAMaPHXuypqbQQTUGOUmAHC4vT3DeWS/76zHlppGSIcKwq1VDgDQL7Qjzy0rFOi/f284o4fPLpQEHt9ePKQTgzjEyAHxQozb6+X3jzU5z4q8vVsc5xwcuOJ+f3N2mv31SvXW0aWSmAACbG9T2ME7rr9H2RHFLsz4mS6ju0ueWSXYZPj2j7ti7T9ZDPr//kQcf/Lsrqj569IolS8wm029/fv8j12WStJncs5E6xpPk0bzzXaK6E2W2wEGudCFTSNpssBRi7xdAJYx1Euc0MNpZQ8cgUvf/sPfdgW2VZ/fnea8kW5a8bUneK3uHkBAgbBISEjIIhBEosy2jUGYLLXyFLvYuu7SEUUIYsZOQTSAkIXsPktiWty3Jsq1lzXvf5/fHVZzQ72sL/ZVCac5f0tUd773S1bnvM86BFkP6cH1OIzs+RKJL2KYxFCS6KbUQwQOi8Af6cWXrnxF2KqW36HW5svl5RFpE1b36VAkyJut/i7RyUfJDAKz6Zf1DlDlWKZzLiW7ZuRiZ49i3iWzToKRx7yHp2wwZo5yz6IjXt2x9VQvsVyruPFoH1PqKDDcq/e6T7g/Yt0lU3tX3EQBIVTof5dQSUZwU+ZOeRSADaWFyzAJrWsd8yF5ReAVkhP2bFceF7N8CjlL+FLDG7ho2FcreQ8I+g3Rn054N7F0tCi+mzDHs/lAGtouKO3WC5561MrQPKUVHlfRjLs35qMg+XW+w4c4V3LNO6CoQakB6aoT9AgCaq1rJmyS71lLO6Qjuo/TRlD4MemWv2kNKqsifBoC1sOz4ADIuHLMobyK0kOx4j6RK9ulkPRJtdj7GgFJxFwDNvQg965SKO3WGlp3LZPsCUTiX0kewZxEnuinvbFF42dFL5VlKGSM5sFXYppG5HDKmKEpebm4wGExPT/+HN9H/D45XzBzHdxLHf5j/B74qrU4699y2jo4NrVpJBkJxTO1n1FVl2kL87NbojH7Gc8tNALa0q51hHpon1reo51UamwO8qiFuMWKUIzmtBDD/QKLeL28Zm5JioI/q1E3t6q0nHm1RfWNvrC3A955yNFPV5Oc398XOKDXohVFrGhP7OuUYhzKh2AAgnOBl9fFRdsO+Tm1ypbHAKlY2JFY1qplNq4LB4C9/9rP/83Q6XK6Lr7jCarH89v67f3gelLyJ7NsirAMp6yTu2cBd66jspzBkyc6V7N8CCEqroIzRHNjF0RbIOCwDdHttDtfLrk8AIks/kX0KAO5cwqF9IvccGPM5sB2WQdy9VjhmksEKgN0fyMAeUXYzzGUAZNsb7Nsu+t1HusAeIJ1PAIpScTcAsCqdj1JKgVJ2M1iyZwlZRyC4h2wXUGoR4p3sWQJhoIwT+jxnZPs73LVOqbpHj6YCkO4Pueszpep+9m9mV41SenOyRvcINOfjLMOiPBl/lp6PSA1A9QvHLFIypOtDiroofxpEGnuXk30mh50cduosKN3VMGRQvEXYZySJM7Bb65hPOadT9uncvU56VyvF15BlEHThpO51QjEL+/SkIY8a0hqfJGt/Kr4WgPRvl55qcsxOBt7diyh9FFIKuHORsM+UgR1kHcThZqQ49JZT9q7iuIsTIWG7QO/oZc8ijntE7umUOVbfAye6RN45lJH0Qtfa5slwndLvfgDctQadS0TRNWQdAr2CrH0+sk+m3LNk53IZbiZjrjjWSKdzGRkzONxMmePIOpQDu2Xziy5Xm8NuDwSD6VbrV7mPjuM4/tNxfH76D/FVabV42KlCKKaeWncvT+tvMikAEIjKJzdFJhQbdZHefZ3awS55aolxVaN6XpUxovJHdQmHReSacUpRklNXOxOrGxO3npiSlUKft2ornfHrR5rKs5KfLqpNbGrT7hxvNhwZly8qn94amVhhvHpECoBN7eqmdm1ovji3IhkxXuFUy9NFk0/T22l2uLU398Z+PNq0pPrd4sLCM6fMfnFH7H+fzjU//rEQ4sbrr/nxZAPlnCmDe8lcQtkTuLdWtr8J+zSyDkbMhdAeZklKOuWezdE29i4HGciYrbfTcLyTPYtImMlclrTq7Plcdq6k/MlkGSA9i0TmOO76mGwz+lRnZfc6pfBSXdxHumu48yOqupdSkq20WtMLHGsTlXfrz4Baw5PECT1WyZ1LKMXBsXbKGEXWIWBNepYAirAMoCMhSu78iD1LROXP6YgQBLo/k+3vKhV3sRZSG58ThZcgc8yx10Fr/bPs3S8q79WFKbjnM440yngX2WfBZJfuag7XIud0MpdJ90KyzYTWy77PhX0GRIrsXA4iJHyUeZJOnAjXc8srSsYI4ZjNwT2y/R3qcwIP12nuRdBiZJ+tS1JA15YioZTeDIDDtbLlFco5QxxRVqKUfMocIzvmU8Y4DteTIQNaFIDQm0p7NnDYSVpU2KcnlfE9i7m3ljJG6TVT7FmE3sMia3yfIrH0LINnqaHiZ1AsHNwnO+ZT1smkPwzFvdL5iMg9TSn5Ifds4NA+Uoxknw6R/JmxfxvinazFKK2CssYhuFs2Pg1TvsvT5bDb/X5/ZmbmV7yVjuP7gf9adjk+P/2H+Kq0OuOUoekZmR9WL5zW32Q1AgADj2yODco36PlRp0+ua1EnVxrWtyTGOBSrkZbUJqqyREzDeZXJcPGW9sTre+M/GmUqyxQHvPK9g7EZA0yj7H3NNuoHBxM3j0mxHclSaYxHN8eH5RsuGZxsUV3lVHNSqG+HqxrU9BQKJDiqYrTD0OyXL26LXjk8ldt3+/3+O+/+xZJ69dhCYh33PfhgQ1PTSWPH3ndlETJGcrgOKXbKORPxTtn0IiyDFPtM1sLSvQgpRWTMEfYLwCp7lzMZmJE0NJVxdi8CFJiLdV8z9B6UbX+m3LNF1njNvYiyT2H/FrJNTSrq+TazZxHlnnOkh/JTbn+byu8SluTcUba9zf7touJufeaqtbxMkUZReQ+UVNm9VkZbwSoMmcnNPUtkcB9SiykvqeTAPZ9prfNE+S2UPjS5JHRAbXlRlF7L5jI0Pq7YZ/TJ8yZX8CzirjXG/g8m04qBndK3lbWQcFxI5jL2ruDQHpFxAmWeIN0LRf4UUszsrha2GTDmyp71SHSDGeYS3c+HYy616Xk2l1LhDzjs1Bqfp6wThd79EnPJjvmChCi8rK9HRTa/ikiDUn47lDSOtmvOJ5WMUaLgUgDc/QnLOOWdJ90LyTqEZRgyAkM2x1x69pcDOzm4j0kga3xSWaJrDQf3kKVfUpWi62Pp24b0kcmvBpCBnbL1ZVF+KyxVHHbKpqcpe4LQDeNkXDofQ1qlKL6eg3tkz3rSImSbTsac5IWKNHH3WiYDGayUcya0sNb6J6QUisK5bo/HYbf7/P7srKyveCsdx/cDx9nlOP4WviqtAsi3OYL1W3NSkz+n32+I5pvFD0eaALh7eVl94vwq4y63lmem8kxlSW18YJ7B6ZeTKo361NMTln/cnZhYaRhXaHD65Ks7o6cWG84uT3Lq5vbEvD2x60el9MlKAHj484jdjOtGJmn7g4PxnFS6YkSKPlf+vFXtTbCBIAhXjzQF4nh6a+zsCuOkCsPjzzxjsaaLwVMtBvQldHWsWbv2+VdeCYfDz997GqWVIdoKY57IPQcyrrW9CcFK0RUA2LOEjGlQfSJ/EsjAnctZDZPJphTO0feja+AhpVD/H0dwt+Z8BFkThH2m9CwWaRUI11Hm2KT0UnCf7JgvMkYl//QDu7nleaX0RyJrrL436fmIfRuUiluTSb6OBdS9nirvhTGHA7vRe1hYhnDCJ2xTAciedRzcLzJGCHvSmhuBXarzKaXk+qO6vrEO6XyM8qeJ3Emy/newDhVH9IeTR+zZKF0fKKU3Ia0SAIfr2LucWCr5k8kykHvWsW8TpfWn3HPZtZAyT0JqsXRXk20azGUysBOhA1AsgJIU8tVCsuUVEilKyfWs+mXTC2SpEkVXAYDay+5qMFHeJD3cCoBdC6V/k6i8GyY7tJDW+CylFlPJ9QA4sJ3DDWS7QLqqyZhFihVhJ1IrObBTOGYAgnsPc/daUtJEWrnQp8K+zbJnAxlzkqHpnk2y+xOyDBCOWcnDxdzc8KQo+gFln4qYSzY8ifRRekcsAK3xSQhFqbgd4QbprgEz2Wf11TdB62XPR2zKE8KkO8ppDU8BBmXgbwC43G67zdbd03OcVr+M/9q53HEcx9eh1clnnXZg/x799ZObowrhtnEpAIJxLK2Ln1Vm7OiVoQSPLTQuqY0PzVcae9RJFYb8NAIQVfnpzbFTigxXDU/pCMmXd8aG2gwXDTrSotor5+1JTKkynVZylFOf2hID6KfjUgG4e/mtvfFUg5gzJDlX3uPRnD2a/Ug7TVzjJzdH+mXTZUNMAJatWDFh+g9MChIS4stPlffcf3+61frkvRdmZts45iZTvq5jJ901iLlE0bUw5rF3OashjnlE/vkw2dm/lUP7iRRhn6EL10n3Itl7mFKKRMFsANBCWvMfKbVMKb5Kdi6FYoHqhxZJ9nuEG7SWV2Auo4LLoAsXOB8TBZeirxS2Zz17V4mCOUmZCO9q6VmEyrvJXIJIE3ethGUgh/YnS39D+9m7mgzmvsEg3KA6H1WKrjzqXq4FZP1DlDlGKZyr1T8MSu1LnSaPGK6TLS+RY3YySRlzSdcHDAPlnEbpI9m/XXo/hilX2C6QnmpYB4rM0eyuocwxZB2KcB26P0VqMbSgsCdTj1rD04i5lNIbIdJk8x9Biij5oZ5AlZ2LOdFDWUel/GXPetm5VCn9sV5mpTW9QFCV8ptBRg7Xyu51wj6duz4hAswV7Psc6aPR/bFwzICSgWgruxey0c6KWe9WQmi/7FxOQgjHhVAsHNrPnmoyOYTjwr7z1Q79gjLHCPuF0IJa4zNIdRytz2p5BZFmUfkzRJqkpxqGNJFzul4PlVyhcymEQgB0zm5+Eb2HlAEP6veOy+122O3d3d25ubn/+Bb6L8Lxudxx/Pfia9Dq3Esu8XR2AnhxR9wX45+fkgpAlby0Lj7cpgjig17tjFLDktr4kDylo5eH5CkDcpI0+ezWWK6Zrh5h6onyH3fFbWlCV+EH0JvAE5ujJxUqx7aovrwz5u2Vd52UpO139scSUl42xKiTdL1PbmxT++UaDnqT7TTPb4+lKHTTmFQA895+OxyJzrnhF8E4T+1ntB4TA37quefC4fC44UUXTRmLeA+lFiY9UrwrObiPcs+h9OHc87kM7ELcQ/nTYC7jSIt0L2QtSvYZMGQCkD2b2LcBKQXCcaH+9yHrf4vUItH/Ae5ZD9UPAIpFbyrlmFtreZmMOUrxVRAmaEFZ91uRdybZZ+tDYt8W6V5IWafq2Vnp26G1/FEUXSnSR7Dqk52LkTUeoX1kuwCGDMTaZeubzKpwzElmKBM9Wv3vRP6koyzCquZ8go25ouwnWuNTiLUquhH3EXC0XdY/ouScmazHiXeyZxFAImssZY1H70H21IAMwnGx7FwJU77IPk26a8hcTFnjEWvXXAthGYxwo7BP14V8Zf1jiLvIPgvmUtn+BsdaRNlNeihbej5C2EmWgXpCFACHDsjWeWSfTpnjAGgtf0S4Vim/HYYsjnWwu0bYpnNwP1QfMsdKdzVbhnHPZ2SfgZQiDtdKTzUs/UiGk/P+cIPW8S5DCselMNkRadJaXiNDuii8LCn7AGi1D5KlXJTfBta0phfACaX0Zl0HQ7o+kN2fiapfkDDLzpWc8JN1mJ5tTY62+xOOtEFqwj6ThEm2PC97NiiDHkHMo6/g6mhx2O2dXm9uTs5Xv5WO4ziO43uMr0GrJ40dazQaf/L0AmePes/JyVjw8vqEwyqK08VKZ+KcMsOaJq0iS/SqMCs46Yj60qu7YoEYbhqTEk7IeXvjKuPqEaYUBQA0xlNbooXpylUjjrbTvLk3frBLu3N8aoqBNMb7B+M9Mb5yeGpppgDg7uXl9YmR+WJre7Kd5uGNMVdI3nxicg933f+ArbR/VwTT+hlzzUefmnt7e3/7yCMdHS2/uHEiJ3ooreJonZF3FVkqRP55HNzHvo0EErapZBkAVqVrAVgTRXOTla69B9mzEKnFSsHFuvCsrPstk0GpuoeDezi4j5V0yKgeLYQakm1/hoyK4utgyAZrWu2vyTpA6Bq2AAf3aK73ydJfFFwEQPZ8LpueEIWXiLzzALB7MVmHI/QFZU8gcym0iOx4l4iUoh/o9i/QIlrtr5AxUhRd3XeasvE5qAGl8g7pWYyezUrZbXqVbBJakBufgHUQ6WlFQHYu5bBTpA+nnDMRadba3pAsReHl7F1NSIi8SbJzOchAuedADWiuasoYycHdZJ+hS/9LzxKONomia0TeROn6kAP7lNKb9Aiq7P6Mg7uRUiSOyA5zpFk2PknZpyZJ0b0Qvk2i4m6kFkHrle5FlDsR8U4OOyn3bPbUUO5EijaSuYwsA6FFuOszlglEmsl+AUQKxz3StYBhVOyzkFaFRJds/TPIQIVX6QLIAGTT81B9StX9AGTLqwg7lfLbdWNz2f0ZdyxQKu6k1GLpWQyOkXWYOJKLBcCBPbJnE3GM7DNhyOSejZpnORXMRUoBB3ZwcLfsXutyd+q0asvP/+q30nEcx/cJkUikpbVV07RveyDfFfxjY7hjUVJasXzJh5//6CLdBnVNY0IRNK5AWfBF/NwK4za3dFgozYgGn5wzJDkZXXgoscej3XtyaqqRXt+T8EXktSNNfWz3/NYYgJ+ceJRTPzgY39Kh3X1Sao6ZANQcTjT6tAsHmgbkCAC9CSyvj49xKHuPtNMsPBRvDaj3nmLWPePeXF/X5em45sHfj7YrBdYvPTQ8+dxzVWV5/UsyRlZZKH14skI1uEd2r4diERkncLiJPdWShWKb3FesS5FWKr4qqYwfbZPNL5MxnwrnQrECkE3PctyrDHoM4Qb2roRlICW69WAvANnxFuIeUXJDUjWi/nekWETFnckBhQ9zx3wyZYmCS0HE8U7Z+jpZhwrdEM2zmFJsiHvIOki3PJPuhRxzC8fFSRU9VrXD95AxU5Qd1WXUmp5j/zZl0KMcOqw1v2youh+WY9ppWGp1D4FSRenNyQWejzjcIrJOovwpSHilaz7IpDhmI9YKMlDBJXppkii8HKxJT41Iq+LeQ8J2pJ2mZyN3LhMFcyhzDPes5+5PRcElSRPT4C7uWQthEY4ZejSYE91a49PCMkgUXw2Auz+Tno9EyY90uUHpWSwyhoKI/dtF0aXS8xGlj0akntMqhT6P99RQSh7CfqFXVqu97K6BlCLvLMoYxVqU295kNaCU3UTm4uT1d73H/i3K4CcAcMd8DuwUFXcmDel6D8mmP4jiayljtPSuQLQZhuykGoZ+ZaJtWsc7JIxUdBWlFnLEqTU9rZTdKPKmcLSNYx4yl7madkqQ1Wp1ezzHafU/DpqmxeKJzdt37tz3hcfrTUlNHVBZfs6Ek3Oyskymv65z/NeCvy9R8kQi8cDvfvf088+Hw2GH3d5aW3vceBhfl1YnnXX6wsVLbGkCwKZ2tSeK2YOMNYcTA3IN9d1adqqoyBTVhxOXDjXpXuPrmrUNreoNo1MK08WHBxPObvXSoSllR7xoXt8TbwvJX04wHzEmx3JnYkOretMJKfrEdE2TututTulnGmlPbvJRbbx/jmj0J91p1raonzWrN44x63VJ61rUhe/9RQjlpgvPHlP8pVNTVfXZ55+xpCpP3XWayDmDMnSx+zrpXQUlReRPhLlEts4DSyVvot43yYEd3LVGFF6ud4WyFpLNr0AxU8l1eo2obHudA3vF4Meh+qSnBtaBiLSJwsv1rgzZvoBDh0XhXLIOgk7AvU5l+Cv6eDjcKFvnAaQUzIUhC1pYOh8h64CkTEHTi2TKJZHClCKyTwfAXasR3E3559ORDhmt/mFSrKL/b/rOkTs/4sBuQ//7QaQ1PqWU/pCyTzr2ImhNL0HzK/0fTCrpd69FcDtZ+pFtJrSI1vE+ZEzknQcZ595aUXA5B3YhdEAUXA6A3TWUYuNIO2WN18+Ig/tk2zzKP49yzuDgHnYtoJwzKWcCAITr2V1NrIqiq5PBahmXTS9ApFDJjwFw6AvZPk8UzNariKXnIyjpMNqkZ4kovIy71sLkgNrDwpzkVPciEmaOeSjnLKRVAZC6XEPmKF0CiTve5XCTKLm2TxaDu9fJ9rcM/X8NY550V3PXx6L0pqRicKJbOh8V9hkif7Ls2ciBPSCTYp+hq1wBgIxpHe8RKaJgDqVVQfXL+kdF7mSRdz4A+LdSSh77NodSJ5QUl+BIhvXr3EnH8a3hsRdeXbN+k6qq//ujz7dsf33+B/prIcQFk87+ybVXfhNj+H5waiQSufCyy5avWqW/dbnd0WjUYrF8u6P6LuDr0eqUiRNffu01AHs92uEubfZA49rmhEmBLyrNRhpXoLx7ID6p0phnJgA7XeoyZ2JKlWFovrKqIbHXq00dcLTQd+GhxNaOxH2nmjOOCBR+1qJ+0qheOtg0OE8BsLlN/bQxcXa5YXxhcpMVzoRB4e4IFVrFaIdht1tddDg+c6BpaJ4AsKVdre2Wa6rnlVVUjan46/qRl//wywGlmUR8ynm36noIHG2Vrg8pxU6mfEofLtveRLyL8iYnZ7Ext3Q+RvaZekML9NoWtUdU/jxpkOKqlp0rDAN/DzJJ93swV6C3ThRcpgvtSu8qDmwRjlk6C8r2Nzm4Rwx5CsIEgGMd7HqXFDPZpuu6EFrD46SY9cIiDuwmoZApm6MdouhKQPchXyZyzqScpAmPbHoGcY8Y+Pu+E2T/ZumuUYquYnOVPHgnsk/rs2rRoXXMR3CrqPqfpLGrfwd3rSZTkbDPBJH01FDCi8yTYcph7wpReDlibdz9CRVcDoOVvStAChJBmMt0pQWONMqGpylngrDP4nCD1vQSZYxU9Pxu6IB0vSs1VSmaq3vvANBaX6O4h0puIEM6oq2y4VHKOYvyzgfAPetICyHrZO54RzjmILiPGaSkcrQr2W/T9TFxglkly0DKGA1d58G/lbJPEflTAGjuGgR3icLL9IkyAO6tVRufVUpvRvpI2bORvcuQN1nfFjIqD/+K0keIwrno/QLdawiaKJgD49HkqHRVU9wlHBeSdRhkTNY9hLRKUXINAERbZWgfCRMVXN66ub64sLDD5bLl5xsMX+9WOo5/M16f/8E71Yul/KolylLKmuWra5avzsnKfPeVZ1VVveLmO7t6fABSU1N/f+8dwwcP/CbH+10HM19x3XV9nHocx+Lr/RdcMHVqWlraT+59cNjF98weZKzzcUeIs1OJGedWGGsOJwbnKXq09oBXW3hYHWEznFNuXNeibm5XTy06SpBrGhOrGhK3nJjaF6f9vE1b7UycV2kYV2QAsK9TW1SXGFug9HWdft6qRlTkmJVIgk8vNRzulm/vj08oNpxRagCwx6PtdMtdny6ymlOnTTrnr4bNPRv//PZ7ljTz3LnXJTWG4p3sXkiWgYh7KW+ydFdz6CDZp4k+Em16CukjRcEl+lut5TWEDoiq+/Xgp9a+gF1vi6r/gblCdsxnQzb1HhKOi3VdAvZt5M5llHuuLkQg3UvYvVgM+J1excOJHnYtZFIo62Q9uqs1PUtxLw34LUjhcCN3rRTZp0j/diq8AiCE67W2ecJc2qdir7W8xsF9hv6/1gPR0OuAml4QthmUc5qsfZBM+UIX8e+7At6P4V2llN8GvYk2XCddC2DMEoVzoKRJz2LuraP04WQdxO1vi4JLWYtJ10LhmE0pdtn+JpHChhxI0j3sON7JjU8iY7govhoJr2x5WZiLkv0qWkT2bOC4T3HM6Gun0VzvUWgvld1KlkFQfVrj4339LRzYxcEvyHYeu6uFfQbHXBxzUfoQ9u8QhXP1746jbTBmAamkq3B0fYzwIUofcaSdZj261pDjQn3iCwBaWDofVezTRd4kDh3gtteQP02xz0x+s84nYLCI8p8i2iY7FjCZhH0G+tppAO5ey/4t4khRlWx+jiGV8tuSm3tXQu0VRRcitbip+ZPSkpLmlpbSkpKvcvscx7eCe3/3+Lbde//OCpXl6TnZGbFYvMPt83Yl/urTbp9/4pyrjl0SjUbv+NXvbXm5b7/w5L9+uP8h+MWvfvVhTc23PYrvKL72I3Z5Wdn7NQvvvue+cAKft6qFVqFr6K9rUQ2CxxcZATh98r2DcVuamNHfsKVdXdeiDslT+nSRtru09w/GrxieMjivz6tc/bghMaZAObs8ufnb+xODcpWZA5Iz2b0ezemTFZnU3ssXDTI2+7XXdscH5iizBpoAHO7W1reoBoG6DR+mGGjEsGHHDlj6Nm9a/XwwLHcdalm8JCm0y64PYR2CwA4quFx2fcze5VQ4VxyR49Ean4WUyoB7km9d76H7U9HvAb0Sh4N72fWOKJgrMsdIz2JoYag+sk1NMlZwr9Y+X2SOE7bzAbBvE3e8RRW3k57j1MLsXsiIQUnXpZpk2xsI7BIDfgdDBid6uHMxZZ+q9WwU9llkzEGiS2t+QaQUi7Jb9cGw8euMDAAAIABJREFU6130fK70u/eosH6kUWt8hrJOJseFsvF5qD1i0OPHXgEO7pMdfxGFlyJ9JADEXLL1z8ykFF4BYw53r0FwD6VVipzTZfvbZLsAxixue1vkT6a0Sg7sghZhUwGp3VRwOQBoEdn4DAy5SukNkDGt9XXImCi5XS+Mkp2LOdYpbNMo5+zk0bvXoutTKrqKLIMgVc35NJQspfQmABx2ctfHZJ/BnuWUfRpLlQM7KecU7vpEFM6FksbBvRzYSdYKjgf0Rxz2bWL/dlZSFPt0CBMHd3P7OyJ/Ut88Hnrpr3WQKLqSw43S+SjlnSv6OLXlFWZV6f8AtKB010CYRfYEsh79wXBon+x4j/Im6jvUGp7k0EFlwG+SYYbgfu7ZKEpvgHUIAGdDQ3lZWX1Dw9/ycjiObxdvvl/9xoKFf7UwNYVu/OE1U86bTPS3Y7EcX7V0zuMvGf/O5Nbj7XrypdfuuOG6f9Fg/5Mw7+23H37iiW97FH8P3272+mtUAuu4dPbscLcrM1WsbFBzUgmEqf2MB7yy0adNqjABaA/KN/ZGBXDhQGNtj/y4SS2wiKlVSU51+uSfdscu6J/S59K6qU37rDlRlWOYPkBXlpB/2hUrsuLSwclNGn3a+la1MosOd8vJlcbOsHx9TzzPLC4bagLQEpCLDscVQhF1rlmxuKqycuLZZ/eNln1bEdz7wWehYSNOnjp5ckZ6OmQU3espYySiHZRzlt4HKQouEX3xVXc1+7cplUlOlV2rZcf7SsWdZKkCdMu2R5XCuaJgDnevIS3EzJQxOin7EG6QLS+RdaAomguAQ/Wy8RkUzNXd1sBSuqshY2S06ZZw0rNYeleJynuQUgAwexZTxgkc/ELknEVplWBNa34FwiBKf6hXHbN3GXs/EeU/6csgIu7Rmv5AaZVK8XVax/vSv0lU/QJ0zNNSpFFreIpyzj7iSRdSW+exjCol11FqMfs2yZ4NMOYK2/nSU0OZ48gyQLqqKfMESh/O4TrZtYYs/RFr6xPHl83PQ0aVip9CpMi2dzjSJEpvgskOvag4VEvWQdTXThPYJdvfobxzkqH1lheg9oiK2yCMuvSjsJ3PPZ9T+nAYsrlzKeWcLL2r9aIkDjtl53KyVHKkPSnEH9zLXZ9AhoVtFow53FuvNb2AjBPpmHC35nwUKbmi4k7EPeqhn1HWSX06GNJVw11rRckPIVKlexFkL2WM/FI7TbSNG5+hzNF66bL01HBgmyi+ho48wciWF5F7el96u+7A+qrKysO1tQP69cNxfJegqtqUy6/9K0695sqpq5a8t/iDBedPnvL3OBUAmc4+VVv6ZnTRn6LWtKPU+t5LseVvRQf1k/rbZWs++wbG/l3HvgMHbvwb/iXfHXy72euvTavXXX11OBxurt1vFGxUMK2f0d0rVzckJlYYjQq6I7y4Nm41ijEOQzCBpfWJVAXTBxhTDATA6dOe3ho9vcQwpaqPU9WNbWpOqpje30hAMI7X98bTjHzF8BR9k64IL3eqI2zKdpecXGUEMH9/PK7himHGNCN1hnlJXcJsEPkW0bJt+ZRJk+qczq29jlACus4LB3aSffrCNbWxeHzalClIqsNbofXCmAnForW8LGxT9O5VABzcJTveVcpugSkHgPRt0xpfMJTdCF3LXuvVLdvIcRH7tnC4maUU1v5CN+6Od8qmP1DWqcl2l7iHGx8m22TFfsSC1L2QtV4ASZLwb+SOBUrpjclSWPciSnFwzIW0Ct0Jh1v/TJEGUfITPe3H3eul5yMqvCSZI4QuQ/EKSBEl17N/CzzVSsUdX3J8S3i1Q/dQxiid5gFwx3xKdCpFV5OlHwf3ad4VREbhuJC9q8lcRlnjpKsa5mLKGs+xdnZXi8wx7N8u7DP0gLPW8iqHDovyO2DIkp3LOLRTKbpKn4hzz3oO7CRzcZ9GBIfrZMurlDlO2C8EwO1vysAuUfkzMmRBxti9iLJPk8F9lFoMywD21Ij8idyzWeRNQlol4h7pqaH0kTJ0iGzToZg57GTXfIYkxxwylyLukc3PknWQUnJN3+nKtnkIO5WSm6CGtPpHRdZYvXsYunhk++tUcRulFnL3p4i1kcFCx7TTQEa58VlO6y+KrwXAPZ9z5yql9KajeYHGZ8mQqRQma1jYu+qQs21Av377v/hiyKBBX/c+Oo5vDgcO1U65/FpVPdrv8fM7Llq15L3LL7n6/1ibA6w1sLqP1YOQ3iNLkwVNJhPefyX2wJ3xEYPl8rei6VYG8PQD8T5SjkSi39yJfAfR29s754orIpHItz2Q7zS+dhDYYbdnZ2X9z5Mvzr37qQv6mZh5VUPi3AqjwyrCcf6oLg6icYVKSTq9ezAOxoUDk82jPVF+aXu0KtNwyZHem01t6g6XBsL0AUarETENL+6I+qLypyemZqUQgLiG5fWJ4TblgFdOrjTkmWn+FzF/lOcOTymwilACS+vizDw033BmmWHG/SsH9O/vCqM8U+z1aCcXKQBE6Y+2bNuWZjZv3b79pWefZXcNDJkw5XP3OsqdJOt+SfnTKT9JexxukI3PKo5ZpGsKRpyy6SlDydV6eysAre43ZK4QJT/k0Bfs3wJTDgzZlH06AGgRrflFKCbKn0xKGrSQdD7ClsFKYTIrw51LoQaQ6BZFV8CQzuFa2fC0KLxSny3J7k/BCY77Iax6/lK6a6Rvs1J5p96cw/6t0vW+yDlb15HXdynb5iHuUiru4kSP1vKKUnjpUcYFON4jG5+FZbBypEWV3Qs5dEAUXErpwxFukK75EBZyXML+bRCplHOW7FxKSoreosruGmSOlYEdwjZDDziz63341ouqX1FqIfs2w7uCbBdQ5onQ+5S8H5NiJdt0fa7MsQ7Z9DzSyvWqK9m5VHpXK1W/SHbmeBaTpYpj7RBplHWKbH+bcibI4AFYh1H6CFZ72V0jrEOkf4dSeBlM+Rxzs3shK1lkLiXrEGgRrel5KFlKydEUMnuXc+cyZcDvYLBqtQ/AYFGOaEtxpFk2PU0l14vMsdy9XvZsIpONir6k5qg1PguCUvYTgDi4W3bMp7yz+mwMZOcK9m1Uhv0hucPATo62flHXPtC6ZdeePb++//6vex8dxzeEtz9c1FfNC2DEYPnEYx/81Tqs7pGhX/Vx5z/E+NFy/Oj4sUvMqRyOEABfIGA2p/7/Dfk/CbfceecXhw5926P4ruNrz1YBlFQNWrn4/Wn9jEYFqxoSpZnKkDyhMT6qTzCQnyb6ZYua2kSqwAX9jXo7TUzl57dFC9JFn4vqpnZtS7sqgen9jXaLALDgQMwTlj8aleI4Use03JkoyVBaAvJEh+ifoyx1qh0hTKwyDc4VqsTSukQwgQE5ypllBgBr1q71apbSsqqWoOwOa+FEMnSz8uOPR40YYcvPL5DLmCVljtW6PxW5p2nO3yJ3olJ4qb4ax1yy5QVKH0qOOQCQ8Gn1D4m8SX3BT835MCBE5d2ItrKnho3ZoFS9EhWAbHmV4h5R+hMy5oCl1vgMU2pfRyl3fcyxTsheoasFRdtk/cOUdz7peoSBneitoxQHpBS2yUBSl18pufaIpdpu2TGfMkfSsYJ87fO5t06U/AgiRXM+StmnU/40HAPZPk9G6kX5T6B70nWvld2fCfsMyhrHMbfW8Q6zQbFdgFgL1CDZpsnutaQGyXYBWJPuGlgHofewyD5Dn4zKrtWae5Eou43SKrn3IHe8jcyxIvdc6FJHrvfAcSq4OOlwp4Vk62sQqaL4Wggj+7dx+3yl6Hq941Z2LmcyIdoKLSxsU6VnEVn7IdoGY67ImQCAPYuQWsjhWmGfDnMZ1BB7agCIzBP0DKtseYlUv1Jxa5+UkvTvUJteFmW3IK1Kcz5BWlCp/FkyGM6adD5COeeI/KkIHZA9nwIQjhl6ujR5MVv+hHC9UvlzKGkcruPW18g6VBxRwkL3Z9L9HhVfB0MuAERb2LvqYIOnpCAnnjPL6/UOHvhfXRT63cEb7y08llPfezn26C+PoUOOaf45mu8CGfrlV+fU/42ECp1TARTYbX9/5e8TFi5a9Oc33/wX7ez7rBr9z9DqKRdcbTIqmzet39quRlScXmIAsLQuDkZUxWi78lF9wmgQ40sMfe00L+6MgeiG0al68GRjm1bXpVqNVGgVVVkCQPWh+H6vdu2IlIojJnGfNKkmgUBMFqWL0Q7DCmeisUcbkS/0cuJldfGOXq0yk/RKqF179tgKS9s8Xal5pYVWmtrfpAtWAPhs/Xqz2Xz62H6kmIVjFncuFeljtMZnReYJR6dxaoDb3mCZoIIrAEDGtdoHkD48KRYPyJaXEWlR+t0H1Sfd1UgtIeBoIUzbmzK4R5TfkZyKtb6CaJuouJ2EEQD3bOBIK0giYyxZBkH1y4YnYR0miq8CgHAD+zaRdRAHdgnHDIg0hJ2y5UVhn05ZJwPg3oOy/U1KLSHHUT9t9q6gwA7hmE0peVrjs2SuUEq+VDrB7W9wcK9xwO/JmAtAtv9Fuj+k3DMp5wyoIXZ/CJaKbTJkjHtryTZd+rZybx0lXVRrkOJAzA3LwGQ4OrCTW+eJoqsoYzSibbLpJaSWJ/29E13StYCgiILLjzFOn4eoS5T8iIy5HG6Ujc8IxyzKPQ0A93yORBdM2SBB9tncuQyJTrDGWlzkTwbAniWsmBFzU+ZJSSdUzyKoIbL012P1WsvrCO6j8jv7pJQQc8mGJ5Tiqyj7VK3lFQ7Xin73JW3hAVn7AJmLRcn1HG3T2udDiyqFlx7dFpCeJehaqVTeC2MOYu2y+WU22vQ6ZOi6EO4PKLVM145mtVd2fMCgXYdDo0445fMt28ePG4fj+A7gi9r6N9+r7nu77M1ouoUBaL4Z4F7NP1vzXwT+F0QvL7g6OT39Bwna7xc8nZ0/vuWWf7ze/8Lf4M/v86X7Z2j1ZxefJjVt3ltv7fLIiRVGACudCQb54nxysXFdSwKgNAPGFyYjzH/cFXP18s1jUsxGArChVW0NSqNBDMlXLhxoBLCmUV3fJucMNg05Uhu8rUP1hmWKAYrAaSWGz5rV2m7psIpJlUYAqxsTdT6uyFTO75eccKzccsBSOLDL03Hq4KJxhV+KbG/Zts3dUXfq8Ayyz+DOj8iUzx3vUErBUaUhmWB3NbRepfhqvSdVq/8NTHnKkeJbrfWP3LNe6Xcfk0m6amDIhBYWthlJRVz3Ytn9qaHiDt0KRroWSN82UXEnmfT20O0cOgDFRKklIuskyITW9CwUs1J2EwBOdEnPIliHye51wj4DhmwkulTnI5Q1QS/D4bCTW/4IJZsKr9AtUaFL1bsXI+dMyj5Va5/P0Tal7IZjT1l2LpXd65Xy25N9I+HD6NlAaf31TlbpqeF4N2WfDGM2+zYI+wyONCCwWThmQjFL7wpAQB6tVeZIi2x4nOwzRN450EKy9U8wmEXJNYCAjEtXDWSc8s7rM6STHQu4t1aU/ojSKjju1eofQs4ZpEtHhfbLwE5KLULvYbLNhH8LJ7opcyyHm/UqIe7+lGWEZJQs/ZINsu4ajrsotUCnfO5cQr5PqfLnfQZzkFGt7jci9wxhnyldC7h7veh3HwxJW3it8WmWUVF5L7SwbP8LSIiCS2A+pnDXt5VbXxXltyOtHKpftr4O1pTia/QpPrQQt7/NLERp8gqz+z2Ouyj75O116gmjRq1dv/60U0/9yrfOV8X3+Un+m0EsHr/1l7/ue7ty8buG7MUiVX9ulpr/UnD8b237T+PR//n5v3yf31nccOutnV7vP17vf+H7zJ9/A/8MrZaWlNhstjf+8pcZRf50E33WrMY01hhDcsX+ThWgvDS6ZkSS8N49ENvr0W4fm5qdSgDWtagdIWlWOM+M8UUGAJvbEqub1On9DCc4knR4qFvu8Wi2NOEN8+RK45Z2db9XCsKkSqMgfN6qflSXKM2gqUfqnloCcsmOJntBSdDXU1GQd+xQD9fW5mSl79u3/6SzruPAPk50y641SLGJfr/qW0e2vMpxF2WdROmjAMiGx0jGlKpfJD/t+hSdS0XpzUgpgGcRx9o50S3sM/W/XdmzQbo/FCXX6h0XWvt87vpUlN1IaVUAOHSAfZ/DmANKodxzAWjNL1PMrZT/FCIFrLJ7MVmHIbhbOGYitQQyoR3+JaWVi5LrASDWJtteZzKI4rk6SUOPGHsWU+ZYYZsq295Cb53S/1d9LAKAA9vYXUOFlydtWKJtWsPTsA4UZTdDr3MON1L6cDL3k97VZJvBiRB7FlP+DDLmcvd6xL0wZZGM6CZ0nOjWau+jrJOE4yIAsv0tjntE8Y/1I0r3IsQ7RPZ4kX1y8uhdH8O/RRRcROkjIGOy4VGyVCn66URb2bNYpA/m4D5hn8XRJg7shDCxb4uwz0jGisNOApExS89YS+8q2VsHJV3Pf7Nvk+xYQCU/1ou8dGi1v0VqiSj5kexcLtvfVSp/JlKT4oVa41MI7hVV9wGQrvcgoyJvYp9kBABEGtXGJ6j4eso6iWVCtr3Dqk+UXJ+UXNZ1J9SgUvwDMuUDkO4PuWeTcMwW2RM2bdky7sQTP/7kk7PPONrb86/Cf+E/0f8npl3xw77XS9+IEgkAlHrh397in0f/yuRjz90PPvxN7P87iE6vd9nKlccuEUL8VSvjcfThn6FVAGeedtqp48e/+Oqrm9tVd6/MSBEpAu4wJAPM51UkCW9pfWJNo3bbuFS7hQB81qJ6w5ybRsw4p9wIYLdbXVSnnlKknF6a3KQtKJfXx6uyRb1PTq4y7u3Udro1yZhSZcxOpV1ubW2zeqLDMLHcoAi9EgpPbYlaNH+/otxEJNgQSTt2nAcPH66qGtAVSFSW5MC3gf07YLD2USZ02TwwGfP0olCt5WUOO6nyF/pMlEN7ZdOzStlPKGu89K6UiW4iEpnjYMoHAO9qbn5ZcVwosk4FwP4d8G0gcylljAGAsFN6lsBcCTVpoCY73uHgHlF+u745exYjpYCjLZQ1jiyDAcjGp2HIUkpvAcBxr2yfD4YonEt9s6twnex4h002clzE3pXs3yGKr9EpXAf3HpLNr4q8ibrmH1Sf1vgcUgpE8XUAcdcq9H5BaZUi5zTuXCxyziTFLNvfEo5ZZC7hwC4O7Ye5FGFnUnpCxrn+9yJ9hN41K10LOfiFKL4+aQrrXYHeg2QZnDRoA9i3WXYuQ87peqWPduhnRAal4g4A0ILSs4gyRkn/DrLPYi3C7kUi80SE6yljHIzZ3HuYezZASWcoujc793yO4G4SQthnwGDlsFM2/QH22XpsXIfW+AQ4rlTerbkXy+YXRcXtfZ5usvsT7lmvlFxHxkx2V3OkWWSN7dPMAsBaSHM+LPLOSzrmemo41iJsM/tULKRnCUcaRPb4pLRT1yey40NRci1ljo35Dm3cvNmWl+ft6joeBP7W8eRLr/W9/vDVmBDQU6da8LZv4nDP/TrW9/rAobpv4hDfNeTn5W1eu/YHl18+cvjws88443cPPODcv/++n/8XTda/Fv55xbVQOPz0Cy+VT71tuC1lv1fLMEGT6I7wxYONel5zXYtafTB+81hzRZYAsKYxEYhzcbpw+vmigSYAh7q0BV/Eh9oM0/olW1QDMV7hTIy0G/Z6tIsGGV29vKlNMwqMKxAVWeJwt1ZzOOGw0oyBSdfVUAIPbYwOzVe2NmxfU5+eiEfOrEo/dpD1TmdmZubQIUNluA6RRhgylMqjPwXuWsOxDtJCwj4TpHDHu9Sznvr/noxZADjm1pyPi4JLkHM292zkwC6IFGGfCcsgAIi71fa3KXNUkoHCtbJ9HjJGieLroHdAuhdSxij0HqLCuSADd67i7nVK6Q26pC13rwEz1CCllSbVfFr/xOF6ZeBDMFihhdi9EDIm8s87OruKtastfyIyKIVzObhbdq4UtvP0SGnydKJtsuEpZIwmx0UAIBNa00vMqqHsRigW7tkgfVvImC/yz5fuhcgci7Qy2f4XYZuKtAEcruPuNcg8CYHtVHC57uSqOR+BYlEq7oSeIe5ZS47ZSTll30b2byFzCfW104QOSNcCsg7V24e0ppcgVVFxY7Iw2LMYKUUysEdxXARjlmx7E1mnSP9mss0k6yCOtbOnBuYySFUUXAxAuj7g0GFGXCm8CiYbx73S+RDlndtnhgNAtr3BoUOGQY9xuA4db5FtpjhSuIvQF7LhOaXsFmSdIrvWcHAvWQfrbJ0crUzI2l8jrb8ovgZ6x21gH2VP6GtjlZ4a7j1EqUW6GREHdsqWV5TiaylzHCItH1c/eMYp45atWjV96tSved8cx78YzNzXP3rOBC3NrOdTZ32jBz15jLZxuwLglw89sfD1F7/RY/2fkFJ+vmmTp7Nz4jnnpFut/4Yjjhg2bN6rrx67ZPvOnf+G4/4n4p+crT77+ON79u3rN3rCviUvbmhTTQoY8MdxXmWyrHeXW87bG//ByNSRNgFgdUMinMDAXGVfpzalyqgINPm0ebtjJRnKRUdsVpmxokEtz1QOd2mTq4wJiWV1CasJFVlitMPQGpBv7I2nmzBncJJTuyP82/Xhftl03ciU3MpRjkHjLQY2Kl+Kn7W0tRkUZUBVGXybIFKVyruS1t9JVbxWAlHuRKQWSe9K2bmcyu5KJu1Yyvrfi6zxouAS7v2C/ZugmEX2hCSnamGt7iGRcYJSfgcARNu05pdhdCiFlwPgRDe7q5E+CoFdwjadjDns3yo7a8gxU68Akv5tHG5iYSLFpKsRsXsRe1eJqnthzIZMSPdCqD7KPOHo7EoNaG1vE0lRfA3HO6V7IdKHHssTUP2y6Tmkluq8DkBrfY0jDYaKn8KYx8HdWtcakEE4ZsmuVTCXisyx7KqGZQhljEasQ7qrKWM8etYL2ww94Kw1PoN4ly6LwcF93PGuyJqQzLaG9rN3BQmzsM1IVttGmrXmV8lkS1bqdrzHPRuUfr/QNYHZ8xFIQbRZ2KYhrVJ6lpClP8KHkXUKWQexFmL3IqQUQu3Vq8A47ERoPzS/oWAOpZVDxqXzYbIMPtb/jr3LpecjpfIu1hKy7mHKn360gVX1aw2PicKLKe8s9m/n7nVkyhNHpB91yIbHSRj1Jwbp+oC9H1P64L66bvbv4MB+0uKUfz5AMlwnnY+KgjmUNxFqQOt49+NNrWdNOOH9hQsvnPEl4eXj+Pfjutvv1V8Igbtv+GvpwW8Iv7o9eaBQOPzvOeKxSCQSZ59//mkTJ86+/PLTzj03/G2MAYA/EPhWjvvdxz9Jq2lpaZfOnn3ysP4vPvekUQ1ZTBSXGG0T/XMEgPoe+fyO6OwBhgnFCoDl9YmExAibsqZRnVJlzDDBFZLz9iWy0sSlQ02mI0S4wpnINKEjJE8qMmSYsKohUZwpzAY6q8zoi/Gb+2JmA80dZtJztO5e/p/PIkVW5UejUtoCWqOfxzhEqsmY+LIxhcvtjsd6y7PakehRKm7ry0FycDcHd5OSRuYiyjyB/dvY9Z4ovIIyR+oryLoHYMoXpTdytE26axgmkTGqT15HOh+mlDxRfgsAqH6t7Q1AiuIfQJhZC7O7mtKHce9hyp8CcxmHDmht8yjzFJE7CQCH69CzHik20gLJMhzfJq39Laq4PSmO6KlG3AtzxVHWZE263udYp7BfBCiy/S0yZisFFx89T9a0ppfAqlJ+o15+LDvegX+HUnEHUksQrmP3QsEJUXAJ+7eCUkTu2dJdTSl2kTMBWlBzVVPWyRzcSbZpepWTbHuDg3uVAb+CYuZIi2x+AZYBVHARAI40a21vsxYnxxwkVY67tNY/kzCKoh9AscjW19izUKm6Cym6edx6mfByIkBZp5B1iOxcBsWCuJcs/UXmiQDgWQyDGWpAOGZBMXPcI93vg4zkuAiWwUj6EKQKPZgMANDci7Tml5XyW5FSJusfpKwT+/QuAGh1v4F1hCi4jHvrpKcGpJAjaY575Ot7lGKtovJnANi/jUMHkVoicpPdyRyuk95lIFDBHDLZkOjm+ocof7Ju2Cc9iyF7V2zpKikf0d3Tc6yk13H8+8HMLe0d+uvXn4z9/ZX/hfB1HWWUtg7Xv+24Oh5/5pm169bpr3fv3btn375/8wB0+P3+b3T//7mFe/8krQIoKy3dunHtmHNmL5/3mIGQn0ZjCgwAPGH59JboeeWGKf1MAJbUxhWBsYWGpfWJyVVGh1X44/jL/riqySuHmXTZBwDrW9S4RFhFRbZSnik+qkvYLSIQkedVGOIav7U3FozjquEmfSrcEeLnt0crMsWVw40AXtudKMowpFMkLS3trx7curwdoa5DpfkGpfwW/V8eAIdruWsNzOWsRShvMoe+kC2vUsYYyktqLcnGZ1jrVfrdx2pQumugWIW1io4oBsuGxyEjVPFzAJCq1r6AEz5RfN0RoYMapPXjaBulD6f04Yg0aU3PU9oAUXQ5AA59wZ5FMPfnSAv0jtiwUzY8pRRdJfRQsHsRx1wwZB47u5LuGo40KI6pZC7l9reISBRe0aezD0Br/TMi9aLsVv25gb0rpfcTUXYjWQbKwE7ZMV9KooJLEG1mNSDsF8jOZSCF8iaCpXRVi/RhCNchY0xSgtGzWHoWGyrvgSEbakC2vApTnt4OxIkezfUuCaMomptsp5Ex2f4OZEiUXI+UAg7ul95VZJtJ6SOhyw0G9xInyDqEMsewbyMS3WCGIT1ZlORZItUgx3vIPks3yGN3DaRKOafppCubXqRYh6i8t+9kOdKMjncofzJlnyrrH0RqkV6NlbxWzoegmJWK2zjeqbW9zjIhCo8WfAGQHfM5dJDK74Yhk0NfyM4VgKo4Zun6ixzrkK73AYPIm0SWAdCiWu0vKXO03mrFniUcrj/YWRSKyM3btl19xZcEJY7j3497fvuY/kJRYMv7N/0PtzV07N92sMyeJJWX35z/7zluH55/+eVj3w7+lkS+AsHgXy3515qt/ucW7v3ztPq7Bx5wdQfGjD9t9cJ5B/btOqvMCCCJjIDGAAAgAElEQVSc4Mc2xsYVGi4abFIlLzyUsJjEKUXK0rr4qf+PvesMk6LK2ufc6tzTPbG7Z3oCM8MMIAIKSlBREUXJICqYQN1F17Su2d3VdV2VdQ1rWnNWBETSDEGiBJUoOQpMTh2ne6ZzqLrn+1E1PSzqfuoSdOV9eHiqbt/ue6erqs89557zvgWqrhksLsHsffG2GN1wRqd8zS6XWN8uqRkZ1djXypZUJQvMrNrPLy1VGzQ4a1+yIUA3n6kpMDMAaAnyt3cmDCqY2leXoWMz98YTnAYWm4DIZM54f7PryEm2e2vag9HCnhMgRaIbrefO+WDuD+H9zDqCInVS7Yto7peqoJCaZ/DgLtb1YZDJgCiJWnvKceSN71L4MHZ9VHEKXZUQbxBsY2SDxJ0LQJ2FYgDVmSxrMCQ8UvVToM4WCm8EAOAx8q8nUFPkALONQyENpJBY/Q+0jEQ57da7AuJNAJzZxqa8K/Iuh8BOTB+EprMlxzwCjrlXQ0eFKACQawEEtrEuf5DtHLVt5c65Qt4kNPcFKUi+9ZTwC9bhIMV46BCzjiP/FyC2KwUt7krU5kLCjboCljkIAMj3hdj0vlDyIBjLAIA3T6eEVyi8BQQTkESuhShGWM5w+e8FAO6cD9EmljsRjd0o4ea1zzLbeJY3EQAg2kCepcBUqC/BzPModIDat4E6HSgub1hy3xcUqUGxjdkmoDYXZBXVhAfTz5aTnrhzLm/byMr+kipCBSnMq6dhzqVC4e94zT+AKMXeDAC86R2KNgpdHwGe4I6ZCCjYr0FDSed31bqCfGtZ8V1oKKZoPbnmIkgs90qlEkkMkWshA4FlnSOzR0nVT4KmkBXdCQDcMZe3rsa0Hos3Bi4eMuTNd9+9+aZO3sRTOCnYvmeffPD0n459/cz3oe5QIwCc0VVxUg9V156woQGgqrq6uaUldZpvt6ebzSdyAikE/92sCoKg0/2KCKf+A366WQWARx+4Z+28t6+89dGFrz8qt0zbEOuaySb31kSSfMHBZI4BL+qiWlYjdstW9bYKALDgYNIRlCb21MgsEABQ08Y3Nks5BhYV4eJi1Wc1Yr6JOYL8khKV3cQ+2BPf6RannqnQRDhD/P3dCUS46QxtuhY2NCVX1oo399VmZ2W1+nwJfY7L6fBEeGqGkaS2Paq2FStq3pRs5a5KljEIgjvRMoq4xOv/hYYS7OCF4C0fkXeZUPIAqrO4ezEknKDJ7qR9cC7gvtVC+cOoMgEAeZdTeB9LH6DYAM9SQAZMR1IELSNACvPmD0HQMstoEMwge6KoQhCZbbzM3i4dehxN3RVH0P8lhatIDKFlrCyJCgDk+4r7vgRzH2YdxT0LMellmRfIsupKB/967l3J8m9QykYjh3njG5AzDHMuBiDuqgQpwKyjQJ3B/V8JueMptI9Ch+UCVvKuAEAgCZhaZlqg4F5e95JQdKtM30jOuRQ+KBTfAboCZf7xBsw8BzvKabjnMwjtQ8swTO8PUpRXTUPz2bJIKojtknshqNJBY8fsiyHewt0LQVcEca8S+g7uIv8m5CFmmyAvCLh7MYQPYVovlnMpAFDrWu6YyUruP5LlWDr8NzB2YwU3UePrFG0Uyh7u/Cpci8i7mpX+CZiWO+dAws9yLpOl95QObRvJtYjZrkDzmZD0kruSQIU5l3YuEdwLKekHU2/Zk5ZqngGeELo+BAAUPkiB7aDNY9lDKxcvjsZit99yi9Vi+RFPyykca7S4OtfQvXrw/9DzGIJI8YlPL/bIB7II6wlDQ1PTkae9Tz/9RI5+JELh8JGnRoPh+3r+2vBfmdWbJk/OMKd10UfNprRpzzzz5FfRHB3e2k/bHqeKQ2JRunB+oWppdTJThzI10pKq5KFWcUSZplcH+5InQstrxNIM5g7zEaXqJYcTOXpsi1N5ttAzR1hVJ+5ySlf10Mgart4ITd+biElwY2+1zchaAvyjPcnR5eouZsYQt+yrEtXmLvqoxdD5RyVEoT2UyMnOBgCQouSswMxzKe4A05moy+eNbwFTs6KbUZH92k2tXwh5EzHtNPJ/SaH9wIzMNl4ptnEv5i3ThZL7QFsE8pZh21bUdVEICP3rUAygvojCh+T4LW98i2JOVngLyxwAsgUCAXkCDWWy/oxU/XcQNELxfQBA7V9TYA8HkVmGp7wrCuzkns9QX8Rs47hrIUUbQZeP2Ufo8wR28+YZaBmOGYMAAGLNUvUzkDFIyL0KZE86Wo+m3mDsRq4KZhtPcTe1b5JpH6j1C0p4SJNNSZ9C0Bhv4bXPYN4kxar5vuK+LzF3ouKIuxdy53w09pRfBXkd4FsD+lImkx/V/AM0Oaz4TvlV7loIQKjJYdZRIIa5axEau1O0geWOR6ahSC055wPF0Xa5HEjgvrXQvhWMPZRipNA+3vAvVnQHM3faRanqSWA6oeQ+csyS/BuFrn/uVJx1zeeO6ULJ3agvJPciilRhxkDMGpx6L2/fTi2fYOYFmDMMpAh3VgCPs4wBylcn5yrHajGtB1qGA4DU8CZEa4WyhwEFSPp480eEglBwQ1VDe01t7cIlS/5w++0/8bE5hWOEh59S5E57djtBNhUADu+pkQ9Uwokb9EiEQqEjT8/s0+f7eh5vHOWtpp2QhORfBP4rswoAb/zz6Zdfem7ihAnPvPhy7Y519wzUeSJ8wTeJHtnCQLvwRYMocZJVVFfXizud0gVFqhQLUkykZdWJknRW08ZHdNV82Sjp1AgAGgbn5Ku2OqSKg4mJPbXnFqgAIJSET79JRpI0pZe60MySEr2yNdbLwq7ooQEAlbXMG4xnmAwW9b8JSsRisfb29syMDADg7kpMK6dkKzAjyzqXN38ACRcrvFWm96PIYd7wGsu5CK1jKLiLOxchENrGyz/cFNzFm95jBb9Bs0zmt1NqXQdMjdbRAEhtmylcg6be5FvDrGNB0HNXJcVdLHeCslvp/wqS7UAJNPeUC3J4w+sQdwjlfwU5z7ZtMzGVYO6X8q4oUsVbZqE6HfMmku9LilajOpPJiqdKhxqp4VU0FMkFLSC287rnIa27zL1ArasotB8MXVnmYHJVoHUMApF7EbOOB3U2BXby0E7U5kLogCKnI0Wkqicwc7ASvw3t445PIPMChaS3bRNv385yhsocEQDAPUu5eykYustM+lLdiyCGhK4danquhZT0ojoLcy8HAO5ZDNosiBwSci8HVQYkfeT8hACZdaxcsEvtW8mzEnSFSv1M0kc1/2S5V7LsTkV63vAqJDxC2cPkXco9K4XSh1KkDRRr4s55kDUM0gdw31oe2IFpnWm9IBf/tEyntJ6Y17HgSLaBoXtKuUhqfJMCO0BfJkcmpIbXwPel0PVhUKUDADlmgRQSCm4CjXX2vHn5dvsN113Xrbz8Rz8tp3BM0dSihGHv/u0JSgAGAI+j9YSN9Z04KkYybvTo7+t5vHG0t2o0fl/PXxv+W7Parbz83ddfv/vBB//84EPLX/795gN1FYfEs/JU/XKFrQ7REeJy4tKGZmlTk9g3lw3pok69d1mNmKVn1W3SiK6qvR4pIXGLAR0hfmmpusrP390VH9NNLQvREMAn++KtYemKHpryLAEAXvw6nm3AO8/WAUB9O98dyY62u8/K10mSdOT0tFptPJHQ6/XctRBV6YA6iLuYdRRvmQ2halb4O5nZAGJNUt0rYCjHvOsoUssd81Ctg4xzZS5DijVKNc+i/VomO6atqyX3Yoac2SagJpuCe6h9K2YN5t7laBmLWhv3rqK2LSx7iFwESYFdFNxHqAJVOmYMBgDumsP9G1nXRwDVEKkm7zJUmZiuMKWXQrEW3vQ+Msbs10PoIA/sAh5j1tHQwV8ICTev/xczdmdyGS6JUu1LJBiEojtAtoL+jajOYRZFRRXU2dxVgbbLQVdAkcPkW8PSB1Bwt8y0AAD88GOg78oKbwEAijVJ9a+CqaeQdwXINsm9GFUmlnu5XJ5EkSryrQWmYnkTgal583QI7GFljwCqAYD71lH4AAomZhsPwMi7DEikaDNax4MuH0jizk9JDDHbGKUENnyQOz4lTTbLU/J1paonwdwX8zo5kLljJrVvE8oeocAO7qxg+TekIrcgRan2WdCXCUU3U2A7+dah2oyWsan3UqSaN72NOruQfz3ItUxxB+jymUVRhaP2rRBpJI1NKe/xLIe2LZB/oxL6di/gCglGKQB8NHPm7r17/3T//T/5kTmFY46i/BOUrJSInzj7/X0YNGDAC08/3adXrx7duv3+tttOIhtJ+FQQ+Hvw0+kgUpgwbpzb43n2xRevvuqqa264saJiSW+rZr+X7/XwK3poBITtTnFtvdg1k6UofAHg87okA/BG+JAuquYg+WLU1yYsrxEn9tT4Y/TSltjFxarLShQbvKQqWd3GLytRosfv7oy1xfjjFxgAwBuh+QeT/cvtM9q9XJIY+7eFAgHodDpqXQWUBONp5FnK7Nfz1pUU2MbyrpSZFijhpab3UdAKBTdA0stbPgLEVPATpACvmsayL5LZ+yDu4O3bQIxg3uVoLKNwFfcuF3In8taVoLahsYz8G8m/Fs29FaqgSA1vXYn6EgTOrCMBgHvX8KaZqm6Pg9Yms0aALp9Q1Vk0GW+mlhlASVZ4C4nt5F9PxIUOdTYAgGSrVP8aCGms6BY5XU6qfxVEr1D2GAh6Cu6VPMtQ0LO8CeRdgfouaOrJm2dg1oVo7AaxZnIugKwLue8LIfcKRX686nEQdELp/QBAYpA3vA1ai2CfAgAUbaCW6QRMyJ0EKpklw0FNHwAwoehWUJnJs4zcC7HbNFm7hgI7ybcOhXTMvRwEI/k38nAtQpxlXqDIyjrnQKQarVfIXFQUa+JN74CQJuRfDyozAEiHH0d1ulK8BACyKJtzAev2BMVbqGU6swzH7E6+QKnun6DKEsr/CpEq7qpEYJh3bYo/GWLNvOFNEExC/o0gGKl1FY9WocrMrCMUZfjwQcn5KWryhPxrgWmpfSt3zGIFN8gCfNS+jTzLmX2KfKt8tWGDy+3+2yOPFOTn/zePzCn892htO6E7mjK+XvuzIEC4+847777zzpM9i1Pe6vfiv/VWZdw6derdd9wxZ/78c3uVPnjbtbV+cU19ckRXtUkD+73S0moxR49jyjv91C0tYlscEhxOyxFiSapv5+cVqlbWipeWqo0qeG5jrF+e6soeig3e3CJtahZHl6mHdBEAYPqe+HYnv3egXmAQTsJnVQkVQqEJGEIoHD5qxcQ5B5Io5mCZ53BXJVpG8+B+8q7C7IsVpgUpTI5PicdYwU2gSueOBcA5WkYpwVspyg//DQ3dFO4kud6G6YScIZjeH+It3F3BrON5+2Y0dGX511JwD/csBrVVzgmChIfcC1HfFZLtSqw1uJs3vMyK7wJTb0r6yVWB+i4gRY4op+HgWUqRGpZ3LaGauxaSoGeZg1KMegAgNU+HaL1QfKccoOb1L1PbFqHkQVBnUaSOO2YhiULe1dw5B5gOsy7krgo09UJzXxD93LUAsy6k9m3MMlzRBqh7EcR2ofxvyvDN0yHpEQpuAVUaiH7umAUoCPlTUF8AACCGeMtMoiQr/A1o7RTYxpvexuI/MGM3AKBILTlnA3HMuxLV2RD+hgLbQNCgsbfMgyF5l5JvA1rHy1nHEG/iTe8AESv4DWqsAMAbXgPRdyRjM7V/LTW8JhTfDTEnb3gLTH1l1n5ltk3vQMzBSu+juIs3TycgzL8OO1KcKOGRmt4BkljBVNBYeNO7PLALAdEyQlkixJp5w5vITCx/MggmilTx+tfROloRtY01S/X/gqyhKeqlR594wmgw/PmBB378I3IKxxhvfTRLPsi1nCBXNZn4N1fV4VO2Eg2/1vTXU97q9+HYmFUA+P1ttz328MPzKitFwtETLh9aINmMWN3G5x9M6lR4RY9OpbYDrdJ+r8SIsvWoV+FejzSqXL22Ltk/T1WawZ7ZFLObOpn6q9to7oHEeQXq8wpUAPBFvbjVIV3VQ5Otx4REiw4nkgRds1gu+qwWS3Nzs86UKfLOx0xAMc2gRutlkmsxy74ExCB5KsHcR3ENiXNXBUgBzBmGxtO4azHFG5hlKMsYIL9KNU+DYGKlMhEBkbsSEFFnw5xLQWznzgqWcxlEq5DpMGsIRWqklpmAKsE+CQQ98JjkqgRdEcUaMXccMC1FG8XqfzD7NSz7IuBxclWQYKBYM7OO7eR+clbwcDXLn4z6QnJXMq0VdQWdnHwAUtMHFNwnlD2q1Fm6F1H7dqH8r6AroISXN79PBMx+LcUaQJWJ1tHcsQA0Nsw8j6QYd1ag+WyIHGLpfWX3S6p5mkL7setjstfLnfMgvJ91uRN0+cCT3DEXxBBYx8s6qQDAnXMh6WW5k9BQTtFGXvs85k2Wp0dJH2/5iHOJ5U9BXT7FW7hrITIDau1yQTC1bQbnApY3XlnQkCQ55lGilRXeKjNbccen1LZZZsZXvo1oLa/5p6pwKmht3LMQtTnsCO1x7l7CW9ew0ocQBHJ+SkwtWMdiqpJKClLz+5AMsKJbUV9EoQM85oKkl1nHyhXGIAV4w1vANKzwt6jJoViLVPMcZiqiAsATUs2TaD5LkDebAWrr69d88cULTz/9k5+RUziG2LFnv3xwevcTlDq0Zc2/uap7amzyQUmXwu/q/r+P8L+TBJhMpu/r+WvDMTOrAHDT5MkL58z55sB+tRi6+bqxWw81frIvTkQTT1Nn6xWb2hTgq2rFDB1TC5hvYhubxVHlmo2NotXI+uYKD6+NMIS7+is2Jpykt3bEeluFEV1VALDdKb61Mz6xp3ZIsSomUuWhJCdQM7i4i2rf/v052dnV9Y27xeJ3dnVUsEWqQIqoNWnkXc1Mp4Fg4s0fgSqTdWy8cecCSHpBX8qyhpBvDbV/zTLOwUwlwCjVvcDFACt9oKNzBUlRIGKWUUBJ7qrA9H4gBijhQ+sYiru4YyaiSsifrERWXQuZOhMih5ltHKqzgTjVPsuyzme5EwGAuypAnY5JH+ZcphD3A5B3BQW2spyhaOzFXZWgyiQQ5A1dZQ6uCmjbKBT/AQwlAED+9VLzB1h4Mxq7AY+Raz4gE7LPB56g4AFmGUOepcjULGcYAIBnIRhKKNYM2jyZrZ4751FgNxbdhmoTyGyOvjUs71rZM+auSog3sZxLFC4k2YRHDjHLSEzvR1KMVz8FWUNY7ngAAJJ4ywxIBoWCm9BQSmKYXItAnQXqdHkFw8OHeP0raB0pkzWCTOQUPiwU3YbGMgAg3zpyzsIOQT0AADHEq6aBZQSY+kiN7xJoWeFtneuP4G7u+EQoug31ReSay5NhTB+EHVMFnuCNH1DMJRT+Bo3lFGsm5xyEJMu7TuZkBuJSw9sg+VnR7aizgxTkdS+jvgsrmNpx9Z8nZhRSRBNi++WTJvXp1WviFR3a5qdwUhFPKI95SeGxNavfTUJwJK2SjENNWfLBBYPO/lZ3+CVzBP1QHMW9o9Nqv6/nzxHH8/ocS7MKAMOGDt28bm2x3epwuS+79KI0x5aJp2kKzcoo7XFYVisWmSEm0mk5woqa5KgydbVfikhwURfVe7sSnPDh8/SpT3tzR8KiZ1N6awDgkE96dVticm/1eQWCRLC0WlQx9EXpslK1VoWJZFKl1beR0ZBtH1fesYNrKANm1Kg4qsxo7E7NH4CgEwqnojodAMjzGSVbARizjqDADu7+jKWfIdMUgEwsEPpGVfqgTERArSsh6cNkK1pGg2DkrkrUFYJgpOAeZhutCINzzmzj5HIRqeF1AKK4E62jZUpC6fBfSWsTim4DAGpdhUwNCS/mXIJpp8kjkn89+dZA+gDMHsZbl6MUgmQrs41OPefk+5I8y1jBDbJIC4UP8ca3WP6NLPM8kAta4i7MPB/0ZeRbzXLHUXAbie0yFT65FxMzghQDppYl6rh3JW+ZIXR9kJn7AgCFvuGOjzGrI83Ku5yCe8A8ALMu7Bh9DfdvZJmDZbYpXvU4GroIhYoaF3fOhnANy79e/nPIUwkAwDRoGwcAPO7m1U+h5VJm7agAdi2g9q+Fwt8qJjx0QKx7mRXewY4oM5UO/wVNvVnOJdzxMTC1UHgjaHOVycSaqe4FZhmFmYO5cwGPOVlauSwzrry3ZTpFa1n+9ZB2OkhhclUSELOM7NS3aXqHQgdYl7tRXwRAUv1rRJJQfIeiodv8AUTrVGWPyacA8NRfJh08dOCNl1/+wY/C//6v6smFJCnWNO0Y7+h994Xbt/Wbo1r8QeWXasKo4d/qDr9kjqAfiqOCwCrVMcjUOXE4ntfnGJtVAMi32ytmz77j5qk+j+OBqeOWffKG3M4JllUncvTojUC/PNWymuSoMnUoCQe80qUlqvkHEztd4v2DOtc7nx5IOILSXf01ANAY5C9tSYwuV19WqgGA5dVJhuCJ0PCuCrM/qvX76lwCTz47rjgvrfMLM5kzOeeYdRFvmcV5TK6RAADeuloKHURKoGUEJFqlxvdR3wVtiiPCHbPJv0no+pD8O07+DRSpBp5EyyjUF3D3EmQ60JeSdzmzjQHBTJ6FkPRj1mDZWyL/V6gyA49jukIHyGv/iZQQZOam1s8p0UY8gWk9ZYY/AKDgLslVCYZyZhvP3UsIOBEx62hQZ3d02MNbPkbbaMw4FwAg3iJVP4XZF8ubsuRZQuGDaD6TmU4n90K0jKVoA4WrFN3y1s+Jx1CdDkmfXBVK/s287iVVyb0KxWDcwRteReNpiqiqfz351qP59FQ5DbV/zT0r0NxbXnZI1X8HBNahBUTe5eTfxOyTZJ4K7llG4QYgCW3jAFVAIlU/zjL6M/tkpX/rGvIuZ/lTZME1ENup5jlmuwKPsIv80GOozkL7Ndw1H0DFLCNTgWgQQ7zueTL1YfarqXUVRWpRk30k16PU/DGE9jD7tfLnk3sxJdwse2hK7Ueqe578G4SuD8nJvbz2RYhUCyV3y6wd5F1Jns+E0gcVJXOAeW9d/9S7my8YfOE5Awf+wKfg1/Cr+jMBP/4x4G1f7j7uY/wCEYlGjzw9tsyFv2gce7Mq49677tq3bdsF5533l8cfP3fo0OqammXVSRWDhnY+MF+1rl68uFhlUMPy6sSwEvXmZmnx4eTvz9Zl65X5zDmQXFmbvPUsvUZAZ0h6ZmPsgiJ2eTc1AHzRKEZEaIvxc/KFskwGABKHg9nD2hw1EU/dUdMQJcloyuGuCkq4hLxJsitJ/vUQbxb0+Wg+AzUWqfFt1GazgimKhJl3OfnWsS63y7t0FNxNgV0oGAkZmnqTbx1IIcg8h9wVzDYWtPncWUHhw6TNZdlDoaOcBoChzi5TDUiN71H4ECt/DGQLHWtGpkGVubOcJlzFmz9imizMnUj+L0EKIk9gxjkpwkUKV/O6f7GswcwyGgBADEg1T6O5L8ufAgDk/4K3b0djGWZfzF0LMfsioAS1bWa28SDoyb8RYs2g60KhAwq9UfiAVPsc63I7yHuiUpQ3vg2qdFkijYJ7yL2EtDalHFZxZOeQNo/ZJgCA1PguhQ8LHSS9FNjOnRXMNk7+Y6ltE4QPoKBiueNRlQ48KR18GPVFrOj2jv47ecvHaLu8g4eBpMNPgLm3kN9ZksvrniceZsW/J+d8RERTnxRpAwBIhx8DVAuFt1LbJgruBhCZdQwwJUTBHXOobRPLvVZZ4niW8uAelnluitKZnBUQ2MFK7kNDOcj8iKHdaL9WoXT2reMNr2HRHaAvlftvqPj9dQ8uJNRMe+yxH/UInMJxhSAovxX+9uO7gnE2emKR2FGNFeuVRZ491/qtd5wgEFFTc3MsdvTcTgySyeRR1Yxqtfr7Ov/acLzMKgD07NFj1ZIl77z2Wk1tbXmfPq8/eZc/Dhd0UW1ziAPtQnE6W14jXlyi9kZoxt74zX21svoNABzwSlsd4iUl6q4ZWN3Gp22M97erJvXUAsA+L6/y8ajIe1sVNkQAeHhd1HNo8yUXnn/GtwhHtBoN8jAF92HWUOV3tn0rhfaDNo8AMfN8qeFdEkNC4S2Kp+Jfz92LWO4EhfYhXE3eFai3ERqEoluofSuFq5hlBDkXYOb5YOjGvSspWgO6QiF/MgBQpIZaVxJxEPRKrNW1kFpXsq5/AqanwC4K7gatBSiWijZT3MGb3kVmwILfQOQwhb4BVIPGihkd5WhxJ9W/AKbeKHt7JEk1z4E6Ryi+C2Sr5l2NqixmHcvdCzGtB6gyuHsR2saDOouCuym4E9JOh7b1zDYOVWkQb+HV/2C5E1hqAs3TIdYsFN0GgpEitbzlY1QZWN4kZRcz1syb3gVVmmC/DpiWOyvBt1ro9jeQ6RvD1VLdq5hzkcKrED7IW9eQFEXbeNDagSek6mkg6FjJg8pYkVqqfwFzLmM5Ss0or34KBL1Q3Ck3zZvepfAhofh+7pxHIIA650hiB6l5OiV9LPcqitZS21cgxYTcCanNaclVQb7Phfwp8rdH/g3ct5alD8AUM1Trcsk5m3W5S6mtav2cvMuFwjs6VN/9vOUjzBzMOkLfu1c8NPHu2f369rvzd787u1+/H3P7n8LxRYp+trr+OJpVMSlW7/8Oyt+9tUq+0j23/Ob4jf59IKKnn38+024v7NatvE+fzV9/feLncJSrCqfM6hE4jmZVxsQrrnDW1j728MNrl1XceVHeEw/d1jNH6GMVVtSKZZnMpIbXd8Qm9NCck6/E5av8vPJwMt+EE0/TRJL05rZYeQab0ksDAN4oLatOJCTokSX0yxUAYO6CBf1HTXpmrK1x+at79+27fMyYo0ZXsxijKKb3lTfeKLiH2jZh+tkQ3Mcsw6WWmRQ5zApukktCqe1rcs2DtD6yRYSEi7srIe10inuYdSSFv+H+DSx3PPcsRWM5pp9F/g0U3IcgomUUoJoSHnIvJG0Bqk0Kf6F/A296hxXfg/piiFRR6+doKINoM1qUeZIY5E0fEo9h4W9BDJBvLWrzgEY9HSQAACAASURBVJLMMjzVQap7iTQ2oegWuUWqexF5mBXfAwAUPiQ55wNTYd6VvHUtCCY0duPuCma7HHUFFK4i70rMGAS+z9E6DjRWkEJS1ROYeR6zK0wLknsRBXaw4j+ALh+SXnJ8DETMPlnJGxLbefOHAJKQfyNqsqFtI29+h5Xcg7oiAKCEl9c+yzIGyklYFHdw5xwAZJaRaCgDKSbVvgBSUChRcr4o4ZGq/w4ZF7CO3Fre+BbFmuXYuNLims+9q7H4Xt66HAUdQvLIjC1q/Rx8Xwql96LWSu5FAAxzLk359LzuOXAtZPk3KiuS8AFyzkFjT+ywytz3BW98lxXdJkeDKbCTN89guRMx42wAAB6Xqv+BxtNZyX1y/90r/zzujg8HDhoiqNRPPf74j7vvT+E4Y1A/ZQPl653HMfa4efX2bzcmkkIHMTCc2eu04zf69+GOe+7541/+IsudNjU3T5469cTP4dte8imzmsJxN6syHv3Tn4JOx5/vv2/92pWDumf2HHjuqvnvFxrFF79OdM0URpUp16OujS+tSmTr8JISNQFMWx8rzRJSicHzd3p2frl04/S/3X/TKF1W1hkDB743b6m263m33X7XocOHhg4Z8rvf/vaocYOhWFxkygZk+BC1rmS2UeTfhJbh1L6dfJ8LRbcyeUfQOZ87PyVjd8WAxV3cVcnMZ1JwD+aMhGQruSoE23hq2wxCGmZdSMHdFPgaSULrWNTaQIqRayGoLSgF0ToeUKDwIap7gRXdxjIGUKyZuxaguR+F9jDbWBD0AADEyTETkl6hYCowLXdVYFovitZ3GhLivOE14gmh+E6FfqjpXQgfxNKHUJVGsWbePB2AhLxrIXIQeRizLuDOCpZ1ERq7QbyF3BUseyj516NlFBpKgCekw4+RoUymUgIACmwH92cs/1pM6wlSTGqZRWKEFdygyLmQJLXM4kk/K5gK+iKIVIl1L7Ki29EsG6Ekr30WjKVM/rqkKHctJFBh5mA0nwlShDe9BbE6ofgeZYdSivKqaczUixV2qKy7Ksi3Tij7c4o6invX8ObpQul9GNgOqjSKNjPrmBTrL29dwR1zMO8K0OZz51wSjGg6AzuzlBdT+06Wf10nPXLdq6DvwvKuAKYGeXu49gVWMFVRYo/USvWvg+UylNOkAaTa54CSrPgu+XT93N+OmPrW0ItHrd/89Xuvv/6T7/xTOE648zfKVn1S/M8dfzrWL9/yne3/nKNITZzX/6zjNfb3Y+2XX77+9ttHthyuqqqpPaEqOvCdZvU4pSz9ApP/Tmju1qN//vOjf/7zZ8uXP/3Pf77x1EP/evye7LyiS88f9MqOgQX5+ZIuc7NbXZ6lcgfjdd7oW/tc9U2OALWM+Fv1N4cOuT0eS2G303t0G9Sn++A+V18xfvyhBue8FV+21VcUjBrxxKOPXjVhwrdHzLfbG1tcwDQQrSfXfJZ3NW/fDWndAQTe9B7LvbqDP+8bat+CgjZFmMdbPwfBSNF6ln0JqNJ4ywy0jqVYHUghljuRwtXcuwKFNMw4C409AIB7FhFTo9iKedegKo2Sfl77NNrGM8sIkGkf0gfw9q3MNj6lx8KdcylcxXIngqELb/6YmfrxwFaWd3UnfXzTOxSpFro+KquocucC8n4udPs7aqwgBrhzDiATcq+iZBuFDrG8q7lrAZh6oflMuaYWs4fy4C5I7y+nTUnVT6LKLHS4YhSp4fVvQPZF8qYjeSog4WS28SlSQHItgEiNkHslpvUEMSRVPc0so1PxWF77HDIVK1akxblnMSRbWfrZmDWYxCA5ZlG0hRXdJvP/AQCvfhK0Flb8B+W0bRM4PmHF93WK4AZ38fqXhJI/UKQGVCaKtbCcy0CnVARStAEc85ixO2ZfzJveJ0HP1NYUoy93VVLLTCy5R7GpYkhqfAO0OZg/WaF0Du0Ra54RCm6So8GUcFPN0yyjP8ubpHxC0wcYrcXyJ+X99U/fuGHyH+f/7oar3plRuayiorysoxb2FH42ONI3kjgIx9RBIKINK747shpPCqKkDPbYA3cdy1F/GNasW/ftxi1bt5aWlHy7/fghFj9aNF6j0Xxnz/8Wv8Dkv5OQEj3ysstGXnaZJ0LT51auXTxz1erVlYsWGYxpIqr0akFCwaTXLjAZSZNWkGP2m0wF+fk2qxURGxobD+zasmzR3O7l5af16NGrZ89h194xbdLAwoKC7xtLZ8yUuBviDu6aj7bLKdkKUgCzzucH/4jZQ5h1BMgJQc3TAQALb0WVGQC4exGoM4EkQDWaevOWGZDeH3iMQoeZ/WqKO8lTCZocVGfLGinkWQrJICTdmHctaixAnFc9jqYzmf064HHuqkBzHx48wLIvRrloEoB7V1DbVmYbhRkDyDETjd0pUs1yLsUOIVWp6W1q+1oofUCmN+K+ddw1l5Xci4ZimcUCxQDmXAqCgbcuYvbruHc56vIw87xUTS1FqkHfhWUMBACp5hnkMVY+TfleRD9veBVMPQX7NSDXGgX2suyhmNGhoOddydu2MstwuUWq+hum95RZ9QGA178O8Rbs9lRHktcK7tvAsi7AnEsp6SfnPIq3onV4SjZA2n83CoZUsJei9VT3Etqvk+XnAICijbz6aSF/MiUDKOhJiqGhTF7xAACJ7bzhddAVsS6/5445AIioRZsSSOeOedwxS+j6x5TnypvfATEslN6v5FGHD4sHHxXyr5GzoCHZSlWPk6FM1iQAAKnuBQwewNL7Zc3XaY9c/dr0VXfcfOP7M+YtnjfvgsGdXByn8LOCSqUSRREApr2sfvTuY8bWK0nSplXbvu/VZz45Tz44rbzrsRrxR8HhdB7VolarT/xdmkgcLXB7KgicwkmrNLIY8N4p4++dMh4AGhobd+/d+9Xuwwl/i9frDYZCiUQCEQVBEBhLS0vLzMiwWa2Xjx2bb7fLVvYHjlJdU+P2uLlzPmZfDCozdy0QCn4r1f4TDaUs/yYAgFgTd8wEpmG5V6FMrd66BnmctBaM1WDeteScB/pCVGeSdxnLuxqAyFUJmjzkcbSMAgDyf0XReuAxIXeCrC4uVf0N1Zmsy+9Bls0xlFCsmZlOS+mkkn8DeFdh1gWYNYRcC0mVhUk/GLumOnDvSvBvYrlXyDy6ENpHjW+ifYrMzMBdlRCpw8xBYCjlLTOYbQK0b6WEl+VeAQDkqkRdISVakRlkEj6p/jWK1gvd/y6HQwFAangLQMUKpwIA939Jvq8wY2Cn8+ffSL5VkHGOLELHq6chM7Au9yivOmZT+yahx7NydJfaNnPPCpZxFrOOoYSbnPOIANO6K0lAALz+FQBg3Tr2JsV2XvN0qjQIAEgK8eonIOcSEPTIkyAYQYqx7ItSF5E3f0BiWFVyN3mXkRQBKcjs1yu0/i0zyb2Ilf0lZYOl5g8huFfo+gho7QAA8SaxepqQN0HeAAYAqeFVUGUIJR1/TttmCFdB3iQ09nC6XHf84fagr3b0qDEr1mxcvXRp3zPO+IF32s8O9Itc5v8o3Drl6lfe+xgANmwVAI6NWfV52g5sP/R9ry74qnMn9eVpjx6TEX8svu0UPnTvvfa8vO/sfPxwlD4dHD9v9ReIn0UBb1FhYVFh4egRI/7/rj8S/fv2CbY5MGMAmvrw5o9YzmXcMQt4lBX/FQAo7iLXfEAtZg2WeQmofStEayHjHGhdAfYp5F1OqEJjD2r5GHMngsbCW2aCJhtiDWifDMgouJvatwEgZg0BQzcA4LUvgBhmpz0HAOReDMxIYhhVps4Cj8Aucs4hc1/BNppaVxNPoNpEUphlXdTRYQc552De1Qo7Utwh1TwD1rGCZTjIVZWhPWjqhRnn8pYZLHsYRetBCglFvwPZ72Q6AAQeQVl1tflDav9a6DZN1jgDmfU3fIiV/Q2FNArsJPcSNHRXFNkAKLSPu+YxYw+ZPok3vEFxl9BToUGQHLPIOVdV/rgcyqbwN9xVgYZCZhsPCRe55oPWhslAantYavoAAjuF7s/Ifi0Q5zXPgq6QdXiKxEV++K9k7CHoCklsR2M3atuMHRWuACA5PoVwlVB8B4X286QXpQBaxqDGAgC88T3uW6MqfxSMyo8ddy+G1lVC2V9AXwwAFHdIhx9nmYNTJbNS7YuQ8AnlTwIKAECh/dQyHTMvYDkXz/z003sefHD8mDFeX3sgQhvWrDH/osnY/tdtKgCMGz5MNqsA8PK7qrt++9/usm79Ylc8enRsM4XWgH5vrZJz/sg9J01t94zevY88NRqNJ0VPaceuXUe1aE55qx04QSlLJwXEkzpwiJxhen9qXQ2qTIpUU9s21vURYGpK+sk1HwDR3IfJ1ELhg9S2AbOHku9zzBlJwf2U8LKci8i1QM76IVclqowQd6JlNGosFK7mvnVAgOlnK0wIzR9Q6ADr9hh0kDCAygSxetmvBaVE9X0yFAt5V1PbFoo1gLGYwtUpO0SRw1LDa5B9sWJTEy1S1TTIGCjkXQ0A1LaR+9ajrguzjSPPIjCdDjyKsQaZvYi3riExhBoLxOrlqlPumk/ez4XSP6HOLn8+964i/5es+B7UF1C4irfMQE0Oy7tKGT1aLzW+wzQ2lnc1AHDnHGrbKJR1ZOoGdlDLJyx3Isg6BLFman4fmJblXUNxD3d8AsaeFKlF6yi5ilRyzgfvctb1T6BRaN6k+peJR4Xie1LXiFc/gSozS+9HSS9LH8g9nzHrqJT+DPm/oNZVzDYekgGK1KIUx8wL0FhGUpTXv0L+9UL5EymbSm2bpZaPsegOeX1DcQdVPYGmM1MmHABACrOujyh+drReqn8Njd0bkoOuvemmZ194YczIke999NFVE66c9cEHv2yb+qvBiKEXyAefrfmvPISAP7R++Zb/YFOTInutsn/q9MJzfjgxyDHGUZwkZ/XtazgZHPctDsdRLae81RT+l80qhA8ajJkiFyhymELfoDqDN32IJfegOhOkMDnnEyBoc5VqllgzuSrRMpbaNoGpL/AYhHYz6yjunI/p/dHUS2p8B4BAiqK5Hxq7yTusDBiaeymEf66F5FnOyv6IQlqKhAHCBzH/Rnk6FGvhTW+RKpPZp1CkmgJbwNSPvKuZbbSc6AvxZqnmWTT3F5RUGi7V/guIC0W3AwC5FnD3UlCbMXc8b3wLVBkomCiwA23jgWmobTPE6tFQRu1b0ToOmJZ7V3HXQlZ8F6Z1UyYQOgCOT1juVWjqBQkXb34fmAbt1ytmJtkqNb3LmI4VTAFVGvjX8ZYZQsl9MsUxxBrF2udYwY1Kmo8Y4s3TuZhg+TdS0s8dsyFnGEQOM8to1OaBbL+dc4TSB1LbyVLLTAjuZCUPdKb+1v4TpTBkXgjRBpYzkns+Y5bRSvBWVqV1LsTsS0Brp/avARimdcP0syDWzGufh9BeVvaIIpcLQNFqXvecYJ/MUsQRkRoylAld/s2rEMoelmuHKOHlTe+gOvPvM33lffpIosg5bw8E9m/bduettx7De/AUjivuvbUz+X/Nxp9SacM5bVy1dc+W/f+hjyixf8zq3LxcMfuDnzDQsULPHj0y0tNTp3169Top0zCbzUe1/HL2Vo97bvH/sllFUy9DVg9JEsmzAsxnSI2vM7mchie5awEwAVBAy2gAIDHAXZVoHUmRKmB61OaTZylax3LvKtQVYcZA8n+FTEeoA8GMmeeCFOKuCmBa0HeRtySpbT1v+YgV34P6UpmEAc1nkP9LZhuHggEAQArwpveJi6rCqSCGyF2J2ZeQ/0tmHQOaXAAAsU2qfQENZUKRQrQrVT8DQMLpLwMARWp529ckBgT7JAjsAE0OGsvIt5rZLgdVOgX3UvtWMJ1Jvs/RNh7VmeTfQi2zhILJnSUocYdU+zxlDsacYSCGefN0kOJCwW/kPB3gCd48HZNBLJwKGhsF94m1L7Gi34OpDwCQ2CZ980eWdRHrEGXjjlmUcAtFN6PUTp6lzH4Nhg9BWk80nQ4A1LaFWqazgqlgVigUyLcavMtZsZIWBABS41sUOYw5IyBShbkTuHclpvVIcfZCpJbavga1kZnPIs9i1GSDyoxZQymwQ6p/FZJ+Vnw/GjpSH5NBfvhJsI5LsS0CAGaeJ3T5nkRNHqOWGa/M2Fwyeubn6zae3a9fbX393x55ZM7HH59K+v1l4fHnX0kdX3ROJ+nP5VN1l0/9f5jfE/HkplXbNq78mkv/if/QF9Q/NbPTpi6b9R7iyYywM8bu+8MfUqcjL7vspExj4NlHCwyc4FTk/wLH/fKdyL3Vk5BE0dDYGI2EwVBOjtmYeaH8s8vdCwAZxFuF/OtB0AMQuRei+UzgEkXrBOsYyTmb2cZBcBcyHWYPpcAOCu5Fcx8KV2H+FADizgokEbQ2tI4GAAodkGpfEAqmYsYAilRx70pmGcY9KzvLaUiUGj+ipFfV5XZQGan5Y7SOpcBONJ2hUO1TUqp7BVDDutyuKJM3vAGxRqH7U4AqSHi4YyYwJhTcTjEnRWow60LunIu5E0GbS5Ea8i6F7GEgW1ldPoX28aa3mW00ZilZSCDFeP2raCgRCm4EAGr7kpJulj8ZUpnJzk8x1ogFN6KhKyRbee2zzD6J5XQkMTV/DOa+nRuirgUU2i/Yr8O0nrzhDcy7mkL7AQSlJDS4R2p8m9nGpd5O4YNS80eC/bqU1ZQcs8H3hdD9H6ArwKSf2rcCYIrWH5Kt3DmTgAn5U1FfCPoSEoPMfgUAkO8LELSs4AYwdto/qfpxTD+L2Ts14xSw77i92wOBl5+9480Za3Jzreb0rGAo9Ic77ph8zTU/6f46hZOMLTuUHb57b+lMWXr5PXU0BgD4zzfV9/3uO1KZPC3eQ3tqfsjnr9lR/NXeotTp7Lde/jkw3z784IOiKL713nt/vO++EZdeelLmcOH55587aNCGTZvk0/5nnXXxkCEnZSY/Q5xIs3oSlnh9evVasGgRBLaAJltO6uHOBUQEcbdgG6couDW8joYy0HfhzR+xvOu4dynLOIfiThCDLG8ShQ9R62pMH0BtWzB/MsgKcaIfVWZFqzzp4TVPC7Yr0DKcYs3kqmDZw8m34chyGmr+CGK1Qv4U0JfwlhmY3h8COxAFuT4HAKT6NyHhZF3/gnKdpWM2+TeoejwNKjNIUe6YS1JcsF0OAOT/Ci3DuWcJs41FQ8ncOR8W6XeT6azk7k921WtF1YpY4P1e2bskXQ8pXRDF+X6/3263a9qX6chl7Han7sABnVabaNlnzR9qUHfTESEi9yxFIQ1sE9B8BpAkVT2J6Wez3I6azrbNqDKnSH1BbCPfOpY7QfaDWdGtFNwNkRqFoDi0X2p4Xcg8D21KGTHFW3jNs5g5NMUgyL3LwfMZK31AqWpVZ1L4ELNPUfrzBLkWEpeE3KtQX0iRKoo1sfzr5TRmtI5FKdJJuw8AAEKPZ//fOyEajVYuXjy3omLRZ591L80Px3ievXTqjTeOGz36/33vKfx80RHPM+g7I3tVHXSGRzJFEFGry39wV9UP/OB4QvXM7HOPbFk8/S3tz0P7DBEfe/jhxx5++P/vejzx+ZIlb7333q49e4oKC6+dOJGx/+XY54/CzyIT+PhBpVJxMcZjDlWPZwGAPJ9BoglZGmYOVmj3Wz8HjQ2zhvDmj5h1FAS2gq4QACFSjbmTKNpEnsWQPYy3rmIZA1CdTd4VEGtAppF3NEEKid88iKYz0H4NiG3kqkDLcAruhSPKaST3Egjux7Q+aO7LnfNQVwBABCSnBQEAb5lOwR1C10dQawMA8i7nrgVC10dAmwcE3L2QYjWCdQxo88gxA3NGku8Ld+K0++98dva8uT27FWo1OgGWC2qDWpeJjAX9zWuzzWpDvUo1S6VSRSIRxljE900cMmKJP0Wj0VjYF4kl40mKxePRaFSj0ei0aq1WbzQaDXq9Hv16vdqY1cNg2GDQ6w0GA4jB7BybIe3Zrdu3Dx82TJc4kBCFgu5Ro+HLtLQ0o9FoaP0krXSyEIymp2swraeQdw1mnZ+6BKi1g7G7UDCls8XYEwtuTKn3AECK+AkAwL2IEm5MPxvTzwIANJRh3iRQKyKsnYHfH4C29vZNW7Z8tWHDmi++2Lp9e2FBQSgUKunS5fLLr7x20qTu5eU/6l46hZ8h+vbuuWnbTgB48iXN0ukxREiKcKha+X0fNVQJCx/cXe11tP7AzxQl9o9Z5xF1ugEqlbB05nvHdOInG8cidKjT6e66/aRlRP+c8b9uVrmXAISSB0Aw8NbVIIZAY0d1pkK737aZYk3Mfh1vehsM3SjuAkDU5VPrKsydhJDgniWYcykFdrLM8zBjIPd9RcG9iIS2iahKJ5J49VOoLxNK7iEpTs4KTD+bInWoMneW0/i/xNbVaB2B2Zdw73JEFeoKuHcldkQsuWcJ+b5QldwrK5NDYBtvep8V3a6IqnqWQPgblnk+mvvx5o9Z9jAe3IFpp11xw6MXDxnirK2trqnZtf7DRlckzvISyWQ8Ho9ECohIkiSJc0mSNBqNy+0uKx1kMplMaWlmszlN8Jmtp5tNJpPJ1NLSckafPhq1ui0QsFksEcfn4XAgrh8QiUYjkYj8v7+tTZKkSCQSjkR27dkTaW/0BgDWvhmOREKhUDgcDkciodCH9ry8+sZGq8Viycnp/GexWHJy6hrEEcO2Zmdl5eTkpJvNqC8EfeF3Xi+KNhIKQofknALtD6rJ8/n9h6uqDh4+fOCbb/bu379t585gMJiTnS1JUmNT0/nnnXfpxRcPHzbsFGP+/xKeeOieYRNvkI9HTNYd9epDT2kq34sxkH6gTW1wZ3y0oveRBhUARg698J5bTwKf/vHFr6D+6iQC6d+laP/H8NBf/vLKG2+EPR7yb6BIFWgsyONoGw8AFD7AvZ8z+3UQ2k+xJjSUUOgAZl7IHZ8I9mtBa+POuagvAbGNAJhlJAV2kquSCzoh9ypZp1OqeRaTHtZtGqCanHNIk4PAKOFKMQ9Q+zbePB2zBrPcK7lvPURrMXsoOWaw3Iky7y61beSN77GCKQqDYLSOH/wT5k6Sa0bJt4771qLxNJY3kbfMQH0xxJ2gTp/1uW/m7NmL5817bNq0Z55/buyws3OL+ubb7Rq1WqvVIqLBYJCZNARBEATh6+3benTrHggEgqFQMBgMhkKpY7fHk0wmA8Gg3J5mNKasbzKZzM7KUqlUgiCk/lepVAJjKpUqEAjk5OQIgsAYEwTB7fEU5ucTUSKZTCQS8Xi81edDxEg0GgmHfW1tyURCHjGRSKSnp2u12lybLT09XaVSWXNyjEajKS2t439DWpopKyMjPSNDr9MxxpLJZDKZjMXjsVgsHA6HwuFAIOBva/P5/U6Xq6mlpaWlxelyabVaU1qaSqVKJBLe1tZ8u73/WWf1O/PMAWeffc6AASelCOEUTgAWr1z90tsf/uc+6cb4mHMPleT6v/2SL6BfuKF7S6tJ4kebGkT8bMY7vzB17lP4GeDncMccx1Smnj16IAC1b6fgHjR1p0i97CZStJE7K4T86ynhpcAOzDyX/OuZdSR3V7Lc8aAv4s4K1FgAGSX9zH4dRarIswSYRsgZpmhfN76N0RrW/e+Aau5eDMyAqnRq387yFTeUQt9Qy4doPoPlXknBPRDczfKukJwVLOdShcs+Ui3VvybkXanY1KRPqprGci5VeBjat5J3NertzDqWuxaCOhvENmIaln2Jz/eGPS/v0OHDy1eurPvmkNVi+c9fwuVjx/7ArytlcQOBwK69e0uLi0VRlCQp9b8oihLnoijW1dfb8/IkSeKcS5IERBaLRbZ/iUQikUhInKcZjckOJDoO4vF4JBpNJJOxaLTF4Ugkk4cOHz5yFEmSREkizuWxOOesA4jIEAGRiLgkJZJJvV5vNplycnJ69uhRUlzcpaiopEuXrqWl3cvL09LSfuJNcwq/KIweNrT/mX2uv+O+VItBr9Npdb62tlRLe1j78cre3/Xu74Zarf7kzRfNp26hH45fAavXD8fPwawex6vhcrsRgdq+gvSzqX0by78eUACxjdyVzDYOVCbunCdkDOKtn6NlDPeuxozBaOzBvSsROBpKJfdnQsEUiLdwx6cAKpY9VNZh5c55vHWN0P1pUGVS62rkMTSfyd2Lmf06WaaUoo28/hUwlgr2yRSpJe8ytF/Hfeswrbuyp5hwSdXTWNYQlPOeeJxXPcnSeipa4uGD5KpAwchyr6T2jUAJYGmQbGW5VwGAJElLV6x4+/33gy7XsTUeprQ0U8cHDvhWAv1JQSKRiMZi8XhcNrpExBhTqVRardag1/9MUkhO4eTCZslZ+enRDmskFrvtwUdbnK4f9VETx4y8efKkYze1Xw1O2dQj8HMwq8cReVmMS0lMP5f7Vgt5k0CVCVzkzkpM749pPXnLTDT15cHdmHMZBbZh2mmYfha1bYRYC9pGS80fCdZxBEjOCkAVZgySqeG5by25K1jJ/agvpLZNFGvE7KGSYzazKXralGzlTa+DJkcomApiO3dXMtt4Cu5FppVrSEgM8+q/Q9rpnSpp1f9AdToruQcAFMU3ktB+LUVqKVKHxjKK1MjqOty/8a7r+j3wsHv4sGG/BodMo9GcYm85hZ8Ag0734cvPAMCeAwc/mrNg594D39ezR1np+JGXXjz4nBM4u1P4X8b/tFmNt+zbvpQDUmAbswyXQ6/cvRB0+ZgxkLwrQGWGpAvTTqNwNWhyMHMwBfdQ+zZW8BvunMsyB4POTo5PSQqhqY9clAmhfbzxHWafwtL7UXA3tW9nueO5axHLVoLDwGO84S2S4kLJXcAl7qpkWRdAwg9xZ2eaUu0/QJUudLmz4/RFEAPYbRoAgNjOHZ8AwP+xd57xcVXX2n/WPtM0mpFGbWbUm7sxxhhTDZhebdmAKQYSSOgkISEEQnJzgSR0CCWEEEogFNMcLMkFN4zBFbANNjZu6nWaNL3P2ev9cMYi9/3lvW8STGLM/D9Z0plz9px9MmHG5AAAIABJREFUPGv22ms9j6i8AjLBgQ2wTubwTlExD8LAoW088BpKT2moq3N5PP/+O5ojx3+Qfy3ROGn82If/++cHfjQ5DiIOrhz0odtplPFL18LDppxGYLJO1EzKpG8FkRClp3PoU070AwooD2oMRKL0LMQ62LuEnBfJodVkdFDhNOlezOFtZB6tCRxyoi/T8aCwny/KzuRom/StIMdsHv6ArBNHHFRk34sc71Zqf0hGpxxawVCgs3JwE9nPBwkAascjpMaUup9ogoXc/5KM7BSNd5BiAqvS9Q7UkLDPhM7G7hayTuLgVnLMhq4AsX2y7zkqOEI4Ljxp+vTh4eEDfcu+gX7BOb5NHEQfnDkOLg6uR+MQDatqTB18hwqnydQwM6hoOgD2r0d0H9lnIdHPQyvJ5ERmiIxFnB4WjllIuVXvEuG8CLEOZMJUepb0votYGxVMFc45AJDxy44HFNuxovxSTg6yd5lSdj4Ht0Bn084PgAde4/B2pe4Wyqtj7xIoFsVxnnS3irKZpC8GoPY+h+geqrsV+iIAqrtF9S1XGn9BBjs0x7dEtyg6iawT2NOKwiky8JFwzCGjk+O9atdTMNVqpqfTjjzS7fFED3AV98H1aObIkSPHN5FDNKwqZlF6JtmODmSqv7QAC31GlVeAU6qnGebxHG0nU7UM7xb2mcjEpPddYTueWeXQVuE4n/1rOfQpG0qFYzYAyJTa+SiM5VRzE9QIu1uo5CROucAJKsv62ameJXJ4vai+lizj2f8hZyJUcrr0LBIlp2o9qex+G/6NouEOMlUCkP51GJwvan+iSRxIdzOHt8M6hUpOk64W5NVy+AvFMZvMdUj7ZN9z0FuU6u9pa9zCwkK9TnfTj3/c19/v8XqDoVBwYD1HsrtHHPrs/3uHOPDRP3E/ZYr9G/6J43PkyJHj28ohu7dKedUA2js7WUqO90p3i1J5JXSF0vVXMpYjthvWI2V4u1J+KRQLuxbAVEt5NbL/ZXJcyNF9cmgNC7POOQeKGYDsepLUhGi4E4DUcrMyxZEvlKpszZHs/QtCm0TFpVRwJAe3cmSvqLicvYvJ3EAFUwCo3pVwLxU1N1L+KAAc2SW7nlSqv0+2owFI/3r2b6SCScLRpPY8SyY7En2i6ETkj+OkW+1/Gemgrv5W6Eu0y42uMhUUFLQuWbL6gw9SqVQymRhVXbCzzWu1FhTk6wvyFWthWYHNqWk+RML+sZVcWD7NWlCs/cbKbRa5yzbWWlBUZbVY/o7qWHQXJ900YkXuWQy9DbFO9i4R1ddm/Xb2w+EdI2K/HNkJMlD+PylgxBk58Lq2EAfAsfYR3cccBx0HzTbWQTOQHDn+B4dsWNUYP3asolOy7TSmKjm8BpxGOkzWSTK0WZRfBkMZ+5YxGUTxSbL/ZSo5hZBSPa1gqVRcooUx2fcCYvto9K+h5LO7BYZSGMrge1epuDwbYCI7ObCBSk+m4pMRa5PDH4jKy6V/PSA0c3IObsHg66LyMi2IIuWRHQ8Kx2wqPQsAh7ezdxmZKoR9Ng+tJp0N6TBZJlLhkdCElsLblYY7st2uALtbjmg0CSR3v/+EY+xczsTl7ltF9feSxknBgU3Bvg/DsUSYRodVRzgSCQUDn6xbEEmUDe5YG07bQqFQcKg7EvKG4xSINMcTiUgkYjGbLGadpdChaTJkksHyIuQX1eZb34knk1XFmTy9mlc2tW/P7w6fcrJJud9UcqSUrLF359oGexK2E2U6KNW0DGxi69EwfLx569ajjzpKCEGJLkUGFdu0jzdvPu6YY7QOVE1Hoq+/f9yYMVbqtOqCUimoKUsZDAYefp+TQ38bVjnlISUfSv6/+eHJ8fc5aELZQTOQHDn+B4d4WE0mEgKSCo8iywQOf47oXigWGO0c2SUcsymvhv3rkBoSFZdz/8swVUFvz/T+iUCi6koyVUFzaxn+UDT+Nxkd0rcKnBHWSXLgNXJcpAnVcqxTdj1GxSeJ8nlIDkp3s3BcgHgPEr3a8otjnWr370XZ+VRyJgBkIuq+36BwmqiYBwCxDnXgdaGYqPwSju7ieDfpzKwrp6ITAEhXK0d2K7U3jSwH5dAqyMy7769Pp9XjL7yH6Nec9KksoFuTSSfVdDSjckaFKimTFVjIAKirLB70RhSdXiGpU1hRdDqDZczo0X09XWU2nSCCYmYpQ6FQMODVi6TLRVKEpNwWj0cUTqqsy8ilyWSa569PZzJSsl5Dp7BMWq1FBv0qg4gZDAajyWLQfW6ylA8HQt09PemY12KMKvmNKvf4fL62jg6ZSaixHjbVqarq9/v1SiY41B1OKDW1Yzd98kMwW/MNloLiwoKHE8mkw253u102czqSEDffeMtN1133d2c5R44cOQ4eDvGwGh/+jIQg27FIDrB3CfLqGKDEIBWfQvljObyNQ9up+vvs38Cko8KjuPcFIkU45pB5NAD2r1PdzaL2B5TfyIFNlByAfaYcfFOUnp3dLk261a5HhXWyqPwO1Ih0t1DpmWAp/WuViitBOk551LZfU/GJovwibUiy4wGYnErtzdrLZf8rRETllyMTlIGNwuCQ0CmlpwPg4TUIbqDS08mW7ajjwCYkBqDkj2qoXfveh0TEvc9AptTKm/IMGeFtVgxmfZ5D7zxPURSdolDgfR3HBBIw1Yni6dK1kJMusKpUXQldIZIudeBlQIii6WQ7FgAn+tW9v1Ds55HzYgAc75Ed96HgSKXkDNW7RJSczENrqOLyDKzBUCjod/nbXv9gB9dXO/296wORZCBh9ft6ghlnIJIxpzIdHXvC/oGhMKfS+4psNpvNFovHC02RIoveVhTPK5roLDUXpT8sdjaVjL64yGY7YlR+on9htKAp4v3i888+HHfcTR2dnevfe37jJzs+3t71w5/+9O+F1VwiMEeOHAcXh3JY5eHVg57hPLMVMik9S5BXj0yESJD1cCo4gmPt7F1GVVcj0cehzVR+GbveYRkVpWdp3TIc2a32Pq84L6HCaRzZqYk0Sc9isk6CdRIAZCKy+3EyOEX1Ddi/50qmCtn/qiibCUMpZ6Ky/TeiYLLYvwWbafuN4LTScDcAqFHpfgusivJLoOTxwGtkrGJSFOeF0MQLvUuoYJrY76fG4R0yuIUMJSSMY4/+PgC16ynYU8r4RwFF7f0jVThBRlE5L3u8fwPzMMhIBicVT5euBazGkAloe8xQY9LTCiiiYIoWU5Hxy44Hhe1oLaZCjcjuJ5HXoFReJfv/QtbD2buMHHNJX6wHSktKilPv1R9z1tTj8jiwiY89ifKqEOugsl9mXdvUmLrrx1R0oqi8MpVK+QOBQDA4vO/1gOvzoJgYVKv3te0a7n6vPUL+L4aH//qA3+/zDw2EYjIevy+dySiKYsl/q6Isf9oE2+VzZ33yxUtOp/PvTfK3OKbmvlHkyHFQciiHVeRPGIoVxqJR6VkCnYUT/dAXCnMtFR2PlJt975LzQlLMcvAtUXYuD3+AZJ8oOpGKjgPA8T6140FRehrZz0W8mz2LRcUVcugD6Eu09CyY1e7fQ02Jup9C6NnTCn0J2Y6R/a+gaLpWlyTbf8s6u1J7izYctfdZineJ8b8D6QCwp5WSPio9k8wNsv9VMpYzVKGZqkb38uAblNcgRlxL413sXQpjOYk8zTtdDr6O0BYx/mGQTrqaAYKaEFVzs8eHtnN4G5MCRS9KTpOut4kUZELCOVtzOWXPIk4HhWU8lZwKADKpdj4OQ7GovjE72q6nQDpRexMPr4GhDJFdVHoWmeu0v8qhVSSMgCKDW0mYSF+ExAAVzxhxQlXb7kH+WC0NbjAYHHZ7WWYVV+4VJ/5K6yFW2+9H5kRl1C+hWCCTsv9VKpgCEn27380UnwtdoQhtqM7bjYJpovj4x198b9Dt6entran++9Y3/5NvR8D5FrzFHDm+iRyiDTYAADI6KyurDHqBTBgpL3RWMjip+FSoUeldRrbjyDyKve+S9QgZ2cOhbTDWZGNMJiA7HyHrEaLiSk75pKeFHLM5thec0nQhAMiePyLRqzTeToZSHlrNakqUnS3diyivRhQeBUBtv58gdQ0/BREA6VrAQx+KUXdDVwhAuls5upeKjqfi6dLdCmGSalw45oAUJAdk33OkKxSV8yB0ADjlZU8LDCUkzORoAiC9y9ndTPU/I30pD73HKS9lgmSfBaUAAMc6pG8560tJX6RUXCJdC0ixciZChdOQPx6A9CzheBeZa7UIDS3kZ/xK7Y+ymhV7f4VEj6i/DYl+jnVCxkYkNQBw6FPEe1hXwNG9wlwFoUCNwnr4iMWs7HiQSKfUf6l+LgdfZ89ipfGX2Zja/QySvaL+J9Bs2z2LKL8RipH9H1ZN/l79qMl1hf1Vxh1kmUSlp0tX86nHT6yuqnqnpeUfnPmv8NTkyJEjx1fiUA6rANLptFAMgAoopC8S9vMASO9yyqumgqlyeA1Ix1AR3ISCI0T11QAg02rX41CMSt3NUBPS3UK245EJcaxL2LNWMHLgNQ5+JOpvh8HBgY853iOcTTz8PkFSyWkAZPcfkOijhtu1/hweWi0HFyiNP9Pafnh4NftWwnIYlZ7F7laoMc6EFecF0Fk4OaD2vgSZEVVXQ2cDgJRfulsYeugKRPmF0Ax5+v8iam8W1gkc+IhjbcRJss/UTo6UR3paKK+WZFw4ZkvXAigFkHEyVZDtGADsX8fhbTDYRdn+t9N2N8I7qOYWaJoVg29yvEs0/hIij4dWQuihFH4peRHrlr5V0NuQ7CfLWI4PgowwVYmi47Nn632B411i9D0jsyAH57N3qRj9K1jGA2DXAg6sE/V3aCIYPLSSUx4YK6R3GTkuJKODQ59JTyvlN5LzAva0In/U4VNP09xev86HJce3jZysWI6vhUM8rKZSKUKaMwHoC7WgKH0riYiKT+XILkR2s64E3mUwj9KyrwDU3j9Ralhp+DlIp324Q2flwEZyzIIwAGDPYvauEA13kLmOI7s49LFwNnF4B8c6yD4TgNr/igxuVhrvJH0JAA5vk73PKjXXat41HPhI+j4g2xRhP4+H3+dkH6eHFecFMJSCmQdeQaJLVF+npWrBLIeWUaKD9EXCeREAxLtl1+/IeREVncSRLzj4CZGCgilkmQgAmah0t5CxHGm/cM6RrlbSWUgoAKjkdAAc2sa+VaTkCedsKCYAquddmfBRyRmU3wiAfSvZ9Vel4XYyVbJvJRhQzNrXEQBQI9K7WBjLIJNkncqBTZwOk75QaKt8gL2LeWiVqP+5lugGZ3jgdR7eKOpuI22hPPS+dC9U6m8jzXE2+AknBqj0LOl+RzguJFMlR/fJ/pfJ6BTll0nPUqS8CO+86oor9rW1bd+x4+t/ZHJ8e8hlNXL8L/zr37oO9bAa6RVQISxknwVhYP8mJPrJMYdTPvYupfwx7F0EQwk552rJTx58HaFPNXFB9i4hJZ/Mo9jTQmWztBgph9erg2+J2uvIMgGJPu1PnArIvpeEfSaEgT2L2LdSafhpdgsz0Sc7H4bjQm0Vy5EvpHcJdPlkn8PhHTL4GdSo4rwQI808CR+KppNlvDZ+6V6I5CDM40X5RQAh5VXb76fik4XzAo7uZU8rKxYYK4W23asZCShmpIeFcw4PvQ/FBFJkZBfZZ0HrBXK9xZDkvBi6IgDSvxZDKxTnHK1QWQY/UXueFbU/IOskDm7m2G6QXthnjtxP6VlCyLAwUdEM6XuXDHYyV1FZNuhy4GO1989U92My1wKAGpEDr8vILlExd38V2E7u/ZOoujqbLo61Sf96FBwpXe8I50VkrkOyX+35IwxFouoqDm7iWBuDtbEdNmFCZ1fX1/7E5MiRIwfwVb51HcphlaN7UuFuEiQcTaQr4MgXMvgROS8CwL5lMI+SnsXQFVHV90mTUvKukr7Vou4WMtdl1QeLT2R3K5Wdmy3Vie6Rvc9Q+VyynYBMQLqbyT6L9Fb2LhK1N8Ngl/61cvBtpeY6shwGAJmgbL+Xik9WyucC4Hi37H+VOKNUXIaUl4ffI6hUehbMowDw0HsysInsZyuV39HGLz1LON4BXZEovwikhxpVOx9FXp2ovpbTw9K7FLpCUvJG1BOlexFkColeKj2Pg5vBTHnVHG1TKuaBFE75eOA1AiuV39HUEzn4CXtaqfBYKj0NAEfbuPNRpfIKUXwSJwel66/ECeGYNaLDIAde4/AOGByibCZ7l5DezjI1khh/4vF71e7HRcV3hZZqTvnkwOtIeYXtaCo6CQAnvbLjEbLP1tbNSPlUzyKyHYuh1cJ+HplHIeVSe54jYRBV13Bkjwx8QlAV54Uw2AFMmjgxFA739Pb+G56cHP9BcpnZHN90Duqw+hX/g7FncTqjCsVMRgcSfdK7VHFeRDqL9C0nCIQ+JiVPVF9N+iIAHNom3W+LirlkPZyDWziyV9hnSk8rFRyhxUhO9Gfa7xdlZyn2meCMdLdQ4TTKHyfdrVR4LOWP4chO7nmOKi7JbkPKtNp+H5vqRdW1AJAeUgfeAOmo4gqQIl0LAIWKTtRKeDjwEXuXU9FxouS07OCHVnNkBykFovwiiDwAatdTxFKp/QE4zZ5W0ttByshSkoffR9qDjJ8ccxBvYzVK1ok8tIocs6EvgUzx4FssY+S8JBvFw59L1wLk1WcbajMB7ngAZedkS6LcCwGI8nkwlmfPH/iYwzthHiucc9n3LhQjZ4a1xHh+WdkZ553zg9P7RfGpwtkEAMkBHnwTJGB0ZquiOM0d96Jgqqi4FADLjPQuJutkBLdSyQyyTACn5cB8qHFRfQNSPulbQTJJzotZptQ9t8v+V8eOGaPX6Xbt2fPVHoocBzu5zGyObzoHdVj9iv/BRP1PM3kTFUWPTFB63xWlZ8NUyaHPONYuY12cjlLVtWQsB8DRdrXnD0rJiVRyJkf3Sv9a4Whi30roy0irxMkEueN+YTtaVFwBgN2tMFaS7RjpbiVjBdmO5kS/2v4A7OeI/RlRtfMhIp2u4TYAkEnpWkicpLJzKa9GdbWADGSbptUQIfKFdL2N/NEj+7vsX8+BTaTkU/lFUKwAZO8LiLWJ+h9DZ5GuFpCBk/1kn5mVLA58zJHdUBNUPANJLycHqeBo1fUO2Wdrb1C6F3K8V5TNzCZjo/vUgfnQWZXyS0EKZEbuu4etk5TK7wJg77uIdgjHHJjHZMcT28eu+WSuUyovkX3PcyaCxIBwNN1w692K1ZrJZJY/NpXMNaL6GgCc6FNdC2B0QGaEY6Qq6resL1Xqshaz7F1MhlLEOsg2Lbvl3P8XxNpF9fcBKQffhEyJisvJVM798xmCys5urK83m832srKv9lDkyJEjx9fLId23Cuz84otQOCx9K2AZR9bDONEvvUuIwGmfqL1RS+1y0i17niTLeCq/Aol+6W4WzrkyvB2cEWVnAYBMy/b72Vip1NwEgH0rmIQoPV0OvQ9kqPQMTvvVfXdTXr1Sfpl2XbX7D5R0ibH3a1u20t3CSZcoOp6KjuXB+VDDZJ1ERScDQLxH7X0ORoeoyL6WQ1ulbxWUPOGcq9nJsaeFgx+Jhtuy5bIyxRmfcDRlQ6ZnCWL7WBhEwZGA5OguKjuL3a3Cfp7mrM6+FQh9KsrO1FpyEe9l1zuChKi4Qiv9le33MKeVulugrWK9S6lsZla+GOCUR3Y9hbxqpeJKDm5mEKlRsp9vqjgik8kYDIbf/vDkK+5s7Q070+nl9mLL5Hqcc+YZx4zuViov1/pnZPcTnIko4x/RTigHXgMpnElT/jgqnAaAXW9xcCvV3AhdgdrzJwBKxeUwN/LgW5wZUqquIUOpzWYjIt/Q0Nf+0HxVvh1dszly5Ph/cFCvVr86E8aPz89TSJhE0YngDPuWEZiTQ6LyqqxwQSbKvX+CsIiqa5AZlu4WxX4uUl7Ee0d2DdXOhxlCafgZNOmilEc4mji4FbEOKjsfMin33UOWccqYX2vH88B8BD8Rjb/MBhXPEkTbyDKRSk6X7laOd5N5lNA2RNPDav+LTHpR8Z1sB2fkC3a3MEFUXE5GBwAObJDud0XV1ZQ/lofXUcrHSGtpZwCIdyPyOTJhYRkPQ7EcXkulZ7F3JRUeo9UGs38j+1ZS0fRsS27aK11vsoxR+cXIqwMgOx5mNalMeAoAUl7Z9QiZR4uyrLQTZEp2/QG6QlF9Pcc7ObgFABVO/fUTzRVO54WzZ//+tze0ftirKznmiMmTpx5x2KefbX17xd7TL/3vSRe+tHDZxwBk/6sc3q6MvksLNhzeBjVGMgFTJRVPByB9y6VvNaq+R+Z6HnyDkFHK55JlPAc2cvBjss/SCrgqKyoyqur1+b7uZ+Yrk4upOXJ8qznEw6oi/WpG1fpepOddjvdyepjKL9FyoQDU/peQHFRqbyJdvtr/GllGsczI4CfkmAWhB6B2P4XkoGi8E6Tj8Occ3kb2WYh1sP8D4ZhJiklt/y0MRUr9rdoJpedd1btINNwOoxMA+z/k0GcwVwtnkxx6nyPbYaoVzgsAIBOR/a8iE1JqriVTBQDpW6MOvMKcVir2VxVFdsq+l8l+NtmOk75lMrxVkkKmSm0pySmPdDezYoN5FMyjpWuhcMzmwHrkjybbNGhLz8E3yTopu8GphqVrIUuVSk7TUq9qz7Mc71RG/yZ7N3r+QOZRoub6kRuodj4ONSjqb0EmyJ5WzoSeWtBVceS8u++7j4kS6fT6HYHxR5xoKy4x5uUVljgM5iJTniXPbN61p+PCefPOOucE6W5RGu6ArgAA4t3sW0FCzwaH1pPDgY94cIEov0QUHCkH3+aUT5SdT9bJHG1n11uwTBLFJ2sjqayoiMViO3bu/Dqflxw5cuT4qhziSWBFDWRYB+3jO7gJmRg552ilqgCk622K7qLaH8JUye6FIn8cmcfJwddE+Twt+yoHX0Vwixj3IOmsCKyXw+tFxeUkk9LTSmUzYbCrHQ+SmhCj784uxYKfyIGXRc2NZJkAgINbpHcl6WzCPksGt/LwGjKWZ33RAelp4dAWUXdLVtY/0S/9q0mNKbU/0HT8Ee9Ru56kgqOEYzZH2xHeCRIkk9lK2kyE3S0sjKQvFWVnyP5XFccsGfoUuiJRfBIAxLtk77NkHo3ySwGA09K1EJkoWSdqB0jX2/CvVcY/CMUIQPY+g9QQjbl3xE5VHXgFiV6l7gaQXnreXNdWeMOdzw77g1OmTHn33Xf/7g2/7777tH/EY7ETph+/Ycuu4nP2vv6XjvPOHoNMUPUsEjob64q0xTrH9sreZ8jeRCWnsHshx9pE2VlkOwZqWPb9GUqRst+fAEBJcbHVYikpLj5Qz0aOHDlyfB0c4qtVg+0wVVU51ikH5iPtp7KzsiEH4OEPeGgdVVxOlgnsW8kMFE6VnhZyNFFeDQD2LJKDC5XGO8lgR9onA5vJegQZSqWnlYpPpvxRas8ziHdTwx1aCwrHOmXHA6L8Uu0SHN3LnsUgovJLOLIHrncg8qh8blZ3ybuEw5+L6u9TwZEAkPHL/lcIqqi6FlqUTQ9nup+ivDql+iqk3Oxtobw60peIiku04UtPC6CSki+cTdLdSoVTOdFLgCavyCmP2vNHGOyi+ioSBgDS3Yx0EEaH0CSFfSvlwOui4WcwVACQnkVy+EOl8U7SlpWA9L4LzxJR90PkT5SeRWs7nadffCcJ3RVXXPH/iql/S57Z/Oyzz7vcQ9NPPHnmRRctbG2V7kUEsN4mHE0AkOhX2+6l4lOFYzb7lnNgsyg+SWvFUftfZTWsVF010tvDQ6ukuzkaDRszHQfmyciRI0eOr4dDPKzqdDpVVWXfc5wJoviUEUVfDm6R7oWa5xr7N3LSJeznsLuFCo/WxIB4+APZ/4rScAfyx0CNS3cLFU0XZWdKTyuZG6ngSB54DYFNSuPPyVAKAGmf2n6vsM/UYgYn+uXA6xIkKuaBhOpuZqii4or9mhJrpH89FZ2YbehUY2rfa1DDwnFh1leVM7LjYeKUUnMd1KTqaoapllNu4WjSmm2kqxmZEDMJ5xz2vAswOI30MGlL4UyUe59jVpXqa7MqwZ5FnPRB6LL58OAW2fOUUndLtr0ntFX2Pq/U/gjGiuyNC26WvS+I2h9Q/hjpWUQm+40/ve/www8/44wzHnnkkX/w5h911FH5+flLly5tamqad/XVXk8XdIXZaudEd6btPrIdIyqvlP51PLwGtmlZU3fPUsT2KVVXIa8mO1nRXTLyBVI+gJSCw77iI5EjR44cXyvfhrCaQbRNFJ+kaTIA4Ng+2f8XUXC4cMzk8A4OfUqOWdKzmMx12p6lHF4ve/4gqq/J/uhphXkUFU5l3zISJiqeIT2LpG+5qP8pTDUAoMbUtvvIMpEqrwKATJBd74D0StnZMFXJgVfBGVF1DeVVAeDgJ/Atp/wJI4qAPPg2UoOi7PzsyhXg/peR9lPld6EvkZ5WGEoQ7yB7kybTz77lnBxkmVScczi4hTkJYeToXrI3aS+X/S9xckCpuVnb35W+FZxwIRMk+yzSWTneJTsfFhVXkbZtmfLKzsdF5Xez9nAAwp+rnb9Tqq6koumy70Uk+h57dVM6nU6n048//vi/MAsLFy6sra0958Z3hHMOSAdOq51PAKzU3MShT9m9COYxWm6cA5vk8Pui7Owvb0XaL11/RSZG1sMkIycLnCNHjoOcQz2sIqZm0rCdICq/q/2GEwOy5xkYK8h5Gce62LuUHLPYvx5kpOJTACDWxT1Po2AKlZ4JTa5PZxXFJ7N/PdLDZJ/J/nXsepuqryXNdRVQOx4mnVXU/wSa0IG7BTImio8l29E88AYnvUrF5ZQ/Gpp4ofsdGMqF88LseFzvcHSPKN3f/QJIT6sa2CxqbxIFU9jTSiQo0UeO2dkiJv9aju4FWHHM4cQAR/cirxFpLxWflE0vD77K0S9E7Q9IM1r3r+XIblaDwtFEpkpkwrL9Pio9Szi1Hlmptt9HtmOzVVQAZFLteRoFh5N1BSQDAAAgAElEQVS9iUOfIRNkIR56/MVIJLJmzZp/eSKWL1++bee+1/66FIDa8QAUs27iU9K3Sg7Oh8mRdU2P7pGDb5NlPJWcOfJCHnwT6aAoO5Nsx+oUZeqUKf/yGHLkyJHj38AhHVZTbl18h16vKDXXgBQAUCPc/xJAouoqVqPaTirinZQJCcdMAJweVtvvpdLTlYY7AfDwB5BRKjuXw59z+HOyz+TwDtnzLDkvFkUnaheRXU9w2i8abtf6KtjTwolB5I+j4lOlayFH9ijOC7KFx/Fute9FIhNVXAolD4D0LOXgZlEyg/bXu8rAR9K7VKm4lKyH89B7nAlzJkzFJ2fLmoJbZHALOKWUnsYs5dAqKpiCoZVU1qQdoLoXy+GNovJ7+1PZ62RwMwmDsB1FlvEAq/vugmWCUnV19nJt90JnE7U3jdwzdd9dlN+oNPycYx3sWw7C795yh8PhG264oaio6P++w/+wDlZtbe3RRx/9i7vuUrseQ3JYNP4SKTcPrWSZViquJF0+ki7ufQH6InLOHXmVdL3FoU9F5ZXa4lUoSiAQ+EcvmeMbT07HMMc3kkM3rKphtftpIiUaT/+Nqu18TnpFzfXQ2djTKopOQCbKkd2aEj1kXO67hwoOE1VXA+DgFo62CfssxLvYt4zsM5EOys6HyH6uGLEpHfgLhz/XjfpFtmrJtxyxdjJVCkcT+z9AYIOwn5P1RU951b6XiRSqvDJriDa8hv1rUXSctiwGwJFd3PeSKD6Nik/iwEec6AMzWcZTwRQAiO6Ww++DmYpmwGBn7yKyncD+deSYs99vbgN8S0XFxVQ4FVoLbOQzUixknUBFMwDIffeQ3qbU/Th7N3qf4aRHafz5yD2T7Q8Aiqi7Dekh9iyCTMIy+ZW3ltbV1d11111/5yb/My2a1157bSIee7t5mRhzN0HKvpdZpnV1P4ahDGpMDrwCqKLyStJZs4PxvSfdC0XN9WQ9HDKJlFdKWZyrBP4WkesAzvGN5BANqzKt9jzD6YDZcawQ2fcoPS0c3Ssq5pF5NLyLYG6AvpD9H5KjSUufqm2/hdEham8BgNhe6V8nnE1QI6q7mexNpJgy++4WRdOF1q8CyL7n2btMNNypacHL4XXSuxw6q3A2cWgru5rJdkJWhEGN8eBbhISomKcpH8n+l9i7jKyHfynqG+9Tu59AwWRRPpcjOzm8lYSBjKWawjDHu6V7IYRR2KZRwRHSswiWwxHejuKTNV0IDn/OAy9T2VmaeBPHutizCJRHeTXZ8trORyFjYtR/a5dTXQvk8Dox6hdfttN0/U5G9ymjf8UyLT2LQIIKpqxvM3/xxRdPPfXUV5+TU045JaPKtzaYSFeoDr7FaZ9S/b2sJIVrAaeGqeJKzS0OgAx9xj2/V6qv09apcug9GdoGYGQ2c+TI8Z8jl0j43zhEP6SEngqO1NX92JRfptPpYrEYD6/h4fWi7ByyTWPvUhZ5ZB7N7mZhb9LWjrL9PrBUGu+EVsfrahb2JgiLdLeIohPJVKW2/YYs46n6Ou0K0r+efe+LymuyNqWhbexfC30xCo9G0s19fybrJHL+TYtqykOl52Yrb8Ofc3gnTBWi/GLtAM4EZc8fyFglKq9CvJs9i6EUgwxUejYApLzS3QylQOSPpaLp7FkEgxPJPrIeJgqmAOBYh+x+gm3HCa1qKeVhTzP0JTCUauW1svcFxPaJUXdnL+dfB1ezUn8rjSjpu5oR2qIbew+EiT2LkAlDX0yOWU/98Y+FhYWnnHLKV5+T+vp6RVEWr/gg3rsQ0V3CMSfrYeBZxLE2UXZm1i0O4ESv7HyEKq7Udrs5ugeJflFyGjMnE4mvPpIcOXJ8NXKJhP+NQzSsAqLkNJjrzXl5ep0uPLhBepZS4VFUchr713ImJIpPku4WKj1bE15Qu5/kpFsZ9SuAkAmyp0Uzg5OeFq0GWG2/F7pipe4n2sk5spt7nqaKeaL0NACItUtPC1gV5RcLU6Xa9XvOq6MRfzd3C0f3ku040lxRY+2y70UyOkTV97M7vixl73OQSVFzPdSI9LTAXA+Z0MxkoEalu5mEjkxVVHomD7/PMgM1AoMje8KUm7t+R9bJStV3AUCNSHczdBborCJrR/MOD7+vjPqltihHbJ/a85youOzLatvARnXwTaXuVhireOg9jvcwdMLR1Dc4+PaCBTNmzDhQkzJmzJixjdXr1ywQJadpHgZyaDUHt5L1iGy9GICUR22/VxTP0Kq6WI1K1zui5DQQATCaTAdqMDly5MjxdXDIhlWNgoICRRH+tjfIXEOOORzcwpHdouw86W4RhVO0Ul7Z/xI00VrFDFalu4UKjiTrYexZQjqLKD5Zbb+fZFrU35q1Ok8OqB0PCPu5WocMJ13S/VcIoyg7m0yVas8z0Bco1deBdAB4aBXC2yh/YrZlNjmo9j4LnVVUXf03O74vI9qm1P2QdFZ2t8DgQNIrnLNBOkiVPS3MaZAgRxOHtnK0A8IA0ovSMwBAjaidj7GhXFRfDwAs2d3CDJBea1mRvtXq4Fui/jYYq5G1t3tQlJxCI+09sU616ylReTkKpnJwswx9BplQnE1QLK1Ll06ZMqWhoeFATYfD4ahxmj7tVLItqoGP2L8eRufIXjXSftnxkDA3amY4ADC0GrF9nAkCSCQSZ59xxoEaTI4cOb55fBPSz4d4WC3MlwqlAzFFlF+GeKf0bxClp0vfShidZDsOALvekd4Vov4XWS8XdwuZKsh2LA+vYTVKZefJ7j8g0ScabyedBQBngmr7/UrhUVR+OZBVEAQpwnYMFR4le5/n9JCouUmTwM30PCuHN8BYldUVUkNq3wss06L6WuhLtBGyZzEHPha1NyGvXnpaobNwvFs4Z2dbVL2tHB8g6ET5dxBrl0NrWDFAxrKGa8xq1+/BLOp+iP1SSjK6lyDJMRvCiPA22fOkrub6bH41E5Cdj1P+GFF1VfbqKa/a8aAoPVXYz+foPvatIE4p5RdouhDrN6yvqamxWq0HajpMJpPTXrrXZQbA4R1yaAWIhHOONnioUbX7KSYDVWcrkzmwSfrXi/JLqGBKf38/gHKn80ANJse3hW/CB3GOf5RvQvr5UA6rnIkUyy0AhpTjORNj90LFMZOj+4iEttTjoVVycL7ScDvl7zdQI0Elp3PwE451Cvss2fk7hDaLhp9DX6qdUXY+QgYH1WZ9Q6WnldUozGOoeAYPvMyRnbq6n2Q9XMPbKTEAIUT5HAg9OKP2/QWpIaXmRjJVZUcY+Fh636Xyi8l6uPQsYZlBclBxzoGxEoD0LuOkB0IIZxNS/aq7RZgbKBPNbrgCau/TSPSK+ls1xUHpXYaUm/RFomQ66QqR6FU7HhKV2R1KcFrtfAwklNobszdIjXPn74S5XlR9Hyk3uxcy6ankjKzNaibQ09tTWlqayWQO1IzE4/GqhqN6+gY41q72/5mYhfMSreALrKo9zyPpErU3k04Tg+yQrgXC3EilZ3EmuHTFCkVRDtRIcnyL+CZ8EOc4FNj/Be6QDqvud5yF6YyqeIZj0tNM9pky0c9JT3bPMrRZ9v6Jam7WVnLs38BJj3A0ceQLDnxEjlnSu5TD26niu1r7CgC16zGoiS/NatwtnHSR0SnsM6V3iRxeJ2p/BM3iNNomBxcAaVHxHeiKAKj98xHvFJVXaboQADi6W+1/UZTMEMUzePgDpIdJjVLRSVlNYP9aJLogo1Q2CwaH9G8iYxkneql8LultAGT/a9K3Wmn4edY/zr8WsX2cDpBjDvIPgxpT2+6lklOFI6s7ofa+xEmXqL1Z80UHoPb8gTklan/A6YB0t4IUYTuKCo8CAJlUOx426pCfn+92uw/UjLhcrvr6sT6fi90Lhd5JZeeM3A05MJ8S7aL2B5rqBdSIHHwNSh6cFyITlP0vJ0L9lvz8AzWSHDly5DjA7P8Cd8iGVelZwtHdlePnxBLJ/n1rhO04cAbhz8nRBJCM7lXbH6byK0TJKQA4tF2GtpGjCfEe9iwiexNC26SnVam5gUqyBTtq73McaxcNt2fFjIbe41gHKfnCPouDH0vXO6Liiqyib3KQXW+QUETF5Zpqv/QuQmSbcMwdMaTjRJ/a86ywTibnXA5ukeGdYBWWcVR4JAAObubQ55AqFZ9K+aOkZwkAJPqFY7amKsyexTy0XDfmXk04l4NbOLgZMiGcF2g9Kuq+u5E/SlR9P3s3XAspskOpvZn2C+2qfS8gskepvw1KvnQ3I94BfdFI3ZDa9QRk6rDDpkSj0d27dx+oSWlra2uodSajQyAdCo/UPMyhGQ+EtlH5PM1aFYAceBvJIVH5XdIXS88SUXDU3h5/odV4oEaSI0eOHF8Th2ZYZf9aqBFRfllhzdl5Jt2+vjh0RdK3QjiaSGflpJvb74djvyx+rIOHVghHE2RcuheSYzaSHjnwslI+D/tlclXXAgx/qGu4kwxlAKR/kwx9CqTJMYuTLrX7j6LsfNK8cTIh6X6HQVR6dtYebvgD9n0gys4dkSfk9LDa9RQZikXlVVqDLNLDMDo05SaO7uLARhZ6KphMBUdw4CNO9CATIMdsmKoBsH+DHHxD1NxIlnEAEN0th1aBVSo5Q/NmV9t+S8Kk1N+WvdzwB+xfR+UXau09ANjTDP96pfEOGMvZtxxpHywTqTIrvaR2P4NYh9Lws1kzZ23cuHHjxo0HJA/c19en1+ut6S1Gg4CpRpSevn+yPpTDH1LpGSOixDy8hsPbReU8Mo9Se56GrpCKjtu18yNnqSW3UZYjR46DnEMzrFLRiaL8ErJOku7mqvLS3R0+6WkRjtkwlkONqm2/hm2aUnEFAKQ82p9IV8DuZio+mUgne35PZTOpLCt+JH2r2d1K9bcirxYAh3ew/wNWU8JxAZHgzodF0fSsxC6r0t3MmbCwHUu2YwBw8BPpbhHFx1PJadrZWE3InufAaVF9PaeHpLsZhjLKH7ffgrSL3S2QSTJVUtF0jrbz8IfgDBWdQPnjAHB4p+x+iirmZUuu4t3q4AIIA2wnaNls2f0k0kNizP4W1cAn0rOYbMdpohDQ2mn6XxPV18M8igObZOgziDxhn0VEAOTgGwhsEg13wGA/9YRplnxTXV1da2vrV5+UtWvXHnfM1L6+nnJHsSYVCYCDW6VnCVkni7Kzsnfb3SoH/0qlp1Lh0Rz8hBSLsJ/HgU0dnT1jxh2V2yjLkSPHQc6hGVY12LcCzBMmHNHR2SZKTiXzKLBU9/1amOuUmpsAQI1Jd4sonoG8BulpRv4EGOyZffdgf9MkAIS3y/6XROWV+4UXOqW7BdApZWeTsUJ2PsL5o0X1/lyru5mTg2QepwVRjnzBA6+TdQI5LhgZlRx4GYkepfZmEgbpboaximQ6u25OeaSnhU2VyKsVZedyJsi+pSz0omAyFUwFwMlB2fEQ7OeLsnMBINErB+ZDyRcFU0TRcQDkwCsc2qaMvkubWY7uUl1vk7lelGcHwNE2tedZUXkF2Y7hyC7pW0UyLhxNWuky+5ZJ7wrR+NOsTL9n2fMPfL+tre3RRx/96tOxcuXKk44Z/8n23slHzgDpkd2Bng/j3xgPxLvZuxSmSmGfiVgn+9cJ+3kc3MyhbYPeyLSjjv7qwziEyS3kc+Q4GDhkwyr713HKJ5yzj59o9gfjmbyJANS235BiEvU/046RnlayjKOCKexeCINDWCfKtt8I2zHKSP9JvFvdd4+wn59tEk15pKdZ6K2iaBoVHqm23cMwKHW3ZM/mfRexDjJWCmcTAMTaZM+f2FiebcXRTji4AKEdovo6yquV7hbobcgEyNEEoedMhN0tZCyDmhL2WQDYu5RlkvLHZBeaalju+w0VH6dUzAPAKa/0LoNiEZZxVDwDgDrwhvQsVhp/Dp1NGzz3/hlKPpVfkp3olEfteEAUnyjsTZzoZ9dbAMh5sVaZzIFNcvBtpfI7ZJkEQA5/iKRrQpn7x7f88LPPPlu4cOFXnJGFCxeec3TxwjU955zdBABpn+x5CsKkVMzTBBQ5PSR7/ghTtVJ3C9SIOvAalZ3HsS4OfjLAJ2RUdcZJJ33FMRza5BbyOXIcDByyYZWKpgtHE7sXTT1ikslk2vb552rno8iExahfaQewZzF0BVR0ovQsYWEQxSeq7b+FuV7U3pw9Rcqrtt9PpWdlJQYzEeluBumQ10hFJ6k9f4QaVRpvzy68/Gs5vAM6i3A2AcSJfrX/JdYVKtVXk5KXveLQajm8jioupoLJ0t0CEkgMCHsT6W1gZk8rFAuSXuFogjCybwVinSKvLrswZam2/QbmOlF9gzYY9q2EGiahIy17HPiIB+eLmhu1QmKkfTzwmlRMOkeTVuUENa52PCQs40TV95CJsLuVhUGUnq5tAMuhD2T3n8h+frZEK7JTBj6SapTs5//uoUeOOuqoq6++OhqN/svT8dJLL00/9ogd3WTOL5x+/PFgVfa/BhKifH+DjUzK3udZTSs110LJk56lomQGMiEOfizK5y5fswXA4YflPMxz5MhxsHPIhlUAUPJhO/rY02+OxeMblj+GWJsy5m5N/EgOvc8yLsrOlUOrIWPCPlNtu5dF/og8ITLRTMdDIr9R1GRFgNnbypwhQxnZz1MH30Rgo2i4MyvaENwihzcQp8k+C4oVmYA6+DoycV3197INrwD7N7FvqSg7TRRNZ98KzoSQ9CjOOdBcVD2tzMyJXuFoIkMph7ZK/zqYKr50Jm+/F2RSGm7P/ji0iuOdMNWJmhsBINahdj0mqq8TxTMAQI3JgbdYTSiOC7BfaFft+h2EUdT8AID0LOJMkAqmalVCHOuS/X+BbZpwzAGA5IB0NxNYlMwgywSk00sXLaqsrJw+ffq/PBUPP/zwDd9puvfJN2675RZoJWDxblH53S89awf+zPFuXd3NMNjl0GqQHqTj0FYqvxj60vlvvjlm1Kh/+eo5cuTI8W/jYA2rB2ibiIxOo9E4us7Rumyd0vhfUCwAOPAJ4l3C3sT+DUj0CXuT2vEQcVxpuC0r9wPI7sdIGKj2R9kf3c2cDhDphX2W9K2Cu5nqf5btsIzuUT3vABlyXkSmSsiUOriQUh5RdZVmzwKAw59L91ucP5HsM9m/QcZ7SCao9DSYRwGQvpWsRkkNibJzkFeHeI8cmE86i3DMgdADULse5/SwMuq/soPxreDQVsofp3mPc3pYbX9AlH5pVyfdLUh7RdkZWUc5QLb9FoleUfcTKCbpWYJEF5lHCc2QLuXmznsVyyil9iZoFVWed1mNiMJpI6LB5qFFr/7+lu3bt/9rkfX22348eWzFexs7xo4ePfeCC9i/DoGN5LiArNl2I9X1NoY/UWpuhLmBw58j1k6GAo7sovJLSF/CkS82ffzxzHPP/RcunSPHN5vchvk3kH8wrP7b5/bAbRNx6LPTj3Zs2RvPrgujuzm4STiaOLyDIzvIMVvtex7xTlF/u6ZVBEB2P8UJt9LwM9L2/IZWcmKQ1QTZZyG6j/teENXXCuskABzvla63SWcj8yjNoE16l1F8L5XNGlmHIdah9v4ZhkrFORfhzzn0KYHJergWVNi/AYkBQCXrZLJOghrNdD8JElR+ubYUln0vIvKFMvqerDzh8Doeek9YDx8p85Ht95N1oqjKKvuzu5VjbSg4ikaM1gff4FibqL6eDKXsX8eRbTA4s/KHaljtfIKN1VSdTX2zbwWSvaLkdCrJ9rCyf510LZg8fvz111yzefPmU0899Z/yEn/g17etWraotvGI9Rs3Pv/00xzZpXY/LYpPoeJshOah1XAvETXXkXUSkgPsXQJh5oRHlF9KukL2LV+z/Pl0OvXdOVP/2anPkeMbT27D/F/mP/eN5B8Mq9/UueXoXh5ec+U1/x2NJzq7upDoY3cz2Zs46eLAenLMhqeZAx+PeKYCkP2vcGiLMmp/4Y9/PYe2khpXHE1gNdP5KDkvyLqopn3S0wolnwqPFuWXAOCh1Rz4CEUniv0xA0mX2vcC6SxK1RWc8sjhtaQYyVyv+bdwaBuHt4MzIEP2N4NvEKdEyZnaUli63pG+lUrjL7KVuqHP2PUWFU4l50Xa6dX235LIEyNlU75VMrKdLGPFiJK+b5X0Lqe6H1HBFI7skL73CDrhmAVhAGfU7qfBKaXuh9AXam8WgQ1UOO3LdqDoXtnzDFVcLgqnPv3YY888+WRf174JYxteeeXl///dT/pvvW7WG2+82Tjm8I0ffbRowQITDXPX46JkRlboCuDQp9L1NsovIduxkEnpbmVhJJ1FVFwGoZeuBZwOP/GXDeWOkvFHzv4qT0KObxWb2pvf2fLKY6tefH7t6y2fLd/lavsHX7ixfcvXOrAc/z7+c1FL9x+78r8Fyh8DMhxbV2cyGl/8y3N3X1VO9lnEaeldIsovk/717FutNP5iRHtIehbJoZW6Uf+lqfJyeBuHtjKZhW0qDE655w5RdLxwzgUANawO/hWQlD+Wik8GwIGP5NB7ouBwKtufrlQjavcfoMZFzc0Mkp4WKFbo7aLkdAAcbeOhVZTfyDKtnVN6l3Jwq6i+NtuBOvQ+D7yiG32Xlkzm2D7Z8zRsxwrH3Ozpu55CyivGPab9yIGNHNhEBrso298VGvpMDr4uKi4TBUdyvEcdeF2QQs65mtC/2vssxzqVUb/S5BU52qYOvC6KjqOy/SE5OSjbH0TJmWL/O/pu0yS1q+j6hwZ+fc+vH3n44WvmnTnvklklNcdD6DTjNgBIx0CG11969N4HHzMZ9QPe2KmnV7/96mtQo2rbozDVKlXfy97twCbu+zOKTlbs5wBg1wJO9FBeHe33syMln1PDK9bvufVHPz7Qj0aOQ5nKojHv7/ovfyyzfsjyhbsgrQqdgNWk1BbbJ1TUTKmqOHviiSbD/20y+Py61kdWLrv+pLafnHbJf2TYOQ4NiL9Ceec3iPMvuGDvnk/3rH+DTJXqwHzhuADJHrX3ZVFzvRgRPwpsULv/qNTelFVaiLWxpxXCAstYUXyyuveX0FmVhp8DgEzKwTeQicJYKpwXA+DIF3LgFTI4RfW1WVtTlmrvnxHfIyquJPMoOfAag0hn1da1SA6qA/OFZTwn+kTFFVDMCG9Xu5+i8sv26yluzey9R6n/idBKc5P9avsDyB+r1Nyk+dOpA/PhW6FM/L2m8cvh7dLdTGQQ1d+HoQwAR9tlx31UcoaouJQzQdn7AtSIsDdpAoqy/1U5/KGu8XZtfxeZoNp2DwyVSv0tWUu7TFi23UXGalG/32U20a/u+ZnivOgzV+Ov779/zZqVJYWGHnd8/NixR06eUFPgU4QcDBd+vte97fPtCqmxZOaSOef/4KafHDNtGgB1zx1gVTT+l6ZpjER/pu03Sl4NNf4CALv/Kn2rRMV3NC0q6W4FmFPuF5t3Xf+L5/0DAwUHzkgnx7eBz3pWLvr0CckypYpd7sJd7oKM/HL9kqenExpHNU0++uzDTtB+8+L6xQ+uWKpKKALPXHb1jHHT/kMDz/GN5z8WVvnfu0ZfvfA3p13xQLhvhznYSqVnkBpTu/8gyi+l/eI+iO7JtP1WlF+SLfxJDsiB+awrIUOpcMxUOx9B0qOMe0g7Vg6+wWqYWIjKy/F/2jvv+CiK/o9/Z/Z6Sy7JXZJLb/QivUlvSrUXFBTr40+xlwc7PpbHrviIioooTVBRuvQm0nsLpJfLXS7Xe9uZ3x97KSQBAgQMZN9/8MrO7s7O3h372Zn5zueLJeArDZd+gxAwaY9zKdUAgBh+Bec+pJ2A1P2J4WdgXQACnHg3MBJgXUS/AGSZ4DqEEu9FEh0EKsJ5/8Exg7DubgCgrsOk4L8o8U4uZyqE7WzBeyCMYTKe5zKfU/M6tvRrpu37Eat6bwHRzwOgKOk+xHn9Bwwk/02k6IbT/gXcbHHIjmOHIPX1AMCaVkDVKpz6WG3QUP5/gTiYrFe4qC4Ayha8TdmgIOcNTmWBhNiT0yCqJ5P8EACwZd/nH1u3sbDHoZOlh48erTQU+vwBSpFcGZuSGNenrWBEv8wBNzyh0ETikIn+R2rdxqT+H0T1AAAaNLMF7yJxPHdHxLSKVMxjMp7njP6J7S/wFAAQJMtqO3RaakrKhpUrL99vg+daZfWRWXsLI7+cIIv3lcWV2mRhcsYxaTGyN8dPKrVWzVi5jFTPxumi5BueflcoEF7Z9vJcI7SK3iqp+hORoLbX43fd0H7mRx8ggYLNfwfHj0PV2V3Ar2fzXkGxIzDnaMg62fL5SKAEhLHuHlI+h9h3M+0/RowCAIhxKQ3bIOxmku4BYRyErGzFPAjZmIQ7QNGBq49WrSbWv1HsYBw3kppWUn8ZUIJ1k0CoBkqoYREVacFzGsUOQ4r2QEMk999Umhpxlgjb2dznQZrJZL0MAEBD7OmXAclw9qsICwGAmNeT0i9xxgtYPQAAaMBAy+dSyuL4CRHX37AznPcWEsUymS8BwtS0groOIVV3bnSXWv8ihvk4cVLExBiALZ8Djj1Mm/+AUBMpKZkFnpNMzgwuDS0AsKdeRCIN56RBjEtI1Vom86VIlFblcuorwGIdSrwTQlain0tJEMeOiCTDAaCm1cSwGGe/wh0PYTdb+AEAxVkvIUbBln5Lq1birH/j6H4AAL4ytmIBCORY1XNfoajP4MEnDhxo16bNZfpt8FzDUEq+2/ZMhS0PABiERmW3IwT9dCC0szTsDp4noGVSr64zJjx6RZrJc63RUhfYNCs4ZiCKn3DH6A6LVh9Fojg2/22IGVKrqWE7W/hfpOwZ0VQaJsY/kCCahl04fgKtWk7M63HmdE5TqWkVDbsgaMbaiSCMAxIkVWsg7MGxI2o0lVg2UvsuHN0Lx42k1i3EV0xZD4q/CYRqACCm5SDSQLAKqbpxCVvYwk+AkTDpTwJwIvoGKLpGNBWAFH8KFDEZz3GaCv5Sqp+HYodzmgrBCmL4BTDGsUMjmkrD4aLPEWKYtMcBYWrdylq3gSwnoiQbizgAACAASURBVKnOw8QwH2nG1GgqqVpDq9aijJdqNbViEXXsxenP1WgqKXiHsr5qTV1OzeuZ1Mc5jaS2bdRXhJAQNGOABNnSbygbxNF9azSVrVxF9D+h1IcimkpZtuwrYF04fRpiFNT2N1g3Msn3RTSVhtjyORB24Oj+SN3vsaee6ta1K6+pPBcHQnhit2cZLOA2WEKFDHqwl+ibW2SZMed59C0/ejzMnjXDRJj1hFl387b2ssKv07mStApZBUYOAF9+u9bp8n77yX0oqheTfF9kFwmyBR+COAGnRzKT08plgITUX4rjJ1LnUVI2l0l/FsvSAYCa19OgBbFurBmLZOnAZQ73l2FlJ25wFbjIYctWkOcg7Vhi30sdByDsYuJvjkT2mtcDJZSEkDCaC/0l5XPBX4SzpnOD4uzpN5AkgUmfFmld6f+or5TJeROEKgDOKelDFDOQSYscQC1bIGwFRVekjkwRsfnvQrACpz8JAhV1HiSWTViajjmPYm8eW/IlRPXnzBEBgFg2ktKvcfqTWJYRqdC8AcwbBRnPcDcIAGzxTBo0C9p/BgDUsZdWrcSa0ZEEds7D1L4fiA9rxyGBkphWAQKs7MSZKQIA+ErBuBDHj8PVq33Y4pngLWHSn0EiLXUdIeWzIfGeGs9ktnQ2CluwdiyK6vH3rl37Dx78ZubMZvkJXBFa9LOrpTTuyrZDq0q7ofOjAMASsq4g96jJwFLCIBiS5UPnbIrbH35jxZeN7gqGbIdPvXn41AxfwHBZGn0ZuFrXclydtA5Z5Qi7bxyQ/Nb3J2rtCQFI8WdAQ0x6dWbyqjWEBiFkwfETgXjZks9QykMouhcAUOs2GqgEoCiqB5dXlVg2U+8pEGlRtQ8DdexjzeuQWIu1E6knn1o3AYSxdjzIsgCA2ndC0IhEWgg7uGhhallPTKtwxgvcjCZb+B4gwJnTudrY8u+p4yDT5v1IDBQAW/AOEutwysORy5lWUl8ZVnTCmhsi7dfPpQE9p+LUU8AalgAS4MTbQaSh/nJa9Amj6srUrHANVlH9T0g7BldLMnUeJsYlKPEOqE4hRyp+AucRJutlQAx1HSVl32LtDSj+NgAAXwm1rKWYwbEjQJpOLJup+wSSZtR+GkEzKXwXxQ5D3DAAAFv2HbhzcfpjIE2lriOk5CscN5qpzmZDyr9DzgMo9XHuHeWBxx7r37dvzx5X0XLVFv3saimNu+Lt6JY2SiWJmJ2V2K1r83PXFeSGiOHmLnqZiD3HiWuPFzcsDIWdxwsimSdOFn7u8ZY0e4NbOi3lBa3lcmmyenV9vgLF/JnPGKs8n/3vf1wBKfuG+oqZrJeAkQIAtW2HoBXRMIrqiSRJpOB9rBnPrS2h9l3UW4CQAEmTIoZ/zv3g2AeUYu24SLoY11G2ciUgMUq4lYadrPEXAIxihkZym7uPUcdBEKeB+zCXFo24j7HFs3D6NCTLAgC2ZCbyG5msiGUxq19ALZtwzgwQyCMlhR8BDeKsiOhS2zZi3QAiLarpehp/pbZdTNoTKG4UhMzEsACAYt29INJCyMKWzARJCkp5KPJpkCApeBeiejMpkQkkYt7EFn0MMYNxTUY803Ja9SfOehFEGurNZ4s/R+rrIz3LsIM1rUCCaCxvi6J6UuchYt2CxLE1/WBgfbTwv1SWU5NKnTX+Rq3bmPQnkLwjdR6m5XNwdA+UeHfkWvq51PoXZE7nUsZ+MnNmXn7+qqVLm+3b52mtMFh4W69/12wSSoMsSwFkwvDUnrb5d8o/GiMVM42c6PAHSqzlZ5bRwvIFhATChLgCfkrZ06WzXd6Cy3sDLY3mfjFi2XO93FyNXJqstpQX4KaizH7o3rvvfuPttwGAGBZT219M1nRuESd17KfuUwgLQRSPovuy+W+BsiNOmgwA1HmQOg+BIIoyEsQtOfXmkar1gIRYO47zkaCeU7TyN4xCjO4uRIPU8BvCEqzui6J6AQD1FhHTaojuA46d1b7BDlr0CdbdiWMGATcU7DyCc16PCLxpKbWux5mvcLllgPNa8pxm2rzDbVLnIWLdhiSpOGZQxH2p6k9atR4nTUXKzkCCxPAzsD5Gdy+SZQDrZU/PQIBx6mNcrhgAYAveR8IoprrjTv16alqKpCmMLpJvh9q20/LvmfRnkLwN9etp8WeMqhtOivR0SeUKQBLKKFDcaOorIYafERLg+FtqO9ZFH1FGxtQszjGvB/M6nPo4KDtT5yFi30UlaSgx0oslFfOodTvOfgXLswHAZre/OuPNqZMnR0dFXY6fAU9rIymmbUJUZsNyloYYRJOj8KybZB20jUjrM0u+qLtpdRxyewtZQraW5B+tNFCghAQrzdsuV7tbPIFA4I23345JSuozePArb765YvXqg4cPm6qqKD1Xl4tl2eKSkh/mzWt73XWSmBiBStWpZ89Vf/55xZp9uWkVkcD10KSl9eycufKrSVjdl0uCRj2naNWfIE0FwuLE20je2wAhnDMDAKj7BLVsQLIsGrThpHsAEA0YqGExMFIkb8tNIlJvIa2YRyngxNtA1pYaFhL3aSZ2EIobBVwGt4qFOGYIte9C6v5I2ZmGvSTvDSTV4fRnAIAYf6PGX5m274I0AwBI1SpqWomTpnDLZ4EzqdDPZzp8gsRJAADeonD5HKBUkPoISFMBgNp2EP2POOFOFDccuDcG5yEcfxOXSp0Uvk39Rpx0f20YUek3yH0Et30/spwmbA8XfoQQgzNeRAI5ABDnUZr/Okr5P6wZCSErW/A+CKNw+rOIkQAArVpFA5XAenDSFECYLf4ShW0o+REkz4rUX/wFePOYtu9wa2qJbSct/wEn3oHiRlDXMda4GCExk/YvLg8BMSyiplU461WkaMed3mfw4LKy4orC1je8xnPZqHKVztr4r4blcpG4ly5FIRJTCj8dCK45Haq7FyF0+NWPpdXGEScKPvIFKovsFoPb2TcpHSMkEcdnJN0t4+zBWxl+v3/k+PF//f13w11CoTBeq1XI5TKZTC6Xy6RShJDP7/f5fDa7vbikJBQKNTzrw3ff5VJxXCku1zLPa9xlqVF+nD17/G23/rjxjgfur/H1/R0rO9NgJdbdGy6dhUJVTIfPAAC8BcS0Equ6UW8B0t0DgID1ENMaEEQhRh4JzPGXE8NiQEKsGYUUHYlxKQT0OLp3RFNZH61cjtXXU88ppOzAGQXTslkQtuD0DwGAWjYQ41Im4wVOU6l1EzVvQtqbajSV2naSsm8F2a9zxk8QsrDGxQgxWHd7RFOdR0j5XBQ/ntNUallPnQdx3ChOU9nyueArxxnPI1kkAwwxLKD2PUx2JPEAkAAp+x6xLibz39yAMw3oSdF/Gd29SDOSsj5S8hUgzKQ9Dpym2v4iAQMKu5FmPAii2LLvIWxFiffUaCot+wZcB3Gbd6p9Ko5R/RysHYfiRlBPPjEuwZTi5Hs5TaWGxbRyBZP1ClRr6jMvvnjg0KHNa9Zc3h8BTysjVpkkFSp9IVe9ck8wsLWkoHtCcqJSdV8PUawcLToUZKv7WpRSV8DHyarXX+4LVIYJKbHbBqdlIYRU8rYZyfcIqjM/tjZemTGjUU0FgFAoVK7XX2iFH3766ZWV1cs13NqaQpaqGTN69KQ77nz82VeMlZUQslLTMhx1HfXm4fgJpPJ3sO3G2a8CIPCXk8qlTHRv6jqM4ycigRK40F9GhFg31o4BznXB+CtgAY4ZiKJ6Ust66joO0qyIkT0ArVoJ8iwaMiNGynnfk4oFxH0St/0AAKh9Lyn/iUl5kAusJeb1xLwRq/vjGpMKbz5b+gVOfRS4jiYJEeMfQIJYcwNSdIRIcO/nKHZYJPO5fTepWofU/TnXYmJaDo5dOPX/ajSV2v6ilr+Q5gaoDv0lFQuJrxSn/h+IEwEAWA85PQPFDEMJtwIAKf2WBow4/SnO9x/cJ4jzCFCKovsjeRYxb0DuwxA9gHNuAgBqXsM6j2LdvYirzZvPFn2C1INR/EQIGIlxMQCDdHdzdozE8DNb+TvKfAmUHbnTf5g375s5c1569tnr+/e/TN8+T+sEAzPuuscb3UUp3W8oK7RaKKXj2gkf6SMW1hkP/nV/ZHDS4y0GAG8o2FOXghCSiLRZKfe1Wk0FgAMHDzZvhXK5vHkrbJRQKDTnp59Gjhuny8qSazSdevZ8+Y038guac4K8NQ4Cc3To0SMQCORv+RgQUOcxHH8z+EvCxTMFbf8D8k4QNBHDz6DsBs59SDseVWdwg6AZQhakuQHJsiFkJhU/UxpCio44bhS17SSWtUiagRPvrp7vXI0oAZEGvKeR7l4ARMx/0oqfmcyXQNGeek6z+e8wiTcj7U0AQM1rqWM/iBNx8tRIE0NO9vS/IapnrYmu8TfqOo5j+kemeH2lJO8NrB6IUh4AAOrJpWWzqaIjk/wgAFDrdmpYiHT31qy9oY59xLgEqXpGErMD0MoV1LYVJdzOdW0BKHvyOZCmMulPAwBbPpdatzI5byJpGgBQv57o52FpEhXGYs0Y6jxEKn7CMUORdnxN/WzJFzj5QW7CmDr2kqIPUcwInPoIsD6i/5EGTShuNOa60fqF1LwaZ76Aq52efvvjj7vvv3/U8OErf/vtcn7zPK2CgCtgPlp5esUJ02GD2xuyy4WZ3RJPdJ8dxv6znZKpjm0XF48ROmxgP9nuD7AAAMlRgs3PzwQAvWm10byZUooQQkjQrd1bCLVqG6aMDh2KS5pzpmZAv35/bdjQjBU2yqPTps2eM6deIUJo+JAhr/3734MuIat0Dddab7Xpscm7t261Wq3D7v2YektR7HDCukPFM3HakyDvBGEHMS5Fql7gyUUxQzhNpY49ENADFiNVVyTLpiEbMfxCgWJZNo4bRd3HSdVyJIzBCbdwmkptf0HIAfI21LEHacYBIOrOJRWLUMxQULSn3mK24F2sGc5pKqlaTZwnKCOviYwFADbvVSRLr9FUatlAXceQqktEUwOVbMF7oOwU0VS/npR8TUUJTOIkAKCuo0Q/H2nH1mqq6zgxLUcibU1Pmlg2EvsOVD1cDADk9GsgjOE0lZj+oJaNguyXOU0F1ktMK5EsjQLCmjHg15Oyb0GWXaupntOkdBYTP5HTVAhVseU/gaITlweeVK2mASOOGcRpKg2awLqVyXypRlOXLlt255Qp13Xpwmsqz6VCIX9V7qIR362dtqxoXZ6n0k08QU8gfHRXmcCmPsd5hTbLIaOeUNo1kZkxUsJgAIByR9gT8AIARiIAQAgBgE4ziiUhp+e02b7H5jzCst4rcV8tDFNVVTPWhjF+YMqUZqzwbPy+fHnDQkrphs2bB48ePWnqVJf7Uo0+rrW51aYPlisVis1//tl70KB7Xo5eNOcmcvJ5Rnc3jh0KrI8YlyLVddRbBIp2XCZw6jlFbH8jRScIWZB6IA07ieEXoIDECUgzlnpLSPkPIIjCiXdXTygepq7jEDeKVi5F8beAUE39elL8KVYPwsn30UAFe+pFrB6MdVMAgJpWgt8AEMKJk7mYIAAgxZ8AkuCMF7lNat9DqtYgZVfMpVQLO0jhf5EsI+LNFHaTsu9AIGVSHgBGSr2FbPFMHDMQaaqXkHqLiGUtIAGKvwWwBACofSe1bEKqbihuJHcMW/BfoCyTNR0AiHUrMSxh0p8DWU6khqrVSBBFA0acNAVIgOjngjCaqV6QSr1FpOhDFNWfW35Dw05S+BEWJ+DMF4FzYnLswzGDamwikEiL272LhLHc5tz58x994okunTtvW7fuQr9xnquWyxIwQgld9dBvVUeMdYNRGUIxpQQh+ZZ+/lvPtWqrwuXwh8P9ktPT1cyHN8qeXeUFgEqnJVMjk0p0tYdVrdObVtc5DyVqRuiqV6a1BioMBq/3jJcJpUIx+3//c3s8+QUFBUVFBYWF+QUFTZSo8WPGvD59es/u3S9PY8+gQ/v2W7dvP9veRUuWHDl6dPkvv2RmZFz0Ja41Wb0gruvSZeEPP9w5ZYoC3/bNW3fghDuAElL5O5Jn0WAVEkZzs6HUX0FMq1B0f7DvwCkPQNhNDb8AABIosGYchO2k4gdAmEmeWps6xrweJ95JKlfg2GFIlsFliEOSVJwylYYspOgTpOqGUx8GAFL5BxAvAMvET4jMbgKQioXUdQx3nM1tUs8palqGRBoUNxwAUdZHCt4HoZpJfRyQEADY8h9poJLJegmEcRCspMWfIFWXmsUwEDRR0zIAIY4ZFjHidx5mK1dhcQLWTuQebaT0CwgYmLbvAGKo8zApncWkPIKiIlYM1LKBkiANmbF2HBLGEP2PxFcmqMkC6ysjJZ+DLAenPgAAQAKk6BPAQpT+FGAh9ZwmFb+gmOuR5sa6H36Npr7+n/98MnPmgH791q9cyTCNrR/kuTa5DAEjFDY9v9p0OGJ+hDASysVBlx8A5AHWJRHYDBRRhqJzLZS0+jx/lRYPTEvXqdDHY6UvrfF5giEAkEl0CCFOrSkNA4BEpJVKEnx+oz9oMpo3aaL7CIWtZUnY4aNH65XMePXVu26/vV6hqaqqoLCwtKyswmAwWyxWm83ucACAgGGioqLa5uS0a9u2Y/v2usTEK9RugI2rVn03d+6b77xjrKxs9IDjJ0/2GjjwlwULhg0efHGXaNWyCgC33Xzz7P8++shLXxNZh++/AmJcikQaoCyQAEoYDwDAeqj5Txw7lDoPorjRFImpYQkgjIAi7XjAAlL2E4RsOHUaSJIBgAZNtGoFjr+JOvZjRVuus0vKvgfWgzOeBdZLir8ALGbSnwAsIoZfgZECRUjZBeSRUFhq2UwMi3G7DxEWAAD1V7DlPwFlBbrJIE4CoKTwA0CIyXiaM2WkhsXgPs6kP4GkaRB2h0+9gaRJNSYPwHpI5TIqiEICJeKSq3vzqfEXwAKUeAcX3EvK51DnUdzmHWAU1FdOij7G8bfVZDInjv3gKwMkRKpeSJZNLFvAtpNJfSwSh+zXs2VfI0bBpD7MzSmQ4pko7MQ5r4FAAWEXLZ0F8pxIOrwzcbvdN9155649e+69++6vryaTwsvAFc7odI1SsbesZGsh97cqTa3tlsyIGK/JXbYlXx5kXRIBBRDYo0Jq67nrcQQ8m4tKh2akJqnw9CGSU8aCtlr1qeJZNT3gRM0IbcxAASMDAEpJfum3Tk++xbEvIW74Zb3BlsP2HTvqbkokkkcffLDhYVqNRqvR9OvT50q16/wwDPPogw8+MGXKitWrv//xx7UbNjT0o7DabKMnTFgyb97NEyY0Wsm5udbmVi+CBx//aO7s2T8uWHDTTUMQIwVhNPUW17rmVv0JsgwImUGcgGTZ1PgrRRhYL46fgITRbPk86i3CyY8geTYAAPHTyhUoZhAEjECCnDKxhsXUe0qQPg0JVGzJVxC2MenTAMuJYTEIlQAAwijOHxgiM5Tf4LRpmDOyD7tp5RKEgEm+DyRJAMAWfgCsi8l4DhgVAFDrZmLdhlOmIkUHAGBLv0RCJU66j5vfBQBSuQwJoiHsjCz48etJxQKCsCDpXiSOBwBqXEwtW3DGdCTS0LCXFLyLYgbixMhbJ/UWUesWYGTAurC6H/UUUMM8FD8hEvobMLDlPyASZFIe4nKhs3mvg68QZ74Y2Sz5HxUomdRGMoEsW7kytW3bnXv2fDdrVmvXVOA1tRkgIXb7jEjAizhKEt8jhRExACDTKkRKMa7OByfZ37UptXlCrqUnjADQMZ5RwO5TxV8FQ3axKDZa1RkAjObNlZYtlIYAACEsFEQDQDBcf/XONczmbWeYYAzo21cmk/1TjbkIhELhLRMnrlq6tPTUqenPPy8SieodEA6HJ02d+veuXRdROS+rAACTJ01a/fvv6/461vPmd4miO46fGAk7smwEQEicRD0FOGYoqfwVkACFrCh+Ioi0pPJ3cB7Ayfeh6vUh1LQS5FmIkVHnkYjroW0bsu3AuvtAlk3KvwdfEU59EgRqUrEQRHGIkSHWxR0JABD20pLPkfYGHDeiusLlELBgzfhIrpuiT8FfwWS+xOWWoe4jRL8Ya8dzXk6kdDb1FuD0p5E0lTudVC4DRkFDZqy5AQlUELYR42+ABIx2Ape9nJiWkcrlOOMFJM8AAJL/JpJn1ngOQ9hBzauQNANYP075F7BuUjITKXtFDI39FaRiIaIsTro3smBGP5f6ypDuPhAnAADR/wS+EibzpRprJw67wzFo5Mhb7r67V8+eZadPNxw44uG5COyFNo8xMpMX3ysVC2ofbpJYOaYUKAUAd260MrdLUypkGOs3e9wsAY3UEQzZxKK4NqkPZ+juVKuuo5Q1mjcfPvVWQdmPRfpFNtcRAFDJsy/DbbVE7A7H3v3765YMvdjx0n8cXWLiuzNmHNmzp1vX+u9bfr//zilTuFHrC4KX1Qijhg8vPH680mTSpKau23YQAKhjH/WVYM0YYl6PYoeSyqUUBBAoR9oJSJJMrFto1TqcdA9SRabZSdWfFImQogMxrUTasSBQUOchYlgKccNRdB9S9i14TuLUx5A4nhgWIVkqEsZS5zGUcEdNG0jR+1Ssw0n3RzZNq8CTi2IHIXVfAGBLvgBvPpP9cmQG11vMFs2EmAFIcwMAEMMS6tjNZL6Iqg1fqGUDkDAARYp2SN4WWD8x/gEkgKqzthHzWmJcilOfRKrOAMDmvw1IhDOer22PaRUSJ4G/GMePBUCk9CskUHBTwtSvJ8YlFBCKHcLlQifGX6llK5M1nWstdR6kpuU489nqvOgAAPsPHhw5blxscrLRZNr8559rly2LUZ8rMpOHp+nYimqHdsXKM97kaJgAgLja5cG9IUu6ra/IfZ7fnhAJ2sWEQtVnicW6IBFiLM5MnpSWeJtYFMcSv911zOo4QEgwWtkxmnP/vjq5IH/3jZs31xs4HTRgQPO25wrTNidn67p1I4cNq1dertc//cILF1pba59brUtCfHx5Xt6oCRPG3nLLhLFjv5s1S53ck1StxrJs6tgHSIR8RSj+JiTLpK6jVL8AJ95SxwvpbwhZcOLdpOInFDsMSdPAW0jK54CiA9ZOpKbl1J2L1IORNIVULETKTkicwBqXMCkPAYq82ZCyr2jIEXF34tbnOHaDsiuKHQlcVgDXMSZnBojiAQDCNlryGVJ2ZpImAwCp2kDNa3H6E7W2D/adNGBAsjbgK0AxEwGAmJYBa0eyLG5omlq3UOOvTMoDSN0HAEjJFxA0Me0/q/k0SNUawCLq1yPNWBDGEcNi6s5l2n0AiKG+Ulr5KzBKJIrHMYOBU+iq1YK0aSBvU93+HbjjLCTSmi2Wvfv3b966ddEvv1SZzck63YI5c5qvh8rPSfJEcBTbajdQ7a+CDYY9RhcASEIkUN2F9R9JRIcSEHWQPsVsrA0zgDCiBMIhIrBHCQuSnEcFTof/4bV+YIg/HBIxAqfryPbTB0/bU+7uPa5tQtdO6j4eb7HDfYrQkErR7mrvql7Q/6KNW7bU3RSLxb179mze9lx5lArF7z//3H3AgNN5eXXL5y1a9OpLL2VnZTW9Kl5W67Nu+fLv5s598vnnEzMypr/wwjO3qlRtn4DK34m3CGvGInkb8BWzhR9jzWgUFwltpe7j1HUI6SYT0yoQ65CqO4TM4fLvsDAWJ91DzOvA9hfSjsHKzkS/AEX3RtJ0YljCJNzGGfgBADH+Qa3bmQ5fRxrhOspWrcGSFG6NKSn/jtj3MdmvI3ECAABl2eKZwKiY1H8BAHUdosZFWDcJKbtF2uM6Qp2HUMxQYlrBmUtQ0woarERMNNaOB86A0PALTrgNqQcDANH/SB37cbsPajSe2vdA0IywCFTdkLwtse9lDb8Isl8HYSz1FNDK30CahkgwsgSW9RPbLqybDFHdAcDr9e4/eHD/Qdh/cPr+gwcLi4uTdTqr3d42O/ubL74YM7raQKp54DWVp5o6K2rMRw2xHeIRRgGnv2JHEQmzACAOszVPPESoOb/K7Q7C4TiAuAZ1hQHCAgn43RQo3mUyRKuYLvG6romMVFg+6ftPWQpT+3W/v//NiZqRCP0DY36EkL937TJVVY0cPlypUJz/hGZl89atdTd79eghFovPdvBVhFwu/37WrIEjR9YtJIR8+8MP77/9dtPr4WW1ER66//6bJ0x47Kmn3v/44/c+ov/3SPn9997bJS2L89gjrmM4pj/WVfs2+MuoaQXSTQbXUWDdOH48ZQNEPx+xPpT+KHUeoJZNKPp6LpE4Ug9AquuIfj5E9YTanuVeop/D5LwVyVXuKwnr5yOBAifeDkhI7Xuofacg+zWQpnDHsyWzIGRhst8ELKbeAlL8BYobVRO4S70F1LwOJdxFzWux5gYkiqOWDdRfBhRD3AjAQmrdSip/R3EjUdxoACCmZdS+m8l6iUvFAwDgLSD2v5FQS8NOrB4AIQct/ZJJugepulBPLjUtB9V11HMa6+4FgNKysoL9c4qMoSLT9qPHvy4uKTmRm9ujW7dOHTqIxWKtVltSVjZi2LCpkyf36dXrynx9PK0TVWp0zd+2vCpbXn2zAobU/u23eDye4LkrDPthzlgpAGR8FXI7Xd5QsF9KRps4/MGNsmdWeb/bceC7HQfSYkVfT3omU5OCL6+4njEqEwqFRo4fzy2+7Nq589+bNl3JcKGy8vLc06frlgy8hqxG+/ftK5PJ6i3J3blnzwVV0nrNC5vC3v37Z7z77uZt2wQCQUZ6+r133TVx7Nic7DqjPWEH0c/HccMACUjVWpw0BQQqYlgMzv0ocRJSXcfmvYrl7WryeAMAMa1AWMRJGgBAwMDmTkcJN+H4m7gCat+DhFEUiZAsg9p2UM8ppJ2ARJEXauoroWWzUcq/kDQFAsZw3htI1b021DZgJIaFWDuBuE8jzKC40cS6g9r/AoSZ+FtBlkktG6l5PVX1YBJvBwBq2UhMf+L4MShmaPUd2Yn+JyRNp0ELTpoCiGFPvYwkGmf0AyUn1xedXF9ojtq0ab0nHGU02OH5YAAAHU1JREFUOwqLi7UaTUZSVGZOt8yMjMyMjGAwaLZY1q5f//fu3eNuvPGm8eNvv/nmhlF21fBDuDzNhiW3atk9P5/jgDCDjCoxAETLRUq9ixDKUhoMkyp3wOIN+EKNL2aNjharPvmL+1stkfVPzUAARhd5dpWPUAAAjJBWKXlrwq1D214hdXnvo49efuONms2dmzf37d37ylwaAL7+7rvHzjTE375+/bVk4q3W6eqFKfXs3n3v2R0kGsLL6vk5kZs7d968ufPnA0AgGIyNiZk4btywwYMHDxyoUiqpbSco2lD9T0g7EckyqXkdsWxBcSNw7DDqK6Xm9Vg3Car9uKl1KwQrzwhTMiyBoBGnPdnopYl+Ho6fELG5B4CQmVQsRLGjuBxqxLoN7Dtx5kuRvayb6BdEIoYcB7jhX2JaTn1lIIwJx94SMKwOBxyBYKA82DNKpfJWbveadvtRgk/az+fzbdyypVvXrq6KbU4Pcdgq7GGd1eEz6Y9XmW0Ga0giFifHS9Mz2mVq2XIr07Fz3ztvuy0zPV0oFO7Zt2/n7t07du3avmOHVqMZNmTIyGHDRo8YcXY15eFpNgrWnD4+/6CrwhHyhkiYMCIGC7BIKQ66AiHvGdnHPCKBTS4AgPggK/TUT0xGKRBKQyw5aXJ6g7USmz1QHpxaO5UYI5X1T8kAgCIreW29L1zdA8YIpcep355wa6/0bpfnRmtJzsnRV1TUbNoNhiiV6nJftIYbb7rpz/XrazYRQp6qKqn0jJQDLMuePHXqZG5uUUlJhcFACKuOVnfu2HHYkCEtPEox9/Tp9t3qf4P33Hnn/AY2wueAl9ULYNPWrWvXr1+xenV+YaFKqXS6XEk6Xd/evYddJ+7ec1C3/ncj5x5iWolU1+GE2yLnhCxQbSdUTW0XjZjXAeuvMemtB8uyFqvVYrVarVaL1bp569bMjAy3Nc/LRrs9Ho/HczI3VxMX4/MHuUSGPo9DKmFMFnfI7whTcSjMhsPhDjmJ+44UEEKFAkYoYIQiiUgkate2bUV5gUxEJBKhLCpdKpXJZLKSkpJu7WLlEkYpZaPiO6u1bdQSR6xvRXzPGQkpHVVKJYQdgMSVRRtOVKiOHT9++OjRg4cPHzh0qFePHn169erXp8+Avn3TUlMv3+fPw1MXl96x+aU/LbmNJ80WSIRYIQyaa0fzjCpRmMEAkBoixH3WEWCLJ5hrctZstnss4O11pO4BMTJ5/+R0ANhbzn72l5+tc3GMoH9m9qd3PhgtvVx2S/kFBTldahcIJel05WeG2FxWjJWVyTk5dcOAGYbxW60Mw5SWlR06cmTn7t1/79594NAhT2PKolIqX3ruuacff7xlLnIlhNx4003rNm6sV77whx/uvuOORk9pFF5WLwZTVdXuvXv3Hzy4eevW47m5drtNJBT5A4GYKGlyfFRmm+5ZWTnZmZkZGRmpycnq6GiEECEkFAr5/X6X2+3xeDhddFcd8tDEQ0eOauLibHa71Waz2WxWm81mt6empGzfsSM2JiZGrY6NjY2NUQeDoZzsbLlMplAo5DKZXC4/lZc3oG9fqVQqlUikUqlUKq2srMyK9wsYLIrpLhAIhEJhKBSKjopq3BSQ9dGAgbMz5CAV8wCLQ1hrh/ZWm72qqqqy4rTB7C/X60vKyoqKiwsKCxmGad+uXacOHTp37Ni1c+duXbtKJJIr99Hz8AAAgMfo+v2OhcGzz486pAKXRKDFSGTxQZ0RYABIdgSAUAAQyIQpQ7KB0MoD5V5TZM2r1Rs8WVkrq6kfnIS4+sa2WrmyV1IqAlhzKvTjgfptEAvocyNvuL/fBISaf45j09atw8eMqdm8YeTINX/80exXORsffvbZi6+8Uq8wMSHBZrf7/WdNDVSPNjk5OzZujIuNPf+hV5YZ77775jvv1CuMi40tPXWqXnf83PCy2gw4nM68/PzTeXl7Dxw4efKI3mC2WK0ej8cfCITDYS6TFMaYYRiGYdTR0cFgUCQSKeRyQqlYJAqHwzExMTKpVCaVyuVymUwmk8mAUqVSSWqglBBy8PDhTh06EELy8vMz0tMppW63WyaTVZpMWo0GAAqLizPT0xt9ebdYrXK5PBQKBYPByL/hcDAYDAaDXq+XUOrz+Txuh9vjEwhF0VFRMWp1XFycVqNJTEhI0ulSkpLSUlOzMjPjtdqGlfPwXElC3tDPo+eEvEEAEMpFURmxYX/IUWCp+eU7JQKnNBKPqUOI2v0mpYjFCACAQrI9IgDyBFXyoMhrZeGqEyFPEACMLn+BuVZHkz85gqMDDduQGqXurE1ECH2/N7g+v/6QMgCM6dThzfGT1bJm7rYuX7VqYp2e07+fe+69t95q3kucg3G33rrqzz8vvZ4+vXptWr26RfVZt27fPnzs2IZGhh+9995zTzY+SXc2+EjgZiBKperZvXvP7t0n3dmI863P5+M6oE6n0+3xeL1ev98fDIVYlmVZNhwOc/+G62xSSnE9EMIYl5WXt2/bFmMcDAZ79eiBELLZbLGxsfkFBVwgFUJo4FnWZVcYDNxUqEgkivwrEIhEIpFIpNfrc3JyJGKxVOBVRidJZcrL+3nx8Fwa+2bu4DRVHCVJGZLNiAUAwEgElmNGAAgIcY2mAoAZIRol9jkDQgQkyGKMkZChIRYA6r6AilUSTlbFTJNieksdNqVYnBEd+0BPUaWbHDHWfxyvPnYiv+rD7yc/lRCludQbrgP3Al3DxHHjmrHy89JcyTB279370OOPL/zhh2ap7dI5duLErZMmNdTUEUOHPvPEExdaGy+rlx2pVJoklSbpdHULLy4E9unzfcFTJ0++8FqhoWsXD0+LxWfxnvwlkj4l6fpMTlMBQJGoshwzUgRmRW2sHGWJo8JhMp7h1hufo+WOCDr93GASAPjtPm6vWiZKUcvK7d7GBn3O4LjJKBeItQrFkwPEz6/y2f21JySolCkx0QOyUgVNE+mm07d370/ff/+HefOCweDI4cOvZAwwAERHNanzjTHu3bPnDSNHZqSnG4zGDZs2bdi8ud4xi5Ysufv228fXGdD+p8jLzx8xdqzFWj8BQ49u3Zb+/DPGF/wN8oPAPDw8VxPGffrVjy4FAHm8MnlwrfdN0B0oWn3SIhf6RNU9qhAx5VX5/PVHaNulxcRWPyuVSVHxPVOM+8rc+jPWVPjD5LjBHmCJ7sMjTEwjg8A1DErLUYlF+Rby2npfjRL/+sjTXVPaXMptnod/aG3aX3//PfTGG8PhcKN7lQrFsCFDxt1448Rx4zRxZ5hsrF679u777nO6zni/SU5KOnHgwJW3s6hLhcHQf9iwktLSeuVtc3K2b9hQ7y6aCC+rPDwtGH5lbwMOzt598Js9AJA8KFOeULuwJGDz5W88bYyqtvthqfGkMRBsZDUqw6B+WRoaIg131YNQSqaaDCkHznGMVCgemp6NEazPD3+/NyLAGgWz48WZlyNk6R9n09atK9esyT116nR+vlKhyMzIyEhLy8nO7tWjR9fOnc8xSrx7796R48bVS2x+heeG62Gz2weOGHH85Ml65V07d167fPlFx5HwssrDw3M18dd/Np7+4wQAxLaPj+tcm/5av6M43+ULMxEl0wUI9gYJpSyhIZYanD6jqzZUNTNVndi0acLoPqqjoxaf+5hYWVy/5PgwgedXe42uSI/1p6n/6pfZpFQ5rYefFi687+GH65akJCeX5Ob+I+8fXq93xLhxO3fvrlfet3fvNX/80cTh7kbhM9hcU1xQGgqeq4Fr9iu96BuryU5jOVlp3FPqMTituZVFq0+aTc4aTZVjzATCAIAREjJYJmKy4hS9U2NS1TLuiMJSm4Wcv7cqkAo3/lGKnOcJ4jN7LCerAgIM04fULjabv3PdxdzeNc2USZNuu/nmuiVl5eW79+79RxrzwGOPNdTUPr16rVux4lI0FXhZvca4BoecWjvX7Fd60Tem7VrbQ3UUW8u3F1YdMfg9AZtMWFMeC0DZ+qopZHBKtOy6pGiZkAGA3BJrmT8IzFkbEpYJd+Wb/P5wYN15spcgRE9bKlgKWgUenhUJodqcV+gN+i707q553n3zzXolBw8fvvLNmDt//uJff61X2LN797XLl1/6XC8vqzw8PFcTMdmNRJE4ZMLIslQAAGAdZ7UmkIkEXXTRapkIAEoNzn1lNr3HH5YIoPp0UZSESVD6U6MOFJi5qVnjaiHsanvuVmHsXXvaiQAe7CXmYpNDLOwoOHTBt3etk5OdfYatOkCFwXCF2xAKhV5poO5xsbHLlixpFhtIXlZbBdfsSCJPK4OyxJpnliec0Z9wSQQe0RkTpbhaI4UKUcqQLHXbM2JPGIzaa1UxMjEABALhYpN790ljvsfvSIsyJyoKMZQEQmZXIKGNRlC9eqd0tso7vwsqj0dn6WYjAD+p9AYpRjAgLXJWrtHUHDfdOJTScr2+6d5GLYd62cJNVfVzDV1ufvn994ZaPnf2bF1iYqPHXyi8rLYKrtmRRJ7WRNAd3Pra+o0vrPbb/AQjFqMQg+xSoUN61vX3Cl2UTKvUdtXF90iuW44QtNUqFOLaEwlLXc6A31+7dAQLcFLHBGm15aF5k7jk9dSKx/uGvh0UzFWLwvW7NSIm+GeeHQCm9hALGQCA3YVHL/WeG4NS+v4nn6h1upQ2bXK6dPmn5iZr23OBx8vONAK88gtsVjcwirq+f/+xN9zQXPU3r6zynSIeHp7LAhtk1z+1vHDtaQBgA2G5TmWMllSqxG5JdT+VUkQoIhRRoCTyLCLVKWZk8fXDjjBCWbG1D3RpVOPW1tpsTVxGDK52dQj5woadPuMH2fJfx0/o9rRanohRbUdZJKx0B6gnSLkX2VxT5SXedaM8/swz/37tNYfTCQDlev3khx66HFdpOhf61n7y1Km6mxpNc7pQNYUyvb5eyY6dOz+eObOhy9LF0byyyneKeHh4Lgs7/7ul8lDtwJ2v3JFVHaOEgsRf7ig9WFF8SF98SF98sNxfLauucjslFCiYDtR/kgKASFD7ABSqGpFVbuGHXC1L7pwolAjr7srdUdItbdSTI7+fNuJbrTKt+unHfrGz4l9/RDLLObxsIHwuK4mLYMv27V99+23dkrz8/MKioua9yuWjtKysnuNSRlraFW5Dw5FzSunz06e37979xwULQqEQABiMxrnz5x85dow0IWK8HvwgMA8PT0vHUWzLW3ESAOQJSmVKNFfoL3emeMOuImvJcUOlyUXrjJaV2iP54EiQzf/jaP6yox6js2G1wTrRwg2fnR06Jg4d3nbQ4GyRSIAwSmyvFctrbREDngDXJ46WJ/xr+KzHhn0pl0QDQCedXcTUVpZXWXgpN96QzVu3Nizcs29f817lHCxasmTqo49+MnPm2byWzoHX673ngQcCgdpXDYTQkEGDmrWB5+fGUaMaLc/Lz7//kUdS2rTpN3RoRocOUx99tGufPmqd7r6HHy4uKWl6/bys8vzT8FMHPOdj/1e7KKHRWbHJA7MSeqZwhUKZsMrlp/5Qw1GyKovHX2ccmG3Ma4lSKLJEzHAyO8QzEkFM0hnTpfEJKoRAKBL06p2GEEIIqZOia/ZiBqPqwCgESKtKf3rk3Indn0EAfdIsNYcVmZs5zNVgNNYrEQqFg66/vnmvcjYWLF48aerUufPnPzd9+pibb27oo3sO7A7H6IkT//r777qFXTt31l7xQeAXnn76HNFJlSbTrj17arTf6XL9tHDh2Ftuqfs2cG54WeX5p+GnDnjOh/WUGQDUORpAgKpHbrGQiRMJOiRE9U2P7Z6szoqVC+v42ufZPCA8q4+SLxQ+arA7/SEAEIsFrEQY8octeoe/jhOT3xdJpCqRCjkXIIG4tsK4NHW9OgWM6LrUkU+MmN07XauSRIyILR4XNCsikaheyUvPPttcIaznZeasWTV/r9+0Katjx/k//9yUE8v1+kEjR9bTVAB4/+23L7FJF/FaLpfLf//556zMzPMfWs2J3NwDh5q6XIqXVR4enpaO1+wBgIDdRwm155sBIDpDHahenIoApEImQSXtmaJOVUdSeDqd/lOVThA1oqxlNu8hvcMVCAOAWCJM7aqrrgc5Te6gN6KmeXmRhR9lpTZCKACE6rj23/76iEabGqtIfnToF48P6ccpsSdw1kTrF0fXzp3rbsrl8unPP9+8lzgH9frKDqdz8oMPPvHss253/Uzvddm+Y0fP668/evx4vfL77rln1PDhl9iki3st792z54n9+99+4w2hUHj+owHgQmwreFnl4eFp6bCBMABU7Co5/dth00E9I2LsRbaGh2GEUqJlbTVKTtLMDt/xSqevznOXUjhZ6Sq1ewmlCCAuUZnSVRcM106FiuXiynwzw2AAsJg9xUWWokJzQb4JAAhLbNVZboQSYefRZ01QgwA/MOCBl28YJ2JQiDTzJEe/Pn3qbvbo1u1KJgO/vn//hoVffvNNm65d//vxx4eOHKkXDbR77957H3hg2Jgxlab6S3h7du/+v08+uYxtPR8ikeiVF1/cvn59clJSU47nQq+bAp9vlYeHp6XDiJgwt6KUAgBIY2RuowsAJGqpUC72GJ2kjjTGKcQOf4gz1rfbfQfsvvh4pVYoiNUqThZbfUCVaplQxMQlRwcoDYXOmHaVKET2CmLV26MSVJTSgvxIhzUcCJuLrUFvpLd645MDhOLzPDzv7z8mWR3b7HOrHdq1i46KsjsiAt+lU6fmrf/cfPr++xs3b25o4GAwGqe//vr0118HgNiYmLjYWIlEUmEwVJnNjdbTJidn9e+/K/7RlHAcfXr1uuu22z76/PPzHtn09bW8rPLw8LR0pDEyV0VtX0ESG5HVxL7pIqXYV+Uu21pA6/QLs+IUVm+wJtC3stJlkwgTtXJJurpmGU2gsTTlAokAAAKeyMgtIZQNsi6Ty2Xx1Ezitb0+Y+K/hzal2SPa9zn/QRcIxvi5p556rTqZ2pjRo5v9EucgXqtdumjRDTfddI5RX4vVeu5QpuFDhiz68ceLS2V6OSgpKzvvMRKJZPDAgU2skB8E5uG5NriWI6qjMtUIIxAxoShxns1jrV4tww32SjUKcZS03ikahbjuJm2w+pBhcLceqR066nAdM2FGwACAz+l3VLoqThrLDukrThhd5oimIoQ6DMl6cfn9F3cXzfUNvfLii2+8/HJiQsLnH354trUil48B/fod2LHjrttvv4hsblKp9I2XX163YkXL0VQAKCg8/yKorz7/vHPHjk2skM+3ysPD09Ip2lb8vymL7M7IvN31PVOpxQsAiX1SVWkxYV+wYMWJeqeECd1dUrvQRShidJ3OCJdNSIzq2CkRAMJhsm1LHq3uvJYcKAcARsKw/jPGhwUSwaPf3tZtTPtrMTf5xXDg0KF3P/xw2cqVTVnAGqVSPXj//S8+88xF5wa/fDz94ouff/nlOQ646/bbF82d2/QKeVnlaV1QfkXP1ca6j7b99uGWcJ1J0C4dE5TeMAAgjCSxsqAzwMU01WNfmTVQPecqlAh0HRLq7k1Kim5XXbJ3d7HT6QeAcDCsP2YEgP/sfOLoxvy8v4uFUmH7gRntrs9Q61RCCT9rVh+rzbZs5cqly5bt3L274dhvQnz8xHHjbp4wYeigQQ2XBrUQSkpL+wwe3DCoikMTF3f6yJELysDKyyoPD0/LZd/Ph2ZPW8aemTxVKRN1iT9/Aq+6shoTK5cnReE6boWqKGmv3mkAQCnduiWPDRMAcFa6bHqHUCL8uuLV5ryN1kFpWdmhI0ecLhcAxKjVbXNyMjMyLmKs+Mpz5NixiXfc0aiVkjo6uvTUqQuKruJfvnh4WiytvWvNBsL7Pv6rnUbpCoQqXYFAONJh9QbCgM4zV+kOhms0FWPkcQVsRyuidKoorYr7UJ0On6HCkZCoKi2xcpoKFFxmDwCkdIq/jHd17ZKakpKakvJPt+Ji6NKp04G//57y0EMr16ypt8tmt7/13nsfvPNO02vjQ5Z4eFosrVpTAeDoTwdEhEZLhSnRsh7J6pw4BeejxLKkLBQ+x8cTJjTP5ILqT1AiEQaCYUrBrndaSm01McMnjhu2bDqdX237YCmxhQNhAOgxvsNlvS+eFog6Onr5L7889vDDDXd98sUX+QUFTa+Kl1UeHp6WCOsPH/xmD/c3YhBCoFVKrkuK5pKklpbZG13hQSlYPIEDZTZviAUACiCRiRI7aqF6KNJt8ZgKzOFql2DOPolSaimxua0eAEjIiRv9RCOmBzzXPAihT99/PzYmpl45y7I/LljQ9Hp4WeXh4WmJ+GxeLjqXkQizJ3bW9UvHQkbE4E4JUVIhAwCHC81OQmr6rIEwqXT595RYck2uUPVyGqlMlNo5IcxC2wEZNTX7XYGKE0ZXlTvkD4eDbMAd0B8zui0eABDLRQ98edNVMR3IczkQi8X9+/ZtWN50Q2Dg51Z5eHhaJiFfJLhXkajCAqxMiSZhYtxbymDURRfNLZ45WmLNSFMrw7TQ7HafGQwsEGBNcpQkThkIEQDwe4Mdh+ec3FJAWAIAlFBrmb3eFaUqybO/Tc7skXwlbo+nRUIpbXQZa9OdC4GX1WuO1h7kwnPNQKujf31Wb3VRZE5UgFF6jLzY6gGAohIbAMjloqQohdMVoBQrYyVx6TEuf5hSWjcHtdvmy+idasqrclu89EyLJYRRTt+055dOYRqz5udpJfj9/qdeeOFEbm7DXR3atWt6PbysXmPwmtrKuXbeq2oULujw+arcQqXEfKI2fYouSlpq85JqdfR4gh5PEACi1VJRvNLpCzWsEADCgfD0NQ/Ko6UHVufu/eO41+bVZsaOeKxvYk6cTCVp9JQryLXz3V2NnMjNvWvKlIZpdjjuuPXWplfFyypPs/DPPRH4Z9EZXDufhaSOH2Hp5nyEoG4PEwEIMAqy9RfZJGbEeuGsDLq3W3xmLCAYNLn7oMndm7fBl8y1891dXRQUFr730Uc/LVwYCjX+NnbjqFEjhjbJBZrjKpVV/lHa0vjnvg7+h3CNIo6SxLbVWE5FVr80NMYXCZjgmTYRDIODAgzh+va/HF1G5Aya3J3/wfBwUEq379gxe86cxb/9dg7/xb69ey+8EOdC4F2WeHiuElrjq6Sj2Lb09gX0LClLD+ntnuAZT0O1Rq5KUTc8UiQVDpnSve/tXS5LKy+Z1vjV/qOczstb/NtvPy5YcEZ0UgODEYlE8tZrrz07bRrDXNiM+1XaW+XhaW20xgdvVJo6fUR20bq8hrsopTWmSxyKKMkTC+85tq2w/ITJbnSFg6xYLoxLUad3S+w1saNCXT/FTcuhNX61VxxCyN79+1evXfvHihVHjh1r5Ig6mqpQKB6YMuXZadPSUlMv4lp8b5XnaoN/t29lrH7kd+P+8prNMKG+IFto9bgDtTNhEpnokVk3d53AuyPxnEEgEFizbt3i335bt2GD1WY77/Eymez5p556Ztq0C/LWrwcvqzw8PC2dFc+u3LX0qDfAekNsuEHm1JgE5WPf35HZ72I6FjzXKsdPnvz0iy9+/f33Ji45ZRhm0h13vDtjRnJS0iVe+mqRVb6HwsPTqik/WPHdI79WljtCQTbiviTAEoV43P/1G/X84H+6dTwti/0HDw4cOdLn8533SITQgH797rrttttvuUWr0TTL1a+WuVVeU3l4WjXJ3XRv7JlGQoSwJPKWjZBAxCDMPxx46jNv0aJzaypCqE+vXnfccsttN9+cktzMvlpXS2+Vh4eHh4enSaxeu/aOyZM9DdRNpVQOHjhwxNChN0+Y0OxqWgMvqzw8PDw81xpFxcVff/fdsRMntBqNVqPRJSb269OnR7duF7pa5iLgZZWHh4eH59qgRUTh8InheHh4eJpA46YUPC2Kf15TgZdVHh4enibRIp7YPFcBvKzy8PBcBHzfjYencXhZ5eHhuQj4vtsVgH93uSrhZZWHh4enZcK/u1yVNI+s8u9UPDw8PDw80Fyyyr9T8fDw8PDwAD8IzMPDw8PD04zwssrDw8NzifDzYDy18LLKw8PDc4nw82A8tfw/KrhiHF65q50AAAAASUVORK5CYII=)"
   ]
  },
  {
   "cell_type": "markdown",
   "metadata": {
    "id": "23HqETkLPH4I"
   },
   "source": [
    "\\<\\<Image credit needed \\>\\>\n",
    "\n",
    "#### Quick Review\n",
    "\n",
    "Dictionaries provide a way to form custom 'key'-'value' pairs. While lists define the indexes in a pre-built index-based fashion, dictionaries allow you to have your own indexing system."
   ]
  },
  {
   "cell_type": "code",
   "execution_count": 57,
   "metadata": {
    "id": "sYeHRB31bYQn"
   },
   "outputs": [],
   "source": [
    "dict1 = {'a': 1, 'b': 2, 'c': 3, 'd': 4}"
   ]
  },
  {
   "cell_type": "code",
   "execution_count": null,
   "metadata": {
    "colab": {
     "base_uri": "https://localhost:8080/"
    },
    "id": "Dcq3u7dUbYSu",
    "outputId": "e59b60e6-f4cf-4141-8ea3-9a4b90ae8612"
   },
   "outputs": [
    {
     "name": "stdout",
     "output_type": "stream",
     "text": [
      "dict_keys(['a', 'b', 'c', 'd'])\n",
      "dict_values([1, 2, 3, 4])\n"
     ]
    }
   ],
   "source": [
    "print(dict1.keys()) # access the dictionary keys only\n",
    "print(dict1.values()) # access the dictionary values only"
   ]
  },
  {
   "cell_type": "code",
   "execution_count": null,
   "metadata": {
    "colab": {
     "base_uri": "https://localhost:8080/"
    },
    "id": "f-B554JSbYU7",
    "outputId": "7eb72b74-916a-40f0-f08e-59daa6ac6a13"
   },
   "outputs": [
    {
     "name": "stdout",
     "output_type": "stream",
     "text": [
      "dict_items([('a', 1), ('b', 2), ('c', 3), ('d', 4)])\n"
     ]
    }
   ],
   "source": [
    "print(dict1.items())  # access both keys and values as an array of paired two-element items (key, value)"
   ]
  },
  {
   "cell_type": "markdown",
   "metadata": {},
   "source": [
    "But we can also deploy a dictionary comprehension to work through a dictionary in a single line without using a for loop. Note the curly brackets denoting a dictionary (as opposed to the square brackets in a list comprehension):"
   ]
  },
  {
   "cell_type": "code",
   "execution_count": 59,
   "metadata": {},
   "outputs": [
    {
     "name": "stdout",
     "output_type": "stream",
     "text": [
      "{'a': 'orange', 'b': 'orange', 'c': 'orange', 'd': 'orange'}\n"
     ]
    }
   ],
   "source": [
    "dict1_v2 = {key:\"orange\" for key in dict1.keys()}  # example that focuses just on the dictionary's keys\n",
    "\n",
    "print(dict1_v2)"
   ]
  },
  {
   "cell_type": "code",
   "execution_count": 61,
   "metadata": {},
   "outputs": [
    {
     "name": "stdout",
     "output_type": "stream",
     "text": [
      "{1: 'a', 2: 'b', 3: 'c', 4: 'd'}\n"
     ]
    }
   ],
   "source": [
    "dict1_v3 = {value:key for key,value in dict1.items()}  # a quick way to swap keys for values!\n",
    "\n",
    "print(dict1_v3)"
   ]
  },
  {
   "cell_type": "code",
   "execution_count": 58,
   "metadata": {
    "colab": {
     "base_uri": "https://localhost:8080/"
    },
    "id": "BfU6xIyHeevT",
    "outputId": "07683537-03dd-457f-e3b8-9ab57d190ef2"
   },
   "outputs": [
    {
     "name": "stdout",
     "output_type": "stream",
     "text": [
      "{'aa': 1, 'bb': 2, 'cc': 3, 'dd': 4}\n"
     ]
    }
   ],
   "source": [
    "dict1_v4 = {key*2:value for key,value in dict1.items()}\n",
    "\n",
    "print(dict1_v4)"
   ]
  },
  {
   "cell_type": "markdown",
   "metadata": {
    "id": "r37LqVHdhm9B"
   },
   "source": [
    "### Manipulating the structures\n",
    "\n",
    "A dictionary comprehension doesn't necessarily have to be altering a previously created dictionary. We can use it to create a dictionary derived from the contents of an array such as a list or some other group of elements. Here are two examples, one showing how this would be done with a more verbose for loop, and one as a dictionary comprehension.\n",
    "\n",
    "Here, we are building a list of even numbers into a dictionary consisting of their squares:"
   ]
  },
  {
   "cell_type": "code",
   "execution_count": 62,
   "metadata": {
    "colab": {
     "base_uri": "https://localhost:8080/"
    },
    "id": "aOhkfmd5hl1l",
    "outputId": "00cbf5b8-4888-4dd3-9b80-303b447d2f37"
   },
   "outputs": [
    {
     "name": "stdout",
     "output_type": "stream",
     "text": [
      "{0: 0, 2: 4, 4: 16, 6: 36, 8: 64}\n"
     ]
    }
   ],
   "source": [
    "numbers = range(10)\n",
    "new_dict1 = {}\n",
    "\n",
    "# Add even values only from original list to 'new_dict1' using for loop\n",
    "for num in numbers:\n",
    "    if num%2==0:    # this is the modulo. We check if the remainder of a number devided by 2 is 0 (if so, it is even)\n",
    "        new_dict1[num] = num**2\n",
    "\n",
    "print(new_dict1)"
   ]
  },
  {
   "cell_type": "code",
   "execution_count": 63,
   "metadata": {
    "colab": {
     "base_uri": "https://localhost:8080/"
    },
    "id": "flxcKB3Ohx6V",
    "outputId": "d425a6ab-1207-40de-d312-18e26f9baf3a"
   },
   "outputs": [
    {
     "name": "stdout",
     "output_type": "stream",
     "text": [
      "{0: 0, 2: 4, 4: 16, 6: 36, 8: 64}\n"
     ]
    }
   ],
   "source": [
    "new_dict2 = {num:num**2 for num in numbers if num%2==0}\n",
    "\n",
    "print(new_dict2)"
   ]
  },
  {
   "cell_type": "markdown",
   "metadata": {
    "id": "M5vXTddmw6OG"
   },
   "source": [
    "## Challenge 2: Add the string \"letter\" to the key and the value 1000 to the value in the dictionary defined below:"
   ]
  },
  {
   "cell_type": "code",
   "execution_count": null,
   "metadata": {
    "id": "R360zQ-yxDE_"
   },
   "outputs": [],
   "source": [
    "a = {\"a\":10, \"b\":20, \"c\":30}"
   ]
  },
  {
   "cell_type": "markdown",
   "metadata": {
    "id": "p7Qx6qSSxFW8"
   },
   "source": [
    "Output should be: {‘Letter a’: 1010, ‘Letter b’: 1020, ‘Letter c’: 1030}"
   ]
  },
  {
   "cell_type": "code",
   "execution_count": 146,
   "metadata": {},
   "outputs": [],
   "source": [
    "# Fill in answer here"
   ]
  },
  {
   "cell_type": "markdown",
   "metadata": {
    "id": "i1JjBpFixaLi"
   },
   "source": [
    "# 5. More on List and Dictionary Tools\n",
    "\n",
    "## Dictionary unpacking using ** "
   ]
  },
  {
   "cell_type": "markdown",
   "metadata": {
    "id": "baNBK8h6PyG2"
   },
   "source": [
    "The ** operator is used to \"unpack\" dictionary, used when we want to immediately access all values as a set of parameters. It is especially useful for sending those values to a function while retaining the dictionary's keys as the name of the input parameters:"
   ]
  },
  {
   "cell_type": "code",
   "execution_count": 98,
   "metadata": {
    "id": "r4zKgkmRRwfk"
   },
   "outputs": [],
   "source": [
    "def simple_funct(k1, k2, k3):\n",
    "    print(k2, k1, k3)           # Note that we switch the order; inputs are bound to variable names"
   ]
  },
  {
   "cell_type": "code",
   "execution_count": 99,
   "metadata": {
    "colab": {
     "base_uri": "https://localhost:8080/"
    },
    "id": "Ros8cb6_xfP4",
    "outputId": "cd1a5b50-9181-48a0-b29e-f025438c4b48"
   },
   "outputs": [
    {
     "name": "stdout",
     "output_type": "stream",
     "text": [
      "20 10 30\n"
     ]
    }
   ],
   "source": [
    "d = {'k1':10, 'k2':20, 'k3':30} #dictionary definition\n",
    "\n",
    "simple_funct(**d) # calling the function by unpacking the dictionary; keys are linked to variable names"
   ]
  },
  {
   "cell_type": "markdown",
   "metadata": {
    "id": "GcYwLU-LSa1E"
   },
   "source": [
    "We can also use the ** to unpack dictionaries and merge them in a new dict object."
   ]
  },
  {
   "cell_type": "code",
   "execution_count": 100,
   "metadata": {
    "colab": {
     "base_uri": "https://localhost:8080/"
    },
    "id": "dWTfZ8vAxfUb",
    "outputId": "d25d10ab-5411-4279-bee5-fdbf036fe366"
   },
   "outputs": [
    {
     "name": "stdout",
     "output_type": "stream",
     "text": [
      "{'k0': 0, 'k1': 10, 'k2': 20, 'k3': 30}\n"
     ]
    }
   ],
   "source": [
    "d = {'k1':10, 'k2':20, 'k3':30}\n",
    "new = {'k0':0, **d}\n",
    "print(new) "
   ]
  },
  {
   "cell_type": "markdown",
   "metadata": {
    "id": "rRqOe4Px7Se-"
   },
   "source": [
    "## Enumerate, sorted, reverse"
   ]
  },
  {
   "cell_type": "markdown",
   "metadata": {
    "id": "8rGDFURN_J-k"
   },
   "source": [
    "Often, when dealing with iterators, we also get need to keep a count of iterations. Python eases the programmer's task by providing a built-in function enumerate() for this task. Enumerate() method adds a counter to an iterable and returns it in a form of enumerating object. This enumerated object can then be used directly for loops or converted into a list of tuples using the list() function.\n",
    "\n",
    "The syntax involves an input iterable such as a list, tuple, or string (which will be iterated as an array of its characters), and an index start for the enumeration (default is 0):\n",
    "\n",
    "<code>enumerate(input_iterable, start=0)</code>"
   ]
  },
  {
   "cell_type": "code",
   "execution_count": 114,
   "metadata": {
    "id": "2xNoDEEV7VvA"
   },
   "outputs": [],
   "source": [
    "enum_item1 = [\"eat\", \"sleep\", \"repeat\"]\n",
    "enum_item2 = \"geek\""
   ]
  },
  {
   "cell_type": "markdown",
   "metadata": {
    "id": "XINhhRcdABTO"
   },
   "source": [
    "Enumerating the two iterables formed above"
   ]
  },
  {
   "cell_type": "code",
   "execution_count": 115,
   "metadata": {
    "colab": {
     "base_uri": "https://localhost:8080/"
    },
    "id": "isIRwq0H7Vw6",
    "outputId": "d28e2c2c-4af4-4e78-fa55-2c4576eaea97"
   },
   "outputs": [
    {
     "name": "stdout",
     "output_type": "stream",
     "text": [
      "[(0, 'eat'), (1, 'sleep'), (2, 'repeat')]\n",
      "[(0, 'g'), (1, 'e'), (2, 'e'), (3, 'k')]\n"
     ]
    }
   ],
   "source": [
    "print(list(enumerate(enum_item1)))\n",
    "\n",
    "print(list(enumerate(enum_item2)))"
   ]
  },
  {
   "cell_type": "markdown",
   "metadata": {
    "id": "UkiJudVDAZle"
   },
   "source": [
    "We can access the enumeration's count and the element separately by accessing each of the 2 elements in the resulting tuple:"
   ]
  },
  {
   "cell_type": "code",
   "execution_count": 116,
   "metadata": {
    "colab": {
     "base_uri": "https://localhost:8080/"
    },
    "id": "U3RvHg_IAZ9l",
    "outputId": "35cb8fdf-2956-411a-efb9-2f6b7fa6797b"
   },
   "outputs": [
    {
     "name": "stdout",
     "output_type": "stream",
     "text": [
      "0\n",
      "eat\n",
      "1\n",
      "sleep\n",
      "2\n",
      "repeat\n"
     ]
    }
   ],
   "source": [
    "for count, ele in enumerate(enum_item1):\n",
    "    print(count)\n",
    "    print(ele)"
   ]
  },
  {
   "cell_type": "markdown",
   "metadata": {
    "id": "UnebxAxBAhiO"
   },
   "source": [
    "### Reverse and sorted\n",
    "\n",
    "Recall that lists are mutable. We can therefore change them \"in place\" tools to perform tasks like sorting or reversing them. They do not need to be reassigned to a new variable when doing this--the list's order is simply changed:  "
   ]
  },
  {
   "cell_type": "code",
   "execution_count": 117,
   "metadata": {
    "id": "O1_hkhi_BHzF"
   },
   "outputs": [
    {
     "data": {
      "text/plain": [
       "['repeat', 'sleep', 'eat']"
      ]
     },
     "execution_count": 117,
     "metadata": {},
     "output_type": "execute_result"
    }
   ],
   "source": [
    "enum_item1.reverse()\n",
    "\n",
    "enum_item1"
   ]
  },
  {
   "cell_type": "code",
   "execution_count": 119,
   "metadata": {
    "id": "QYrFzdVFBP4j"
   },
   "outputs": [
    {
     "data": {
      "text/plain": [
       "['eat', 'repeat', 'sleep']"
      ]
     },
     "execution_count": 119,
     "metadata": {},
     "output_type": "execute_result"
    }
   ],
   "source": [
    "enum_item1.sort()   # Sorts elements by ASCII order, in this case initial string characters are considered\n",
    " \n",
    "enum_item1"
   ]
  },
  {
   "cell_type": "markdown",
   "metadata": {
    "id": "wS29sjQTBXnc"
   },
   "source": [
    "See that the list elements are now sorted alphabetically."
   ]
  },
  {
   "cell_type": "markdown",
   "metadata": {
    "id": "VlCCKmMS7V5L"
   },
   "source": [
    "## Using a list as a stack vs. a queue"
   ]
  },
  {
   "cell_type": "markdown",
   "metadata": {
    "id": "36J4M7GQBnan"
   },
   "source": [
    "In computing, a stack works on the principle of “last-in, first-out,” much like a stack of books for which the topmost book can easily be accessed, but the book on the bottom cannot.\n",
    "\n",
    "The in-built functions in Python related to managing such an approach with lists make the code short and simple.\n",
    "\n",
    "To add an item to the top (here, end) of the list (or stack), i.e., to \"push\" an item, we use the append() function. To pop out and access an element we use pop() function. Both result in modifications to the membership of the list."
   ]
  },
  {
   "cell_type": "markdown",
   "metadata": {
    "id": "E0-PI3piDSrq"
   },
   "source": [
    "![image.png](data:image/png;base64,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)"
   ]
  },
  {
   "cell_type": "code",
   "execution_count": 124,
   "metadata": {
    "colab": {
     "base_uri": "https://localhost:8080/"
    },
    "id": "-SAhTDf77ZBa",
    "outputId": "38a3faff-6ff5-418d-aab0-40101496e3c7"
   },
   "outputs": [
    {
     "name": "stdout",
     "output_type": "stream",
     "text": [
      "Initially the stack looks like: ['Becky', 'Tom', 'Anthony']\n",
      "After two appends, the stack looks like:  ['Becky', 'Tom', 'Anthony', 'Leo', 'Ronald']\n"
     ]
    }
   ],
   "source": [
    "stack = [\"Becky\", \"Tom\", \"Anthony\"]\n",
    "print(\"Initially the stack looks like:\",stack)\n",
    "\n",
    "stack.append(\"Leo\")\n",
    "stack.append(\"Ronald\")\n",
    "\n",
    "print(\"After two appends, the stack looks like: \", stack)"
   ]
  },
  {
   "cell_type": "code",
   "execution_count": 125,
   "metadata": {},
   "outputs": [
    {
     "name": "stdout",
     "output_type": "stream",
     "text": [
      "The first pop removes Ronald from the stack\n",
      "Now the stack looks like: ['Becky', 'Tom', 'Anthony', 'Leo']\n"
     ]
    }
   ],
   "source": [
    "# pop() Removes the last item\n",
    "print(\"The first pop removes\",stack.pop(),\"from the stack\")\n",
    "print(\"Now the stack looks like:\",stack)"
   ]
  },
  {
   "cell_type": "code",
   "execution_count": 126,
   "metadata": {},
   "outputs": [
    {
     "name": "stdout",
     "output_type": "stream",
     "text": [
      "The second pop removes Leo from the stack\n",
      "\n",
      "Now the stack looks like: ['Becky', 'Tom', 'Anthony']\n"
     ]
    }
   ],
   "source": [
    "# Removes the last item\n",
    "print(\"The second pop removes\",stack.pop(),\"from the stack\")\n",
    "print()\n",
    "print(\"Now the stack looks like:\",stack)"
   ]
  },
  {
   "cell_type": "markdown",
   "metadata": {
    "id": "RelcN_R6CSI3"
   },
   "source": [
    "Alternatively, we can treat out list like a queue. A queue works on the principle of “first-in, first-out”. Below is list implementation of queue. We use pop(0), designating the front or beginning of the list, to remove the first item rather than the top/rear."
   ]
  },
  {
   "cell_type": "markdown",
   "metadata": {
    "id": "YqNmehUJIsHO"
   },
   "source": [
    "![image.png](data:image/png;base64,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)"
   ]
  },
  {
   "cell_type": "code",
   "execution_count": 130,
   "metadata": {
    "colab": {
     "base_uri": "https://localhost:8080/"
    },
    "id": "ib70RSMf7ZDS",
    "outputId": "e1e81676-edb2-42a4-d131-865614ef5636"
   },
   "outputs": [
    {
     "name": "stdout",
     "output_type": "stream",
     "text": [
      "Initially the queue looks like: ['Becky', 'Tom', 'Anthony', 'Leo', 'Ronald']\n"
     ]
    }
   ],
   "source": [
    "queue = [\"Becky\", \"Tom\", \"Anthony\"]\n",
    "queue.append(\"Leo\")\n",
    "queue.append(\"Ronald\")\n",
    "print(\"Initially the queue looks like:\", queue)"
   ]
  },
  {
   "cell_type": "code",
   "execution_count": 131,
   "metadata": {},
   "outputs": [
    {
     "name": "stdout",
     "output_type": "stream",
     "text": [
      "The first pop removes Becky from the queue\n",
      "Now the queue looks like: ['Tom', 'Anthony', 'Leo', 'Ronald']\n"
     ]
    }
   ],
   "source": [
    "# pop(0) Removes the first item\n",
    "print(\"The first pop removes\", queue.pop(0),\"from the queue\")\n",
    "print(\"Now the queue looks like:\", queue)"
   ]
  },
  {
   "cell_type": "code",
   "execution_count": 132,
   "metadata": {},
   "outputs": [
    {
     "name": "stdout",
     "output_type": "stream",
     "text": [
      "The second pop removes Tom from the queue\n",
      "\n",
      "Now the queue looks like: ['Anthony', 'Leo', 'Ronald']\n"
     ]
    }
   ],
   "source": [
    "# Removes the first item\n",
    "print(\"The second pop removes\",queue.pop(0),\"from the queue\")\n",
    "print()\n",
    "print(\"Now the queue looks like:\",queue)"
   ]
  },
  {
   "cell_type": "markdown",
   "metadata": {
    "id": "X2QF52zS7ZLC"
   },
   "source": [
    "## A helper function called zip()"
   ]
  },
  {
   "cell_type": "markdown",
   "metadata": {
    "id": "wSzwq24dO2fx"
   },
   "source": [
    "The zip() function returns a zip object, which is an iterator of tuples where the first item in each passed iterator is paired together, and then the second item in each passed iterator are paired together, etc.\n",
    "\n"
   ]
  },
  {
   "cell_type": "code",
   "execution_count": 136,
   "metadata": {},
   "outputs": [
    {
     "data": {
      "text/plain": [
       "[('John', 'Jenny'),\n",
       " ('Charles', 'Christy'),\n",
       " ('Mike', 'Monica'),\n",
       " ('Jason', 'Vicky')]"
      ]
     },
     "execution_count": 136,
     "metadata": {},
     "output_type": "execute_result"
    }
   ],
   "source": [
    "a = [\"John\", \"Charles\", \"Mike\", \"Jason\"]\n",
    "b = [\"Jenny\", \"Christy\", \"Monica\", \"Vicky\"]\n",
    "\n",
    "list(zip(a, b))"
   ]
  },
  {
   "cell_type": "markdown",
   "metadata": {
    "id": "UegcLNRFO7Vs"
   },
   "source": [
    "If the passed iterators have different lengths, the iterator with the least items decides the length of the new iterator. Items in the longer array that exceed the length of the other array will not be used.\n"
   ]
  },
  {
   "cell_type": "code",
   "execution_count": 138,
   "metadata": {
    "id": "QSJm4Ak77b8H"
   },
   "outputs": [
    {
     "data": {
      "text/plain": [
       "[('Ming', 'Ali'), ('Maria', 'Sara'), ('Bill', 'Art')]"
      ]
     },
     "execution_count": 138,
     "metadata": {},
     "output_type": "execute_result"
    }
   ],
   "source": [
    "c = (\"Ming\", \"Maria\", \"Bill\")       # Works with tuples as well\n",
    "d = (\"Ali\", \"Sara\", \"Art\", \"Troy\")\n",
    "\n",
    "list(zip(c, d))"
   ]
  },
  {
   "cell_type": "markdown",
   "metadata": {},
   "source": [
    "We can start piecing together various options for quickly building data-holding objects:"
   ]
  },
  {
   "cell_type": "code",
   "execution_count": 139,
   "metadata": {
    "colab": {
     "base_uri": "https://localhost:8080/"
    },
    "id": "GkLKc9LfPzOp",
    "outputId": "aa3990ef-5202-4612-ceee-e1c93b71edff"
   },
   "outputs": [
    {
     "name": "stdout",
     "output_type": "stream",
     "text": [
      "{7: 'Cristiano Ronaldo', 9: 'Gareth Bale', 10: 'Lionel Messi'}\n",
      "{7: 'Cristiano Ronaldo', 9: 'Gareth Bale', 10: 'Lionel Messi'}\n"
     ]
    }
   ],
   "source": [
    "player_numbers = [7, 9, 10]\n",
    "player_names = ['Cristiano Ronaldo', 'Gareth Bale', 'Lionel Messi']\n",
    "\n",
    "# Approach 1: zip() plus dictionary comprehension\n",
    "player_data = { number: name for number, name in zip(player_numbers, player_names) }\n",
    "print(player_data)\n",
    "\n",
    "# Approach 2: zip() plus dict()\n",
    "player_data = dict(zip(player_numbers, player_names))\n",
    "print(player_data)"
   ]
  },
  {
   "cell_type": "markdown",
   "metadata": {
    "id": "cTG79mhv5F67"
   },
   "source": [
    "# 6. Building Strings Dynamically\n",
    "\n",
    "A common need in workflows is to dynamically modify text using dropped in variables. Two common ways to do this is to use .format() and (new in Python 3), Fstrings. These replace older methods that involved designating string variables using the % sign.\n",
    "\n",
    "First, using .format():"
   ]
  },
  {
   "cell_type": "code",
   "execution_count": 140,
   "metadata": {
    "colab": {
     "base_uri": "https://localhost:8080/"
    },
    "id": "50L--5Dq5LXJ",
    "outputId": "41ae4316-1f2f-4850-d30f-a92b86ad904f"
   },
   "outputs": [
    {
     "data": {
      "text/plain": [
       "'NYU is located on Washington Square. This is close to Greenwich Village.'"
      ]
     },
     "execution_count": 140,
     "metadata": {},
     "output_type": "execute_result"
    }
   ],
   "source": [
    "var1 = 'Washington Square'\n",
    "\n",
    "text_passage = \"NYU is located on {}. This is close to Greenwich Village.\".format(var1)\n",
    "\n",
    "text_passage"
   ]
  },
  {
   "cell_type": "markdown",
   "metadata": {},
   "source": [
    "Alternatively, using a structure called Fstrings:"
   ]
  },
  {
   "cell_type": "code",
   "execution_count": 141,
   "metadata": {},
   "outputs": [
    {
     "name": "stdout",
     "output_type": "stream",
     "text": [
      "One of the best-known locations in New York is Washington Square.\n"
     ]
    }
   ],
   "source": [
    "print(f\"One of the best-known locations in New York is {var1}.\")"
   ]
  },
  {
   "cell_type": "markdown",
   "metadata": {
    "id": "PnQjjr78pEhT"
   },
   "source": [
    "You can also call functions within the Fstrings:"
   ]
  },
  {
   "cell_type": "code",
   "execution_count": 142,
   "metadata": {
    "colab": {
     "base_uri": "https://localhost:8080/"
    },
    "id": "KbLEsi1io0Hh",
    "outputId": "2f5ca686-2202-4f05-b123-4b9ba278f44d"
   },
   "outputs": [
    {
     "name": "stdout",
     "output_type": "stream",
     "text": [
      "funny man is funny.\n"
     ]
    }
   ],
   "source": [
    "def to_lowercase(input_text):\n",
    "    return input_text.lower()\n",
    "\n",
    "name = \"Funny Man\"\n",
    "print(f\"{to_lowercase(name)} is funny.\")"
   ]
  },
  {
   "cell_type": "markdown",
   "metadata": {
    "id": "bFokRJ-g-i0k"
   },
   "source": [
    "# 7. Operators and orders: PEMDAS"
   ]
  },
  {
   "cell_type": "markdown",
   "metadata": {
    "id": "a3A3PjkA98o7"
   },
   "source": [
    "The order Python operators are executed in is governed by the operator precedence. Operators with higher precedence are executed before those with lower precedence, but operators have matching precedence when they are in the same group.\n",
    "\n",
    "PEMDAS is P- Parenthesis, E-Exponent, MD- (multiplication division), AS (Addition Subtraction).\n",
    "\n",
    "Multiplication and division have the same precedence, and the same goes for addition and subtraction. When a division operator appears before multiplication, division goes first.\n",
    "\n",
    "For a full breakdown of all operations, see the following table: [https://www.programiz.com/python-programming/precedence-associativity](https://www.programiz.com/python-programming/precedence-associativity)"
   ]
  },
  {
   "cell_type": "code",
   "execution_count": 144,
   "metadata": {
    "colab": {
     "base_uri": "https://localhost:8080/"
    },
    "id": "SH8mVowL7N6v",
    "outputId": "466e7f4c-29a5-4c25-cd31-0f1314968f48"
   },
   "outputs": [
    {
     "data": {
      "text/plain": [
       "16"
      ]
     },
     "execution_count": 144,
     "metadata": {},
     "output_type": "execute_result"
    }
   ],
   "source": [
    "7 + 8*7//4 - 5"
   ]
  },
  {
   "cell_type": "markdown",
   "metadata": {
    "id": "0wSPnEDOszMX"
   },
   "source": [
    "This is equivalent to: <code>((7 + ((8*7)//4)) - 5)</code>"
   ]
  },
  {
   "cell_type": "markdown",
   "metadata": {
    "id": "0-rHLWGj5XiM"
   },
   "source": [
    "# 8. Custom Classes in Python\n",
    "\n",
    "There are times in your code when you will want to perform an extended analysis or data manipulation where you will want to define not a tool or action, but rather a \"type of thing\" that has certain characteristics and capabilities.\n",
    "\n",
    "Imagine, for example, that your data involves archaelogical objects, each with certain characteristics such as name, location found, time period it was created, and material. Let's say it also has a distance it was found from another object, based on the coordinates of its find location, and that we want to define a means to calculate that distance for any object.\n",
    "\n",
    "We could model this like this using Python's custom classes. Note that the convention in Python is to capitalize the names of classes, and lower case the names of functions:"
   ]
  },
  {
   "cell_type": "code",
   "execution_count": 151,
   "metadata": {},
   "outputs": [],
   "source": [
    "class ArchObject:\n",
    "    def __init__(self, name, location, time_period, material):\n",
    "        self.name = name\n",
    "        self.loc = location\n",
    "        self.time = time_period\n",
    "        self.mat = material\n"
   ]
  },
  {
   "cell_type": "markdown",
   "metadata": {},
   "source": [
    "Python is entirely composed of classes. Even fundamentals like a list is a class, with certain attributes. We have now created a new class called ArchObject. Then we defined what happens when we create one (instatiate it), explained when we add this <code>def __init__()</code> part.\n",
    "\n",
    "Now we can instantiate a new ArchObject and assign it a variable:"
   ]
  },
  {
   "cell_type": "code",
   "execution_count": 152,
   "metadata": {},
   "outputs": [],
   "source": [
    "obj_one = ArchObject(\"pottery shard\", (38.77009, 32.37245), \"Bronze Age\", \"clay\")"
   ]
  },
  {
   "cell_type": "code",
   "execution_count": 153,
   "metadata": {},
   "outputs": [
    {
     "data": {
      "text/plain": [
       "'pottery shard'"
      ]
     },
     "execution_count": 153,
     "metadata": {},
     "output_type": "execute_result"
    }
   ],
   "source": [
    "# Now, we can retrieve these attributes of this specific instance of an ArchObject, called instance variables\n",
    "\n",
    "obj_one.name"
   ]
  },
  {
   "cell_type": "markdown",
   "metadata": {},
   "source": [
    "So far so good. Let's say now that we want to have a more dynamic instance variable, namely a list of dates that the archaeological items--here, a pottery shard--has been accessed from its museum holding tray. We could modify our original class in this fashion:"
   ]
  },
  {
   "cell_type": "code",
   "execution_count": 154,
   "metadata": {},
   "outputs": [],
   "source": [
    "class ArchObject:\n",
    "    def __init__(self, name, location, time_period, material):\n",
    "        self.name = name\n",
    "        self.loc = location\n",
    "        self.time = time_period\n",
    "        self.mat = material\n",
    "        self.access_dates = []\n",
    "        \n",
    "    def add_date(self, date):\n",
    "        self.access_dates.append(date)"
   ]
  },
  {
   "cell_type": "markdown",
   "metadata": {},
   "source": [
    "We've added two things. A set of dates (held in a list) that records times the pottery shard was used. And we've also added a means, called an instance method, for updating that list. This feature looks and acts much like a function available only to your custom class object. Now we have this option:"
   ]
  },
  {
   "cell_type": "code",
   "execution_count": 158,
   "metadata": {},
   "outputs": [
    {
     "data": {
      "text/plain": [
       "['1999-05-03']"
      ]
     },
     "execution_count": 158,
     "metadata": {},
     "output_type": "execute_result"
    }
   ],
   "source": [
    "obj_two = ArchObject(\"pottery shard\", (38.77009, 32.37245), \"Bronze Age\", \"clay\")\n",
    "\n",
    "obj_two.add_date(\"1999-05-03\")\n",
    "\n",
    "obj_two.access_dates"
   ]
  },
  {
   "cell_type": "code",
   "execution_count": 159,
   "metadata": {},
   "outputs": [
    {
     "data": {
      "text/plain": [
       "['1999-05-03', '1998-12-12']"
      ]
     },
     "execution_count": 159,
     "metadata": {},
     "output_type": "execute_result"
    }
   ],
   "source": [
    "obj_two.add_date(\"1998-12-12\")\n",
    "\n",
    "obj_two.access_dates"
   ]
  },
  {
   "cell_type": "markdown",
   "metadata": {},
   "source": [
    "Lastly, let's deploy an added instance method that calculates the find distance between an archaeological ArchObject class and a second item:"
   ]
  },
  {
   "cell_type": "code",
   "execution_count": 160,
   "metadata": {
    "id": "LIoMT_2S5zjt"
   },
   "outputs": [],
   "source": [
    "from math import radians, sin, cos, acos\n",
    "\n",
    "class ArchObject:\n",
    "    def __init__(self, name, location, time_period, material):\n",
    "        self.name = name\n",
    "        self.loc = location\n",
    "        self.time = time_period\n",
    "        self.mat = material\n",
    "        self.access_dates = []\n",
    "        \n",
    "    def add_date(self, date):\n",
    "        self.access_dates.append(date)\n",
    "        \n",
    "    def calculate_distance(self, second_coordinates):\n",
    "        return 6371.01 * acos(sin(float(self.loc[0]))*sin(float(second_coordinates[0])) + \\\n",
    "                              cos(float(self.loc[0]))*cos(float(second_coordinates[0]))* \\\n",
    "                              cos(float(self.loc[1]) - float(second_coordinates[1])))"
   ]
  },
  {
   "cell_type": "code",
   "execution_count": 161,
   "metadata": {},
   "outputs": [],
   "source": [
    "obj_three = ArchObject(\"pottery shard\", (38.77009, 32.37245), \"Bronze Age\", \"clay\")\n",
    "\n",
    "obj_four = ArchObject(\"metal cuff\", (38.12, 33.7008), \"Bronze Age\", \"tin\")\n"
   ]
  },
  {
   "cell_type": "code",
   "execution_count": 164,
   "metadata": {},
   "outputs": [
    {
     "data": {
      "text/plain": [
       "6936.316360070894"
      ]
     },
     "execution_count": 164,
     "metadata": {},
     "output_type": "execute_result"
    }
   ],
   "source": [
    "obj_three.calculate_distance(obj_four.loc)"
   ]
  },
  {
   "cell_type": "markdown",
   "metadata": {},
   "source": [
    "# Challenge 3\n",
    "\n",
    "Create a custom class that can model the data for your own research project. What kind of class would be useful, and what features of that class do you need?"
   ]
  },
  {
   "cell_type": "markdown",
   "metadata": {},
   "source": [
    "# Topics Under Consideration"
   ]
  },
  {
   "cell_type": "markdown",
   "metadata": {
    "id": "hdWpbntC7cGm"
   },
   "source": [
    "# Importing modules and packages (sys and dir)"
   ]
  },
  {
   "cell_type": "markdown",
   "metadata": {
    "id": "WmIvpj2mTc7u"
   },
   "source": [
    "In Python, we can import modules from packages using the dot (.) operator."
   ]
  },
  {
   "cell_type": "code",
   "execution_count": null,
   "metadata": {
    "colab": {
     "base_uri": "https://localhost:8080/"
    },
    "id": "GX6FTuyj7faZ",
    "outputId": "807864b4-8fcc-418b-e4df-99a2b51d9abf"
   },
   "outputs": [
    {
     "data": {
      "text/plain": [
       "['/content',\n",
       " '/env/python',\n",
       " '/usr/lib/python39.zip',\n",
       " '/usr/lib/python3.9',\n",
       " '/usr/lib/python3.9/lib-dynload',\n",
       " '',\n",
       " '/usr/local/lib/python3.9/dist-packages',\n",
       " '/usr/lib/python3/dist-packages',\n",
       " '/usr/local/lib/python3.9/dist-packages/IPython/extensions',\n",
       " '/root/.ipython']"
      ]
     },
     "execution_count": 54,
     "metadata": {},
     "output_type": "execute_result"
    }
   ],
   "source": [
    "import sys\n",
    "sys.path"
   ]
  },
  {
   "cell_type": "code",
   "execution_count": null,
   "metadata": {
    "id": "VAgyrqtJ7fcV"
   },
   "outputs": [],
   "source": [
    "sys.path.append(r'/usr/rijul')"
   ]
  },
  {
   "cell_type": "code",
   "execution_count": null,
   "metadata": {
    "colab": {
     "base_uri": "https://localhost:8080/"
    },
    "id": "a8iOjKW0b45F",
    "outputId": "908edb53-9fe8-420a-a47d-a236d28fde81"
   },
   "outputs": [
    {
     "data": {
      "text/plain": [
       "['/content',\n",
       " '/env/python',\n",
       " '/usr/lib/python39.zip',\n",
       " '/usr/lib/python3.9',\n",
       " '/usr/lib/python3.9/lib-dynload',\n",
       " '',\n",
       " '/usr/local/lib/python3.9/dist-packages',\n",
       " '/usr/lib/python3/dist-packages',\n",
       " '/usr/local/lib/python3.9/dist-packages/IPython/extensions',\n",
       " '/root/.ipython',\n",
       " '/usr/rijul']"
      ]
     },
     "execution_count": 56,
     "metadata": {},
     "output_type": "execute_result"
    }
   ],
   "source": [
    "sys.path"
   ]
  },
  {
   "cell_type": "markdown",
   "metadata": {
    "id": "qlp4vCrxcMVn"
   },
   "source": [
    "Importing a particular module from a package:\n",
    "\n",
    "from <module_name> import <name(s)>\n",
    "\n"
   ]
  },
  {
   "cell_type": "code",
   "execution_count": null,
   "metadata": {
    "colab": {
     "base_uri": "https://localhost:8080/"
    },
    "id": "aL-3_CaRcSMp",
    "outputId": "5e85c7f4-b16e-44ba-9914-07e5bdc48918"
   },
   "outputs": [
    {
     "data": {
      "text/plain": [
       "8.0"
      ]
     },
     "execution_count": 57,
     "metadata": {},
     "output_type": "execute_result"
    }
   ],
   "source": [
    "from math import sqrt\n",
    "sqrt(64)"
   ]
  },
  {
   "cell_type": "markdown",
   "metadata": {
    "id": "nbpZNzK1cxhZ"
   },
   "source": [
    "dir() returns the list of the attributes and methods of any object (say functions , modules, strings, lists, dictionaries etc.) in an alphabetical order."
   ]
  },
  {
   "cell_type": "code",
   "execution_count": null,
   "metadata": {
    "colab": {
     "base_uri": "https://localhost:8080/"
    },
    "id": "DjEbNhZLcc50",
    "outputId": "136e8bd6-f94f-4970-eb9b-724e4adcd577"
   },
   "outputs": [
    {
     "data": {
      "text/plain": [
       "['In',\n",
       " 'Out',\n",
       " 'Pokemon',\n",
       " '_',\n",
       " '_32',\n",
       " '_33',\n",
       " '_34',\n",
       " '_41',\n",
       " '_54',\n",
       " '_56',\n",
       " '_57',\n",
       " '__',\n",
       " '___',\n",
       " '__builtin__',\n",
       " '__builtins__',\n",
       " '__doc__',\n",
       " '__loader__',\n",
       " '__name__',\n",
       " '__package__',\n",
       " '__spec__',\n",
       " '_dh',\n",
       " '_i',\n",
       " '_i1',\n",
       " '_i10',\n",
       " '_i11',\n",
       " '_i12',\n",
       " '_i13',\n",
       " '_i14',\n",
       " '_i15',\n",
       " '_i16',\n",
       " '_i17',\n",
       " '_i18',\n",
       " '_i19',\n",
       " '_i2',\n",
       " '_i20',\n",
       " '_i21',\n",
       " '_i22',\n",
       " '_i23',\n",
       " '_i24',\n",
       " '_i25',\n",
       " '_i26',\n",
       " '_i27',\n",
       " '_i28',\n",
       " '_i29',\n",
       " '_i3',\n",
       " '_i30',\n",
       " '_i31',\n",
       " '_i32',\n",
       " '_i33',\n",
       " '_i34',\n",
       " '_i35',\n",
       " '_i36',\n",
       " '_i37',\n",
       " '_i38',\n",
       " '_i39',\n",
       " '_i4',\n",
       " '_i40',\n",
       " '_i41',\n",
       " '_i42',\n",
       " '_i43',\n",
       " '_i44',\n",
       " '_i45',\n",
       " '_i46',\n",
       " '_i47',\n",
       " '_i48',\n",
       " '_i49',\n",
       " '_i5',\n",
       " '_i50',\n",
       " '_i51',\n",
       " '_i52',\n",
       " '_i53',\n",
       " '_i54',\n",
       " '_i55',\n",
       " '_i56',\n",
       " '_i57',\n",
       " '_i58',\n",
       " '_i6',\n",
       " '_i7',\n",
       " '_i8',\n",
       " '_i9',\n",
       " '_ih',\n",
       " '_ii',\n",
       " '_iii',\n",
       " '_oh',\n",
       " 'a',\n",
       " 'b',\n",
       " 'borough',\n",
       " 'boroughs',\n",
       " 'count',\n",
       " 'd',\n",
       " 'dict1',\n",
       " 'dict1_v2',\n",
       " 'ele',\n",
       " 'exit',\n",
       " 'fun',\n",
       " 'func1',\n",
       " 'get_ipython',\n",
       " 'l1',\n",
       " 'list1',\n",
       " 'list2',\n",
       " 'new',\n",
       " 'new_lamb',\n",
       " 'newlist',\n",
       " 'num',\n",
       " 'numbers',\n",
       " 'pikachu',\n",
       " 'player_data',\n",
       " 'player_names',\n",
       " 'player_numbers',\n",
       " 'queue',\n",
       " 'quit',\n",
       " 's1',\n",
       " 'set1',\n",
       " 'set2',\n",
       " 'sqrt',\n",
       " 'stack',\n",
       " 'sys',\n",
       " 'testFunc1',\n",
       " 'testFunc2',\n",
       " 'text',\n",
       " 'tuple1',\n",
       " 'tuple2',\n",
       " 'var1',\n",
       " 'x']"
      ]
     },
     "execution_count": 58,
     "metadata": {},
     "output_type": "execute_result"
    }
   ],
   "source": [
    "dir()"
   ]
  },
  {
   "cell_type": "markdown",
   "metadata": {
    "id": "Ub9NsJSjwaSg"
   },
   "source": [
    "# Challenge Answers"
   ]
  },
  {
   "cell_type": "code",
   "execution_count": null,
   "metadata": {
    "colab": {
     "base_uri": "https://localhost:8080/"
    },
    "id": "d2pBS2wmwYh8",
    "outputId": "823ee4af-f28e-4e88-a85f-583125e56ac8"
   },
   "outputs": [
    {
     "name": "stdout",
     "output_type": "stream",
     "text": [
      "[32, 22, 10]\n"
     ]
    }
   ],
   "source": [
    "result = [number for number in numbers if number % 2 == 0]\n",
    "print(result)"
   ]
  },
  {
   "cell_type": "code",
   "execution_count": null,
   "metadata": {
    "colab": {
     "base_uri": "https://localhost:8080/"
    },
    "id": "H0p75PWRxOdb",
    "outputId": "c969b81f-5898-4fad-a59e-45f8633eaae1"
   },
   "outputs": [
    {
     "name": "stdout",
     "output_type": "stream",
     "text": [
      "{'Letter a': 1010, 'Letter b': 1020, 'Letter c': 1030}\n"
     ]
    }
   ],
   "source": [
    "dict = {'Letter ' + i: 1000+a[i] for i in a}\n",
    "print(dict)"
   ]
  },
  {
   "cell_type": "markdown",
   "metadata": {
    "id": "bH9M-YfRIsRk"
   },
   "source": [
    "A reminder, here is our list so far of potential topics: https://docs.google.com/document/d/13QBQC3lYjPd5MSPNuXBstqQkr3iJ7UYvykzIcg7nREc\n"
   ]
  }
 ],
 "metadata": {
  "colab": {
   "provenance": []
  },
  "kernelspec": {
   "display_name": "Python 3",
   "language": "python",
   "name": "python3"
  },
  "language_info": {
   "codemirror_mode": {
    "name": "ipython",
    "version": 3
   },
   "file_extension": ".py",
   "mimetype": "text/x-python",
   "name": "python",
   "nbconvert_exporter": "python",
   "pygments_lexer": "ipython3",
   "version": "3.6.10"
  }
 },
 "nbformat": 4,
 "nbformat_minor": 1
}
